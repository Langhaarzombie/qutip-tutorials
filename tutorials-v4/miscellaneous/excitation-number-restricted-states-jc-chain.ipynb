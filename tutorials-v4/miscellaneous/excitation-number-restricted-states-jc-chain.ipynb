{
 "cells": [
  {
   "cell_type": "markdown",
   "metadata": {},
   "source": [
    "# Excitation-number-restricted states: Jaynes-Cummings Chain\n",
    "\n",
    "### Authors: Robert Johansson### Authors: Robert Johansson (jrjohansson@gmail.com) and Neill Lambert (nwlambert@gmail.com)\n",
    "\n",
    "## Introduction\n",
    "\n",
    "The ENR functions construct a basis set for multipartite systems which contains only states that have an overall number of excitations.\n",
    "This is particularly useful for systems where the model conserves excitation number, as in the JC-chain example below.\n",
    "\n",
    "We can see this by considering a system consisting of 4 modes, each with 5 states.\n",
    "The total hilbert space size is $5^4 = 625$.\n",
    "If we are only interested in states that contain up to 2 excitations, we only need to include states such as\n",
    "\n",
    "\n",
    "    (0, 0, 0, 0)\n",
    "    (0, 0, 0, 1)\n",
    "    (0, 0, 0, 2)\n",
    "    (0, 0, 1, 0)\n",
    "    (0, 0, 1, 1)\n",
    "    (0, 0, 2, 0)\n",
    "    ...\n",
    "\n",
    "The ENR fucntions create operators and states for the 4 modes that act within this state space.\n",
    "For example,\n",
    "\n",
    "```python\n",
    "a1, a2, a3, a4 = enr_destroy([5, 5, 5, 5], excitations=2)\n",
    "```\n",
    "\n",
    "creates destruction operators for each mode.\n",
    "From this point onwards, the annihiltion operators a1, ..., a4 can be used to setup a Hamiltonian, collapse operators and expectation-value operators, etc., following the usual patterne.\n",
    "\n",
    "In this example we outline the advantage of ENR states by comparing them with the regular qutip implementation.\n",
    "For this we calculate the time evolution and the partial trace for each and see consistent results with notable performance improvements.\n",
    "\n",
    "#### Be aware!\n",
    "\n",
    "Many default functions in QuTiP will fail on states and operators constructed with this method.\n",
    "Additionally, using this formalism, annihilation and creation operators of different sub-systems no longer commute.\n",
    "Therefore, when constructing Hamiltonians, annihilation operators must be on the right and creation operators on the left (see the offical publication for QuTiP v5 for more info). \n",
    "To find all available functions to work with ENR states see [Energy Restricted Operators in the official documentation](https://qutip.readthedocs.io/en/qutip-5.0.x/apidoc/functions.html#module-qutip.core.energy_restricted)."
   ]
  },
  {
   "cell_type": "code",
   "execution_count": 6,
   "metadata": {},
   "outputs": [],
   "source": [
    "import numpy as np\n",
    "from qutip import (basis, tensor, identity, destroy, mesolve, liouvillian_ref, plot_expectation_values,\n",
    "                   enr_destroy, enr_fock, enr_state_dictionaries, Qobj, Options)\n",
    "\n",
    "%matplotlib inline"
   ]
  },
  {
   "cell_type": "markdown",
   "metadata": {},
   "source": [
    "## The Jaynes-Cumming Chain\n",
    "\n",
    "The general Jaynes-Cumming model describes a single two-level atom interacting with a single electromagnetic cavity mode.\n",
    "For this example, we put multiple of these systems in a chain and let them interact with neighbouring systems via their cavities.\n",
    "We use $a_i$ ($a^\\dag_i$) as annihilation (creation) operators for the cavity $i$ and $s_i$ ($s^\\dag_i$) for the atoms.\n",
    "We then model the complete Hamiltonian by splitting it into the individual systems:\n",
    "\n",
    "$H_0 = \\sum_{i=0}^{N} a_i^\\dag a_i + s_i^\\dag s_i$,\n",
    "\n",
    "the atom-cavity interactions:\n",
    "\n",
    "$H_{int,AC} = \\sum_{i=0}^{N} = \\frac{1}{2} (a_i^\\dag s_i + s_i^\\dag a_i)$,\n",
    "\n",
    "and the cavity-cavity interactions:\n",
    "\n",
    "$H_{int,CC} = \\sum_{i=0}^{N-1} 0.9 \\cdot (a_i^\\dag a_{i+1} + a_{i+1}^\\dag a_{i})$,\n",
    "\n",
    "where the interaction strength of $0.9$ was chosen arbitrarily."
   ]
  },
  {
   "cell_type": "markdown",
   "metadata": {},
   "source": [
    "### Problem paramters"
   ]
  },
  {
   "cell_type": "code",
   "execution_count": 7,
   "metadata": {},
   "outputs": [],
   "source": [
    "N = 4               # number of systems\n",
    "M = 2               # number of cavity states\n",
    "dims = [M, 2] * N   # dimensions of JC spin chain\n",
    "excite = 1          # total number of excitations\n",
    "init_excite = 1     # initial number of excitations"
   ]
  },
  {
   "cell_type": "markdown",
   "metadata": {},
   "source": [
    "### Setup to Calculate Time Evolution"
   ]
  },
  {
   "cell_type": "code",
   "execution_count": 8,
   "metadata": {},
   "outputs": [],
   "source": [
    "def solve(d, psi0):\n",
    "    # annihilation operators for cavity modes\n",
    "    a = d[::2]\n",
    "    # atomic annihilation operators\n",
    "    sm = d[1::2]\n",
    "\n",
    "    # when constructing the Hamiltonian notice the ordering of annihilation and creation operators (see introduction)\n",
    "    H0 = sum([aa.dag() * aa for aa in a]) + sum([s.dag() * s for s in sm])\n",
    "\n",
    "    # atom-cavity couplings\n",
    "    Hint_ac = 0\n",
    "    for n in range(N):\n",
    "        Hint_ac += 0.5 * (a[n].dag() * sm[n] + sm[n].dag() * a[n])\n",
    "\n",
    "    # cavity-cavity couplings\n",
    "    Hint_cc = 0\n",
    "    for n in range(N-1):\n",
    "        Hint_cc += 0.9 * (a[n].dag() * a[n+1] + a[n+1].dag() * a[n])\n",
    "\n",
    "    H = H0 + Hint_ac + Hint_cc\n",
    "\n",
    "    e_ops = [x.dag() * x for x in d]\n",
    "    c_ops = [0.01 * x for x in a]\n",
    "\n",
    "    times = np.linspace(0, 250, 1000)\n",
    "    L = liouvillian_ref(H, c_ops)\n",
    "    result = mesolve(H, psi0, times, c_ops, e_ops, options=Options(nsteps=5000,store_states=True))\n",
    "    return result, H, L"
   ]
  },
  {
   "cell_type": "markdown",
   "metadata": {},
   "source": [
    "### Regular QuTiP States and Operators"
   ]
  },
  {
   "cell_type": "code",
   "execution_count": 9,
   "metadata": {},
   "outputs": [],
   "source": [
    "d = [tensor([destroy(dim1) if idx1 == idx2 else identity(dim1) for idx1, dim1 in enumerate(dims)]) for idx2, _ in enumerate(dims)]\n",
    "psi0 = tensor([basis(dim, init_excite) if idx == 1 else basis(dim, 0) for idx, dim in enumerate(dims)])"
   ]
  },
  {
   "cell_type": "code",
   "execution_count": null,
   "metadata": {},
   "outputs": [],
   "source": [
    "%time res1, H1, L1 = solve(d, psi0)"
   ]
  },
  {
   "cell_type": "markdown",
   "metadata": {},
   "source": [
    "### Using ENR States and Operators"
   ]
  },
  {
   "cell_type": "code",
   "execution_count": 11,
   "metadata": {},
   "outputs": [],
   "source": [
    "d = enr_destroy(dims, excite)\n",
    "psi0 = enr_fock(dims, excite, [init_excite if n == 1 else 0 for n in range(2*N)])"
   ]
  },
  {
   "cell_type": "code",
   "execution_count": null,
   "metadata": {},
   "outputs": [],
   "source": [
    "%time res2, H2, L2 = solve(d, psi0)"
   ]
  },
  {
   "cell_type": "markdown",
   "metadata": {},
   "source": [
    "### Comparison of Expectation Values"
   ]
  },
  {
   "cell_type": "code",
   "execution_count": null,
   "metadata": {},
   "outputs": [],
   "source": [
    "fig, axes = plot_expectation_values([res1, res2], figsize=(10,8))\n",
    "for idx, ax in enumerate(axes[:, 0]):\n",
    "    if idx%2:   ax.set_ylabel(f\"Atom {idx//2}\")\n",
    "    else:       ax.set_ylabel(f\"Cavity {idx//2}\")\n",
    "    ax.set_ylim(-.1, 1.1)\n",
    "    ax.grid()\n",
    "fig.tight_layout()"
   ]
  },
  {
   "cell_type": "markdown",
   "metadata": {},
   "source": [
    "### Calculation of Partial Trace\n",
    "\n",
    "The usage of ENR states makes many standard QuTiP features fail.\n",
    "```ptrace``` is one of those.\n",
    "Below we demonstrate how the partial trace for ENR states can be calculated and show the corresponding result together with the standrad QuTiP approach."
   ]
  },
  {
   "cell_type": "code",
   "execution_count": 28,
   "metadata": {},
   "outputs": [],
   "source": [
    "def ENR_ptrace(rho, sel, excitations):\n",
    "    if isinstance(sel, int):\n",
    "        sel = np.arrau([sel])\n",
    "    else:\n",
    "        sel = np.asarray(sel)\n",
    "\n",
    "    if (sel < 0).any() or (sel >= len(rho.dims[0])).any():\n",
    "            raise TypeError(\"Invalid selection index in ptrace.\")\n",
    "\n",
    "    drho = rho.dims[0]\n",
    "    _, state2idx, idx2state = enr_state_dictionaries(drho, excitations)\n",
    "\n",
    "    dims_short = np.asarray(drho).take(sel).tolist()\n",
    "    nstates2, state2idx2, _ = enr_state_dictionaries(dims_short, excitations)\n",
    "\n",
    "    # construct new density matrix\n",
    "    rhout = np.zeros((nstates2, nstates2), dtype=np.complex64)\n",
    "    # dimensions of traced out system\n",
    "    rest = np.setdiff1d(np.arange(len(drho)), sel)\n",
    "    for state in idx2state:\n",
    "        for state2 in idx2state:\n",
    "            #if the parts of the states of the systems(s) being traced out are diagonal, add this to the new DM\n",
    "            if  np.all(np.asarray(state).take(rest) == np.asarray(state2).take(rest)):\n",
    "                rhout[state2idx2[tuple(np.asarray(state).take(sel))],\n",
    "                      state2idx2[tuple(np.asarray(state2).take(sel))]] += rho.data[state2idx[state],\n",
    "                                                                                    state2idx[state2]]\n",
    "\n",
    "    rhout_dims = [dims_short, dims_short]\n",
    "    rhout_shape = [nstates2, nstates2]\n",
    "    \n",
    "    return Qobj(rhout, rhout_dims, rhout_shape)"
   ]
  },
  {
   "cell_type": "code",
   "execution_count": null,
   "metadata": {},
   "outputs": [],
   "source": [
    "res1.states[10].ptrace([1])"
   ]
  },
  {
   "cell_type": "code",
   "execution_count": null,
   "metadata": {},
   "outputs": [],
   "source": [
    "ENR_ptrace(res2.states[10], [1], excite)"
   ]
  },
  {
   "cell_type": "code",
   "execution_count": null,
   "metadata": {},
   "outputs": [],
   "source": [
    "res1.states[10].ptrace([0,1,4])"
   ]
  },
  {
   "cell_type": "code",
   "execution_count": null,
   "metadata": {},
   "outputs": [],
   "source": [
    "ENR_ptrace(res2.states[10], [0,1,4], excite)"
   ]
  }
 ],
 "metadata": {
  "anaconda-cloud": {},
  "kernelspec": {
   "display_name": "qutip-tutorials",
   "language": "python",
   "name": "python3"
  },
  "language_info": {
   "codemirror_mode": {
    "name": "ipython",
    "version": 3
   },
   "file_extension": ".py",
   "mimetype": "text/x-python",
   "name": "python",
   "nbconvert_exporter": "python",
   "pygments_lexer": "ipython3",
   "version": "3.10.4"
  }
 },
 "nbformat": 4,
 "nbformat_minor": 4
}
