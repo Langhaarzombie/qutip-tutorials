{
 "cells": [
  {
   "cell_type": "markdown",
   "id": "c02e7f4d",
   "metadata": {},
   "source": [
    "# Introduction to Python"
   ]
  },
  {
   "cell_type": "markdown",
   "id": "8fadebbf",
   "metadata": {},
   "source": [
    "P.D. Nation and J.R. Johansson\n",
    "\n",
    "For more information about QuTiP see [http://qutip.org](http://qutip.org)"
   ]
  },
  {
   "cell_type": "markdown",
   "id": "ce06a259",
   "metadata": {},
   "source": [
    "## Imports\n",
    "Here we import the required functions for later usage."
   ]
  },
  {
   "cell_type": "code",
   "execution_count": 1,
   "id": "2dec4b5a",
   "metadata": {
    "execution": {
     "iopub.execute_input": "2025-04-16T02:29:45.009255Z",
     "iopub.status.busy": "2025-04-16T02:29:45.008837Z",
     "iopub.status.idle": "2025-04-16T02:29:45.574973Z",
     "shell.execute_reply": "2025-04-16T02:29:45.574405Z"
    }
   },
   "outputs": [],
   "source": [
    "import matplotlib.pyplot as plt\n",
    "import numpy as np\n",
    "from scipy.special import factorial"
   ]
  },
  {
   "cell_type": "markdown",
   "id": "933ca014",
   "metadata": {},
   "source": [
    "## Using Python For Simple Calculations"
   ]
  },
  {
   "cell_type": "markdown",
   "id": "65ba9324",
   "metadata": {},
   "source": [
    "As a first step, lets try to use the interactive Python command line tool **iPython** as a basic calculator.  Addition, subtraction, and multiplication, all work in the same way as you would write the equations down on paper"
   ]
  },
  {
   "cell_type": "code",
   "execution_count": 2,
   "id": "a6af8070",
   "metadata": {
    "execution": {
     "iopub.execute_input": "2025-04-16T02:29:45.577339Z",
     "iopub.status.busy": "2025-04-16T02:29:45.577088Z",
     "iopub.status.idle": "2025-04-16T02:29:45.584229Z",
     "shell.execute_reply": "2025-04-16T02:29:45.583718Z"
    }
   },
   "outputs": [
    {
     "data": {
      "text/plain": [
       "15"
      ]
     },
     "execution_count": 2,
     "metadata": {},
     "output_type": "execute_result"
    }
   ],
   "source": [
    "10 + 5"
   ]
  },
  {
   "cell_type": "code",
   "execution_count": 3,
   "id": "42cad0ec",
   "metadata": {
    "execution": {
     "iopub.execute_input": "2025-04-16T02:29:45.587025Z",
     "iopub.status.busy": "2025-04-16T02:29:45.586284Z",
     "iopub.status.idle": "2025-04-16T02:29:45.591941Z",
     "shell.execute_reply": "2025-04-16T02:29:45.590968Z"
    }
   },
   "outputs": [
    {
     "data": {
      "text/plain": [
       "-147"
      ]
     },
     "execution_count": 3,
     "metadata": {},
     "output_type": "execute_result"
    }
   ],
   "source": [
    "10 - 157"
   ]
  },
  {
   "cell_type": "code",
   "execution_count": 4,
   "id": "5e442e52",
   "metadata": {
    "execution": {
     "iopub.execute_input": "2025-04-16T02:29:45.594176Z",
     "iopub.status.busy": "2025-04-16T02:29:45.593929Z",
     "iopub.status.idle": "2025-04-16T02:29:45.599054Z",
     "shell.execute_reply": "2025-04-16T02:29:45.598555Z"
    }
   },
   "outputs": [
    {
     "data": {
      "text/plain": [
       "1.3333333333333333"
      ]
     },
     "execution_count": 4,
     "metadata": {},
     "output_type": "execute_result"
    }
   ],
   "source": [
    "4 / 3"
   ]
  },
  {
   "cell_type": "code",
   "execution_count": 5,
   "id": "8fd93bec",
   "metadata": {
    "execution": {
     "iopub.execute_input": "2025-04-16T02:29:45.601850Z",
     "iopub.status.busy": "2025-04-16T02:29:45.601000Z",
     "iopub.status.idle": "2025-04-16T02:29:45.606239Z",
     "shell.execute_reply": "2025-04-16T02:29:45.605752Z"
    }
   },
   "outputs": [
    {
     "data": {
      "text/plain": [
       "92.0"
      ]
     },
     "execution_count": 5,
     "metadata": {},
     "output_type": "execute_result"
    }
   ],
   "source": [
    "(50 - 4) * 10 / 5"
   ]
  },
  {
   "cell_type": "markdown",
   "id": "972294a5",
   "metadata": {},
   "source": [
    "However, things like raising a number to a power, $4^{4}$, are written differently."
   ]
  },
  {
   "cell_type": "code",
   "execution_count": 6,
   "id": "90742a6f",
   "metadata": {
    "execution": {
     "iopub.execute_input": "2025-04-16T02:29:45.609022Z",
     "iopub.status.busy": "2025-04-16T02:29:45.608269Z",
     "iopub.status.idle": "2025-04-16T02:29:45.613423Z",
     "shell.execute_reply": "2025-04-16T02:29:45.612896Z"
    }
   },
   "outputs": [
    {
     "data": {
      "text/plain": [
       "256"
      ]
     },
     "execution_count": 6,
     "metadata": {},
     "output_type": "execute_result"
    }
   ],
   "source": [
    "4**4"
   ]
  },
  {
   "cell_type": "markdown",
   "id": "dd671fe2",
   "metadata": {},
   "source": [
    "We could also express this in the mathematically equivalent way as $4^{4.0}$.  However, inside of the computer, the result is not treated the same as the above answer."
   ]
  },
  {
   "cell_type": "code",
   "execution_count": 7,
   "id": "37de9cf3",
   "metadata": {
    "execution": {
     "iopub.execute_input": "2025-04-16T02:29:45.616163Z",
     "iopub.status.busy": "2025-04-16T02:29:45.615188Z",
     "iopub.status.idle": "2025-04-16T02:29:45.620481Z",
     "shell.execute_reply": "2025-04-16T02:29:45.619983Z"
    }
   },
   "outputs": [
    {
     "data": {
      "text/plain": [
       "256.0"
      ]
     },
     "execution_count": 7,
     "metadata": {},
     "output_type": "execute_result"
    }
   ],
   "source": [
    "4**4.0"
   ]
  },
  {
   "cell_type": "markdown",
   "id": "37b344ed",
   "metadata": {},
   "source": [
    "## Integers vs. Floating Point Numbers"
   ]
  },
  {
   "cell_type": "markdown",
   "id": "15339bfa",
   "metadata": {},
   "source": [
    "All information stored in a computer must be represented in a binary format consisting of zeros and ones (e.g. $461\\rightarrow 111001101$).  Each zero or one is called a **bit**, and given $N$ bits, one can store all of the integers in the range $[0,2^{N-1}]$, where the $-1$ is due to the fact that the first bit is reserved for defining if a number is positive or negative   \n",
    "\n",
    "However, given a fixed number of bits, it is impossible to store an arbitrary number exactly.  Therefore, if one is given a random number, unless the number is exactly divisible by a factor of two, the conversion between the random number and the binary bit representation ultimately leads to a loss of precision, and what is known as **roundoff error**.\n"
   ]
  },
  {
   "cell_type": "markdown",
   "id": "1595f14b",
   "metadata": {},
   "source": [
    "When dealing with numbers inside a computer there are two distinct types of numbers to consider:"
   ]
  },
  {
   "cell_type": "markdown",
   "id": "962c719a",
   "metadata": {},
   "source": [
    "- **Integers** - (1,2,4,-586,..) Are what are called **fixed-point numbers**, where the term fixed-point means that there is a fixed number of decimal places in the number (zero for integers).  These numbers can be stored exactly in a computer."
   ]
  },
  {
   "cell_type": "markdown",
   "id": "0d1cb6c3",
   "metadata": {},
   "source": [
    "- **Doubles/Floats** - (3.141,0.21,-0.1,..) These are **floating-point numbers** that are the binary equivalent to scientific notation $c=2.99792458\\times 10^{8}$.  Doubles (also called double-precision numbers) are floating point numbers that are written using 64-bits and, in general, are only accurate to the 15th or 16th decimal place.  Floats (or single-precision numbers) use 32-bits, and are good to 6-7 decimal places.  **Serious scientific calculations always require a combination of integers and double (64-bit) numbers**."
   ]
  },
  {
   "cell_type": "code",
   "execution_count": 8,
   "id": "46d1319b",
   "metadata": {
    "execution": {
     "iopub.execute_input": "2025-04-16T02:29:45.622401Z",
     "iopub.status.busy": "2025-04-16T02:29:45.622222Z",
     "iopub.status.idle": "2025-04-16T02:29:45.627488Z",
     "shell.execute_reply": "2025-04-16T02:29:45.626980Z"
    }
   },
   "outputs": [
    {
     "data": {
      "text/plain": [
       "7.000000000000001"
      ]
     },
     "execution_count": 8,
     "metadata": {},
     "output_type": "execute_result"
    }
   ],
   "source": [
    "7 + 0.000000000000001"
   ]
  },
  {
   "cell_type": "code",
   "execution_count": 9,
   "id": "44124ed7",
   "metadata": {
    "execution": {
     "iopub.execute_input": "2025-04-16T02:29:45.629839Z",
     "iopub.status.busy": "2025-04-16T02:29:45.629546Z",
     "iopub.status.idle": "2025-04-16T02:29:45.634365Z",
     "shell.execute_reply": "2025-04-16T02:29:45.633786Z"
    }
   },
   "outputs": [
    {
     "data": {
      "text/plain": [
       "7.0"
      ]
     },
     "execution_count": 9,
     "metadata": {},
     "output_type": "execute_result"
    }
   ],
   "source": [
    "7 + 0.0000000000000001"
   ]
  },
  {
   "cell_type": "code",
   "execution_count": 10,
   "id": "06bdebc1",
   "metadata": {
    "execution": {
     "iopub.execute_input": "2025-04-16T02:29:45.636112Z",
     "iopub.status.busy": "2025-04-16T02:29:45.635940Z",
     "iopub.status.idle": "2025-04-16T02:29:45.639256Z",
     "shell.execute_reply": "2025-04-16T02:29:45.638858Z"
    }
   },
   "outputs": [
    {
     "data": {
      "text/plain": [
       "0.30000000000000004"
      ]
     },
     "execution_count": 10,
     "metadata": {},
     "output_type": "execute_result"
    }
   ],
   "source": [
    "0.1 + 0.2"
   ]
  },
  {
   "cell_type": "markdown",
   "id": "0acae2a7",
   "metadata": {},
   "source": [
    "This last example clearly highlights the fact that the computer does not store decimal (floating-point) numbers exactly.  The loss of precision in floating-point numbers can be characterized by the **machine precision**, $\\epsilon_{\\rm m}$, that is defined to be the smallest positive number such that \n",
    "\n",
    "$$1_{\\rm c}+\\epsilon_{\\rm m}\\neq 1_{\\rm c}$$\n",
    "\n",
    "where the subscript on $1_{\\rm c}$ is meant to remind you that this is a computer number.  Therefore, for any arbitrary number $N$ is related to its floating-point equivalent $N_{\\rm c}$ by\n",
    "\n",
    "$$N_{\\rm c}=N\\pm \\epsilon, \\ \\ \\forall~|\\epsilon|< \\epsilon_{\\rm m}.$$\n",
    "\n",
    "**Take Home Message** - All double-precision decimal numbers that are not factors of two will have error in the 15th decimal place.  This can lead to errors in your numerical solutions if you are not careful."
   ]
  },
  {
   "cell_type": "markdown",
   "id": "067a44ac",
   "metadata": {},
   "source": [
    "## Making Python Smarter Using NumPy"
   ]
  },
  {
   "cell_type": "markdown",
   "id": "b672e222",
   "metadata": {},
   "source": [
    "Python itself has limited support for mathematics outside of simple arithmetic.  Therefore, we will use the functions in the NumPy module to do more impressive, and faster, calculations.  We have imported NumPy already at the top of this notebook and can use it now by referring to `np`.\n",
    "\n",
    "We can now do more impressive calculations:"
   ]
  },
  {
   "cell_type": "code",
   "execution_count": 11,
   "id": "aabfb313",
   "metadata": {
    "execution": {
     "iopub.execute_input": "2025-04-16T02:29:45.640772Z",
     "iopub.status.busy": "2025-04-16T02:29:45.640598Z",
     "iopub.status.idle": "2025-04-16T02:29:45.644087Z",
     "shell.execute_reply": "2025-04-16T02:29:45.643654Z"
    }
   },
   "outputs": [
    {
     "data": {
      "text/plain": [
       "10.381236562731843"
      ]
     },
     "execution_count": 11,
     "metadata": {},
     "output_type": "execute_result"
    }
   ],
   "source": [
    "np.exp(2.34)"
   ]
  },
  {
   "cell_type": "code",
   "execution_count": 12,
   "id": "b42a516d",
   "metadata": {
    "execution": {
     "iopub.execute_input": "2025-04-16T02:29:45.645499Z",
     "iopub.status.busy": "2025-04-16T02:29:45.645331Z",
     "iopub.status.idle": "2025-04-16T02:29:45.649051Z",
     "shell.execute_reply": "2025-04-16T02:29:45.648477Z"
    }
   },
   "outputs": [
    {
     "data": {
      "text/plain": [
       "2.23606797749979"
      ]
     },
     "execution_count": 12,
     "metadata": {},
     "output_type": "execute_result"
    }
   ],
   "source": [
    "np.sqrt(5)"
   ]
  },
  {
   "cell_type": "code",
   "execution_count": 13,
   "id": "0df8f7dd",
   "metadata": {
    "execution": {
     "iopub.execute_input": "2025-04-16T02:29:45.650538Z",
     "iopub.status.busy": "2025-04-16T02:29:45.650371Z",
     "iopub.status.idle": "2025-04-16T02:29:45.653928Z",
     "shell.execute_reply": "2025-04-16T02:29:45.653462Z"
    }
   },
   "outputs": [
    {
     "data": {
      "text/plain": [
       "0.6366197723675814"
      ]
     },
     "execution_count": 13,
     "metadata": {},
     "output_type": "execute_result"
    }
   ],
   "source": [
    "np.sinc(0.5)"
   ]
  },
  {
   "cell_type": "markdown",
   "id": "e9793522",
   "metadata": {},
   "source": [
    "## Variables"
   ]
  },
  {
   "cell_type": "markdown",
   "id": "7bd4695f",
   "metadata": {},
   "source": [
    "If we want to be able to store the numbers and results from our calculations then we must define variables using the \"=\" sign:"
   ]
  },
  {
   "cell_type": "code",
   "execution_count": 14,
   "id": "ed7e6e51",
   "metadata": {
    "execution": {
     "iopub.execute_input": "2025-04-16T02:29:45.655383Z",
     "iopub.status.busy": "2025-04-16T02:29:45.655217Z",
     "iopub.status.idle": "2025-04-16T02:29:45.658938Z",
     "shell.execute_reply": "2025-04-16T02:29:45.658368Z"
    }
   },
   "outputs": [
    {
     "data": {
      "text/plain": [
       "78.53981633974483"
      ]
     },
     "execution_count": 14,
     "metadata": {},
     "output_type": "execute_result"
    }
   ],
   "source": [
    "radius = 5\n",
    "area = np.pi * radius**2\n",
    "area"
   ]
  },
  {
   "cell_type": "markdown",
   "id": "8057e0bc",
   "metadata": {},
   "source": [
    "We see that our variables name is defined on the left of the ```=``` sign and the value its given is defined on the right.  Here we have also used the ```pi``` variable that has been predefined by NumPy.  Variables can then be used in other expressions.  \n",
    "\n",
    "If a predefined variable is again used on the left side of ```=``` then its original value is replaced."
   ]
  },
  {
   "cell_type": "code",
   "execution_count": 15,
   "id": "af5283df",
   "metadata": {
    "execution": {
     "iopub.execute_input": "2025-04-16T02:29:45.660422Z",
     "iopub.status.busy": "2025-04-16T02:29:45.660252Z",
     "iopub.status.idle": "2025-04-16T02:29:45.663920Z",
     "shell.execute_reply": "2025-04-16T02:29:45.663457Z"
    }
   },
   "outputs": [
    {
     "data": {
      "text/plain": [
       "12.5"
      ]
     },
     "execution_count": 15,
     "metadata": {},
     "output_type": "execute_result"
    }
   ],
   "source": [
    "x = 10\n",
    "x = (x**2 + 25) / 10\n",
    "x"
   ]
  },
  {
   "cell_type": "markdown",
   "id": "69ec134f",
   "metadata": {},
   "source": [
    "This is different than the mathematical equation $10x=x^{2}+25$  which has the solution $x=5$.  Therefore, it is important to remember that the ```=``` sign in a computer program is **not** equivalent to the mathematical equality. "
   ]
  },
  {
   "cell_type": "markdown",
   "id": "275452a2",
   "metadata": {},
   "source": [
    "What happens if you try to use a variable without first defining it? \n",
    "\n",
    "Python would give us an error that the variable is not defined.  In addition, there are several words that are reserved by the Python language and cannot be used as variables:\n",
    "\n",
    "    and, as, assert, break, class, continue, def, del, elif, else, except, \n",
    "    exec, finally, for, from, global, if, import, in, is, lambda, not, or,\n",
    "    pass, print, raise, return, try, while, with, yield\n",
    "    \n",
    "Other than the above reserved words, your variables can be anything that starts with a letter or the underscore character \"$\\_$\" followed by any combination of alphanumeric characters and \"$\\_$\".  Note that using upper or lower case letters will give you two different variables."
   ]
  },
  {
   "cell_type": "code",
   "execution_count": 16,
   "id": "6a3cfa37",
   "metadata": {
    "execution": {
     "iopub.execute_input": "2025-04-16T02:29:45.665367Z",
     "iopub.status.busy": "2025-04-16T02:29:45.665214Z",
     "iopub.status.idle": "2025-04-16T02:29:45.668865Z",
     "shell.execute_reply": "2025-04-16T02:29:45.668399Z"
    }
   },
   "outputs": [
    {
     "data": {
      "text/plain": [
       "80"
      ]
     },
     "execution_count": 16,
     "metadata": {},
     "output_type": "execute_result"
    }
   ],
   "source": [
    "_freq = 8\n",
    "Oscillator_Energy = 10\n",
    "_freq * Oscillator_Energy"
   ]
  },
  {
   "cell_type": "markdown",
   "id": "f6f30360",
   "metadata": {},
   "source": [
    "### Some Rules About Variables"
   ]
  },
  {
   "cell_type": "markdown",
   "id": "27695a75",
   "metadata": {},
   "source": [
    "Although there are many ways to define variables in Python, it is best to try to define your variables in all the same way.  In this class, all of our variables will use only lower case characters. \n"
   ]
  },
  {
   "cell_type": "code",
   "execution_count": 17,
   "id": "af7cef64",
   "metadata": {
    "execution": {
     "iopub.execute_input": "2025-04-16T02:29:45.670249Z",
     "iopub.status.busy": "2025-04-16T02:29:45.670101Z",
     "iopub.status.idle": "2025-04-16T02:29:45.672634Z",
     "shell.execute_reply": "2025-04-16T02:29:45.672182Z"
    }
   },
   "outputs": [],
   "source": [
    "speed_of_light = 2.9979 * 10**8\n",
    "spring_constant = np.sqrt(2 / 5)"
   ]
  },
  {
   "cell_type": "markdown",
   "id": "b9a596ac",
   "metadata": {},
   "source": [
    "It is also good practice to use variable names that correspond to the physical quantity that the variable represents."
   ]
  },
  {
   "cell_type": "markdown",
   "id": "be9f3d47",
   "metadata": {},
   "source": [
    "## Strings"
   ]
  },
  {
   "cell_type": "markdown",
   "id": "1f965b38",
   "metadata": {},
   "source": [
    "Often we want to print some text along with our variables, ask the user for input, or actually use the words and letters themselves as variables (e.g. in DNA analysis).  All of these can be accomplished using **strings**.  We have already seen one string already in this class: "
   ]
  },
  {
   "cell_type": "code",
   "execution_count": 18,
   "id": "8487c90a",
   "metadata": {
    "execution": {
     "iopub.execute_input": "2025-04-16T02:29:45.674074Z",
     "iopub.status.busy": "2025-04-16T02:29:45.673921Z",
     "iopub.status.idle": "2025-04-16T02:29:45.677341Z",
     "shell.execute_reply": "2025-04-16T02:29:45.676789Z"
    }
   },
   "outputs": [
    {
     "data": {
      "text/plain": [
       "'Hello Class'"
      ]
     },
     "execution_count": 18,
     "metadata": {},
     "output_type": "execute_result"
    }
   ],
   "source": [
    "\"Hello Class\""
   ]
  },
  {
   "cell_type": "markdown",
   "id": "61cda4aa",
   "metadata": {},
   "source": [
    "We can also use single quotes, e.g. `'Hello Class'`.\n",
    "\n",
    "If we want to use the quote symbol in the string itself then we need to mix the two types "
   ]
  },
  {
   "cell_type": "code",
   "execution_count": 19,
   "id": "46151938",
   "metadata": {
    "execution": {
     "iopub.execute_input": "2025-04-16T02:29:45.678826Z",
     "iopub.status.busy": "2025-04-16T02:29:45.678659Z",
     "iopub.status.idle": "2025-04-16T02:29:45.682055Z",
     "shell.execute_reply": "2025-04-16T02:29:45.681601Z"
    }
   },
   "outputs": [
    {
     "data": {
      "text/plain": [
       "\"How was Hwajung's birthday party?\""
      ]
     },
     "execution_count": 19,
     "metadata": {},
     "output_type": "execute_result"
    }
   ],
   "source": [
    "\"How was Hwajung's birthday party?\""
   ]
  },
  {
   "cell_type": "markdown",
   "id": "b746c7d6",
   "metadata": {},
   "source": [
    "Just like we did with integers and doubles, we can assign a string to a variable, and we can even add two strings together."
   ]
  },
  {
   "cell_type": "code",
   "execution_count": 20,
   "id": "3169869e",
   "metadata": {
    "execution": {
     "iopub.execute_input": "2025-04-16T02:29:45.683463Z",
     "iopub.status.busy": "2025-04-16T02:29:45.683310Z",
     "iopub.status.idle": "2025-04-16T02:29:45.686894Z",
     "shell.execute_reply": "2025-04-16T02:29:45.686339Z"
    }
   },
   "outputs": [
    {
     "data": {
      "text/plain": [
       "'I like chicken and HOF'"
      ]
     },
     "execution_count": 20,
     "metadata": {},
     "output_type": "execute_result"
    }
   ],
   "source": [
    "a = \"I like \"  # There is a blank space at the end of this string.\n",
    "b = \"chicken and HOF\"\n",
    "a + b"
   ]
  },
  {
   "cell_type": "markdown",
   "id": "f080f4d1",
   "metadata": {},
   "source": [
    "Notice the blank space at the end of the string in variable \"a\" provides spacing between \"like\" and \"chicken\"."
   ]
  },
  {
   "cell_type": "markdown",
   "id": "72fea934",
   "metadata": {},
   "source": [
    "If we want to print out stuff, including strings and integers or doubles together, then we can use the builtin ```print``` function to accomplish this"
   ]
  },
  {
   "cell_type": "code",
   "execution_count": 21,
   "id": "abfeae09",
   "metadata": {
    "execution": {
     "iopub.execute_input": "2025-04-16T02:29:45.688680Z",
     "iopub.status.busy": "2025-04-16T02:29:45.688175Z",
     "iopub.status.idle": "2025-04-16T02:29:45.691428Z",
     "shell.execute_reply": "2025-04-16T02:29:45.690878Z"
    }
   },
   "outputs": [
    {
     "name": "stdout",
     "output_type": "stream",
     "text": [
      "The temperature right now is 23\n"
     ]
    }
   ],
   "source": [
    "temp = 23\n",
    "text = \"The temperature right now is\"\n",
    "print(text, temp)"
   ]
  },
  {
   "cell_type": "markdown",
   "id": "2458754b",
   "metadata": {},
   "source": [
    "Notice how the print function automatically puts a space between the the two input arguments.  The ```print``` function automatically takes any number of string, integer, double, or other variables, converts them into strings, and then prints them for the user."
   ]
  },
  {
   "cell_type": "markdown",
   "id": "ff6bc013",
   "metadata": {},
   "source": [
    "## Lists"
   ]
  },
  {
   "cell_type": "markdown",
   "id": "4feb3ff3",
   "metadata": {},
   "source": [
    "Often times we will want to group many variables together into one object.  In Python this is accomplished by using a **```list```** datatype variable."
   ]
  },
  {
   "cell_type": "code",
   "execution_count": 22,
   "id": "9ca80ebd",
   "metadata": {
    "execution": {
     "iopub.execute_input": "2025-04-16T02:29:45.692986Z",
     "iopub.status.busy": "2025-04-16T02:29:45.692824Z",
     "iopub.status.idle": "2025-04-16T02:29:45.695467Z",
     "shell.execute_reply": "2025-04-16T02:29:45.695001Z"
    }
   },
   "outputs": [],
   "source": [
    "shopping_list = [\"eggs\", \"bread\", \"milk\", \"bananas\"]"
   ]
  },
  {
   "cell_type": "markdown",
   "id": "81e137e9",
   "metadata": {},
   "source": [
    "If we want to access a single variable inside of the list, then we need to use the **index** that corresponds to the variable inside of square brackets."
   ]
  },
  {
   "cell_type": "code",
   "execution_count": 23,
   "id": "479a42df",
   "metadata": {
    "execution": {
     "iopub.execute_input": "2025-04-16T02:29:45.696853Z",
     "iopub.status.busy": "2025-04-16T02:29:45.696693Z",
     "iopub.status.idle": "2025-04-16T02:29:45.700225Z",
     "shell.execute_reply": "2025-04-16T02:29:45.699754Z"
    }
   },
   "outputs": [
    {
     "data": {
      "text/plain": [
       "'milk'"
      ]
     },
     "execution_count": 23,
     "metadata": {},
     "output_type": "execute_result"
    }
   ],
   "source": [
    "shopping_list[2]"
   ]
  },
  {
   "cell_type": "markdown",
   "id": "11d0b3bc",
   "metadata": {},
   "source": [
    "We see that the \"milk\" string can be accessed using the index number $2$.  However, we can see that this variable is actually the third string in the list.  This discrepancy is due to the fact that Python (like C-code) considers the first element in a list, or other multivariable data structures, to be at index $0$."
   ]
  },
  {
   "cell_type": "code",
   "execution_count": 24,
   "id": "f871bf7d",
   "metadata": {
    "execution": {
     "iopub.execute_input": "2025-04-16T02:29:45.701644Z",
     "iopub.status.busy": "2025-04-16T02:29:45.701462Z",
     "iopub.status.idle": "2025-04-16T02:29:45.705004Z",
     "shell.execute_reply": "2025-04-16T02:29:45.704437Z"
    }
   },
   "outputs": [
    {
     "data": {
      "text/plain": [
       "'eggs'"
      ]
     },
     "execution_count": 24,
     "metadata": {},
     "output_type": "execute_result"
    }
   ],
   "source": [
    "shopping_list[0]"
   ]
  },
  {
   "cell_type": "markdown",
   "id": "4f03e621",
   "metadata": {},
   "source": [
    "This is important to remember, and will take some getting used to before it becomes natural.  If we want to access the elements of the list from back to front, we can use negative indices"
   ]
  },
  {
   "cell_type": "code",
   "execution_count": 25,
   "id": "5a197dfd",
   "metadata": {
    "execution": {
     "iopub.execute_input": "2025-04-16T02:29:45.706409Z",
     "iopub.status.busy": "2025-04-16T02:29:45.706261Z",
     "iopub.status.idle": "2025-04-16T02:29:45.709814Z",
     "shell.execute_reply": "2025-04-16T02:29:45.709351Z"
    }
   },
   "outputs": [
    {
     "data": {
      "text/plain": [
       "'bananas'"
      ]
     },
     "execution_count": 25,
     "metadata": {},
     "output_type": "execute_result"
    }
   ],
   "source": [
    "shopping_list[-1]"
   ]
  },
  {
   "cell_type": "code",
   "execution_count": 26,
   "id": "f319c173",
   "metadata": {
    "execution": {
     "iopub.execute_input": "2025-04-16T02:29:45.711187Z",
     "iopub.status.busy": "2025-04-16T02:29:45.711041Z",
     "iopub.status.idle": "2025-04-16T02:29:45.714595Z",
     "shell.execute_reply": "2025-04-16T02:29:45.714130Z"
    }
   },
   "outputs": [
    {
     "data": {
      "text/plain": [
       "'milk'"
      ]
     },
     "execution_count": 26,
     "metadata": {},
     "output_type": "execute_result"
    }
   ],
   "source": [
    "shopping_list[-2]"
   ]
  },
  {
   "cell_type": "markdown",
   "id": "23480576",
   "metadata": {},
   "source": [
    "If we are given a list variable and we want to known how many elements are inside of the list, then we can use the ```len``` function that returns an integer giving the length of the list."
   ]
  },
  {
   "cell_type": "code",
   "execution_count": 27,
   "id": "6413a9ec",
   "metadata": {
    "execution": {
     "iopub.execute_input": "2025-04-16T02:29:45.715966Z",
     "iopub.status.busy": "2025-04-16T02:29:45.715819Z",
     "iopub.status.idle": "2025-04-16T02:29:45.719318Z",
     "shell.execute_reply": "2025-04-16T02:29:45.718874Z"
    }
   },
   "outputs": [
    {
     "data": {
      "text/plain": [
       "4"
      ]
     },
     "execution_count": 27,
     "metadata": {},
     "output_type": "execute_result"
    }
   ],
   "source": [
    "len(shopping_list)"
   ]
  },
  {
   "cell_type": "markdown",
   "id": "056571ac",
   "metadata": {},
   "source": [
    "If we want to change the length of the list by adding or removing elements, then we can use ```append``` and ```remove```, respectively."
   ]
  },
  {
   "cell_type": "code",
   "execution_count": 28,
   "id": "699f49a4",
   "metadata": {
    "execution": {
     "iopub.execute_input": "2025-04-16T02:29:45.720737Z",
     "iopub.status.busy": "2025-04-16T02:29:45.720549Z",
     "iopub.status.idle": "2025-04-16T02:29:45.724144Z",
     "shell.execute_reply": "2025-04-16T02:29:45.723701Z"
    }
   },
   "outputs": [
    {
     "data": {
      "text/plain": [
       "['eggs', 'bread', 'milk', 'bananas', 'apples']"
      ]
     },
     "execution_count": 28,
     "metadata": {},
     "output_type": "execute_result"
    }
   ],
   "source": [
    "shopping_list.append(\"apples\")\n",
    "shopping_list"
   ]
  },
  {
   "cell_type": "code",
   "execution_count": 29,
   "id": "e959ce94",
   "metadata": {
    "execution": {
     "iopub.execute_input": "2025-04-16T02:29:45.725510Z",
     "iopub.status.busy": "2025-04-16T02:29:45.725362Z",
     "iopub.status.idle": "2025-04-16T02:29:45.729034Z",
     "shell.execute_reply": "2025-04-16T02:29:45.728424Z"
    }
   },
   "outputs": [
    {
     "data": {
      "text/plain": [
       "['eggs', 'milk', 'bananas', 'apples']"
      ]
     },
     "execution_count": 29,
     "metadata": {},
     "output_type": "execute_result"
    }
   ],
   "source": [
    "shopping_list.remove(\"bread\")\n",
    "shopping_list"
   ]
  },
  {
   "cell_type": "markdown",
   "id": "982ced33",
   "metadata": {},
   "source": [
    "Note that lists to not have to have the same type of data in each element!  You can mix any data types you want."
   ]
  },
  {
   "cell_type": "code",
   "execution_count": 30,
   "id": "f08aad93",
   "metadata": {
    "execution": {
     "iopub.execute_input": "2025-04-16T02:29:45.730454Z",
     "iopub.status.busy": "2025-04-16T02:29:45.730285Z",
     "iopub.status.idle": "2025-04-16T02:29:45.733976Z",
     "shell.execute_reply": "2025-04-16T02:29:45.733508Z"
    }
   },
   "outputs": [
    {
     "data": {
      "text/plain": [
       "[1, 'hello', -1.234, [-1, -2, -3]]"
      ]
     },
     "execution_count": 30,
     "metadata": {},
     "output_type": "execute_result"
    }
   ],
   "source": [
    "various_things = [1, \"hello\", -1.234, [-1, -2, -3]]\n",
    "various_things"
   ]
  },
  {
   "cell_type": "markdown",
   "id": "4ab2c8b5",
   "metadata": {},
   "source": [
    "All of these elements can be accessed in the usual way"
   ]
  },
  {
   "cell_type": "code",
   "execution_count": 31,
   "id": "c3261caf",
   "metadata": {
    "execution": {
     "iopub.execute_input": "2025-04-16T02:29:45.735406Z",
     "iopub.status.busy": "2025-04-16T02:29:45.735250Z",
     "iopub.status.idle": "2025-04-16T02:29:45.738818Z",
     "shell.execute_reply": "2025-04-16T02:29:45.738256Z"
    }
   },
   "outputs": [
    {
     "data": {
      "text/plain": [
       "1"
      ]
     },
     "execution_count": 31,
     "metadata": {},
     "output_type": "execute_result"
    }
   ],
   "source": [
    "various_things[0]"
   ]
  },
  {
   "cell_type": "code",
   "execution_count": 32,
   "id": "589b0f97",
   "metadata": {
    "execution": {
     "iopub.execute_input": "2025-04-16T02:29:45.740263Z",
     "iopub.status.busy": "2025-04-16T02:29:45.740109Z",
     "iopub.status.idle": "2025-04-16T02:29:45.743733Z",
     "shell.execute_reply": "2025-04-16T02:29:45.743150Z"
    }
   },
   "outputs": [
    {
     "data": {
      "text/plain": [
       "[-1, -2, -3]"
      ]
     },
     "execution_count": 32,
     "metadata": {},
     "output_type": "execute_result"
    }
   ],
   "source": [
    "various_things[-1]"
   ]
  },
  {
   "cell_type": "code",
   "execution_count": 33,
   "id": "b2a891ff",
   "metadata": {
    "execution": {
     "iopub.execute_input": "2025-04-16T02:29:45.745195Z",
     "iopub.status.busy": "2025-04-16T02:29:45.745037Z",
     "iopub.status.idle": "2025-04-16T02:29:45.748345Z",
     "shell.execute_reply": "2025-04-16T02:29:45.747893Z"
    }
   },
   "outputs": [
    {
     "data": {
      "text/plain": [
       "-2"
      ]
     },
     "execution_count": 33,
     "metadata": {},
     "output_type": "execute_result"
    }
   ],
   "source": [
    "various_things[3][1]"
   ]
  },
  {
   "cell_type": "markdown",
   "id": "e3ceac4f",
   "metadata": {},
   "source": [
    "## Iterating Through Lists and Python Indention Rules"
   ]
  },
  {
   "cell_type": "markdown",
   "id": "a28905a0",
   "metadata": {},
   "source": [
    "One of the most important reasons for using lists is because one often wants to do the same type of manipulation on each of the elements one at a time.  Going through a list in this fashion is called **iteration** and is accomplished in Python using the ```for``` command: "
   ]
  },
  {
   "cell_type": "code",
   "execution_count": 34,
   "id": "8d10902b",
   "metadata": {
    "execution": {
     "iopub.execute_input": "2025-04-16T02:29:45.750043Z",
     "iopub.status.busy": "2025-04-16T02:29:45.749634Z",
     "iopub.status.idle": "2025-04-16T02:29:45.752957Z",
     "shell.execute_reply": "2025-04-16T02:29:45.752389Z"
    }
   },
   "outputs": [
    {
     "name": "stdout",
     "output_type": "stream",
     "text": [
      "four calling birds\n",
      "three french hens\n",
      "two turtle doves\n",
      "a partridge in a pear tree\n"
     ]
    }
   ],
   "source": [
    "items = [\n",
    "    \"four calling birds\",\n",
    "    \"three french hens\",\n",
    "    \"two turtle doves\",\n",
    "    \"a partridge in a pear tree\",\n",
    "]\n",
    "for thing in items:\n",
    "    print(thing)"
   ]
  },
  {
   "cell_type": "markdown",
   "id": "60d3bb35",
   "metadata": {},
   "source": [
    "Here, \"thing\" is a variable that takes the value of each item in the list \"items\" and then gets sent to the ```print``` function.  We are free to call this variable anything we want.  "
   ]
  },
  {
   "cell_type": "code",
   "execution_count": 35,
   "id": "947b4b79",
   "metadata": {
    "execution": {
     "iopub.execute_input": "2025-04-16T02:29:45.754491Z",
     "iopub.status.busy": "2025-04-16T02:29:45.754179Z",
     "iopub.status.idle": "2025-04-16T02:29:45.757266Z",
     "shell.execute_reply": "2025-04-16T02:29:45.756793Z"
    }
   },
   "outputs": [
    {
     "name": "stdout",
     "output_type": "stream",
     "text": [
      "four calling birds\n",
      "three french hens\n",
      "two turtle doves\n",
      "a partridge in a pear tree\n"
     ]
    }
   ],
   "source": [
    "for variable in items:\n",
    "    print(variable)"
   ]
  },
  {
   "cell_type": "markdown",
   "id": "b210c943",
   "metadata": {},
   "source": [
    "The next important thing to notice is that after the colon \":\" the print statement is indented.  This indention after a colon is required in the Python programming langage and represents a section of the code called a **block**.  If we did not intent the print function then Python would yell at us. "
   ]
  },
  {
   "cell_type": "markdown",
   "id": "2c3c7743",
   "metadata": {},
   "source": [
    "Blocks are a standard part of any programming language and are used for organization and flow-control in computer code.  Anything that is indented in the above example will be run for each item in the list"
   ]
  },
  {
   "cell_type": "code",
   "execution_count": 36,
   "id": "ccfccf1c",
   "metadata": {
    "execution": {
     "iopub.execute_input": "2025-04-16T02:29:45.758754Z",
     "iopub.status.busy": "2025-04-16T02:29:45.758567Z",
     "iopub.status.idle": "2025-04-16T02:29:45.761627Z",
     "shell.execute_reply": "2025-04-16T02:29:45.761054Z"
    }
   },
   "outputs": [
    {
     "name": "stdout",
     "output_type": "stream",
     "text": [
      "My true love gave to me four calling birds\n",
      "My true love gave to me three french hens\n",
      "My true love gave to me two turtle doves\n",
      "My true love gave to me a partridge in a pear tree\n"
     ]
    }
   ],
   "source": [
    "for variable in items:\n",
    "    print(\"My true love gave to me\", variable)"
   ]
  },
  {
   "cell_type": "markdown",
   "id": "9a06c26a",
   "metadata": {},
   "source": [
    "## Slicing Lists"
   ]
  },
  {
   "cell_type": "markdown",
   "id": "201f2559",
   "metadata": {},
   "source": [
    "If we want to grab certain elements from a list we can make use of **slicing** to conveniently access the elements.  Slicing can be used on any **sequence** such as lists, strings, and as we will see shortly, arrays. Consider our ```shopping_list``` list:"
   ]
  },
  {
   "cell_type": "code",
   "execution_count": 37,
   "id": "6c128415",
   "metadata": {
    "execution": {
     "iopub.execute_input": "2025-04-16T02:29:45.763036Z",
     "iopub.status.busy": "2025-04-16T02:29:45.762873Z",
     "iopub.status.idle": "2025-04-16T02:29:45.765563Z",
     "shell.execute_reply": "2025-04-16T02:29:45.765089Z"
    }
   },
   "outputs": [],
   "source": [
    "shopping_list = [\"eggs\", \"bread\", \"milk\", \"bananas\", \"apples\"]"
   ]
  },
  {
   "cell_type": "markdown",
   "id": "bf28414c",
   "metadata": {},
   "source": [
    "To get the first element we used a single index"
   ]
  },
  {
   "cell_type": "code",
   "execution_count": 38,
   "id": "3f48e5c1",
   "metadata": {
    "execution": {
     "iopub.execute_input": "2025-04-16T02:29:45.767329Z",
     "iopub.status.busy": "2025-04-16T02:29:45.766820Z",
     "iopub.status.idle": "2025-04-16T02:29:45.770379Z",
     "shell.execute_reply": "2025-04-16T02:29:45.769922Z"
    }
   },
   "outputs": [
    {
     "data": {
      "text/plain": [
       "'eggs'"
      ]
     },
     "execution_count": 38,
     "metadata": {},
     "output_type": "execute_result"
    }
   ],
   "source": [
    "shopping_list[0]"
   ]
  },
  {
   "cell_type": "markdown",
   "id": "d769703a",
   "metadata": {},
   "source": [
    "But if we want to get the first three elements in the list we can use: "
   ]
  },
  {
   "cell_type": "code",
   "execution_count": 39,
   "id": "993db741",
   "metadata": {
    "execution": {
     "iopub.execute_input": "2025-04-16T02:29:45.771881Z",
     "iopub.status.busy": "2025-04-16T02:29:45.771713Z",
     "iopub.status.idle": "2025-04-16T02:29:45.775279Z",
     "shell.execute_reply": "2025-04-16T02:29:45.774740Z"
    }
   },
   "outputs": [
    {
     "data": {
      "text/plain": [
       "['eggs', 'bread', 'milk']"
      ]
     },
     "execution_count": 39,
     "metadata": {},
     "output_type": "execute_result"
    }
   ],
   "source": [
    "shopping_list[0:3]"
   ]
  },
  {
   "cell_type": "markdown",
   "id": "75486658",
   "metadata": {},
   "source": [
    "We could also grab the last two elements using:"
   ]
  },
  {
   "cell_type": "code",
   "execution_count": 40,
   "id": "b86cdf3d",
   "metadata": {
    "execution": {
     "iopub.execute_input": "2025-04-16T02:29:45.776922Z",
     "iopub.status.busy": "2025-04-16T02:29:45.776483Z",
     "iopub.status.idle": "2025-04-16T02:29:45.780196Z",
     "shell.execute_reply": "2025-04-16T02:29:45.779667Z"
    }
   },
   "outputs": [
    {
     "data": {
      "text/plain": [
       "['bananas', 'apples']"
      ]
     },
     "execution_count": 40,
     "metadata": {},
     "output_type": "execute_result"
    }
   ],
   "source": [
    "shopping_list[-2:]"
   ]
  },
  {
   "cell_type": "markdown",
   "id": "973a200c",
   "metadata": {},
   "source": [
    "Or, we can get even more complex and grab all of the even number elements by using a third argument in the brackets that tells use the step size:"
   ]
  },
  {
   "cell_type": "code",
   "execution_count": 41,
   "id": "acaadd42",
   "metadata": {
    "execution": {
     "iopub.execute_input": "2025-04-16T02:29:45.781736Z",
     "iopub.status.busy": "2025-04-16T02:29:45.781420Z",
     "iopub.status.idle": "2025-04-16T02:29:45.785029Z",
     "shell.execute_reply": "2025-04-16T02:29:45.784572Z"
    }
   },
   "outputs": [
    {
     "data": {
      "text/plain": [
       "['eggs', 'milk', 'apples']"
      ]
     },
     "execution_count": 41,
     "metadata": {},
     "output_type": "execute_result"
    }
   ],
   "source": [
    "shopping_list[0::2]"
   ]
  },
  {
   "cell_type": "markdown",
   "id": "3f8fc9ac",
   "metadata": {},
   "source": [
    "## Conditional Statements"
   ]
  },
  {
   "cell_type": "markdown",
   "id": "c48e1210",
   "metadata": {},
   "source": [
    "We have now seen a collection of data types (integers, doubles/floats, lists, strings) but we have yet to discuss how to compare two different variables.  For example, how do we check if two different integers $a$ and $b$ are equal?  Or how do we know if $a\\ge b$?  This is accomplished using **conditional statements**.  The basic operations in boolean logic are \"equal\" (```==```), \"not equal\" (```!=```), \"greater than\" (```>```), \"greater than or equal\" (```>=```), \"less than\" (```<```), and \"less than or equal\" (```<=```).  All of these conditionals operate on two variables and return a simple boolean ```True``` or ```False``` answer.  For example"
   ]
  },
  {
   "cell_type": "code",
   "execution_count": 42,
   "id": "691186a6",
   "metadata": {
    "execution": {
     "iopub.execute_input": "2025-04-16T02:29:45.786639Z",
     "iopub.status.busy": "2025-04-16T02:29:45.786303Z",
     "iopub.status.idle": "2025-04-16T02:29:45.789962Z",
     "shell.execute_reply": "2025-04-16T02:29:45.789372Z"
    }
   },
   "outputs": [
    {
     "data": {
      "text/plain": [
       "False"
      ]
     },
     "execution_count": 42,
     "metadata": {},
     "output_type": "execute_result"
    }
   ],
   "source": [
    "a = 5\n",
    "b = 8\n",
    "a > b"
   ]
  },
  {
   "cell_type": "code",
   "execution_count": 43,
   "id": "cd8ed68a",
   "metadata": {
    "execution": {
     "iopub.execute_input": "2025-04-16T02:29:45.791612Z",
     "iopub.status.busy": "2025-04-16T02:29:45.791275Z",
     "iopub.status.idle": "2025-04-16T02:29:45.794984Z",
     "shell.execute_reply": "2025-04-16T02:29:45.794413Z"
    }
   },
   "outputs": [
    {
     "data": {
      "text/plain": [
       "(True, True)"
      ]
     },
     "execution_count": 43,
     "metadata": {},
     "output_type": "execute_result"
    }
   ],
   "source": [
    "c = 0\n",
    "c <= 0, c >= 0"
   ]
  },
  {
   "cell_type": "code",
   "execution_count": 44,
   "id": "c685c812",
   "metadata": {
    "execution": {
     "iopub.execute_input": "2025-04-16T02:29:45.796667Z",
     "iopub.status.busy": "2025-04-16T02:29:45.796182Z",
     "iopub.status.idle": "2025-04-16T02:29:45.799946Z",
     "shell.execute_reply": "2025-04-16T02:29:45.799381Z"
    }
   },
   "outputs": [
    {
     "data": {
      "text/plain": [
       "(False, True)"
      ]
     },
     "execution_count": 44,
     "metadata": {},
     "output_type": "execute_result"
    }
   ],
   "source": [
    "a = 5\n",
    "b = 6\n",
    "a == b, a != b"
   ]
  },
  {
   "cell_type": "markdown",
   "id": "5070ed5d",
   "metadata": {},
   "source": [
    "It is important to point out that in Python ```1``` and ```0``` are the same as ```True``` and ```False```, respectively."
   ]
  },
  {
   "cell_type": "code",
   "execution_count": 45,
   "id": "9ad8a0ba",
   "metadata": {
    "execution": {
     "iopub.execute_input": "2025-04-16T02:29:45.801490Z",
     "iopub.status.busy": "2025-04-16T02:29:45.801177Z",
     "iopub.status.idle": "2025-04-16T02:29:45.804928Z",
     "shell.execute_reply": "2025-04-16T02:29:45.804357Z"
    }
   },
   "outputs": [
    {
     "data": {
      "text/plain": [
       "(True, True)"
      ]
     },
     "execution_count": 45,
     "metadata": {},
     "output_type": "execute_result"
    }
   ],
   "source": [
    "t = True\n",
    "f = False\n",
    "t == 1, f == 0"
   ]
  },
  {
   "cell_type": "markdown",
   "id": "b49b0020",
   "metadata": {},
   "source": [
    "We can also combine multiple conditional statements"
   ]
  },
  {
   "cell_type": "code",
   "execution_count": 46,
   "id": "828a14b4",
   "metadata": {
    "execution": {
     "iopub.execute_input": "2025-04-16T02:29:45.806309Z",
     "iopub.status.busy": "2025-04-16T02:29:45.806160Z",
     "iopub.status.idle": "2025-04-16T02:29:45.809759Z",
     "shell.execute_reply": "2025-04-16T02:29:45.809308Z"
    }
   },
   "outputs": [
    {
     "data": {
      "text/plain": [
       "True"
      ]
     },
     "execution_count": 46,
     "metadata": {},
     "output_type": "execute_result"
    }
   ],
   "source": [
    "a = -1\n",
    "b = 4\n",
    "c = 10\n",
    "d = 11\n",
    "a < b < c != d"
   ]
  },
  {
   "cell_type": "markdown",
   "id": "212950b7",
   "metadata": {},
   "source": [
    "These operations can also be used on lists and strings:"
   ]
  },
  {
   "cell_type": "code",
   "execution_count": 47,
   "id": "6456968c",
   "metadata": {
    "execution": {
     "iopub.execute_input": "2025-04-16T02:29:45.811353Z",
     "iopub.status.busy": "2025-04-16T02:29:45.811040Z",
     "iopub.status.idle": "2025-04-16T02:29:45.814761Z",
     "shell.execute_reply": "2025-04-16T02:29:45.814186Z"
    }
   },
   "outputs": [
    {
     "data": {
      "text/plain": [
       "False"
      ]
     },
     "execution_count": 47,
     "metadata": {},
     "output_type": "execute_result"
    }
   ],
   "source": [
    "[4, 5, 6] >= [4, 5, 7]"
   ]
  },
  {
   "cell_type": "code",
   "execution_count": 48,
   "id": "92f724bb",
   "metadata": {
    "execution": {
     "iopub.execute_input": "2025-04-16T02:29:45.816164Z",
     "iopub.status.busy": "2025-04-16T02:29:45.815996Z",
     "iopub.status.idle": "2025-04-16T02:29:45.819742Z",
     "shell.execute_reply": "2025-04-16T02:29:45.819188Z"
    }
   },
   "outputs": [
    {
     "data": {
      "text/plain": [
       "True"
      ]
     },
     "execution_count": 48,
     "metadata": {},
     "output_type": "execute_result"
    }
   ],
   "source": [
    "[4, 5, 6] <= [4, 5, 7]"
   ]
  },
  {
   "cell_type": "code",
   "execution_count": 49,
   "id": "743f5b92",
   "metadata": {
    "execution": {
     "iopub.execute_input": "2025-04-16T02:29:45.821181Z",
     "iopub.status.busy": "2025-04-16T02:29:45.821023Z",
     "iopub.status.idle": "2025-04-16T02:29:45.824575Z",
     "shell.execute_reply": "2025-04-16T02:29:45.824100Z"
    }
   },
   "outputs": [
    {
     "data": {
      "text/plain": [
       "False"
      ]
     },
     "execution_count": 49,
     "metadata": {},
     "output_type": "execute_result"
    }
   ],
   "source": [
    "\"today\" == \"Today\""
   ]
  },
  {
   "cell_type": "markdown",
   "id": "0bca082f",
   "metadata": {},
   "source": [
    "### Conditional Statements and Flow Control"
   ]
  },
  {
   "cell_type": "markdown",
   "id": "8cc92de7",
   "metadata": {},
   "source": [
    "The main purpose of these conditional statements is to control the flow of a Python program.  The result of a conditional statement can be used to control a program using ```if/else``` and ```while``` statements."
   ]
  },
  {
   "cell_type": "code",
   "execution_count": 50,
   "id": "04790cb7",
   "metadata": {
    "execution": {
     "iopub.execute_input": "2025-04-16T02:29:45.825963Z",
     "iopub.status.busy": "2025-04-16T02:29:45.825811Z",
     "iopub.status.idle": "2025-04-16T02:29:45.828667Z",
     "shell.execute_reply": "2025-04-16T02:29:45.828188Z"
    }
   },
   "outputs": [
    {
     "name": "stdout",
     "output_type": "stream",
     "text": [
      "We have class today :(\n"
     ]
    }
   ],
   "source": [
    "today = \"friday\"\n",
    "if today == \"friday\":\n",
    "    print(\"We have class today :(\")  # this is a code block\n",
    "else:\n",
    "    print(\"No class today :)\")  # this is also a code block"
   ]
  },
  {
   "cell_type": "markdown",
   "id": "f65e1af6",
   "metadata": {},
   "source": [
    "The code block below the ```if``` statement is run only if the conditional ```today=='friday'``` returns ```True```.  If the conditional is ```False``` then the code block inside the ```else``` statement is run.  We can also check multiple conditions by using the ``elif`` statement after ```if```:"
   ]
  },
  {
   "cell_type": "code",
   "execution_count": 51,
   "id": "a9dbc615",
   "metadata": {
    "execution": {
     "iopub.execute_input": "2025-04-16T02:29:45.830074Z",
     "iopub.status.busy": "2025-04-16T02:29:45.829910Z",
     "iopub.status.idle": "2025-04-16T02:29:45.832927Z",
     "shell.execute_reply": "2025-04-16T02:29:45.832454Z"
    }
   },
   "outputs": [
    {
     "name": "stdout",
     "output_type": "stream",
     "text": [
      "Our assignment is due today :(\n"
     ]
    }
   ],
   "source": [
    "today = \"thursday\"\n",
    "if today == \"friday\":\n",
    "    print(\"We have class today :(\")\n",
    "elif today == \"thursday\":\n",
    "    print(\"Our assignment is due today :(\")\n",
    "else:\n",
    "    print(\"No class today :)\")"
   ]
  },
  {
   "cell_type": "markdown",
   "id": "c163518e",
   "metadata": {},
   "source": [
    "The other important flow control expression is the **```while``` loop** that executes a block of code repeatedly until the conditional statement at the start of the loop is ```False```."
   ]
  },
  {
   "cell_type": "code",
   "execution_count": 52,
   "id": "96f8c022",
   "metadata": {
    "execution": {
     "iopub.execute_input": "2025-04-16T02:29:45.834337Z",
     "iopub.status.busy": "2025-04-16T02:29:45.834175Z",
     "iopub.status.idle": "2025-04-16T02:29:45.837221Z",
     "shell.execute_reply": "2025-04-16T02:29:45.836764Z"
    }
   },
   "outputs": [
    {
     "name": "stdout",
     "output_type": "stream",
     "text": [
      "The current value of n is: 0\n",
      "The current value of n is: 1\n",
      "The current value of n is: 2\n",
      "The current value of n is: 3\n",
      "The current value of n is: 4\n",
      "The current value of n is: 5\n",
      "The current value of n is: 6\n",
      "The current value of n is: 7\n",
      "The current value of n is: 8\n",
      "The current value of n is: 9\n",
      "The current value of n is: 10\n"
     ]
    }
   ],
   "source": [
    "n = 0\n",
    "while n <= 10:  # evaluate code block until n>10\n",
    "    print(\"The current value of n is:\", n)\n",
    "    n = n + 1  # increase the value of n by 1"
   ]
  },
  {
   "cell_type": "markdown",
   "id": "7a2a705e",
   "metadata": {},
   "source": [
    "When using a ```while``` loop you must make sure the conditional is not ```True``` forever.  Otherwise your program will be in an **infinite loop** that never ends."
   ]
  },
  {
   "cell_type": "markdown",
   "id": "c047ad26",
   "metadata": {},
   "source": [
    "### Example: Even and Odd Numbers"
   ]
  },
  {
   "cell_type": "markdown",
   "id": "6c54aa32",
   "metadata": {},
   "source": [
    "Let us determine whether a given number between [1,10] is an even or odd number."
   ]
  },
  {
   "cell_type": "code",
   "execution_count": 53,
   "id": "804328aa",
   "metadata": {
    "execution": {
     "iopub.execute_input": "2025-04-16T02:29:45.838762Z",
     "iopub.status.busy": "2025-04-16T02:29:45.838433Z",
     "iopub.status.idle": "2025-04-16T02:29:45.842021Z",
     "shell.execute_reply": "2025-04-16T02:29:45.841440Z"
    }
   },
   "outputs": [
    {
     "name": "stdout",
     "output_type": "stream",
     "text": [
      "1 is odd\n",
      "2 is even\n",
      "3 is odd\n",
      "4 is even\n",
      "5 is odd\n",
      "6 is even\n",
      "7 is odd\n",
      "8 is even\n",
      "9 is odd\n",
      "10 is even\n"
     ]
    }
   ],
   "source": [
    "for n in [1, 2, 3, 4, 5, 6, 7, 8, 9, 10]:\n",
    "    if np.remainder(n, 2) == 0:\n",
    "        print(n, \"is even\")\n",
    "    else:\n",
    "        print(n, \"is odd\")"
   ]
  },
  {
   "cell_type": "markdown",
   "id": "4db5405d",
   "metadata": {},
   "source": [
    "Typing lists with a long sequence of integers is quite annoying.  Fortunately, Python has a builtin function called ```range``` that makes creating sequences of integers very easy.  For instance, the above example becomes"
   ]
  },
  {
   "cell_type": "code",
   "execution_count": 54,
   "id": "8ad4b115",
   "metadata": {
    "execution": {
     "iopub.execute_input": "2025-04-16T02:29:45.843904Z",
     "iopub.status.busy": "2025-04-16T02:29:45.843430Z",
     "iopub.status.idle": "2025-04-16T02:29:45.846899Z",
     "shell.execute_reply": "2025-04-16T02:29:45.846404Z"
    }
   },
   "outputs": [
    {
     "name": "stdout",
     "output_type": "stream",
     "text": [
      "1 is odd\n",
      "2 is even\n",
      "3 is odd\n",
      "4 is even\n",
      "5 is odd\n",
      "6 is even\n",
      "7 is odd\n",
      "8 is even\n",
      "9 is odd\n",
      "10 is even\n"
     ]
    }
   ],
   "source": [
    "for n in range(1, 11):\n",
    "    if np.remainder(n, 2) == 0:\n",
    "        print(n, \"is even\")\n",
    "    else:\n",
    "        print(n, \"is odd\")"
   ]
  },
  {
   "cell_type": "markdown",
   "id": "1dc532cf",
   "metadata": {},
   "source": [
    "Notice how the range function only counts to $10$ even though the range goes to $11$.  The endpoint is *never* part of the generated sequence when using ```range```.  If we wanted the ```range``` function to start at zero instead of one we could simply write ```range(11)```.  We can also make sequences that go in arbitrary steps:"
   ]
  },
  {
   "cell_type": "code",
   "execution_count": 55,
   "id": "abc8dc63",
   "metadata": {
    "execution": {
     "iopub.execute_input": "2025-04-16T02:29:45.848271Z",
     "iopub.status.busy": "2025-04-16T02:29:45.848112Z",
     "iopub.status.idle": "2025-04-16T02:29:45.851150Z",
     "shell.execute_reply": "2025-04-16T02:29:45.850682Z"
    }
   },
   "outputs": [
    {
     "name": "stdout",
     "output_type": "stream",
     "text": [
      "0\n",
      "2\n",
      "4\n",
      "6\n",
      "8\n",
      "10\n"
     ]
    }
   ],
   "source": [
    "for n in range(0, 11, 2):\n",
    "    print(n)"
   ]
  },
  {
   "cell_type": "markdown",
   "id": "38599606",
   "metadata": {},
   "source": [
    "The ```range``` function does not return a list of integers but is something called a **generator**.  In general, the ```range``` function should only be used in combination with the ```for``` command."
   ]
  },
  {
   "cell_type": "markdown",
   "id": "956f2b7a",
   "metadata": {},
   "source": [
    "### Example: Fibonacci Sequence"
   ]
  },
  {
   "cell_type": "markdown",
   "id": "379e72d2",
   "metadata": {},
   "source": [
    "Let us follow the Python documentation and calculate the first ten numbers in the Fibonacci sequence:"
   ]
  },
  {
   "cell_type": "code",
   "execution_count": 56,
   "id": "27e84f5a",
   "metadata": {
    "execution": {
     "iopub.execute_input": "2025-04-16T02:29:45.852794Z",
     "iopub.status.busy": "2025-04-16T02:29:45.852468Z",
     "iopub.status.idle": "2025-04-16T02:29:45.855857Z",
     "shell.execute_reply": "2025-04-16T02:29:45.855363Z"
    }
   },
   "outputs": [
    {
     "name": "stdout",
     "output_type": "stream",
     "text": [
      "[0, 1, 1, 2, 3, 5, 8, 13, 21, 34]\n"
     ]
    }
   ],
   "source": [
    "n = 10\n",
    "fib = [0, 1]\n",
    "for i in range(2, n):\n",
    "    fib.append(fib[i - 1] + fib[i - 2])\n",
    "print(fib)"
   ]
  },
  {
   "cell_type": "markdown",
   "id": "e471b535",
   "metadata": {},
   "source": [
    "We can also write this using a ```while``` loop if we wanted to."
   ]
  },
  {
   "cell_type": "code",
   "execution_count": 57,
   "id": "06660112",
   "metadata": {
    "execution": {
     "iopub.execute_input": "2025-04-16T02:29:45.857494Z",
     "iopub.status.busy": "2025-04-16T02:29:45.857163Z",
     "iopub.status.idle": "2025-04-16T02:29:45.860547Z",
     "shell.execute_reply": "2025-04-16T02:29:45.860075Z"
    }
   },
   "outputs": [
    {
     "name": "stdout",
     "output_type": "stream",
     "text": [
      "[0, 1, 1, 2, 3, 5, 8, 13, 21, 34]\n"
     ]
    }
   ],
   "source": [
    "n = 2\n",
    "fib = [0, 1]\n",
    "while n < 10:\n",
    "    fib.append(fib[n - 1] + fib[n - 2])\n",
    "    n = n + 1\n",
    "print(fib)"
   ]
  },
  {
   "cell_type": "markdown",
   "id": "da334b2f",
   "metadata": {},
   "source": [
    "## Writing Scripts and Functions"
   ]
  },
  {
   "cell_type": "markdown",
   "id": "561aad8a",
   "metadata": {},
   "source": [
    "Up until now we have been running little code snippets but have not really been doing any real programming.  Recall that Python is a scripting language.  Therefore, most of the time, we want to write **scripts** that contain a collection of constants, variables, data structures, functions, comments, etc., that perform various complicated tasks. "
   ]
  },
  {
   "cell_type": "markdown",
   "id": "5b19c7ee",
   "metadata": {},
   "source": [
    "###  Scripts"
   ]
  },
  {
   "cell_type": "markdown",
   "id": "d8836577",
   "metadata": {},
   "source": [
    "A Python script file is nothing but a text file containing Python code that ends with a **.py** extension.  Python scripts are also called Python **programs**.  If we open up any editor, then we are given a blank window that we can enter our Python commands in."
   ]
  },
  {
   "cell_type": "markdown",
   "id": "09a8c5e5",
   "metadata": {},
   "source": [
    "Before we begin to write our scripts, lets first discuss the best format for writing your scripts."
   ]
  },
  {
   "cell_type": "code",
   "execution_count": 58,
   "id": "cd460c5a",
   "metadata": {
    "execution": {
     "iopub.execute_input": "2025-04-16T02:29:45.861956Z",
     "iopub.status.busy": "2025-04-16T02:29:45.861801Z",
     "iopub.status.idle": "2025-04-16T02:29:45.865948Z",
     "shell.execute_reply": "2025-04-16T02:29:45.865465Z"
    }
   },
   "outputs": [
    {
     "name": "stdout",
     "output_type": "stream",
     "text": [
      "Series approximation: 0.7071067811796194\n",
      "Error: 6.928013718265902e-12\n"
     ]
    }
   ],
   "source": [
    "# This is an example script for the P461 class\n",
    "# Here we will calculate the series expansion\n",
    "# for sin(x) up to an arbitrary order N.\n",
    "#\n",
    "# Paul Nation, 02/03/2014\n",
    "\n",
    "N = 5  # The order of the series expansion\n",
    "x = np.pi / 4.0  # The point at which we want to evaluate sine\n",
    "\n",
    "ans = 0.0\n",
    "for k in range(N + 1):\n",
    "    ans = ans + (-1) ** k * x ** (1 + 2 * k) / factorial(1 + 2 * k)\n",
    "print(\"Series approximation:\", ans)\n",
    "print(\"Error:\", np.sin(x) - ans)"
   ]
  },
  {
   "cell_type": "markdown",
   "id": "27846762",
   "metadata": {},
   "source": [
    "We can see that the script has four main parts: First, we have a section of **comments** that describe what the script does and when it was created.  In python all comments start with the **```#```** symbol.  Everything after this symbol is ignored by the computer.  Second, we have the section of the scripts that load the necessary functions that we need from other packages.  Third is a section where we define all of the constants that are going to be used in the script. You should also add comments here that tell us what the constants are.  Finally, your main body of code goes after these sections."
   ]
  },
  {
   "cell_type": "markdown",
   "id": "f9d148f9",
   "metadata": {},
   "source": [
    "### Functions"
   ]
  },
  {
   "cell_type": "markdown",
   "id": "b43cf895",
   "metadata": {},
   "source": [
    "We are finally in a position to look at one of the most important parts of any programming language **functions**.  Functions are blocks of code that accomplish a specific task. Functions usually take \"input arguments\", perform operations on these inputs, and then \"return\" one or more results. Functions can be used over and over again, and can also be \"called\" from the inside of other functions.  Let us rewrite our script for $sin(x)$ using a function and then describe each part."
   ]
  },
  {
   "cell_type": "code",
   "execution_count": 59,
   "id": "6547230a",
   "metadata": {
    "execution": {
     "iopub.execute_input": "2025-04-16T02:29:45.867341Z",
     "iopub.status.busy": "2025-04-16T02:29:45.867177Z",
     "iopub.status.idle": "2025-04-16T02:29:45.871383Z",
     "shell.execute_reply": "2025-04-16T02:29:45.870903Z"
    }
   },
   "outputs": [
    {
     "name": "stdout",
     "output_type": "stream",
     "text": [
      "Series approximation: 0.7071067811796194\n",
      "Error: 6.928013718265902e-12\n"
     ]
    }
   ],
   "source": [
    "N = 5  # The order of the series expansion\n",
    "x = np.pi / 4.0  # The point at which we want to evaluate sine\n",
    "\n",
    "\n",
    "def sine_series(x, N):\n",
    "    ans = 0.0\n",
    "    for k in range(N + 1):\n",
    "        ans = ans + (-1) ** k * x ** (1 + 2 * k) / factorial(1 + 2 * k)\n",
    "    return ans\n",
    "\n",
    "\n",
    "result = sine_series(x, N)\n",
    "print(\"Series approximation:\", result)\n",
    "print(\"Error:\", np.sin(x) - result)"
   ]
  },
  {
   "cell_type": "markdown",
   "id": "9013e0d2",
   "metadata": {},
   "source": [
    "We see see that a function is created using the keyword ```def``` which is short \"define\", then the name of the function followed by the input arguments in parentheses.  After the block of code called by the function, the ```return``` keyword specifies what variable(s) and/or data structure(s) are given as the output.  So a general functions call is"
   ]
  },
  {
   "cell_type": "code",
   "execution_count": 60,
   "id": "b5735e6f",
   "metadata": {
    "execution": {
     "iopub.execute_input": "2025-04-16T02:29:45.872917Z",
     "iopub.status.busy": "2025-04-16T02:29:45.872748Z",
     "iopub.status.idle": "2025-04-16T02:29:45.875263Z",
     "shell.execute_reply": "2025-04-16T02:29:45.874821Z"
    }
   },
   "outputs": [],
   "source": [
    "def function_name(arg1, arg2):\n",
    "    \"Block of code to run\"\n",
    "    \"...\"\n",
    "    return result"
   ]
  },
  {
   "cell_type": "markdown",
   "id": "42e6c736",
   "metadata": {},
   "source": [
    "Again, everything after the colon (:) that is inside the function must be indented.  The beauty of using functions is that we can use the same code over and over, just by changing the constants near the top of our Python script.\n",
    "\n",
    "Variables that are defined inside of a function are called **local variables** and only defined for the block of code inside of the function.  In our previous example, ```k``` was a local variable.  The input arguments and return arguments are *not* local variables.  Once a function is done running, the local variables are erased from memory.  Therefore, if you want get something out of a function, your must return the value when your done."
   ]
  },
  {
   "cell_type": "markdown",
   "id": "2fcd16b3",
   "metadata": {},
   "source": [
    "If we want to return more than one thing at the end of the function then we just need to separate the different items by a comma."
   ]
  },
  {
   "cell_type": "code",
   "execution_count": 61,
   "id": "bdbf12f4",
   "metadata": {
    "execution": {
     "iopub.execute_input": "2025-04-16T02:29:45.876664Z",
     "iopub.status.busy": "2025-04-16T02:29:45.876485Z",
     "iopub.status.idle": "2025-04-16T02:29:45.983154Z",
     "shell.execute_reply": "2025-04-16T02:29:45.982637Z"
    }
   },
   "outputs": [
    {
     "data": {
      "image/png": "[encoded data removed]",
      "text/plain": [
       "<Figure size 640x480 with 1 Axes>"
      ]
     },
     "metadata": {},
     "output_type": "display_data"
    }
   ],
   "source": [
    "N = 100  # Number of points to generate\n",
    "\n",
    "\n",
    "def random_coordinates(N):\n",
    "    x_coords = []\n",
    "    y_coords = []\n",
    "    for n in range(N):\n",
    "        xnew, ynew = np.random.random(2)\n",
    "        x_coords.append(xnew)\n",
    "        y_coords.append(ynew)\n",
    "    return x_coords, y_coords\n",
    "\n",
    "\n",
    "xc, yc = random_coordinates(N)\n",
    "plt.plot(xc, yc, \"ro\", markersize=8)\n",
    "plt.show()"
   ]
  },
  {
   "cell_type": "code",
   "execution_count": 62,
   "id": "789c4baf",
   "metadata": {
    "execution": {
     "iopub.execute_input": "2025-04-16T02:29:45.984997Z",
     "iopub.status.busy": "2025-04-16T02:29:45.984803Z",
     "iopub.status.idle": "2025-04-16T02:29:46.086533Z",
     "shell.execute_reply": "2025-04-16T02:29:46.085979Z"
    }
   },
   "outputs": [
    {
     "data": {
      "image/png": "[encoded data removed]",
      "text/plain": [
       "<Figure size 640x480 with 1 Axes>"
      ]
     },
     "metadata": {},
     "output_type": "display_data"
    }
   ],
   "source": [
    "N = 20  # Number of points to generate\n",
    "\n",
    "\n",
    "def random_coordinates(N):\n",
    "    x_coords = []\n",
    "    y_coords = []\n",
    "    for n in range(N):\n",
    "        xnew, ynew = np.random.random(2)\n",
    "        x_coords.append(xnew)\n",
    "        y_coords.append(ynew)\n",
    "    return x_coords, y_coords\n",
    "\n",
    "\n",
    "def dist2d(x1, y1, x2, y2):\n",
    "    return np.sqrt((x1 - x2) ** 2 + (y1 - y2) ** 2)\n",
    "\n",
    "\n",
    "def max_dist(xc, yc):\n",
    "    max_dist = 0.0\n",
    "    num_points = len(xc)\n",
    "    for ii in range(num_points):\n",
    "        for jj in range(num_points):\n",
    "            dist = dist2d(xc[ii], yc[ii], xc[jj], yc[jj])\n",
    "            if dist > max_dist:\n",
    "                max_dist = dist\n",
    "                xvals = [xc[ii], xc[jj]]\n",
    "                yvals = [yc[ii], yc[jj]]\n",
    "    return max_dist, xvals, yvals\n",
    "\n",
    "\n",
    "xc, yc = random_coordinates(N)\n",
    "max_dist, pnt1, pnt2 = max_dist(xc, yc)\n",
    "plt.plot(xc, yc, \"ro\", markersize=8)\n",
    "plt.plot(pnt1, pnt2, \"b-\", lw=2)\n",
    "plt.show()"
   ]
  },
  {
   "cell_type": "markdown",
   "id": "062684ec",
   "metadata": {},
   "source": [
    "Obvious this last example is more complex, and in particular, it is hard to understand what the functions.  Even for your own functions, you may often forget what your functions do unless you provide some documentation and comments in your scripts.  Here we will see how to properly document a function in Python by looking at the ```max_dist``` function:"
   ]
  },
  {
   "cell_type": "code",
   "execution_count": 63,
   "id": "4a1b3102",
   "metadata": {
    "execution": {
     "iopub.execute_input": "2025-04-16T02:29:46.088443Z",
     "iopub.status.busy": "2025-04-16T02:29:46.088245Z",
     "iopub.status.idle": "2025-04-16T02:29:46.093981Z",
     "shell.execute_reply": "2025-04-16T02:29:46.093439Z"
    }
   },
   "outputs": [],
   "source": [
    "def max_dist(xc, yc):\n",
    "    \"\"\"\n",
    "    Finds the maximum distance between any two points\n",
    "    in a collection of 2D points.  The points corresponding\n",
    "    to this distance are also returned.\n",
    "\n",
    "    Parameters\n",
    "    ----------\n",
    "    xc : list\n",
    "        List of x-coordinates\n",
    "    yc : list\n",
    "        List of y-coordinates\n",
    "\n",
    "    Returns\n",
    "    -------\n",
    "    max_dist : float\n",
    "        Maximum distance\n",
    "    xvals : list\n",
    "        x-coodinates of two points\n",
    "    yvals : list\n",
    "        y-coordinates of two points\n",
    "\n",
    "    \"\"\"\n",
    "    max_dist = 0.0  # initialize max_dist\n",
    "    num_points = len(xc)  # number of points in collection\n",
    "    for ii in range(num_points):\n",
    "        for jj in range(num_points):\n",
    "            dist = dist2d(xc[ii], yc[ii], xc[jj], yc[jj])\n",
    "            if dist > max_dist:\n",
    "                max_dist = dist\n",
    "                xvals = [xc[ii], xc[jj]]\n",
    "                yvals = [yc[ii], yc[jj]]\n",
    "    return max_dist, xvals, yvals"
   ]
  },
  {
   "cell_type": "markdown",
   "id": "8f84829d",
   "metadata": {},
   "source": [
    "Everything inbetween the ```\"\"\"...\"\"\"``` is called a **docstring** and it gives a tells someone who is not familiar with a partiular functions a detailed explaination as to what the function does, what parameters it takes as inputs, and what values it returns.  It is also good practice to put some comments next to your local variables so the user knows what each of these is for. Although it seems like a lot of work at first, writing docstrings will make you a much better programmer in the future."
   ]
  },
  {
   "cell_type": "markdown",
   "id": "cad2e949",
   "metadata": {},
   "source": [
    "<h1 align=\"center\">End of Tutorial</h1> \n",
    "<h3 align=\"center\"><a href=\"http://qutip.org/tutorials.html\">Return to QuTiP tutorials page</a></h3> "
   ]
  }
 ],
 "metadata": {
  "jupytext": {
   "cell_metadata_filter": "-all",
   "notebook_metadata_filter": "-jupytext.cell_metadata_filter,-jupytext.notebook_metadata_filter"
  },
  "kernelspec": {
   "display_name": "Python 3 (ipykernel)",
   "language": "python",
   "name": "python3"
  },
  "language_info": {
   "codemirror_mode": {
    "name": "ipython",
    "version": 3
   },
   "file_extension": ".py",
   "mimetype": "text/x-python",
   "name": "python",
   "nbconvert_exporter": "python",
   "pygments_lexer": "ipython3",
   "version": "3.10.4"
  }
 },
 "nbformat": 4,
 "nbformat_minor": 5
}
