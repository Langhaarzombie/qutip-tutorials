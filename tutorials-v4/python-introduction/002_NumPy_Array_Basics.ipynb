{
 "cells": [
  {
   "cell_type": "code",
   "execution_count": 1,
   "id": "9fa2eb72",
   "metadata": {
    "execution": {
     "iopub.execute_input": "2025-04-16T02:29:43.883096Z",
     "iopub.status.busy": "2025-04-16T02:29:43.882930Z",
     "iopub.status.idle": "2025-04-16T02:29:43.944460Z",
     "shell.execute_reply": "2025-04-16T02:29:43.943978Z"
    }
   },
   "outputs": [],
   "source": [
    "import numpy as np"
   ]
  },
  {
   "cell_type": "markdown",
   "id": "90d583dd",
   "metadata": {},
   "source": [
    "# Introduction to NumPy Arrays"
   ]
  },
  {
   "cell_type": "markdown",
   "id": "f0c48ec1",
   "metadata": {},
   "source": [
    "J.R. Johansson and P.D. Nation\n",
    "\n",
    "For more information about QuTiP see [http://qutip.org](http://qutip.org)"
   ]
  },
  {
   "cell_type": "markdown",
   "id": "eece478c",
   "metadata": {},
   "source": [
    "## Introduction"
   ]
  },
  {
   "cell_type": "markdown",
   "id": "c43a2df7",
   "metadata": {},
   "source": [
    "Until now we have been using lists as a way of storing multiple elements together.  However, when doing numerical computations, lists are not very good.  For example, what if I wanted to add one to a list of numbers?  For a list `a = [1, 2, 3]` we can not write `a + 1`.\n",
    "\n",
    "Instead we would have to do"
   ]
  },
  {
   "cell_type": "code",
   "execution_count": 2,
   "id": "bce8cd33",
   "metadata": {
    "execution": {
     "iopub.execute_input": "2025-04-16T02:29:43.946709Z",
     "iopub.status.busy": "2025-04-16T02:29:43.946457Z",
     "iopub.status.idle": "2025-04-16T02:29:43.950235Z",
     "shell.execute_reply": "2025-04-16T02:29:43.949751Z"
    }
   },
   "outputs": [],
   "source": [
    "a = [1, 2, 3]\n",
    "for k in range(3):\n",
    "    a[k] = a[k] + 1"
   ]
  },
  {
   "cell_type": "markdown",
   "id": "1dec5a16",
   "metadata": {},
   "source": [
    "Working with lists would quickly become very complicated if we wanted to do numerical operations on many elements at the same time, or if, for example, we want to be able to construct vectors and matrices in our programs.  All of these features, and more, come with using NumPy **arrays** as our preferred data structure."
   ]
  },
  {
   "cell_type": "markdown",
   "id": "3c2ebea6",
   "metadata": {},
   "source": [
    "## NumPy Arrays"
   ]
  },
  {
   "cell_type": "markdown",
   "id": "04a1eed9",
   "metadata": {},
   "source": [
    "When dealing with numerical data in Python, nearly 100% of the time one uses arrays from the NumPy module to store and manipulate data.  NumPy arrays are very similar to Python lists, but are actually arrays in c-code that allow for very fast multi-dimensional numerical, vector, matrix, and linear algebra operations.  Using arrays with slicing, and **vectorization** leads to very fast Python code, and can replace many of the for-loops that you would have use if you coded a problem using lists. As a general rule, **minimizing the number of for-loops maximizes the performance of your code**.  To start using arrays, we can start with a simple list and use it as an argument to the array function"
   ]
  },
  {
   "cell_type": "code",
   "execution_count": 3,
   "id": "69fc55c1",
   "metadata": {
    "execution": {
     "iopub.execute_input": "2025-04-16T02:29:43.953003Z",
     "iopub.status.busy": "2025-04-16T02:29:43.952256Z",
     "iopub.status.idle": "2025-04-16T02:29:43.957120Z",
     "shell.execute_reply": "2025-04-16T02:29:43.956601Z"
    }
   },
   "outputs": [
    {
     "name": "stdout",
     "output_type": "stream",
     "text": [
      "[1 2 3 4 5 6]\n"
     ]
    }
   ],
   "source": [
    "a = np.array([1, 2, 3, 4, 5, 6])\n",
    "print(a)"
   ]
  },
  {
   "cell_type": "markdown",
   "id": "d714f071",
   "metadata": {},
   "source": [
    "We have now created our first array of integers.  Notice how, when using print, the array looks the same as a list, however it is very much a different data structure.  We can also create an array of floats, complex numbers or even strings"
   ]
  },
  {
   "cell_type": "code",
   "execution_count": 4,
   "id": "c39c3199",
   "metadata": {
    "execution": {
     "iopub.execute_input": "2025-04-16T02:29:43.959058Z",
     "iopub.status.busy": "2025-04-16T02:29:43.958870Z",
     "iopub.status.idle": "2025-04-16T02:29:43.964742Z",
     "shell.execute_reply": "2025-04-16T02:29:43.964228Z"
    }
   },
   "outputs": [
    {
     "name": "stdout",
     "output_type": "stream",
     "text": [
      "[ 2.  4.  8. 16.]\n",
      "[0.+0.j 1.+0.j 1.+1.j 2.-2.j]\n",
      "['a' 'b' 'c' 'd']\n"
     ]
    }
   ],
   "source": [
    "a = np.array([2.0, 4.0, 8.0, 16.0])\n",
    "b = np.array([0, 1 + 0j, 1 + 1j, 2 - 2j])\n",
    "c = np.array([\"a\", \"b\", \"c\", \"d\"])\n",
    "print(a)\n",
    "print(b)\n",
    "print(c)"
   ]
  },
  {
   "cell_type": "markdown",
   "id": "ca22609d",
   "metadata": {},
   "source": [
    "In general there are three different ways of creating arrays in Python:\n",
    "\n",
    "- First create a list and then call the array function using the list as an input argument.\n",
    "\n",
    "- Use NumPy functions that are designed to create arrays: **zeros, ones, arange, linspace**.\n",
    "\n",
    "- Import data into Python from file."
   ]
  },
  {
   "cell_type": "markdown",
   "id": "67e81e92",
   "metadata": {},
   "source": [
    "### Arrays from Lists"
   ]
  },
  {
   "cell_type": "markdown",
   "id": "9f31c49a",
   "metadata": {},
   "source": [
    "We have already seen how to create arrays with simple lists, but now lets look at how to create more complicated lists that we can turn into arrays.  A short way of creating a list, say from 0 to 9 is as follows:"
   ]
  },
  {
   "cell_type": "code",
   "execution_count": 5,
   "id": "81f64c8e",
   "metadata": {
    "execution": {
     "iopub.execute_input": "2025-04-16T02:29:43.967504Z",
     "iopub.status.busy": "2025-04-16T02:29:43.966684Z",
     "iopub.status.idle": "2025-04-16T02:29:43.971352Z",
     "shell.execute_reply": "2025-04-16T02:29:43.970884Z"
    }
   },
   "outputs": [
    {
     "name": "stdout",
     "output_type": "stream",
     "text": [
      "[0, 1, 2, 3, 4, 5, 6, 7, 8, 9]\n"
     ]
    }
   ],
   "source": [
    "output = [n for n in range(10)]\n",
    "print(output)"
   ]
  },
  {
   "cell_type": "markdown",
   "id": "19e37b6a",
   "metadata": {},
   "source": [
    "This code is doing the exact same thing as the longer expression"
   ]
  },
  {
   "cell_type": "code",
   "execution_count": 6,
   "id": "73dfb221",
   "metadata": {
    "execution": {
     "iopub.execute_input": "2025-04-16T02:29:43.973713Z",
     "iopub.status.busy": "2025-04-16T02:29:43.973508Z",
     "iopub.status.idle": "2025-04-16T02:29:43.978067Z",
     "shell.execute_reply": "2025-04-16T02:29:43.977567Z"
    }
   },
   "outputs": [
    {
     "name": "stdout",
     "output_type": "stream",
     "text": [
      "[0, 1, 2, 3, 4, 5, 6, 7, 8, 9]\n"
     ]
    }
   ],
   "source": [
    "output = []\n",
    "for n in range(10):\n",
    "    output.append(n)\n",
    "print(output)"
   ]
  },
  {
   "cell_type": "markdown",
   "id": "833a2c05",
   "metadata": {},
   "source": [
    "We could turn this into an array quite easy"
   ]
  },
  {
   "cell_type": "code",
   "execution_count": 7,
   "id": "425da0d3",
   "metadata": {
    "execution": {
     "iopub.execute_input": "2025-04-16T02:29:43.979970Z",
     "iopub.status.busy": "2025-04-16T02:29:43.979786Z",
     "iopub.status.idle": "2025-04-16T02:29:43.987575Z",
     "shell.execute_reply": "2025-04-16T02:29:43.987079Z"
    }
   },
   "outputs": [
    {
     "data": {
      "text/plain": [
       "array([0, 1, 2, 3, 4, 5, 6, 7, 8, 9])"
      ]
     },
     "execution_count": 7,
     "metadata": {},
     "output_type": "execute_result"
    }
   ],
   "source": [
    "np.array(output)"
   ]
  },
  {
   "cell_type": "markdown",
   "id": "851ae558",
   "metadata": {},
   "source": [
    "Or, we can save even more space and create the list inside of the array function:"
   ]
  },
  {
   "cell_type": "code",
   "execution_count": 8,
   "id": "e27629e9",
   "metadata": {
    "execution": {
     "iopub.execute_input": "2025-04-16T02:29:43.990312Z",
     "iopub.status.busy": "2025-04-16T02:29:43.989572Z",
     "iopub.status.idle": "2025-04-16T02:29:43.995032Z",
     "shell.execute_reply": "2025-04-16T02:29:43.994530Z"
    }
   },
   "outputs": [
    {
     "data": {
      "text/plain": [
       "array([0, 1, 2, 3, 4, 5, 6, 7, 8, 9])"
      ]
     },
     "execution_count": 8,
     "metadata": {},
     "output_type": "execute_result"
    }
   ],
   "source": [
    "np.array([n for n in range(10)])"
   ]
  },
  {
   "cell_type": "markdown",
   "id": "63f25c5d",
   "metadata": {},
   "source": [
    "This can also be used to create more complicated arrays"
   ]
  },
  {
   "cell_type": "code",
   "execution_count": 9,
   "id": "134d8e7b",
   "metadata": {
    "execution": {
     "iopub.execute_input": "2025-04-16T02:29:43.997388Z",
     "iopub.status.busy": "2025-04-16T02:29:43.997030Z",
     "iopub.status.idle": "2025-04-16T02:29:44.002601Z",
     "shell.execute_reply": "2025-04-16T02:29:44.002186Z"
    }
   },
   "outputs": [
    {
     "data": {
      "text/plain": [
       "array([0.        , 2.95467613, 4.36505551, 5.48440035, 6.44866265])"
      ]
     },
     "execution_count": 9,
     "metadata": {},
     "output_type": "execute_result"
    }
   ],
   "source": [
    "np.array([2.0 * k**0.563 for k in range(0, 10, 2)])"
   ]
  },
  {
   "cell_type": "markdown",
   "id": "072ed96a",
   "metadata": {},
   "source": [
    "### Array Creation in NumPy (see [NumPy Documentation](http://docs.scipy.org/doc/numpy/reference/routines.array-creation.html) for more info.)"
   ]
  },
  {
   "cell_type": "markdown",
   "id": "1c9c4b18",
   "metadata": {},
   "source": [
    "NumPy has several extremely important array creation functions that will make you life much easier. For example, creating arrays of all zeros or ones is trivial. "
   ]
  },
  {
   "cell_type": "code",
   "execution_count": 10,
   "id": "e0beb403",
   "metadata": {
    "execution": {
     "iopub.execute_input": "2025-04-16T02:29:44.004265Z",
     "iopub.status.busy": "2025-04-16T02:29:44.004095Z",
     "iopub.status.idle": "2025-04-16T02:29:44.007490Z",
     "shell.execute_reply": "2025-04-16T02:29:44.007089Z"
    }
   },
   "outputs": [
    {
     "data": {
      "text/plain": [
       "array([0., 0., 0., 0., 0.])"
      ]
     },
     "execution_count": 10,
     "metadata": {},
     "output_type": "execute_result"
    }
   ],
   "source": [
    "np.zeros(5)"
   ]
  },
  {
   "cell_type": "code",
   "execution_count": 11,
   "id": "83b0f7a1",
   "metadata": {
    "execution": {
     "iopub.execute_input": "2025-04-16T02:29:44.009017Z",
     "iopub.status.busy": "2025-04-16T02:29:44.008847Z",
     "iopub.status.idle": "2025-04-16T02:29:44.012717Z",
     "shell.execute_reply": "2025-04-16T02:29:44.012293Z"
    }
   },
   "outputs": [
    {
     "data": {
      "text/plain": [
       "array([1., 1., 1., 1., 1., 1., 1., 1., 1., 1.])"
      ]
     },
     "execution_count": 11,
     "metadata": {},
     "output_type": "execute_result"
    }
   ],
   "source": [
    "np.ones(10)"
   ]
  },
  {
   "cell_type": "markdown",
   "id": "847cc443",
   "metadata": {},
   "source": [
    "However, the most useful functions are [**```arange```**](http://docs.scipy.org/doc/numpy/reference/generated/numpy.arange.html#numpy.arange) which generates evenly spaced values within a given interval in a similar way that the ```range``` function did, and [**```linspace```**](http://docs.scipy.org/doc/numpy/reference/generated/numpy.linspace.html) that makes a linear array of points from a starting to an ending value."
   ]
  },
  {
   "cell_type": "code",
   "execution_count": 12,
   "id": "6d130d18",
   "metadata": {
    "execution": {
     "iopub.execute_input": "2025-04-16T02:29:44.014249Z",
     "iopub.status.busy": "2025-04-16T02:29:44.014082Z",
     "iopub.status.idle": "2025-04-16T02:29:44.017775Z",
     "shell.execute_reply": "2025-04-16T02:29:44.017310Z"
    }
   },
   "outputs": [
    {
     "data": {
      "text/plain": [
       "array([0, 1, 2, 3, 4])"
      ]
     },
     "execution_count": 12,
     "metadata": {},
     "output_type": "execute_result"
    }
   ],
   "source": [
    "np.arange(5)"
   ]
  },
  {
   "cell_type": "code",
   "execution_count": 13,
   "id": "1990428b",
   "metadata": {
    "execution": {
     "iopub.execute_input": "2025-04-16T02:29:44.019154Z",
     "iopub.status.busy": "2025-04-16T02:29:44.018999Z",
     "iopub.status.idle": "2025-04-16T02:29:44.022387Z",
     "shell.execute_reply": "2025-04-16T02:29:44.021931Z"
    }
   },
   "outputs": [
    {
     "data": {
      "text/plain": [
       "array([0, 2, 4, 6, 8])"
      ]
     },
     "execution_count": 13,
     "metadata": {},
     "output_type": "execute_result"
    }
   ],
   "source": [
    "np.arange(0, 10, 2)"
   ]
  },
  {
   "cell_type": "code",
   "execution_count": 14,
   "id": "ad052ab7",
   "metadata": {
    "execution": {
     "iopub.execute_input": "2025-04-16T02:29:44.023739Z",
     "iopub.status.busy": "2025-04-16T02:29:44.023566Z",
     "iopub.status.idle": "2025-04-16T02:29:44.027338Z",
     "shell.execute_reply": "2025-04-16T02:29:44.026811Z"
    }
   },
   "outputs": [
    {
     "data": {
      "text/plain": [
       "array([ 0.        ,  0.52631579,  1.05263158,  1.57894737,  2.10526316,\n",
       "        2.63157895,  3.15789474,  3.68421053,  4.21052632,  4.73684211,\n",
       "        5.26315789,  5.78947368,  6.31578947,  6.84210526,  7.36842105,\n",
       "        7.89473684,  8.42105263,  8.94736842,  9.47368421, 10.        ])"
      ]
     },
     "execution_count": 14,
     "metadata": {},
     "output_type": "execute_result"
    }
   ],
   "source": [
    "# make an array of 20 points linearly spaced from 0 to 10\n",
    "np.linspace(0, 10, 20)"
   ]
  },
  {
   "cell_type": "code",
   "execution_count": 15,
   "id": "64d23b0c",
   "metadata": {
    "execution": {
     "iopub.execute_input": "2025-04-16T02:29:44.029028Z",
     "iopub.status.busy": "2025-04-16T02:29:44.028713Z",
     "iopub.status.idle": "2025-04-16T02:29:44.032679Z",
     "shell.execute_reply": "2025-04-16T02:29:44.032211Z"
    }
   },
   "outputs": [
    {
     "data": {
      "text/plain": [
       "array([-5.        , -4.28571429, -3.57142857, -2.85714286, -2.14285714,\n",
       "       -1.42857143, -0.71428571,  0.        ,  0.71428571,  1.42857143,\n",
       "        2.14285714,  2.85714286,  3.57142857,  4.28571429,  5.        ])"
      ]
     },
     "execution_count": 15,
     "metadata": {},
     "output_type": "execute_result"
    }
   ],
   "source": [
    "np.linspace(-5, 5, 15)  # 15 points in range from -5 to 5"
   ]
  },
  {
   "cell_type": "markdown",
   "id": "6b853d4a",
   "metadata": {},
   "source": [
    "## Differences Between Arrays and Lists"
   ]
  },
  {
   "cell_type": "markdown",
   "id": "410ea808",
   "metadata": {},
   "source": [
    "Having played with arrays a bit, it is now time to explain the main differences between NumPy arrays and Python lists."
   ]
  },
  {
   "cell_type": "markdown",
   "id": "8e367e2d",
   "metadata": {},
   "source": [
    "Python lists are very general and can hold any combination of data types.  However, NumPy **arrays can only hold one type of data** (integers, floats, strings, complex).  If we try to combine different types of data, then the array function will **upcast** the data in the array such that it all has the same type"
   ]
  },
  {
   "cell_type": "code",
   "execution_count": 16,
   "id": "dd429c4c",
   "metadata": {
    "execution": {
     "iopub.execute_input": "2025-04-16T02:29:44.034238Z",
     "iopub.status.busy": "2025-04-16T02:29:44.033908Z",
     "iopub.status.idle": "2025-04-16T02:29:44.037733Z",
     "shell.execute_reply": "2025-04-16T02:29:44.037262Z"
    }
   },
   "outputs": [
    {
     "data": {
      "text/plain": [
       "array([1.  , 2.  , 3.14])"
      ]
     },
     "execution_count": 16,
     "metadata": {},
     "output_type": "execute_result"
    }
   ],
   "source": [
    "np.array([1, 2, 3.14])  # [int,int,float] -> [float,float,float]"
   ]
  },
  {
   "cell_type": "markdown",
   "id": "4159646b",
   "metadata": {},
   "source": [
    "Upcasting between integers and floats does not cause too much trouble, but mixing strings and numbers in an array can create problems"
   ]
  },
  {
   "cell_type": "code",
   "execution_count": 17,
   "id": "d06c6b4a",
   "metadata": {
    "execution": {
     "iopub.execute_input": "2025-04-16T02:29:44.039157Z",
     "iopub.status.busy": "2025-04-16T02:29:44.039010Z",
     "iopub.status.idle": "2025-04-16T02:29:44.042619Z",
     "shell.execute_reply": "2025-04-16T02:29:44.042151Z"
    }
   },
   "outputs": [
    {
     "data": {
      "text/plain": [
       "array(['1.0', '(1+1j)', 'hello'], dtype='<U64')"
      ]
     },
     "execution_count": 17,
     "metadata": {},
     "output_type": "execute_result"
    }
   ],
   "source": [
    "np.array([1.0, 1 + 1j, \"hello\"])  # array data is upcast to strings"
   ]
  },
  {
   "cell_type": "markdown",
   "id": "b2bf5080",
   "metadata": {},
   "source": [
    "If we want, we can manually change the type of the data inside the array using the ```dtype``` (\"data type\") keyword argument.  Frequently used dtypes are: ```int, float, complex, bool, str, object```, etc.  For example, to convert a list of integers to floats we can write"
   ]
  },
  {
   "cell_type": "code",
   "execution_count": 18,
   "id": "77a74333",
   "metadata": {
    "execution": {
     "iopub.execute_input": "2025-04-16T02:29:44.044057Z",
     "iopub.status.busy": "2025-04-16T02:29:44.043876Z",
     "iopub.status.idle": "2025-04-16T02:29:44.047832Z",
     "shell.execute_reply": "2025-04-16T02:29:44.047248Z"
    }
   },
   "outputs": [
    {
     "data": {
      "text/plain": [
       "array([1., 2., 3., 4., 5.])"
      ]
     },
     "execution_count": 18,
     "metadata": {},
     "output_type": "execute_result"
    }
   ],
   "source": [
    "np.array([1, 2, 3, 4, 5], dtype=float)"
   ]
  },
  {
   "cell_type": "code",
   "execution_count": 19,
   "id": "505d20f0",
   "metadata": {
    "execution": {
     "iopub.execute_input": "2025-04-16T02:29:44.049506Z",
     "iopub.status.busy": "2025-04-16T02:29:44.049071Z",
     "iopub.status.idle": "2025-04-16T02:29:44.053051Z",
     "shell.execute_reply": "2025-04-16T02:29:44.052509Z"
    }
   },
   "outputs": [
    {
     "data": {
      "text/plain": [
       "array([2.+0.j, 4.+0.j, 6.+0.j, 8.+0.j])"
      ]
     },
     "execution_count": 19,
     "metadata": {},
     "output_type": "execute_result"
    }
   ],
   "source": [
    "np.arange(2, 10, 2, dtype=complex)"
   ]
  },
  {
   "cell_type": "code",
   "execution_count": 20,
   "id": "42a186eb",
   "metadata": {
    "execution": {
     "iopub.execute_input": "2025-04-16T02:29:44.054864Z",
     "iopub.status.busy": "2025-04-16T02:29:44.054332Z",
     "iopub.status.idle": "2025-04-16T02:29:44.058256Z",
     "shell.execute_reply": "2025-04-16T02:29:44.057813Z"
    }
   },
   "outputs": [
    {
     "data": {
      "text/plain": [
       "array(['0', '1', '2', '3', '4', '5', '6', '7', '8', '9'], dtype='<U1')"
      ]
     },
     "execution_count": 20,
     "metadata": {},
     "output_type": "execute_result"
    }
   ],
   "source": [
    "np.array([k for k in range(10)], dtype=str)"
   ]
  },
  {
   "cell_type": "markdown",
   "id": "738c92b1",
   "metadata": {},
   "source": [
    "Unlike Python lists, **we can not remove or add elements to an array once it has been created**.  Therefore, we must know the size of the array before creating it."
   ]
  },
  {
   "cell_type": "markdown",
   "id": "1424f432",
   "metadata": {},
   "source": [
    "Because arrays hold only one type of data, mathematical functions such as multiplication and addition of arrays can be implemented in at the c-code level.  This means that these kinds of operations are very fast and memory efficient.  The mathematical operations on arrays are performed **elementwise**, which means that each element gets acted on in the same way.  This is an example of **vectorization**.  For example:"
   ]
  },
  {
   "cell_type": "code",
   "execution_count": 21,
   "id": "dd9d3814",
   "metadata": {
    "execution": {
     "iopub.execute_input": "2025-04-16T02:29:44.059941Z",
     "iopub.status.busy": "2025-04-16T02:29:44.059488Z",
     "iopub.status.idle": "2025-04-16T02:29:44.063377Z",
     "shell.execute_reply": "2025-04-16T02:29:44.062862Z"
    }
   },
   "outputs": [
    {
     "data": {
      "text/plain": [
       "array([ 5., 10., 15., 20.])"
      ]
     },
     "execution_count": 21,
     "metadata": {},
     "output_type": "execute_result"
    }
   ],
   "source": [
    "a = np.array([1, 2, 3, 4])\n",
    "5.0 * a  # This gets upcasted because 5.0 is a float"
   ]
  },
  {
   "cell_type": "code",
   "execution_count": 22,
   "id": "b2c3e6d5",
   "metadata": {
    "execution": {
     "iopub.execute_input": "2025-04-16T02:29:44.065035Z",
     "iopub.status.busy": "2025-04-16T02:29:44.064616Z",
     "iopub.status.idle": "2025-04-16T02:29:44.068286Z",
     "shell.execute_reply": "2025-04-16T02:29:44.067762Z"
    }
   },
   "outputs": [
    {
     "data": {
      "text/plain": [
       "array([ 1, 16, 41, 76])"
      ]
     },
     "execution_count": 22,
     "metadata": {},
     "output_type": "execute_result"
    }
   ],
   "source": [
    "5 * a**2 - 4"
   ]
  },
  {
   "cell_type": "markdown",
   "id": "1b66d0cc",
   "metadata": {},
   "source": [
    "Recall that none of these operations worked on Python lists."
   ]
  },
  {
   "cell_type": "markdown",
   "id": "b1e889aa",
   "metadata": {},
   "source": [
    "## Using NumPy Functions on Arrays"
   ]
  },
  {
   "cell_type": "markdown",
   "id": "bcb823cc",
   "metadata": {},
   "source": [
    "Remember that NumPy has a large builtin [collection of mathematical functions](http://docs.scipy.org/doc/numpy/reference/routines.math.html).  When using NumPy arrays as our data structure, these functions become even more powerful as we can apply the same function elementwise over the entire array very quickly.  Again, this is called vectorization and can speed up your code by many times."
   ]
  },
  {
   "cell_type": "code",
   "execution_count": 23,
   "id": "f4d9c4c0",
   "metadata": {
    "execution": {
     "iopub.execute_input": "2025-04-16T02:29:44.069879Z",
     "iopub.status.busy": "2025-04-16T02:29:44.069710Z",
     "iopub.status.idle": "2025-04-16T02:29:44.073639Z",
     "shell.execute_reply": "2025-04-16T02:29:44.073109Z"
    }
   },
   "outputs": [
    {
     "data": {
      "text/plain": [
       "array([-1.22464680e-16, -6.42787610e-01, -9.84807753e-01, -8.66025404e-01,\n",
       "       -3.42020143e-01,  3.42020143e-01,  8.66025404e-01,  9.84807753e-01,\n",
       "        6.42787610e-01,  1.22464680e-16])"
      ]
     },
     "execution_count": 23,
     "metadata": {},
     "output_type": "execute_result"
    }
   ],
   "source": [
    "x = np.linspace(-np.pi, np.pi, 10)\n",
    "np.sin(x)"
   ]
  },
  {
   "cell_type": "code",
   "execution_count": 24,
   "id": "ea469f1b",
   "metadata": {
    "execution": {
     "iopub.execute_input": "2025-04-16T02:29:44.075092Z",
     "iopub.status.busy": "2025-04-16T02:29:44.074919Z",
     "iopub.status.idle": "2025-04-16T02:29:44.078687Z",
     "shell.execute_reply": "2025-04-16T02:29:44.078229Z"
    }
   },
   "outputs": [
    {
     "data": {
      "text/plain": [
       "array([0., 1., 2., 3.])"
      ]
     },
     "execution_count": 24,
     "metadata": {},
     "output_type": "execute_result"
    }
   ],
   "source": [
    "x = np.array([x**2 for x in range(4)])\n",
    "np.sqrt(x)"
   ]
  },
  {
   "cell_type": "code",
   "execution_count": 25,
   "id": "f1c389a2",
   "metadata": {
    "execution": {
     "iopub.execute_input": "2025-04-16T02:29:44.080044Z",
     "iopub.status.busy": "2025-04-16T02:29:44.079890Z",
     "iopub.status.idle": "2025-04-16T02:29:44.083798Z",
     "shell.execute_reply": "2025-04-16T02:29:44.083214Z"
    }
   },
   "outputs": [
    {
     "data": {
      "text/plain": [
       "100"
      ]
     },
     "execution_count": 25,
     "metadata": {},
     "output_type": "execute_result"
    }
   ],
   "source": [
    "x = np.array([2 * n + 1 for n in range(10)])\n",
    "sum(x)  # sums up all elements in the array"
   ]
  },
  {
   "cell_type": "markdown",
   "id": "6a7dc430",
   "metadata": {},
   "source": [
    "## Boolean Operations on Arrays"
   ]
  },
  {
   "cell_type": "markdown",
   "id": "8327a072",
   "metadata": {},
   "source": [
    "Like other mathematical functions, we can also use conditional statements on arrays to check whether each individual element satisfies a given expression.  For example, to find the location of array elements that are less than zero we could do"
   ]
  },
  {
   "cell_type": "code",
   "execution_count": 26,
   "id": "a723abec",
   "metadata": {
    "execution": {
     "iopub.execute_input": "2025-04-16T02:29:44.085513Z",
     "iopub.status.busy": "2025-04-16T02:29:44.085196Z",
     "iopub.status.idle": "2025-04-16T02:29:44.088378Z",
     "shell.execute_reply": "2025-04-16T02:29:44.087825Z"
    }
   },
   "outputs": [
    {
     "name": "stdout",
     "output_type": "stream",
     "text": [
      "[False  True False  True False]\n"
     ]
    }
   ],
   "source": [
    "a = np.array([0, -1, 2, -3, 4])\n",
    "print(a < 0)"
   ]
  },
  {
   "cell_type": "markdown",
   "id": "3e58eeb2",
   "metadata": {},
   "source": [
    "The result in another array of boolean (```True/False```) values indicating whether a given element is less than zero.  Or, for example, we can find all of the odd numbers in an array."
   ]
  },
  {
   "cell_type": "code",
   "execution_count": 27,
   "id": "95cba7a1",
   "metadata": {
    "execution": {
     "iopub.execute_input": "2025-04-16T02:29:44.090060Z",
     "iopub.status.busy": "2025-04-16T02:29:44.089884Z",
     "iopub.status.idle": "2025-04-16T02:29:44.092973Z",
     "shell.execute_reply": "2025-04-16T02:29:44.092433Z"
    }
   },
   "outputs": [
    {
     "name": "stdout",
     "output_type": "stream",
     "text": [
      "[False  True False  True False  True False  True False  True]\n"
     ]
    }
   ],
   "source": [
    "a = np.arange(10)\n",
    "print((np.mod(a, 2) != 0))"
   ]
  },
  {
   "cell_type": "markdown",
   "id": "ffe92374",
   "metadata": {},
   "source": [
    "## Slicing NumPy Arrays"
   ]
  },
  {
   "cell_type": "markdown",
   "id": "d7713b6c",
   "metadata": {},
   "source": [
    "Just like lists, arrays can be sliced to get certain elements of the array, or to modify certain elements of the array.  For example, lets try to get every third element from a given array"
   ]
  },
  {
   "cell_type": "code",
   "execution_count": 28,
   "id": "88d50720",
   "metadata": {
    "execution": {
     "iopub.execute_input": "2025-04-16T02:29:44.094451Z",
     "iopub.status.busy": "2025-04-16T02:29:44.094284Z",
     "iopub.status.idle": "2025-04-16T02:29:44.098019Z",
     "shell.execute_reply": "2025-04-16T02:29:44.097546Z"
    }
   },
   "outputs": [
    {
     "data": {
      "text/plain": [
       "array([ 3,  6,  9, 12, 15, 18])"
      ]
     },
     "execution_count": 28,
     "metadata": {},
     "output_type": "execute_result"
    }
   ],
   "source": [
    "a = np.arange(20)\n",
    "a[3::3]"
   ]
  },
  {
   "cell_type": "markdown",
   "id": "268fa2d8",
   "metadata": {},
   "source": [
    "Now lets set each of these elements equal to -1."
   ]
  },
  {
   "cell_type": "code",
   "execution_count": 29,
   "id": "63468f82",
   "metadata": {
    "execution": {
     "iopub.execute_input": "2025-04-16T02:29:44.099400Z",
     "iopub.status.busy": "2025-04-16T02:29:44.099237Z",
     "iopub.status.idle": "2025-04-16T02:29:44.102408Z",
     "shell.execute_reply": "2025-04-16T02:29:44.101952Z"
    }
   },
   "outputs": [
    {
     "name": "stdout",
     "output_type": "stream",
     "text": [
      "[ 0  1  2 -1  4  5 -1  7  8 -1 10 11 -1 13 14 -1 16 17 -1 19]\n"
     ]
    }
   ],
   "source": [
    "a[3::3] = -1\n",
    "print(a)"
   ]
  },
  {
   "cell_type": "markdown",
   "id": "54c60e6b",
   "metadata": {},
   "source": [
    "We can also slice the array so that it returns the original array in reverse"
   ]
  },
  {
   "cell_type": "code",
   "execution_count": 30,
   "id": "0cb134bc",
   "metadata": {
    "execution": {
     "iopub.execute_input": "2025-04-16T02:29:44.103919Z",
     "iopub.status.busy": "2025-04-16T02:29:44.103753Z",
     "iopub.status.idle": "2025-04-16T02:29:44.107434Z",
     "shell.execute_reply": "2025-04-16T02:29:44.106859Z"
    }
   },
   "outputs": [
    {
     "data": {
      "text/plain": [
       "array([9, 8, 7, 6, 5, 4, 3, 2, 1, 0])"
      ]
     },
     "execution_count": 30,
     "metadata": {},
     "output_type": "execute_result"
    }
   ],
   "source": [
    "a = np.arange(10)\n",
    "a[::-1]"
   ]
  },
  {
   "cell_type": "markdown",
   "id": "269c4f84",
   "metadata": {},
   "source": [
    "Finally, what if we want to get only those elements in the array that satisfy a certain conditional statement?  Recall that conditional statements on an array return another array of boolean values.  We can use this boolean array as an index to pick out only those elements where the boolean value is ```True```."
   ]
  },
  {
   "cell_type": "code",
   "execution_count": 31,
   "id": "7b1d3719",
   "metadata": {
    "execution": {
     "iopub.execute_input": "2025-04-16T02:29:44.108936Z",
     "iopub.status.busy": "2025-04-16T02:29:44.108767Z",
     "iopub.status.idle": "2025-04-16T02:29:44.111852Z",
     "shell.execute_reply": "2025-04-16T02:29:44.111386Z"
    }
   },
   "outputs": [
    {
     "name": "stdout",
     "output_type": "stream",
     "text": [
      "[-10.          -8.94736842  -7.89473684  -6.84210526  -5.78947368]\n"
     ]
    }
   ],
   "source": [
    "a = np.linspace(-10, 10, 20)\n",
    "print(a[a <= -5])"
   ]
  },
  {
   "cell_type": "markdown",
   "id": "0a288fd4",
   "metadata": {},
   "source": [
    "We must be careful though. Checking for multiple conditionals is not allowed `print(a[-8 < a <= -5])`.\n",
    "\n",
    "The reason for this is the computer does not know how to take an array of many ```True/False``` values and return just a single value."
   ]
  },
  {
   "cell_type": "markdown",
   "id": "50112515",
   "metadata": {},
   "source": [
    "## Example: Rewriting Sieve of Eratosthenes"
   ]
  },
  {
   "cell_type": "markdown",
   "id": "feb5a644",
   "metadata": {},
   "source": [
    "Here we will replace most of the for-loops used when writing the Sieve of Eratosthenes using lists will arrays.  This will make the code much easier to read and actually much faster for computing large prime numbers.  The main part of the original code is:"
   ]
  },
  {
   "cell_type": "code",
   "execution_count": 32,
   "id": "5676d831",
   "metadata": {
    "execution": {
     "iopub.execute_input": "2025-04-16T02:29:44.113538Z",
     "iopub.status.busy": "2025-04-16T02:29:44.113098Z",
     "iopub.status.idle": "2025-04-16T02:29:44.117549Z",
     "shell.execute_reply": "2025-04-16T02:29:44.116995Z"
    }
   },
   "outputs": [
    {
     "name": "stdout",
     "output_type": "stream",
     "text": [
      "[2, 3, 5, 7, 11, 13, 17, 19]\n"
     ]
    }
   ],
   "source": [
    "N = 20\n",
    "# generate a list from 2->N\n",
    "numbers = []\n",
    "for i in range(2, N + 1):  # This can be replaced by array\n",
    "    numbers.append(i)\n",
    "# Run Seive of Eratosthenes algorithm marking nodes with -1\n",
    "for j in range(N - 1):\n",
    "    if numbers[j] != -1:\n",
    "        p = numbers[j]\n",
    "        for k in range(j + p, N - 1, p):  # This can be replaced by array\n",
    "            numbers[k] = -1\n",
    "# Collect all elements not -1 (these are the primes)\n",
    "primes = []\n",
    "for i in range(N - 1):  # This can be replaced by array\n",
    "    if numbers[i] != -1:\n",
    "        primes.append(numbers[i])\n",
    "print(primes)"
   ]
  },
  {
   "cell_type": "markdown",
   "id": "58531093",
   "metadata": {},
   "source": [
    "Using arrays instead of lists simplifies the code:"
   ]
  },
  {
   "cell_type": "code",
   "execution_count": 33,
   "id": "b8d9810b",
   "metadata": {
    "execution": {
     "iopub.execute_input": "2025-04-16T02:29:44.119189Z",
     "iopub.status.busy": "2025-04-16T02:29:44.119029Z",
     "iopub.status.idle": "2025-04-16T02:29:44.122417Z",
     "shell.execute_reply": "2025-04-16T02:29:44.121944Z"
    }
   },
   "outputs": [
    {
     "name": "stdout",
     "output_type": "stream",
     "text": [
      "[ 2  3  5  7 11 13 17 19]\n"
     ]
    }
   ],
   "source": [
    "N = 20\n",
    "# generate a list from 2->N\n",
    "numbers = np.arange(2, N + 1)  # replaced for-loop with call to arange\n",
    "# Run Seive of Eratosthenes algorithm\n",
    "# by marking nodes with -1\n",
    "for j in range(N - 1):\n",
    "    if numbers[j] != -1:\n",
    "        p = numbers[j]\n",
    "        numbers[j + p: N - 1: p] = -1  # replaced for-loop by slicing array\n",
    "# Collect all elements not -1 (these are the primes)\n",
    "# Use conditional statement to get elements !=-1\n",
    "primes = numbers[numbers != -1]\n",
    "print(primes)"
   ]
  },
  {
   "cell_type": "markdown",
   "id": "1613dd59",
   "metadata": {},
   "source": [
    "<h1 align=\"center\">End of Tutorial</h1> \n",
    "<h3 align=\"center\"><a href=\"http://qutip.org/tutorials.html\">Return to QuTiP tutorials page</a></h3> "
   ]
  }
 ],
 "metadata": {
  "jupytext": {
   "cell_metadata_filter": "-all",
   "notebook_metadata_filter": "-jupytext.cell_metadata_filter,-jupytext.notebook_metadata_filter"
  },
  "kernelspec": {
   "display_name": "Python 3 (ipykernel)",
   "language": "python",
   "name": "python3"
  },
  "language_info": {
   "codemirror_mode": {
    "name": "ipython",
    "version": 3
   },
   "file_extension": ".py",
   "mimetype": "text/x-python",
   "name": "python",
   "nbconvert_exporter": "python",
   "pygments_lexer": "ipython3",
   "version": "3.10.4"
  }
 },
 "nbformat": 4,
 "nbformat_minor": 5
}
