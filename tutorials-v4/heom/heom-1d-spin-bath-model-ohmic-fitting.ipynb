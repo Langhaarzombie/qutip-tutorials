{
 "cells": [
  {
   "cell_type": "markdown",
   "id": "b0c2374c",
   "metadata": {},
   "source": [
    "# HEOM 1d: Spin-Bath model, fitting of spectrum and correlation functions"
   ]
  },
  {
   "cell_type": "markdown",
   "id": "0af1c108",
   "metadata": {},
   "source": [
    "## Introduction\n",
    "\n",
    "The HEOM method solves the dynamics and steady state of a system and its environment, the latter of which is encoded \n",
    "in a set of auxiliary density matrices.\n",
    "\n",
    "In this example we show the evolution of a single two-level system in contact with a single bosonic environment.\n",
    "\n",
    "The properties of the system are encoded in Hamiltonian, and a coupling operator which describes how it is coupled to the environment.\n",
    "\n",
    "The bosonic environment is implicitly assumed to obey a particular Hamiltonian ([see paper](https://arxiv.org/abs/2010.10806)), the parameters of which are encoded in the spectral density, and subsequently the free-bath correlation functions.\n",
    "\n",
    "In the example below we show how to model an Ohmic environment with exponential cut-off in two ways:\n",
    "\n",
    "* First we fit the spectral density with a set of underdamped brownian oscillator functions.\n",
    "\n",
    "* Second, we evaluate the correlation functions, and fit those with a certain choice of exponential functions.\n",
    "\n",
    "In each case we will use the fit parameters to determine the correlation function expansion co-efficients needed to construct a description of the bath (i.e. a `BosonicBath` object) to supply to the `HEOMSolver` so that we can solve for the system dynamics."
   ]
  },
  {
   "cell_type": "markdown",
   "id": "b8573057",
   "metadata": {},
   "source": [
    "## Setup"
   ]
  },
  {
   "cell_type": "code",
   "execution_count": 2,
   "id": "cd17d9f7",
   "metadata": {},
   "outputs": [],
   "source": [
    "import contextlib\n",
    "import dataclasses\n",
    "import time\n",
    "\n",
    "import numpy as np\n",
    "from matplotlib import pyplot as plt\n",
    "from scipy.optimize import curve_fit\n",
    "\n",
    "import qutip\n",
    "from qutip import (\n",
    "    Options,\n",
    "    basis,\n",
    "    expect,\n",
    "    liouvillian,\n",
    "    sigmax,\n",
    "    sigmaz,\n",
    "    spost,\n",
    "    spre,\n",
    ")\n",
    "from qutip.solver.heom import (\n",
    "    HEOMSolver,\n",
    "    BosonicBath,\n",
    ")\n",
    "\n",
    "# Import mpmath functions for evaluation of gamma and zeta\n",
    "# functions in the expression for the correlation:\n",
    "\n",
    "from mpmath import mp\n",
    "\n",
    "mp.dps = 15\n",
    "mp.pretty = True\n",
    "\n",
    "%matplotlib inline"
   ]
  },
  {
   "cell_type": "markdown",
   "id": "efa8c2a9",
   "metadata": {},
   "source": [
    "## Helper functions\n",
    "\n",
    "Let's define some helper functions for plotting results and timing how long operations take:"
   ]
  },
  {
   "cell_type": "code",
   "execution_count": 3,
   "id": "e0e06304",
   "metadata": {},
   "outputs": [],
   "source": [
    "def coth(x):\n",
    "    \"\"\" Vectorized hyperbolic cotangent of x. \"\"\"\n",
    "    return 1. / np.tanh(x)"
   ]
  },
  {
   "cell_type": "code",
   "execution_count": 4,
   "id": "a5f220b7",
   "metadata": {},
   "outputs": [],
   "source": [
    "def plot_result_expectations(plots, axes=None):\n",
    "    \"\"\" Plot the expectation values of operators as functions of time.\n",
    "\n",
    "        Each plot in plots consists of (solver_result,\n",
    "        measurement_operation, color, label).\n",
    "    \"\"\"\n",
    "    if axes is None:\n",
    "        fig, axes = plt.subplots(1, 1, sharex=True, figsize=(8, 8))\n",
    "        fig_created = True\n",
    "    else:\n",
    "        fig = None\n",
    "        fig_created = False\n",
    "\n",
    "    # add kw arguments to each plot if missing\n",
    "    plots = [p if len(p) == 5 else p + ({},) for p in plots]\n",
    "    for result, m_op, color, label, kw in plots:\n",
    "        exp = np.real(expect(result.states, m_op))\n",
    "        kw.setdefault(\"linewidth\", 2)\n",
    "        if color == 'rand':\n",
    "            axes.plot(\n",
    "                result.times, exp,\n",
    "                c=np.random.rand(3,), label=label, **kw,\n",
    "            )\n",
    "        else:\n",
    "            axes.plot(result.times, exp, color, label=label, **kw)\n",
    "\n",
    "    if fig_created:\n",
    "        axes.legend(loc=0, fontsize=12)\n",
    "        axes.set_xlabel(\"t\", fontsize=28)\n",
    "\n",
    "    return fig"
   ]
  },
  {
   "cell_type": "code",
   "execution_count": 5,
   "id": "7cda27be",
   "metadata": {},
   "outputs": [],
   "source": [
    "@contextlib.contextmanager\n",
    "def timer(label):\n",
    "    \"\"\" Simple utility for timing functions:\n",
    "\n",
    "        with timer(\"name\"):\n",
    "            ... code to time ...\n",
    "    \"\"\"\n",
    "    start = time.time()\n",
    "    yield\n",
    "    end = time.time()\n",
    "    print(f\"{label}: {end - start}\")"
   ]
  },
  {
   "cell_type": "markdown",
   "id": "0ab24db3",
   "metadata": {},
   "source": [
    "## System and bath definition\n",
    "\n",
    "And let us set up the system Hamiltonian, bath and system measurement operators:"
   ]
  },
  {
   "cell_type": "markdown",
   "id": "b8a7978c",
   "metadata": {},
   "source": [
    "### System Hamiltonian"
   ]
  },
  {
   "cell_type": "code",
   "execution_count": 6,
   "id": "b5be20a5",
   "metadata": {},
   "outputs": [],
   "source": [
    "# Defining the system Hamiltonian\n",
    "eps = 0.0    # Energy of the 2-level system.\n",
    "Del = 0.2    # Tunnelling term\n",
    "Hsys = 0.5 * eps * sigmaz() + 0.5 * Del * sigmax()"
   ]
  },
  {
   "cell_type": "code",
   "execution_count": 7,
   "id": "619f046c",
   "metadata": {},
   "outputs": [],
   "source": [
    "# Initial state of the system.\n",
    "rho0 = basis(2, 0) * basis(2, 0).dag()"
   ]
  },
  {
   "cell_type": "markdown",
   "id": "8ce2e713",
   "metadata": {},
   "source": [
    "### System measurement operators"
   ]
  },
  {
   "cell_type": "code",
   "execution_count": 8,
   "id": "bc2468cf",
   "metadata": {},
   "outputs": [],
   "source": [
    "# Define some operators with which we will measure the system\n",
    "# 1,1 element of density matrix - corresonding to groundstate\n",
    "P11p = basis(2, 0) * basis(2, 0).dag()\n",
    "P22p = basis(2, 1) * basis(2, 1).dag()\n",
    "# 1,2 element of density matrix  - corresonding to coherence\n",
    "P12p = basis(2, 0) * basis(2, 1).dag()"
   ]
  },
  {
   "cell_type": "markdown",
   "id": "653d8867",
   "metadata": {},
   "source": [
    "### Analytical expressions for the Ohmic bath correlation function and spectral density"
   ]
  },
  {
   "cell_type": "markdown",
   "id": "de2a61cb",
   "metadata": {},
   "source": [
    "Before we begin fitting, let us examine the analytic expressions for the correlation and spectral density functions and write Python equivalents. \n",
    "\n",
    "The correlation function is given by (see, e.g., http://www1.itp.tu-berlin.de/brandes/public_html/publications/notes.pdf for a derivation, equation 7.59, but with a factor of $\\pi$ moved into the definition of the correlation function):\n",
    "\n",
    "\\begin{align}\n",
    "C(t) =& \\: \\frac{1}{\\pi}\\alpha \\omega_{c}^{1 - s} \\beta^{- (s + 1)} \\: \\times \\\\\n",
    "      & \\: \\Gamma(s + 1) \\left[ \\zeta \\left(s + 1, \\frac{1 + \\beta \\omega_c - i \\omega_c t}{\\beta \\omega_c}\\right) + \\zeta \\left(s + 1, \\frac{1 + i \\omega_c t}{\\beta \\omega_c}\\right) \\right]\n",
    "\\end{align}\n",
    "\n",
    "where $\\Gamma$ is the Gamma function and\n",
    "\n",
    "\\begin{equation}\n",
    "\\zeta(z, u) \\equiv \\sum_{n=0}^{\\infty} \\frac{1}{(n + u)^z}, \\; u \\neq 0, -1, -2, \\ldots\n",
    "\\end{equation}\n",
    "\n",
    "is the generalized Zeta function. The Ohmic case is given by $s = 1$.\n",
    "\n",
    "The corresponding spectral density for the Ohmic case is:\n",
    "\n",
    "\\begin{equation}\n",
    "J(\\omega) = \\omega \\alpha e^{- \\frac{\\omega}{\\omega_c}}\n",
    "\\end{equation}"
   ]
  },
  {
   "cell_type": "code",
   "execution_count": 9,
   "id": "f2996062",
   "metadata": {},
   "outputs": [],
   "source": [
    "def ohmic_correlation(t, alpha, wc, beta, s=1):\n",
    "    \"\"\" The Ohmic bath correlation function as a function of t\n",
    "        (and the bath parameters).\n",
    "    \"\"\"\n",
    "    corr = (\n",
    "        (1 / np.pi) * alpha * wc**(1 - s) * beta**(-(s + 1)) * mp.gamma(s + 1)\n",
    "    )\n",
    "    z1_u = (1 + beta * wc - 1.0j * wc * t) / (beta * wc)\n",
    "    z2_u = (1 + 1.0j * wc * t) / (beta * wc)\n",
    "    # Note: the arguments to zeta should be in as high precision as possible.\n",
    "    # See http://mpmath.org/doc/current/basics.html#providing-correct-input\n",
    "    return np.array([\n",
    "        complex(corr * (mp.zeta(s + 1, u1) + mp.zeta(s + 1, u2)))\n",
    "        for u1, u2 in zip(z1_u, z2_u)\n",
    "    ], dtype=np.complex128)"
   ]
  },
  {
   "cell_type": "code",
   "execution_count": 10,
   "id": "af7a39e2",
   "metadata": {},
   "outputs": [],
   "source": [
    "def ohmic_spectral_density(w, alpha, wc):\n",
    "    \"\"\" The Ohmic bath spectral density as a function of w\n",
    "        (and the bath parameters).\n",
    "    \"\"\"\n",
    "    return w * alpha * np.e**(-w / wc)"
   ]
  },
  {
   "cell_type": "code",
   "execution_count": 11,
   "id": "c52abbec",
   "metadata": {},
   "outputs": [],
   "source": [
    "def ohmic_power_spectrum(w, alpha, wc, beta):\n",
    "    \"\"\" The Ohmic bath power spectrum as a function of w\n",
    "        (and the bath parameters).\n",
    "    \"\"\"\n",
    "    return (\n",
    "        w * alpha * np.e**(-abs(w) / wc) *\n",
    "        ((1 / (np.e**(w * beta) - 1)) + 1) * 2\n",
    "    )"
   ]
  },
  {
   "cell_type": "markdown",
   "id": "e530b00f",
   "metadata": {},
   "source": [
    "### Bath and HEOM parameters"
   ]
  },
  {
   "cell_type": "markdown",
   "id": "03e881bc",
   "metadata": {},
   "source": [
    "Finally, let's set the bath parameters we will work with and write down some measurement operators:"
   ]
  },
  {
   "cell_type": "code",
   "execution_count": 12,
   "id": "874e3203",
   "metadata": {},
   "outputs": [],
   "source": [
    "# Bath parameters:\n",
    "\n",
    "@dataclasses.dataclass\n",
    "class OhmicBathParameters:\n",
    "    \"\"\" Ohmic bath parameters. \"\"\"\n",
    "    Q: object = dataclasses.field(default_factory=sigmaz, repr=False)\n",
    "    alpha: float = 3.25\n",
    "    T: float = 0.5\n",
    "    wc: float = 1.0\n",
    "    s: float = 1\n",
    "\n",
    "    def __post_init__(self):\n",
    "        self.beta = 1 / self.T\n",
    "\n",
    "    def replace(self, **kw):\n",
    "        return dataclasses.replace(self, **kw)\n",
    "\n",
    "\n",
    "obp = OhmicBathParameters()"
   ]
  },
  {
   "cell_type": "markdown",
   "id": "b8ace800",
   "metadata": {},
   "source": [
    "And set the cut-off for the HEOM hierarchy:"
   ]
  },
  {
   "cell_type": "code",
   "execution_count": 13,
   "id": "50fb9320",
   "metadata": {},
   "outputs": [],
   "source": [
    "# HEOM parameters:\n",
    "\n",
    "# The max_depth defaults to 5 so that the notebook executes more\n",
    "# quickly. Change it to 11 to wait longer for more accurate results.\n",
    "max_depth = 5"
   ]
  },
  {
   "cell_type": "markdown",
   "id": "d0097ca0",
   "metadata": {},
   "source": [
    "## Building the HEOM bath by fitting the spectral density"
   ]
  },
  {
   "cell_type": "markdown",
   "id": "0053121b",
   "metadata": {},
   "source": [
    "We begin by fitting the spectral density, using a series of $k$ underdamped harmonic oscillators case with the Meier-Tannor form (J. Chem. Phys. 111, 3365 (1999); https://doi.org/10.1063/1.479669):\n",
    "\n",
    "\\begin{equation}\n",
    "J_{\\mathrm approx}(\\omega; a, b, c) = \\sum_{i=0}^{k-1} \\frac{2 a_i b_i w}{((w + c_i)^2 + b_i^2) ((w - c_i)^2 + b_i^2)}\n",
    "\\end{equation}\n",
    "\n",
    "where $a, b$ and $c$ are the fit parameters and each is a vector of length $k$."
   ]
  },
  {
   "cell_type": "code",
   "execution_count": 14,
   "id": "ac870ddb",
   "metadata": {},
   "outputs": [],
   "source": [
    "# Helper functions for packing the paramters a, b and c into a single numpy\n",
    "# array as required by SciPy's curve_fit:\n",
    "\n",
    "def pack(a, b, c):\n",
    "    \"\"\" Pack parameter lists for fitting. \"\"\"\n",
    "    return np.concatenate((a, b, c))\n",
    "\n",
    "\n",
    "def unpack(params):\n",
    "    \"\"\" Unpack parameter lists for fitting. \"\"\"\n",
    "    N = len(params) // 3\n",
    "    a = np.array(params[:N])\n",
    "    b = np.array(params[N:2 * N])\n",
    "    c = np.array(params[2 * N:])\n",
    "    return a, b, c"
   ]
  },
  {
   "cell_type": "code",
   "execution_count": 15,
   "id": "0d5cd728",
   "metadata": {},
   "outputs": [],
   "source": [
    "# The approximate spectral density and a helper for fitting the approximate\n",
    "# spectral density to values calculated from the analytical formula:\n",
    "\n",
    "def spectral_density_approx(w, a, b, c):\n",
    "    \"\"\" Calculate the fitted value of the function for the given\n",
    "        parameters.\n",
    "    \"\"\"\n",
    "    return np.sum(\n",
    "        2 * a[:, None] * np.multiply.outer(b, w) / (\n",
    "            ((w + c[:, None])**2 + b[:, None]**2) *\n",
    "            ((w - c[:, None])**2 + b[:, None]**2)\n",
    "        ),\n",
    "        axis=0,\n",
    "    )\n",
    "\n",
    "\n",
    "def fit_spectral_density(J, w, alpha, wc, N):\n",
    "    \"\"\" Fit the spectral density with N underdamped oscillators. \"\"\"\n",
    "    sigma = [0.0001] * len(w)\n",
    "\n",
    "    J_max = abs(max(J, key=abs))\n",
    "\n",
    "    guesses = pack([J_max] * N, [wc] * N, [wc] * N)\n",
    "    lower_bounds = pack([-100 * J_max] * N, [0.1 * wc] * N, [0.1 * wc] * N)\n",
    "    upper_bounds = pack([100 * J_max] * N, [100 * wc] * N, [100 * wc] * N)\n",
    "\n",
    "    params, _ = curve_fit(\n",
    "        lambda x, *params: spectral_density_approx(w, *unpack(params)),\n",
    "        w, J,\n",
    "        p0=guesses,\n",
    "        bounds=(lower_bounds, upper_bounds),\n",
    "        sigma=sigma,\n",
    "        maxfev=1000000000,\n",
    "    )\n",
    "\n",
    "    return unpack(params)"
   ]
  },
  {
   "cell_type": "markdown",
   "id": "19351887",
   "metadata": {},
   "source": [
    "With the spectral density approximation $J_{\\mathrm approx}(w; a, b, c)$ implemented above, we can now perform the fit and examine the results."
   ]
  },
  {
   "cell_type": "code",
   "execution_count": 16,
   "id": "c437b8f7",
   "metadata": {},
   "outputs": [],
   "source": [
    "w = np.linspace(0, 25, 20000)\n",
    "J = ohmic_spectral_density(w, alpha=obp.alpha, wc=obp.wc)\n",
    "\n",
    "params_k = [\n",
    "    fit_spectral_density(J, w, alpha=obp.alpha, wc=obp.wc, N=i+1)\n",
    "    for i in range(4)\n",
    "]"
   ]
  },
  {
   "cell_type": "markdown",
   "id": "574186d7",
   "metadata": {},
   "source": [
    "Let's plot the fit for each $k$ and examine how it improves with an increasing number of terms:"
   ]
  },
  {
   "cell_type": "code",
   "execution_count": 17,
   "id": "083ff82e",
   "metadata": {},
   "outputs": [
    {
     "name": "stdout",
     "output_type": "stream",
     "text": [
      "Parameters [k=0]: lam=[6.14746382]; gamma=[1.77939431]; w0=[0.1]\n"
     ]
    },
    {
     "data": {
      "image/png": "[encoded data removed]",
      "text/plain": [
       "<Figure size 640x480 with 1 Axes>"
      ]
     },
     "metadata": {},
     "output_type": "display_data"
    },
    {
     "name": "stdout",
     "output_type": "stream",
     "text": [
      "Parameters [k=1]: lam=[2.21188807 3.26249622]; gamma=[1.24955687 1.43449451]; w0=[0.1        1.80554797]\n"
     ]
    },
    {
     "data": {
      "image/png": "[encoded data removed]",
      "text/plain": [
       "<Figure size 640x480 with 1 Axes>"
      ]
     },
     "metadata": {},
     "output_type": "display_data"
    },
    {
     "name": "stdout",
     "output_type": "stream",
     "text": [
      "Parameters [k=2]: lam=[1.64959658 2.33983489 1.1273868 ]; gamma=[1.18453044 1.09371099 1.0088176 ]; w0=[2.69770739 1.37013884 0.13256982]\n"
     ]
    },
    {
     "data": {
      "image/png": "[encoded data removed]",
      "text/plain": [
       "<Figure size 640x480 with 1 Axes>"
      ]
     },
     "metadata": {},
     "output_type": "display_data"
    },
    {
     "name": "stdout",
     "output_type": "stream",
     "text": [
      "Parameters [k=3]: lam=[ 7.91592672  0.60083674 -4.40789196  0.01058512]; gamma=[2.29618983 1.00246781 4.29908159 0.30736306]; w0=[0.1      0.1      3.981687 0.1     ]\n"
     ]
    },
    {
     "data": {
      "image/png": "[encoded data removed]",
      "text/plain": [
       "<Figure size 640x480 with 1 Axes>"
      ]
     },
     "metadata": {},
     "output_type": "display_data"
    }
   ],
   "source": [
    "for k, params in enumerate(params_k):\n",
    "    lam, gamma, w0 = params\n",
    "    y = spectral_density_approx(w, lam, gamma, w0)\n",
    "    print(f\"Parameters [k={k}]: lam={lam}; gamma={gamma}; w0={w0}\")\n",
    "    plt.plot(w, J, w, y)\n",
    "    plt.show()"
   ]
  },
  {
   "cell_type": "markdown",
   "id": "b66929b7",
   "metadata": {},
   "source": [
    "The fit with four terms looks good. Let's take a closer look at it by plotting the contribution of each term of the fit:"
   ]
  },
  {
   "cell_type": "code",
   "execution_count": 18,
   "id": "c8f26a60",
   "metadata": {},
   "outputs": [
    {
     "name": "stdout",
     "output_type": "stream",
     "text": [
      "Parameters [k=3]: lam=[ 7.91592672  0.60083674 -4.40789196  0.01058512]; gamma=[2.29618983 1.00246781 4.29908159 0.30736306]; w0=[0.1      0.1      3.981687 0.1     ]\n"
     ]
    }
   ],
   "source": [
    "# The parameters for the fit with four terms:\n",
    "\n",
    "lam, gamma, w0 = params_k[-1]\n",
    "\n",
    "print(f\"Parameters [k={len(params_k) - 1}]: lam={lam}; gamma={gamma}; w0={w0}\")"
   ]
  },
  {
   "cell_type": "code",
   "execution_count": 19,
   "id": "d1ce6c63",
   "metadata": {},
   "outputs": [
    {
     "data": {
      "image/png": "[encoded data removed]",
      "text/plain": [
       "<Figure size 800x800 with 1 Axes>"
      ]
     },
     "metadata": {},
     "output_type": "display_data"
    }
   ],
   "source": [
    "# Plot the components of the fit separately:\n",
    "\n",
    "def spectral_density_ith_component(w, i, lam, gamma, w0):\n",
    "    \"\"\" Return the i'th term of the approximation for the spectral density. \"\"\"\n",
    "    return (\n",
    "        2 * lam[i] * gamma[i] * w /\n",
    "        (((w + w0[i])**2 + gamma[i]**2) * ((w - w0[i])**2 + gamma[i]**2))\n",
    "    )\n",
    "\n",
    "\n",
    "def plot_spectral_density_fit_components(J, w, lam, gamma, w0):\n",
    "    \"\"\" Plot the individual components of a fit to the spectral density. \"\"\"\n",
    "    fig, axes = plt.subplots(1, 1, sharex=True, figsize=(8, 8))\n",
    "    axes.plot(w, J, 'r--', linewidth=2, label=\"original\")\n",
    "    for i in range(len(lam)):\n",
    "        axes.plot(\n",
    "            w, spectral_density_ith_component(w, i, lam, gamma, w0),\n",
    "            linewidth=2,\n",
    "            label=f\"fit component {i}\",\n",
    "        )\n",
    "\n",
    "    axes.set_xlabel(r'$w$', fontsize=28)\n",
    "    axes.set_ylabel(r'J', fontsize=28)\n",
    "    axes.legend()\n",
    "\n",
    "    return fig\n",
    "\n",
    "\n",
    "plot_spectral_density_fit_components(J, w, lam, gamma, w0);"
   ]
  },
  {
   "cell_type": "markdown",
   "id": "a69919e0",
   "metadata": {},
   "source": [
    "And let's also compare the power spectrum of the fit and the analytical spectral density:"
   ]
  },
  {
   "cell_type": "code",
   "execution_count": 20,
   "id": "2b8e61fb",
   "metadata": {},
   "outputs": [
    {
     "data": {
      "image/png": "[encoded data removed]",
      "text/plain": [
       "<Figure size 800x800 with 1 Axes>"
      ]
     },
     "metadata": {},
     "output_type": "display_data"
    }
   ],
   "source": [
    "def plot_power_spectrum(alpha, wc, beta, lam, gamma, w0, save=True):\n",
    "    \"\"\" Plot the power spectrum of a fit against the actual power spectrum. \"\"\"\n",
    "    w = np.linspace(-10, 10, 50000)\n",
    "\n",
    "    s_orig = ohmic_power_spectrum(w, alpha=alpha, wc=wc, beta=beta)\n",
    "    s_fit = (\n",
    "        spectral_density_approx(w, lam, gamma, w0) *\n",
    "        ((1 / (np.e**(w * beta) - 1)) + 1) * 2\n",
    "    )\n",
    "\n",
    "    fig, axes = plt.subplots(1, 1, sharex=True, figsize=(8, 8))\n",
    "    axes.plot(w, s_orig, 'r', linewidth=2, label=\"original\")\n",
    "    axes.plot(w, s_fit, 'b', linewidth=2, label=\"fit\")\n",
    "\n",
    "    axes.set_xlabel(r'$\\omega$', fontsize=28)\n",
    "    axes.set_ylabel(r'$S(\\omega)$', fontsize=28)\n",
    "    axes.legend()\n",
    "\n",
    "    if save:\n",
    "        fig.savefig('powerspectrum.eps')\n",
    "\n",
    "\n",
    "plot_power_spectrum(obp.alpha, obp.wc, obp.beta, lam, gamma, w0, save=False)"
   ]
  },
  {
   "cell_type": "markdown",
   "id": "7fe1c38a",
   "metadata": {},
   "source": [
    "Now that we have a good fit to the spectral density, we can calculate the Matsubara expansion terms for the `BosonicBath` from them. At the same time we will calculate the Matsubara terminator for this expansion."
   ]
  },
  {
   "cell_type": "code",
   "execution_count": 21,
   "id": "123ccf79",
   "metadata": {},
   "outputs": [],
   "source": [
    "def matsubara_coefficients_from_spectral_fit(lam, gamma, w0, beta, Q, Nk):\n",
    "    \"\"\" Calculate the Matsubara co-efficients for a fit to the spectral\n",
    "        density.\n",
    "    \"\"\"\n",
    "    # initial 0 value with the correct dimensions:\n",
    "    terminator = 0. * spre(Q)\n",
    "    # the number of matsubara expansion terms to include in the terminator:\n",
    "    terminator_max_k = 1000\n",
    "\n",
    "    ckAR = []\n",
    "    vkAR = []\n",
    "    ckAI = []\n",
    "    vkAI = []\n",
    "\n",
    "    for lamt, Gamma, Om in zip(lam, gamma, w0):\n",
    "\n",
    "        ckAR.extend([\n",
    "            (lamt / (4 * Om)) * coth(beta * (Om + 1.0j * Gamma) / 2),\n",
    "            (lamt / (4 * Om)) * coth(beta * (Om - 1.0j * Gamma) / 2),\n",
    "        ])\n",
    "        for k in range(1, Nk + 1):\n",
    "            ek = 2 * np.pi * k / beta\n",
    "            ckAR.append(\n",
    "                (-2 * lamt * 2 * Gamma / beta) * ek /\n",
    "                (\n",
    "                    ((Om + 1.0j * Gamma)**2 + ek**2) *\n",
    "                    ((Om - 1.0j * Gamma)**2 + ek**2)\n",
    "                )\n",
    "            )\n",
    "\n",
    "        terminator_factor = 0\n",
    "        for k in range(Nk + 1, terminator_max_k):\n",
    "            ek = 2 * np.pi * k / beta\n",
    "            ck = (\n",
    "                (-2 * lamt * 2 * Gamma / beta) * ek /\n",
    "                (\n",
    "                    ((Om + 1.0j * Gamma)**2 + ek**2) *\n",
    "                    ((Om - 1.0j * Gamma)**2 + ek**2)\n",
    "                )\n",
    "            )\n",
    "            terminator_factor += ck / ek\n",
    "        terminator += terminator_factor * (\n",
    "            2 * spre(Q) * spost(Q.dag())\n",
    "            - spre(Q.dag() * Q)\n",
    "            - spost(Q.dag() * Q)\n",
    "        )\n",
    "\n",
    "        vkAR.extend([\n",
    "            -1.0j * Om + Gamma,\n",
    "            1.0j * Om + Gamma,\n",
    "        ])\n",
    "        vkAR.extend([\n",
    "            2 * np.pi * k * obp.T + 0.j\n",
    "            for k in range(1, Nk + 1)\n",
    "        ])\n",
    "\n",
    "        ckAI.extend([\n",
    "            -0.25 * lamt * 1.0j / Om,\n",
    "            0.25 * lamt * 1.0j / Om,\n",
    "        ])\n",
    "        vkAI.extend([\n",
    "            -(-1.0j * Om - Gamma),\n",
    "            -(1.0j * Om - Gamma),\n",
    "        ])\n",
    "\n",
    "    return ckAR, vkAR, ckAI, vkAI, terminator"
   ]
  },
  {
   "cell_type": "code",
   "execution_count": 22,
   "id": "a146f03f",
   "metadata": {},
   "outputs": [],
   "source": [
    "def generate_spectrum_results(obp, params, Nk, max_depth):\n",
    "    \"\"\" Run the HEOM with the given bath parameters and\n",
    "        and return the results of the evolution.\n",
    "    \"\"\"\n",
    "    lam, gamma, w0 = params\n",
    "    ckAR, vkAR, ckAI, vkAI, terminator = (\n",
    "        matsubara_coefficients_from_spectral_fit(\n",
    "            lam, gamma, w0, beta=obp.beta, Q=obp.Q, Nk=Nk,\n",
    "        )\n",
    "    )\n",
    "    Ltot = liouvillian(Hsys) + terminator\n",
    "    tlist = np.linspace(0, 30 * np.pi / Del, 600)\n",
    "\n",
    "    options = Options(\n",
    "        nsteps=15000, store_states=True, rtol=1e-12, atol=1e-12, method=\"bdf\",\n",
    "    )\n",
    "    # This problem is a little stiff, so we use  the BDF method to solve\n",
    "    # the ODE ^^^\n",
    "\n",
    "    with timer(\"RHS construction time\"):\n",
    "        bath = BosonicBath(obp.Q, ckAR, vkAR, ckAI, vkAI)\n",
    "        HEOM_spectral_fit = HEOMSolver(\n",
    "            Ltot, bath, max_depth=max_depth, options=options,\n",
    "        )\n",
    "\n",
    "    with timer(\"ODE solver time\"):\n",
    "        results_spectral_fit = (HEOM_spectral_fit.run(rho0, tlist))\n",
    "\n",
    "    return results_spectral_fit"
   ]
  },
  {
   "cell_type": "markdown",
   "id": "5185757b",
   "metadata": {},
   "source": [
    "Below we generate results for different convergence parameters (number of terms in the fit, number of matsubara terms, and depth of the hierarchy).  For the parameter choices here, we need a relatively large depth of around '11', which can be a little slow."
   ]
  },
  {
   "cell_type": "code",
   "execution_count": 23,
   "id": "7b936c06",
   "metadata": {},
   "outputs": [
    {
     "name": "stdout",
     "output_type": "stream",
     "text": [
      "RHS construction time: 0.005162954330444336\n",
      "10.0%. Run time:   0.05s. Est. time left: 00:00:00:00\n",
      "20.0%. Run time:   0.07s. Est. time left: 00:00:00:00\n",
      "30.1%. Run time:   0.10s. Est. time left: 00:00:00:00\n",
      "40.1%. Run time:   0.12s. Est. time left: 00:00:00:00\n",
      "50.1%. Run time:   0.15s. Est. time left: 00:00:00:00\n",
      "60.1%. Run time:   0.17s. Est. time left: 00:00:00:00\n"
     ]
    },
    {
     "name": "stderr",
     "output_type": "stream",
     "text": [
      "/home/mcditoos/qutip_gsoc_app/qutip/solver/options.py:16: FutureWarning: Dedicated options class are no longer needed, options should be passed as dict to solvers.\n",
      "  warnings.warn(\n"
     ]
    },
    {
     "name": "stdout",
     "output_type": "stream",
     "text": [
      "70.1%. Run time:   0.20s. Est. time left: 00:00:00:00\n",
      "80.1%. Run time:   0.23s. Est. time left: 00:00:00:00\n",
      "90.2%. Run time:   0.26s. Est. time left: 00:00:00:00\n",
      "100.0%. Run time:   0.29s. Est. time left: 00:00:00:00\n",
      "Total run time:   0.29s\n",
      "ODE solver time: 0.29564571380615234\n",
      "RHS construction time: 0.011826276779174805\n",
      "10.0%. Run time:   0.16s. Est. time left: 00:00:00:01\n",
      "20.0%. Run time:   0.24s. Est. time left: 00:00:00:00\n",
      "30.1%. Run time:   0.32s. Est. time left: 00:00:00:00\n",
      "40.1%. Run time:   0.42s. Est. time left: 00:00:00:00\n",
      "50.1%. Run time:   0.50s. Est. time left: 00:00:00:00\n",
      "60.1%. Run time:   0.57s. Est. time left: 00:00:00:00\n",
      "70.1%. Run time:   0.65s. Est. time left: 00:00:00:00\n",
      "80.1%. Run time:   0.73s. Est. time left: 00:00:00:00\n",
      "90.2%. Run time:   0.81s. Est. time left: 00:00:00:00\n",
      "100.0%. Run time:   0.87s. Est. time left: 00:00:00:00\n",
      "Total run time:   0.88s\n",
      "ODE solver time: 0.8767976760864258\n",
      "RHS construction time: 0.019646406173706055\n",
      "10.0%. Run time:   0.56s. Est. time left: 00:00:00:04\n",
      "20.0%. Run time:   0.93s. Est. time left: 00:00:00:03\n",
      "30.1%. Run time:   1.32s. Est. time left: 00:00:00:03\n",
      "40.1%. Run time:   1.70s. Est. time left: 00:00:00:02\n",
      "50.1%. Run time:   2.09s. Est. time left: 00:00:00:02\n",
      "60.1%. Run time:   2.49s. Est. time left: 00:00:00:01\n",
      "70.1%. Run time:   2.88s. Est. time left: 00:00:00:01\n",
      "80.1%. Run time:   3.26s. Est. time left: 00:00:00:00\n",
      "90.2%. Run time:   3.64s. Est. time left: 00:00:00:00\n",
      "100.0%. Run time:   4.00s. Est. time left: 00:00:00:00\n",
      "Total run time:   4.00s\n",
      "ODE solver time: 4.004042148590088\n",
      "RHS construction time: 0.14979052543640137\n",
      "10.0%. Run time:   1.81s. Est. time left: 00:00:00:16\n",
      "20.0%. Run time:   2.93s. Est. time left: 00:00:00:11\n",
      "30.1%. Run time:   3.97s. Est. time left: 00:00:00:09\n",
      "40.1%. Run time:   4.97s. Est. time left: 00:00:00:07\n",
      "50.1%. Run time:   6.00s. Est. time left: 00:00:00:05\n",
      "60.1%. Run time:   7.03s. Est. time left: 00:00:00:04\n",
      "70.1%. Run time:   8.08s. Est. time left: 00:00:00:03\n",
      "80.1%. Run time:   9.08s. Est. time left: 00:00:00:02\n",
      "90.2%. Run time:  10.06s. Est. time left: 00:00:00:01\n",
      "100.0%. Run time:  11.06s. Est. time left: 00:00:00:00\n",
      "Total run time:  11.06s\n",
      "ODE solver time: 11.059714555740356\n"
     ]
    },
    {
     "data": {
      "image/png": "[encoded data removed]",
      "text/plain": [
       "<Figure size 800x800 with 1 Axes>"
      ]
     },
     "metadata": {},
     "output_type": "display_data"
    }
   ],
   "source": [
    "# Generate results for different number of lorentzians in fit:\n",
    "\n",
    "results_spectral_fit_pk = [\n",
    "    generate_spectrum_results(obp, params, Nk=1, max_depth=max_depth)\n",
    "    for params in params_k\n",
    "]\n",
    "\n",
    "plot_result_expectations([\n",
    "    (\n",
    "        result, P11p, 'rand',\n",
    "        f\"P11 (spectral fit) $k_J$={pk + 1}\",\n",
    "    )\n",
    "    for pk, result in enumerate(results_spectral_fit_pk)\n",
    "]);"
   ]
  },
  {
   "cell_type": "code",
   "execution_count": 24,
   "id": "a278cd12",
   "metadata": {},
   "outputs": [
    {
     "name": "stdout",
     "output_type": "stream",
     "text": [
      "RHS construction time: 0.108489990234375\n",
      "10.0%. Run time:   3.03s. Est. time left: 00:00:00:27\n",
      "20.0%. Run time:   4.73s. Est. time left: 00:00:00:18\n",
      "30.1%. Run time:   6.56s. Est. time left: 00:00:00:15\n",
      "40.1%. Run time:   8.72s. Est. time left: 00:00:00:13\n",
      "50.1%. Run time:  11.80s. Est. time left: 00:00:00:11\n",
      "60.1%. Run time:  13.89s. Est. time left: 00:00:00:09\n",
      "70.1%. Run time:  15.93s. Est. time left: 00:00:00:06\n",
      "80.1%. Run time:  18.57s. Est. time left: 00:00:00:04\n",
      "90.2%. Run time:  20.98s. Est. time left: 00:00:00:02\n",
      "100.0%. Run time:  23.10s. Est. time left: 00:00:00:00\n",
      "Total run time:  23.10s\n",
      "ODE solver time: 23.098018646240234\n",
      "RHS construction time: 0.2477586269378662\n"
     ]
    },
    {
     "name": "stderr",
     "output_type": "stream",
     "text": [
      "capi_return is NULL\n",
      "Call-back cb_f_in_zvode__user__routines failed.\n"
     ]
    },
    {
     "ename": "KeyboardInterrupt",
     "evalue": "",
     "output_type": "error",
     "traceback": [
      "\u001b[0;31m---------------------------------------------------------------------------\u001b[0m",
      "\u001b[0;31mKeyboardInterrupt\u001b[0m                         Traceback (most recent call last)",
      "Cell \u001b[0;32mIn[24], line 6\u001b[0m\n\u001b[1;32m      1\u001b[0m \u001b[38;5;66;03m# generate results for different number of Matsubara terms per Lorentzian\u001b[39;00m\n\u001b[1;32m      2\u001b[0m \u001b[38;5;66;03m# for max number of Lorentzians:\u001b[39;00m\n\u001b[1;32m      4\u001b[0m Nk_list \u001b[38;5;241m=\u001b[39m \u001b[38;5;28mrange\u001b[39m(\u001b[38;5;241m2\u001b[39m, \u001b[38;5;241m4\u001b[39m)\n\u001b[1;32m      5\u001b[0m results_spectral_fit_nk \u001b[38;5;241m=\u001b[39m [\n\u001b[0;32m----> 6\u001b[0m     \u001b[43mgenerate_spectrum_results\u001b[49m\u001b[43m(\u001b[49m\u001b[43mobp\u001b[49m\u001b[43m,\u001b[49m\u001b[43m \u001b[49m\u001b[43mparams_k\u001b[49m\u001b[43m[\u001b[49m\u001b[38;5;241;43m-\u001b[39;49m\u001b[38;5;241;43m1\u001b[39;49m\u001b[43m]\u001b[49m\u001b[43m,\u001b[49m\u001b[43m \u001b[49m\u001b[43mNk\u001b[49m\u001b[38;5;241;43m=\u001b[39;49m\u001b[43mNk\u001b[49m\u001b[43m,\u001b[49m\u001b[43m \u001b[49m\u001b[43mmax_depth\u001b[49m\u001b[38;5;241;43m=\u001b[39;49m\u001b[43mmax_depth\u001b[49m\u001b[43m)\u001b[49m\n\u001b[1;32m      7\u001b[0m     \u001b[38;5;28;01mfor\u001b[39;00m Nk \u001b[38;5;129;01min\u001b[39;00m Nk_list\n\u001b[1;32m      8\u001b[0m ]\n\u001b[1;32m     10\u001b[0m plot_result_expectations([\n\u001b[1;32m     11\u001b[0m     (\n\u001b[1;32m     12\u001b[0m         result, P11p, \u001b[38;5;124m'\u001b[39m\u001b[38;5;124mrand\u001b[39m\u001b[38;5;124m'\u001b[39m,\n\u001b[0;32m   (...)\u001b[0m\n\u001b[1;32m     15\u001b[0m     \u001b[38;5;28;01mfor\u001b[39;00m nk, result \u001b[38;5;129;01min\u001b[39;00m \u001b[38;5;28mzip\u001b[39m(Nk_list, results_spectral_fit_nk)\n\u001b[1;32m     16\u001b[0m ]);\n",
      "Cell \u001b[0;32mIn[22], line 27\u001b[0m, in \u001b[0;36mgenerate_spectrum_results\u001b[0;34m(obp, params, Nk, max_depth)\u001b[0m\n\u001b[1;32m     22\u001b[0m     HEOM_spectral_fit \u001b[38;5;241m=\u001b[39m HEOMSolver(\n\u001b[1;32m     23\u001b[0m         Ltot, bath, max_depth\u001b[38;5;241m=\u001b[39mmax_depth, options\u001b[38;5;241m=\u001b[39moptions,\n\u001b[1;32m     24\u001b[0m     )\n\u001b[1;32m     26\u001b[0m \u001b[38;5;28;01mwith\u001b[39;00m timer(\u001b[38;5;124m\"\u001b[39m\u001b[38;5;124mODE solver time\u001b[39m\u001b[38;5;124m\"\u001b[39m):\n\u001b[0;32m---> 27\u001b[0m     results_spectral_fit \u001b[38;5;241m=\u001b[39m (\u001b[43mHEOM_spectral_fit\u001b[49m\u001b[38;5;241;43m.\u001b[39;49m\u001b[43mrun\u001b[49m\u001b[43m(\u001b[49m\u001b[43mrho0\u001b[49m\u001b[43m,\u001b[49m\u001b[43m \u001b[49m\u001b[43mtlist\u001b[49m\u001b[43m)\u001b[49m)\n\u001b[1;32m     29\u001b[0m \u001b[38;5;28;01mreturn\u001b[39;00m results_spectral_fit\n",
      "File \u001b[0;32m~/qutip_gsoc_app/qutip/solver/heom/bofin_solvers.py:1114\u001b[0m, in \u001b[0;36mHEOMSolver.run\u001b[0;34m(self, state0, tlist, args, e_ops)\u001b[0m\n\u001b[1;32m   1047\u001b[0m \u001b[38;5;28;01mdef\u001b[39;00m \u001b[38;5;21mrun\u001b[39m(\u001b[38;5;28mself\u001b[39m, state0, tlist, \u001b[38;5;241m*\u001b[39m, args\u001b[38;5;241m=\u001b[39m\u001b[38;5;28;01mNone\u001b[39;00m, e_ops\u001b[38;5;241m=\u001b[39m\u001b[38;5;28;01mNone\u001b[39;00m):\n\u001b[1;32m   1048\u001b[0m \u001b[38;5;250m    \u001b[39m\u001b[38;5;124;03m\"\"\"\u001b[39;00m\n\u001b[1;32m   1049\u001b[0m \u001b[38;5;124;03m    Solve for the time evolution of the system.\u001b[39;00m\n\u001b[1;32m   1050\u001b[0m \n\u001b[0;32m   (...)\u001b[0m\n\u001b[1;32m   1112\u001b[0m \u001b[38;5;124;03m        list of attributes.\u001b[39;00m\n\u001b[1;32m   1113\u001b[0m \u001b[38;5;124;03m    \"\"\"\u001b[39;00m\n\u001b[0;32m-> 1114\u001b[0m     \u001b[38;5;28;01mreturn\u001b[39;00m \u001b[38;5;28;43msuper\u001b[39;49m\u001b[43m(\u001b[49m\u001b[43m)\u001b[49m\u001b[38;5;241;43m.\u001b[39;49m\u001b[43mrun\u001b[49m\u001b[43m(\u001b[49m\u001b[43mstate0\u001b[49m\u001b[43m,\u001b[49m\u001b[43m \u001b[49m\u001b[43mtlist\u001b[49m\u001b[43m,\u001b[49m\u001b[43m \u001b[49m\u001b[43margs\u001b[49m\u001b[38;5;241;43m=\u001b[39;49m\u001b[43margs\u001b[49m\u001b[43m,\u001b[49m\u001b[43m \u001b[49m\u001b[43me_ops\u001b[49m\u001b[38;5;241;43m=\u001b[39;49m\u001b[43me_ops\u001b[49m\u001b[43m)\u001b[49m\n",
      "File \u001b[0;32m~/qutip_gsoc_app/qutip/solver/solver_base.py:197\u001b[0m, in \u001b[0;36mSolver.run\u001b[0;34m(self, state0, tlist, e_ops, args)\u001b[0m\n\u001b[1;32m    192\u001b[0m stats[\u001b[38;5;124m'\u001b[39m\u001b[38;5;124mpreparation time\u001b[39m\u001b[38;5;124m'\u001b[39m] \u001b[38;5;241m+\u001b[39m\u001b[38;5;241m=\u001b[39m time() \u001b[38;5;241m-\u001b[39m _time_start\n\u001b[1;32m    194\u001b[0m progress_bar \u001b[38;5;241m=\u001b[39m progress_bars[\u001b[38;5;28mself\u001b[39m\u001b[38;5;241m.\u001b[39moptions[\u001b[38;5;124m'\u001b[39m\u001b[38;5;124mprogress_bar\u001b[39m\u001b[38;5;124m'\u001b[39m]](\n\u001b[1;32m    195\u001b[0m     \u001b[38;5;28mlen\u001b[39m(tlist)\u001b[38;5;241m-\u001b[39m\u001b[38;5;241m1\u001b[39m, \u001b[38;5;241m*\u001b[39m\u001b[38;5;241m*\u001b[39m\u001b[38;5;28mself\u001b[39m\u001b[38;5;241m.\u001b[39moptions[\u001b[38;5;124m'\u001b[39m\u001b[38;5;124mprogress_kwargs\u001b[39m\u001b[38;5;124m'\u001b[39m]\n\u001b[1;32m    196\u001b[0m )\n\u001b[0;32m--> 197\u001b[0m \u001b[43m\u001b[49m\u001b[38;5;28;43;01mfor\u001b[39;49;00m\u001b[43m \u001b[49m\u001b[43mt\u001b[49m\u001b[43m,\u001b[49m\u001b[43m \u001b[49m\u001b[43mstate\u001b[49m\u001b[43m \u001b[49m\u001b[38;5;129;43;01min\u001b[39;49;00m\u001b[43m \u001b[49m\u001b[38;5;28;43mself\u001b[39;49m\u001b[38;5;241;43m.\u001b[39;49m\u001b[43m_integrator\u001b[49m\u001b[38;5;241;43m.\u001b[39;49m\u001b[43mrun\u001b[49m\u001b[43m(\u001b[49m\u001b[43mtlist\u001b[49m\u001b[43m)\u001b[49m\u001b[43m:\u001b[49m\n\u001b[1;32m    198\u001b[0m \u001b[43m    \u001b[49m\u001b[43mprogress_bar\u001b[49m\u001b[38;5;241;43m.\u001b[39;49m\u001b[43mupdate\u001b[49m\u001b[43m(\u001b[49m\u001b[43m)\u001b[49m\n\u001b[1;32m    199\u001b[0m \u001b[43m    \u001b[49m\u001b[43mresults\u001b[49m\u001b[38;5;241;43m.\u001b[39;49m\u001b[43madd\u001b[49m\u001b[43m(\u001b[49m\u001b[43mt\u001b[49m\u001b[43m,\u001b[49m\u001b[43m \u001b[49m\u001b[38;5;28;43mself\u001b[39;49m\u001b[38;5;241;43m.\u001b[39;49m\u001b[43m_restore_state\u001b[49m\u001b[43m(\u001b[49m\u001b[43mstate\u001b[49m\u001b[43m,\u001b[49m\u001b[43m \u001b[49m\u001b[43mcopy\u001b[49m\u001b[38;5;241;43m=\u001b[39;49m\u001b[38;5;28;43;01mFalse\u001b[39;49;00m\u001b[43m)\u001b[49m\u001b[43m)\u001b[49m\n",
      "File \u001b[0;32m~/qutip_gsoc_app/qutip/solver/integrator/integrator.py:201\u001b[0m, in \u001b[0;36mIntegrator.run\u001b[0;34m(self, tlist)\u001b[0m\n\u001b[1;32m    187\u001b[0m \u001b[38;5;250m\u001b[39m\u001b[38;5;124;03m\"\"\"\u001b[39;00m\n\u001b[1;32m    188\u001b[0m \u001b[38;5;124;03mIntegrate the system yielding the state for each times in tlist.\u001b[39;00m\n\u001b[1;32m    189\u001b[0m \n\u001b[0;32m   (...)\u001b[0m\n\u001b[1;32m    198\u001b[0m \u001b[38;5;124;03m    The state of the solver at each ``t`` of tlist.\u001b[39;00m\n\u001b[1;32m    199\u001b[0m \u001b[38;5;124;03m\"\"\"\u001b[39;00m\n\u001b[1;32m    200\u001b[0m \u001b[38;5;28;01mfor\u001b[39;00m t \u001b[38;5;129;01min\u001b[39;00m tlist[\u001b[38;5;241m1\u001b[39m:]:\n\u001b[0;32m--> 201\u001b[0m     \u001b[38;5;28;01myield\u001b[39;00m \u001b[38;5;28;43mself\u001b[39;49m\u001b[38;5;241;43m.\u001b[39;49m\u001b[43mintegrate\u001b[49m\u001b[43m(\u001b[49m\u001b[43mt\u001b[49m\u001b[43m,\u001b[49m\u001b[43m \u001b[49m\u001b[38;5;28;43;01mFalse\u001b[39;49;00m\u001b[43m)\u001b[49m\n",
      "File \u001b[0;32m~/qutip_gsoc_app/qutip/solver/integrator/scipy_integrator.py:110\u001b[0m, in \u001b[0;36mIntegratorScipyAdams.integrate\u001b[0;34m(self, t, copy)\u001b[0m\n\u001b[1;32m    108\u001b[0m \u001b[38;5;28mself\u001b[39m\u001b[38;5;241m.\u001b[39m_check_handle()\n\u001b[1;32m    109\u001b[0m \u001b[38;5;28;01mif\u001b[39;00m t \u001b[38;5;241m!=\u001b[39m \u001b[38;5;28mself\u001b[39m\u001b[38;5;241m.\u001b[39m_ode_solver\u001b[38;5;241m.\u001b[39mt:\n\u001b[0;32m--> 110\u001b[0m     \u001b[38;5;28;43mself\u001b[39;49m\u001b[38;5;241;43m.\u001b[39;49m\u001b[43m_ode_solver\u001b[49m\u001b[38;5;241;43m.\u001b[39;49m\u001b[43mintegrate\u001b[49m\u001b[43m(\u001b[49m\u001b[43mt\u001b[49m\u001b[43m)\u001b[49m\n\u001b[1;32m    111\u001b[0m \u001b[38;5;28;01mreturn\u001b[39;00m \u001b[38;5;28mself\u001b[39m\u001b[38;5;241m.\u001b[39mget_state(copy)\n",
      "File \u001b[0;32m~/anaconda3/envs/qutip-dev/lib/python3.12/site-packages/scipy/integrate/_ode.py:431\u001b[0m, in \u001b[0;36mode.integrate\u001b[0;34m(self, t, step, relax)\u001b[0m\n\u001b[1;32m    428\u001b[0m     mth \u001b[38;5;241m=\u001b[39m \u001b[38;5;28mself\u001b[39m\u001b[38;5;241m.\u001b[39m_integrator\u001b[38;5;241m.\u001b[39mrun\n\u001b[1;32m    430\u001b[0m \u001b[38;5;28;01mtry\u001b[39;00m:\n\u001b[0;32m--> 431\u001b[0m     \u001b[38;5;28mself\u001b[39m\u001b[38;5;241m.\u001b[39m_y, \u001b[38;5;28mself\u001b[39m\u001b[38;5;241m.\u001b[39mt \u001b[38;5;241m=\u001b[39m \u001b[43mmth\u001b[49m\u001b[43m(\u001b[49m\u001b[38;5;28;43mself\u001b[39;49m\u001b[38;5;241;43m.\u001b[39;49m\u001b[43mf\u001b[49m\u001b[43m,\u001b[49m\u001b[43m \u001b[49m\u001b[38;5;28;43mself\u001b[39;49m\u001b[38;5;241;43m.\u001b[39;49m\u001b[43mjac\u001b[49m\u001b[43m \u001b[49m\u001b[38;5;129;43;01mor\u001b[39;49;00m\u001b[43m \u001b[49m\u001b[43m(\u001b[49m\u001b[38;5;28;43;01mlambda\u001b[39;49;00m\u001b[43m:\u001b[49m\u001b[43m \u001b[49m\u001b[38;5;28;43;01mNone\u001b[39;49;00m\u001b[43m)\u001b[49m\u001b[43m,\u001b[49m\n\u001b[1;32m    432\u001b[0m \u001b[43m                          \u001b[49m\u001b[38;5;28;43mself\u001b[39;49m\u001b[38;5;241;43m.\u001b[39;49m\u001b[43m_y\u001b[49m\u001b[43m,\u001b[49m\u001b[43m \u001b[49m\u001b[38;5;28;43mself\u001b[39;49m\u001b[38;5;241;43m.\u001b[39;49m\u001b[43mt\u001b[49m\u001b[43m,\u001b[49m\u001b[43m \u001b[49m\u001b[43mt\u001b[49m\u001b[43m,\u001b[49m\n\u001b[1;32m    433\u001b[0m \u001b[43m                          \u001b[49m\u001b[38;5;28;43mself\u001b[39;49m\u001b[38;5;241;43m.\u001b[39;49m\u001b[43mf_params\u001b[49m\u001b[43m,\u001b[49m\u001b[43m \u001b[49m\u001b[38;5;28;43mself\u001b[39;49m\u001b[38;5;241;43m.\u001b[39;49m\u001b[43mjac_params\u001b[49m\u001b[43m)\u001b[49m\n\u001b[1;32m    434\u001b[0m \u001b[38;5;28;01mexcept\u001b[39;00m \u001b[38;5;167;01mSystemError\u001b[39;00m \u001b[38;5;28;01mas\u001b[39;00m e:\n\u001b[1;32m    435\u001b[0m     \u001b[38;5;66;03m# f2py issue with tuple returns, see ticket 1187.\u001b[39;00m\n\u001b[1;32m    436\u001b[0m     \u001b[38;5;28;01mraise\u001b[39;00m \u001b[38;5;167;01mValueError\u001b[39;00m(\n\u001b[1;32m    437\u001b[0m         \u001b[38;5;124m'\u001b[39m\u001b[38;5;124mFunction to integrate must not return a tuple.\u001b[39m\u001b[38;5;124m'\u001b[39m\n\u001b[1;32m    438\u001b[0m     ) \u001b[38;5;28;01mfrom\u001b[39;00m \u001b[38;5;21;01me\u001b[39;00m\n",
      "File \u001b[0;32m~/anaconda3/envs/qutip-dev/lib/python3.12/site-packages/scipy/integrate/_ode.py:1008\u001b[0m, in \u001b[0;36mvode.run\u001b[0;34m(self, f, jac, y0, t0, t1, f_params, jac_params)\u001b[0m\n\u001b[1;32m   1004\u001b[0m     jac \u001b[38;5;241m=\u001b[39m _vode_banded_jac_wrapper(jac, \u001b[38;5;28mself\u001b[39m\u001b[38;5;241m.\u001b[39mml, jac_params)\n\u001b[1;32m   1006\u001b[0m args \u001b[38;5;241m=\u001b[39m ((f, jac, y0, t0, t1) \u001b[38;5;241m+\u001b[39m \u001b[38;5;28mtuple\u001b[39m(\u001b[38;5;28mself\u001b[39m\u001b[38;5;241m.\u001b[39mcall_args) \u001b[38;5;241m+\u001b[39m\n\u001b[1;32m   1007\u001b[0m         (f_params, jac_params))\n\u001b[0;32m-> 1008\u001b[0m y1, t, istate \u001b[38;5;241m=\u001b[39m \u001b[38;5;28;43mself\u001b[39;49m\u001b[38;5;241;43m.\u001b[39;49m\u001b[43mrunner\u001b[49m\u001b[43m(\u001b[49m\u001b[38;5;241;43m*\u001b[39;49m\u001b[43margs\u001b[49m\u001b[43m)\u001b[49m\n\u001b[1;32m   1009\u001b[0m \u001b[38;5;28mself\u001b[39m\u001b[38;5;241m.\u001b[39mistate \u001b[38;5;241m=\u001b[39m istate\n\u001b[1;32m   1010\u001b[0m \u001b[38;5;28;01mif\u001b[39;00m istate \u001b[38;5;241m<\u001b[39m \u001b[38;5;241m0\u001b[39m:\n",
      "File \u001b[0;32m~/qutip_gsoc_app/qutip/solver/integrator/scipy_integrator.py:63\u001b[0m, in \u001b[0;36mIntegratorScipyAdams._mul_np_vec\u001b[0;34m(self, t, vec)\u001b[0m\n\u001b[1;32m     57\u001b[0m     \u001b[38;5;28mself\u001b[39m\u001b[38;5;241m.\u001b[39m_ode_solver\u001b[38;5;241m.\u001b[39m_integrator \u001b[38;5;241m=\u001b[39m \u001b[38;5;28mself\u001b[39m\u001b[38;5;241m.\u001b[39m_zvode(\n\u001b[1;32m     58\u001b[0m         method\u001b[38;5;241m=\u001b[39m\u001b[38;5;28mself\u001b[39m\u001b[38;5;241m.\u001b[39mmethod,\n\u001b[1;32m     59\u001b[0m         \u001b[38;5;241m*\u001b[39m\u001b[38;5;241m*\u001b[39m\u001b[38;5;28mself\u001b[39m\u001b[38;5;241m.\u001b[39moptions,\n\u001b[1;32m     60\u001b[0m     )\n\u001b[1;32m     61\u001b[0m     \u001b[38;5;28mself\u001b[39m\u001b[38;5;241m.\u001b[39mname \u001b[38;5;241m=\u001b[39m \u001b[38;5;124m\"\u001b[39m\u001b[38;5;124mscipy zvode \u001b[39m\u001b[38;5;124m\"\u001b[39m \u001b[38;5;241m+\u001b[39m \u001b[38;5;28mself\u001b[39m\u001b[38;5;241m.\u001b[39mmethod\n\u001b[0;32m---> 63\u001b[0m \u001b[38;5;28;01mdef\u001b[39;00m \u001b[38;5;21m_mul_np_vec\u001b[39m(\u001b[38;5;28mself\u001b[39m, t, vec):\n\u001b[1;32m     64\u001b[0m \u001b[38;5;250m    \u001b[39m\u001b[38;5;124;03m\"\"\"\u001b[39;00m\n\u001b[1;32m     65\u001b[0m \u001b[38;5;124;03m    Interface between scipy which use numpy and the driver, which use data.\u001b[39;00m\n\u001b[1;32m     66\u001b[0m \u001b[38;5;124;03m    \"\"\"\u001b[39;00m\n\u001b[1;32m     67\u001b[0m     state \u001b[38;5;241m=\u001b[39m _data\u001b[38;5;241m.\u001b[39mdense\u001b[38;5;241m.\u001b[39mfast_from_numpy(vec)\n",
      "\u001b[0;31mKeyboardInterrupt\u001b[0m: "
     ]
    }
   ],
   "source": [
    "# generate results for different number of Matsubara terms per Lorentzian\n",
    "# for max number of Lorentzians:\n",
    "\n",
    "Nk_list = range(2, 4)\n",
    "results_spectral_fit_nk = [\n",
    "    generate_spectrum_results(obp, params_k[-1], Nk=Nk, max_depth=max_depth)\n",
    "    for Nk in Nk_list\n",
    "]\n",
    "\n",
    "plot_result_expectations([\n",
    "    (\n",
    "        result, P11p, 'rand',\n",
    "        f\"P11 (spectral fit) K={nk}\",\n",
    "    )\n",
    "    for nk, result in zip(Nk_list, results_spectral_fit_nk)\n",
    "]);"
   ]
  },
  {
   "cell_type": "code",
   "execution_count": null,
   "id": "91d69d95",
   "metadata": {},
   "outputs": [],
   "source": [
    "# Generate results for different depths:\n",
    "\n",
    "Nc_list = range(2, max_depth)\n",
    "results_spectral_fit_nc = [\n",
    "    generate_spectrum_results(obp, params_k[-1], Nk=1, max_depth=Nc)\n",
    "    for Nc in Nc_list\n",
    "]\n",
    "\n",
    "plot_result_expectations([\n",
    "    (\n",
    "        result, P11p, 'rand',\n",
    "        f\"P11 (spectral fit) $N_C={nc}$\",\n",
    "    )\n",
    "    for nc, result in zip(Nc_list, results_spectral_fit_nc)\n",
    "]);"
   ]
  },
  {
   "cell_type": "markdown",
   "id": "6466169d",
   "metadata": {},
   "source": [
    "We now combine the fitting and correlation function data into one large plot."
   ]
  },
  {
   "cell_type": "code",
   "execution_count": null,
   "id": "f60baa61",
   "metadata": {},
   "outputs": [],
   "source": [
    "def correlation_approx_matsubara(t, ck, vk):\n",
    "    \"\"\" Calculate the approximate real or imaginary part of the\n",
    "        correlation function from the matsubara expansion co-efficients.\n",
    "    \"\"\"\n",
    "    ck = np.array(ck)\n",
    "    vk = np.array(vk)\n",
    "    return np.sum(ck[:, None] * np.exp(-vk[:, None] * t), axis=0)"
   ]
  },
  {
   "cell_type": "code",
   "execution_count": null,
   "id": "bc12d8e8",
   "metadata": {},
   "outputs": [],
   "source": [
    "def plot_cr_fit_vs_actual(t, ckAR, vkAR, C, axes):\n",
    "    \"\"\" Plot the C_R(t) fit. \"\"\"\n",
    "    yR = correlation_approx_matsubara(t, ckAR, vkAR)\n",
    "\n",
    "    axes.plot(\n",
    "        t, np.real(C),\n",
    "        \"r\", linewidth=3, label=\"Original\",\n",
    "    )\n",
    "    axes.plot(\n",
    "        t, np.real(yR),\n",
    "        \"g\", dashes=[3, 3], linewidth=2, label=\"Reconstructed\",\n",
    "    )\n",
    "\n",
    "    axes.legend(loc=0)\n",
    "    axes.set_ylabel(r'$C_R(t)$', fontsize=28)\n",
    "    axes.set_xlabel(r'$t\\;\\omega_c$', fontsize=28)\n",
    "    axes.locator_params(axis='y', nbins=4)\n",
    "    axes.locator_params(axis='x', nbins=4)\n",
    "    axes.text(0.15, 0.85, \"(a)\", fontsize=28, transform=axes.transAxes)\n",
    "\n",
    "\n",
    "def plot_ci_fit_vs_actual(t, ckAI, vkAI, C, axes):\n",
    "    \"\"\" Plot the C_I(t) fit. \"\"\"\n",
    "    yI = correlation_approx_matsubara(t, ckAI, vkAI)\n",
    "\n",
    "    axes.plot(\n",
    "        t, np.imag(C),\n",
    "        \"r\", linewidth=3, label=\"Original\",\n",
    "    )\n",
    "    axes.plot(\n",
    "        t, np.real(yI),\n",
    "        \"g\", dashes=[3, 3], linewidth=2, label=\"Reconstructed\",\n",
    "    )\n",
    "\n",
    "    axes.legend(loc=0)\n",
    "    axes.set_ylabel(r'$C_I(t)$', fontsize=28)\n",
    "    axes.set_xlabel(r'$t\\;\\omega_c$', fontsize=28)\n",
    "    axes.locator_params(axis='y', nbins=4)\n",
    "    axes.locator_params(axis='x', nbins=4)\n",
    "    axes.text(0.80, 0.80, \"(b)\", fontsize=28, transform=axes.transAxes)\n",
    "\n",
    "\n",
    "def plot_jw_fit_vs_actual(bath_fit, obp, axes):\n",
    "    \"\"\" Plot the J(w) fit. \"\"\"\n",
    "    [lam, gamma, w0] = bath_fit\n",
    "    [alpha, wc] = [obp.alpha, obp.wc]\n",
    "\n",
    "    w = np.linspace(0, 25, 20000)\n",
    "\n",
    "    J_orig = ohmic_spectral_density(w, alpha=alpha, wc=wc)\n",
    "    J_fit = spectral_density_approx(w, lam, gamma, w0)\n",
    "\n",
    "    axes.plot(\n",
    "        w, J_orig,\n",
    "        \"r\", linewidth=3, label=r\"$J(\\omega)$ original\",\n",
    "    )\n",
    "    axes.plot(\n",
    "        w, J_fit,\n",
    "        \"g\", dashes=[3, 3], linewidth=2, label=r\"$J(\\omega)$ Fit $k_J = 4$\",\n",
    "    )\n",
    "\n",
    "    axes.legend(loc=0)\n",
    "    axes.set_ylabel(r'$J(\\omega)$', fontsize=28)\n",
    "    axes.set_xlabel(r'$\\omega/\\omega_c$', fontsize=28)\n",
    "    axes.locator_params(axis='y', nbins=4)\n",
    "    axes.locator_params(axis='x', nbins=4)\n",
    "    axes.text(0.15, 0.85, \"(c)\", fontsize=28, transform=axes.transAxes)\n",
    "\n",
    "\n",
    "def plot_sw_fit_vs_actual(bath_fit, obp, axes):\n",
    "    \"\"\" Plot the S(w) fit. \"\"\"\n",
    "    [lam, gamma, w0] = bath_fit\n",
    "    [alpha, wc, beta] = [obp.alpha, obp.wc, obp.beta]\n",
    "\n",
    "    # avoid the pole in the fit around zero:\n",
    "    w = np.concatenate(\n",
    "        [np.linspace(-10, -0.1, 5000),\n",
    "         np.linspace(0.1, 10, 5000)],\n",
    "    )\n",
    "\n",
    "    s_orig = ohmic_power_spectrum(w, alpha=alpha, wc=wc, beta=beta)\n",
    "    s_fit = (\n",
    "        spectral_density_approx(w, lam, gamma, w0) *\n",
    "        ((1 / (np.e**(w * beta) - 1)) + 1) * 2\n",
    "    )\n",
    "\n",
    "    axes.plot(w, s_orig, \"r\", linewidth=3, label=\"Original\")\n",
    "    axes.plot(w, s_fit, \"g\", dashes=[3, 3], linewidth=2, label=\"Reconstructed\")\n",
    "\n",
    "    axes.legend()\n",
    "    axes.set_ylabel(r'$S(\\omega)$', fontsize=28)\n",
    "    axes.set_xlabel(r'$\\omega/\\omega_c$', fontsize=28)\n",
    "    axes.locator_params(axis='y', nbins=4)\n",
    "    axes.locator_params(axis='x', nbins=4)\n",
    "    axes.text(0.15, 0.85, \"(d)\", fontsize=28, transform=axes.transAxes)\n",
    "\n",
    "\n",
    "def plot_matsubara_spectrum_fit_vs_actual(\n",
    "    t, C, matsubara_fit, bath_fit, obp,\n",
    "):\n",
    "    \"\"\" Plot the Matsubara fit of the spectrum . \"\"\"\n",
    "    fig = plt.figure(figsize=(12, 10))\n",
    "    grid = plt.GridSpec(2, 2, wspace=0.4, hspace=0.3)\n",
    "\n",
    "    [ckAR, vkAR, ckAI, vkAI] = matsubara_fit\n",
    "\n",
    "    plot_cr_fit_vs_actual(\n",
    "        t, ckAR, vkAR, C,\n",
    "        axes=fig.add_subplot(grid[0, 0]),\n",
    "    )\n",
    "    plot_ci_fit_vs_actual(\n",
    "        t, ckAI, vkAI, C,\n",
    "        axes=fig.add_subplot(grid[0, 1]),\n",
    "    )\n",
    "    plot_jw_fit_vs_actual(\n",
    "        bath_fit, obp,\n",
    "        axes=fig.add_subplot(grid[1, 0]),\n",
    "    )\n",
    "    plot_sw_fit_vs_actual(\n",
    "        bath_fit, obp,\n",
    "        axes=fig.add_subplot(grid[1, 1]),\n",
    "    )\n",
    "\n",
    "    return fig"
   ]
  },
  {
   "cell_type": "code",
   "execution_count": null,
   "id": "a9254cfe",
   "metadata": {},
   "outputs": [],
   "source": [
    "t = np.linspace(0, 15, 100)\n",
    "C = ohmic_correlation(t, alpha=obp.alpha, wc=obp.wc, beta=obp.beta)\n",
    "\n",
    "ckAR, vkAR, ckAI, vkAI, terminator = (\n",
    "    matsubara_coefficients_from_spectral_fit(\n",
    "        lam, gamma, w0, beta=obp.beta, Q=obp.Q, Nk=1,\n",
    "    )\n",
    ")\n",
    "\n",
    "matsubara_fit = [ckAR, vkAR, ckAI, vkAI]\n",
    "bath_fit = [lam, gamma, w0]\n",
    "\n",
    "plot_matsubara_spectrum_fit_vs_actual(\n",
    "    t, C, matsubara_fit,\n",
    "    bath_fit, obp,\n",
    ");"
   ]
  },
  {
   "cell_type": "markdown",
   "id": "79c90d62",
   "metadata": {},
   "source": [
    "## Building the HEOM bath by fitting the correlation function"
   ]
  },
  {
   "cell_type": "markdown",
   "id": "e87e8d35",
   "metadata": {},
   "source": [
    "Having successfully fitted the spectral density and used the result to calculate the Matsubara expansion and terminator for the HEOM bosonic bath, we now proceed to the second case of fitting the correlation function itself instead.\n",
    "\n",
    "Here we fit the real and imaginary parts seperately, using the following ansatz\n",
    "\n",
    "$$C_R^F(t) = \\sum_{i=1}^{k_R} c_R^ie^{-\\gamma_R^i t}\\cos(\\omega_R^i t)$$\n",
    "\n",
    "$$C_I^F(t) = \\sum_{i=1}^{k_I} c_I^ie^{-\\gamma_I^i t}\\sin(\\omega_I^i t)$$"
   ]
  },
  {
   "cell_type": "code",
   "execution_count": null,
   "id": "e1883b3e",
   "metadata": {},
   "outputs": [],
   "source": [
    "# The approximate correlation functions and a helper for fitting\n",
    "# the approximate correlation function to values calculated from\n",
    "# the analytical formula:\n",
    "\n",
    "def correlation_approx_real(t, a, b, c):\n",
    "    \"\"\" Calculate the fitted value of the function for the given parameters.\n",
    "    \"\"\"\n",
    "    a = np.array(a)\n",
    "    b = np.array(b)\n",
    "    c = np.array(c)\n",
    "    return np.sum(\n",
    "        a[:, None] * np.exp(b[:, None] * t) * np.cos(c[:, None] * t),\n",
    "        axis=0,\n",
    "    )\n",
    "\n",
    "\n",
    "def correlation_approx_imag(t, a, b, c):\n",
    "    \"\"\" Calculate the fitted value of the function for the given parameters.\n",
    "    \"\"\"\n",
    "    a = np.array(a)\n",
    "    b = np.array(b)\n",
    "    c = np.array(c)\n",
    "    return np.sum(\n",
    "        a[:, None] * np.exp(b[:, None] * t) * np.sin(c[:, None] * t),\n",
    "        axis=0,\n",
    "    )\n",
    "\n",
    "\n",
    "def fit_correlation_real(C, t, wc, N):\n",
    "    \"\"\" Fit the spectral density with N underdamped oscillators. \"\"\"\n",
    "    sigma = [0.1] * len(t)\n",
    "\n",
    "    C_max = abs(max(C, key=abs))\n",
    "\n",
    "    guesses = pack([C_max] * N, [-wc] * N, [wc] * N)\n",
    "    lower_bounds = pack([-20 * C_max] * N, [-np.inf] * N, [0.] * N)\n",
    "    upper_bounds = pack([20 * C_max] * N, [0.1] * N, [np.inf] * N)\n",
    "\n",
    "    params, _ = curve_fit(\n",
    "        lambda x, *params: correlation_approx_real(t, *unpack(params)),\n",
    "        t, C,\n",
    "        p0=guesses,\n",
    "        bounds=(lower_bounds, upper_bounds),\n",
    "        sigma=sigma,\n",
    "        maxfev=1000000000,\n",
    "    )\n",
    "\n",
    "    return unpack(params)\n",
    "\n",
    "\n",
    "def fit_correlation_imag(C, t, wc, N):\n",
    "    \"\"\" Fit the spectral density with N underdamped oscillators. \"\"\"\n",
    "    sigma = [0.0001] * len(t)\n",
    "\n",
    "    C_max = abs(max(C, key=abs))\n",
    "\n",
    "    guesses = pack([-C_max] * N, [-2] * N, [1] * N)\n",
    "    lower_bounds = pack([-5 * C_max] * N, [-100] * N, [0.] * N)\n",
    "    upper_bounds = pack([5 * C_max] * N, [0.01] * N, [100] * N)\n",
    "\n",
    "    params, _ = curve_fit(\n",
    "        lambda x, *params: correlation_approx_imag(t, *unpack(params)),\n",
    "        t, C,\n",
    "        p0=guesses,\n",
    "        bounds=(lower_bounds, upper_bounds),\n",
    "        sigma=sigma,\n",
    "        maxfev=1000000000,\n",
    "    )\n",
    "\n",
    "    return unpack(params)"
   ]
  },
  {
   "cell_type": "code",
   "execution_count": null,
   "id": "0503d1db",
   "metadata": {},
   "outputs": [],
   "source": [
    "t = np.linspace(0, 15, 15000)\n",
    "C = ohmic_correlation(t, alpha=obp.alpha, wc=obp.wc, beta=obp.beta)\n",
    "\n",
    "params_k_real = [\n",
    "    fit_correlation_real(np.real(C), t, wc=obp.wc, N=i+1)\n",
    "    for i in range(3)\n",
    "]\n",
    "\n",
    "params_k_imag = [\n",
    "    fit_correlation_imag(np.imag(C), t, wc=obp.wc, N=i+1)\n",
    "    for i in range(3)\n",
    "]"
   ]
  },
  {
   "cell_type": "code",
   "execution_count": null,
   "id": "9372964c",
   "metadata": {},
   "outputs": [],
   "source": [
    "for k, params in enumerate(params_k_real):\n",
    "    lam, gamma, w0 = params\n",
    "    y = correlation_approx_real(t, lam, gamma, w0)\n",
    "    print(f\"Parameters [k={k}]: lam={lam}; gamma={gamma}; w0={w0}\")\n",
    "    plt.plot(t, np.real(C), label=\"C_R(t) analytic\")\n",
    "    plt.plot(t, y, label=f\"C_R(t) k={k + 1}\")\n",
    "    plt.legend()\n",
    "    plt.show()"
   ]
  },
  {
   "cell_type": "code",
   "execution_count": null,
   "id": "a268386d",
   "metadata": {},
   "outputs": [],
   "source": [
    "for k, params in enumerate(params_k_imag):\n",
    "    lam, gamma, w0 = params\n",
    "    y = correlation_approx_imag(t, lam, gamma, w0)\n",
    "    print(f\"Parameters [k={k}]: lam={lam}; gamma={gamma}; w0={w0}\")\n",
    "    plt.plot(t, np.imag(C), label=\"C_I(t) analytic\")\n",
    "    plt.plot(t, y, label=f\"C_I(t) k={k + 1}\")\n",
    "    plt.legend()\n",
    "    plt.show()"
   ]
  },
  {
   "cell_type": "markdown",
   "id": "4f04e6ad",
   "metadata": {},
   "source": [
    "Now we construct the `BosonicBath` co-efficients and frequencies from the fit to the correlation function:"
   ]
  },
  {
   "cell_type": "code",
   "execution_count": null,
   "id": "6150d0ae",
   "metadata": {},
   "outputs": [],
   "source": [
    "def matsubara_coefficients_from_corr_fit_real(lam, gamma, w0):\n",
    "    \"\"\" Return the matsubara coefficients for the imaginary part\n",
    "        of the correlation function.\n",
    "    \"\"\"\n",
    "    ckAR = [0.5 * x + 0j for x in lam]  # the 0.5 is from the cosine\n",
    "    # extend the list with the complex conjugates:\n",
    "    ckAR.extend(np.conjugate(ckAR))\n",
    "\n",
    "    vkAR = [-x - 1.0j * y for x, y in zip(gamma, w0)]\n",
    "    vkAR.extend([-x + 1.0j * y for x, y in zip(gamma, w0)])\n",
    "\n",
    "    return ckAR, vkAR\n",
    "\n",
    "\n",
    "def matsubara_coefficients_from_corr_fit_imag(lam, gamma, w0):\n",
    "    \"\"\" Return the matsubara coefficients for the imaginary part\n",
    "        of the correlation function.\n",
    "    \"\"\"\n",
    "    ckAI = [-0.5j * x for x in lam]  # the 0.5 is from the sine\n",
    "    # extend the list with the complex conjugates:\n",
    "    ckAI.extend(np.conjugate(ckAI))\n",
    "\n",
    "    vkAI = [-x - 1.0j * y for x, y in zip(gamma, w0)]\n",
    "    vkAI.extend([-x + 1.0j * y for x, y in zip(gamma, w0)])\n",
    "\n",
    "    return ckAI, vkAI"
   ]
  },
  {
   "cell_type": "code",
   "execution_count": null,
   "id": "b9b5d7be",
   "metadata": {},
   "outputs": [],
   "source": [
    "ckAR, vkAR = matsubara_coefficients_from_corr_fit_real(*params_k_real[-1])\n",
    "ckAI, vkAI = matsubara_coefficients_from_corr_fit_imag(*params_k_imag[-1])"
   ]
  },
  {
   "cell_type": "code",
   "execution_count": null,
   "id": "e581be18",
   "metadata": {},
   "outputs": [],
   "source": [
    "def corr_spectrum_approx(w, ckAR, vkAR, ckAI, vkAI):\n",
    "    \"\"\" Calculates the approximate power spectrum from ck and vk. \"\"\"\n",
    "    S = np.zeros(len(w), dtype=np.complex128)\n",
    "    for ck, vk in zip(ckAR, vkAR):\n",
    "        S += (\n",
    "            2 * ck * np.real(vk) /\n",
    "            ((w - np.imag(vk))**2 + (np.real(vk)**2))\n",
    "        )\n",
    "    for ck, vk in zip(ckAI, vkAI):\n",
    "        S += (\n",
    "            2 * 1.0j * ck * np.real(vk) /\n",
    "            ((w - np.imag(vk))**2 + (np.real(vk)**2))\n",
    "        )\n",
    "    return S"
   ]
  },
  {
   "cell_type": "code",
   "execution_count": null,
   "id": "d8f1f227",
   "metadata": {},
   "outputs": [],
   "source": [
    "def plot_jw_correlation_fit_vs_actual(matsubara_fit, obp, axes):\n",
    "    \"\"\" Plot J(w) from the correlation fit. \"\"\"\n",
    "    [ckAR, vkAR, ckAI, vkAI] = matsubara_fit\n",
    "    [alpha, wc] = [obp.alpha, obp.wc]\n",
    "\n",
    "    w = np.linspace(0.001, 25, 20000)\n",
    "\n",
    "    J_orig = ohmic_spectral_density(w, alpha=alpha, wc=wc)\n",
    "    J_fit = np.real(\n",
    "        corr_spectrum_approx(w, ckAR, vkAR, ckAI, vkAI) /\n",
    "        (((1 / (np.e**(w * obp.beta) - 1)) + 1) * 2)\n",
    "    )\n",
    "\n",
    "    axes.plot(\n",
    "        w, J_orig,\n",
    "        \"r\", linewidth=3, label=r\"$J(\\omega)$ original\",\n",
    "    )\n",
    "    axes.plot(\n",
    "        w, J_fit,\n",
    "        \"g\", dashes=[3, 3], linewidth=2, label=r\"$J(\\omega)$ fit\",\n",
    "    )\n",
    "\n",
    "    axes.legend(loc=0)\n",
    "    axes.set_ylabel(r'$J(\\omega)$', fontsize=28)\n",
    "    axes.set_xlabel(r'$\\omega/\\omega_c$', fontsize=28)\n",
    "    axes.locator_params(axis='y', nbins=4)\n",
    "    axes.locator_params(axis='x', nbins=4)\n",
    "    axes.text(3, 1.1, \"(c)\", fontsize=28)\n",
    "\n",
    "\n",
    "def plot_sw_correlation_fit_vs_actual(matsubara_fit, obp, axes):\n",
    "    \"\"\" Plot S(W) from the correlation fit. \"\"\"\n",
    "    [ckAR, vkAR, ckAI, vkAI] = matsubara_fit\n",
    "    [alpha, wc, beta] = [obp.alpha, obp.wc, obp.beta]\n",
    "\n",
    "    # avoid the pole in the fit around zero:\n",
    "    w = np.concatenate([\n",
    "        np.linspace(-10, -0.1, 5000),\n",
    "        np.linspace(0.1, 10, 5000),\n",
    "    ])\n",
    "\n",
    "    s_orig = ohmic_power_spectrum(w, alpha=alpha, wc=wc, beta=beta)\n",
    "    s_fit = corr_spectrum_approx(w, ckAR, vkAR, ckAI, vkAI)\n",
    "\n",
    "    axes.plot(\n",
    "        w, s_orig,\n",
    "        \"r\", linewidth=3, label=\"Original\",\n",
    "    )\n",
    "    axes.plot(\n",
    "        w, s_fit,\n",
    "        \"g\", dashes=[3, 3], linewidth=2, label=\"Reconstructed\",\n",
    "    )\n",
    "\n",
    "    axes.legend()\n",
    "    axes.set_ylabel(r'$S(\\omega)$', fontsize=28)\n",
    "    axes.set_xlabel(r'$\\omega/\\omega_c$', fontsize=28)\n",
    "    axes.locator_params(axis='y', nbins=4)\n",
    "    axes.locator_params(axis='x', nbins=4)\n",
    "    axes.text(0.15, 0.85, \"(d)\", fontsize=28, transform=axes.transAxes)\n",
    "\n",
    "\n",
    "def plot_matsubara_correlation_fit_vs_actual(t, C, matsubara_fit, obp):\n",
    "    fig = plt.figure(figsize=(12, 10))\n",
    "    grid = plt.GridSpec(2, 2, wspace=0.4, hspace=0.3)\n",
    "\n",
    "    ckAR, vkAR, ckAI, vkAI = matsubara_fit\n",
    "\n",
    "    plot_cr_fit_vs_actual(\n",
    "        t, ckAR, vkAR, C,\n",
    "        axes=fig.add_subplot(grid[0, 0]),\n",
    "    )\n",
    "    plot_ci_fit_vs_actual(\n",
    "        t, ckAI, vkAI, C,\n",
    "        axes=fig.add_subplot(grid[0, 1]),\n",
    "    )\n",
    "    plot_jw_correlation_fit_vs_actual(\n",
    "        matsubara_fit, obp,\n",
    "        axes=fig.add_subplot(grid[1, 0]),\n",
    "    )\n",
    "    plot_sw_correlation_fit_vs_actual(\n",
    "        matsubara_fit, obp,\n",
    "        axes=fig.add_subplot(grid[1, 1]),\n",
    "    )"
   ]
  },
  {
   "cell_type": "code",
   "execution_count": null,
   "id": "32680798",
   "metadata": {},
   "outputs": [],
   "source": [
    "t = np.linspace(0, 15, 100)\n",
    "C = ohmic_correlation(t, alpha=obp.alpha, wc=obp.wc, beta=obp.beta)\n",
    "\n",
    "matsubara_fit = [ckAR, vkAR, ckAI, vkAI]\n",
    "\n",
    "plot_matsubara_correlation_fit_vs_actual(\n",
    "    t, C, matsubara_fit, obp,\n",
    ")"
   ]
  },
  {
   "cell_type": "code",
   "execution_count": null,
   "id": "1a00bfaf",
   "metadata": {},
   "outputs": [],
   "source": [
    "def generate_corr_results(params_real, params_imag, max_depth):\n",
    "    ckAR, vkAR = matsubara_coefficients_from_corr_fit_real(\n",
    "        *params_real\n",
    "    )\n",
    "    ckAI, vkAI = matsubara_coefficients_from_corr_fit_imag(\n",
    "        *params_imag\n",
    "    )\n",
    "\n",
    "    tlist = np.linspace(0, 30 * np.pi / Del, 600)\n",
    "    options = Options(\n",
    "        nsteps=15000, store_states=True, rtol=1e-12, atol=1e-12, method=\"bdf\",\n",
    "    )\n",
    "    # This problem is a little stiff, so we use  the BDF method to solve\n",
    "    # the ODE ^^^\n",
    "\n",
    "    with timer(\"RHS construction time\"):\n",
    "        bath = BosonicBath(obp.Q, ckAR, vkAR, ckAI, vkAI)\n",
    "        HEOM_corr_fit = HEOMSolver(\n",
    "            Hsys, bath, max_depth=max_depth, options=options,\n",
    "        )\n",
    "\n",
    "    with timer(\"ODE solver time\"):\n",
    "        results_corr_fit = (HEOM_corr_fit.run(rho0, tlist))\n",
    "\n",
    "    return results_corr_fit\n",
    "\n",
    "\n",
    "# Generate results for different number of lorentzians in fit:\n",
    "results_corr_fit_pk = [\n",
    "    print(f\"{pk + 1}\") or generate_corr_results(\n",
    "        params_real, params_imag, max_depth=max_depth,\n",
    "    )\n",
    "    for pk, (params_real, params_imag)\n",
    "    in enumerate(zip(params_k_real, params_k_imag))\n",
    "]"
   ]
  },
  {
   "cell_type": "code",
   "execution_count": null,
   "id": "7db32d9d",
   "metadata": {},
   "outputs": [],
   "source": [
    "plot_result_expectations([\n",
    "    (\n",
    "        result, P11p, 'rand',\n",
    "        f\"P11 (correlation fit) k_R=k_I={pk + 1}\",\n",
    "    )\n",
    "    for pk, result in enumerate(results_corr_fit_pk)\n",
    "]);"
   ]
  },
  {
   "cell_type": "code",
   "execution_count": null,
   "id": "6902bf9e",
   "metadata": {},
   "outputs": [],
   "source": [
    "fig, axes = plt.subplots(1, 1, sharex=True, figsize=(12, 7))\n",
    "\n",
    "plot_result_expectations([\n",
    "    (\n",
    "        results_corr_fit_pk[0], P11p,\n",
    "        'y', \"Correlation Function Fit $k_R=k_I=1$\",\n",
    "    ),\n",
    "    (\n",
    "        results_corr_fit_pk[2], P11p,\n",
    "        'y-.', \"Correlation Function Fit $k_R=k_I=3$\",\n",
    "    ),\n",
    "    (results_spectral_fit_pk[0], P11p, 'b', \"Spectral Density Fit $k_J=1$\"),\n",
    "    (results_spectral_fit_pk[2], P11p, 'g--', \"Spectral Density Fit $k_J=3$\"),\n",
    "    (results_spectral_fit_pk[3], P11p, 'r-.', \"Spectral Density Fit $k_J=4$\"),\n",
    "], axes=axes)\n",
    "\n",
    "axes.set_yticks([0.6, 0.8, 1])\n",
    "axes.set_ylabel(r'$\\rho_{11}$', fontsize=30)\n",
    "axes.set_xlabel(r'$t\\;\\omega_c$', fontsize=30)\n",
    "axes.legend(loc=0, fontsize=20);"
   ]
  },
  {
   "cell_type": "markdown",
   "id": "7e7e681d",
   "metadata": {},
   "source": [
    "## About"
   ]
  },
  {
   "cell_type": "code",
   "execution_count": null,
   "id": "8ce34619",
   "metadata": {},
   "outputs": [],
   "source": [
    "qutip.about()"
   ]
  },
  {
   "cell_type": "markdown",
   "id": "1e6d47b7",
   "metadata": {},
   "source": [
    "## Testing\n",
    "\n",
    "This section can include some tests to verify that the expected outputs are generated within the notebook. We put this section at the end of the notebook, so it's not interfering with the user experience. Please, define the tests using assert, so that the cell execution fails if a wrong output is generated."
   ]
  },
  {
   "cell_type": "code",
   "execution_count": null,
   "id": "02e1d11e",
   "metadata": {},
   "outputs": [],
   "source": [
    "assert np.allclose(\n",
    "    expect(P11p, results_spectral_fit_pk[2].states),\n",
    "    expect(P11p, results_spectral_fit_pk[3].states),\n",
    "    rtol=1e-2,\n",
    ")"
   ]
  }
 ],
 "metadata": {
  "jupytext": {
   "formats": "ipynb,md:myst"
  },
  "kernelspec": {
   "display_name": "qutip-dev",
   "language": "python",
   "name": "python3"
  },
  "language_info": {
   "codemirror_mode": {
    "name": "ipython",
    "version": 3
   },
   "file_extension": ".py",
   "mimetype": "text/x-python",
   "name": "python",
   "nbconvert_exporter": "python",
   "pygments_lexer": "ipython3",
   "version": "3.12.7"
  }
 },
 "nbformat": 4,
 "nbformat_minor": 5
}
