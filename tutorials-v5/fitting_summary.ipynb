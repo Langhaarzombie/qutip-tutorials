{
 "cells": [
  {
   "cell_type": "markdown",
   "id": "a2772b9b",
   "metadata": {},
   "source": [
    "# HEOM 1d: Spin-Bath model, fitting of spectrum and correlation functions"
   ]
  },
  {
   "cell_type": "markdown",
   "id": "d4f3eb64",
   "metadata": {},
   "source": [
    "## Introduction\n",
    "\n",
    "The HEOM method solves the dynamics and steady state of a system and its environment, the latter of which is encoded \n",
    "in a set of auxiliary density matrices.\n",
    "\n",
    "In this example we show the evolution of a single two-level system in contact with a single bosonic environment.\n",
    "\n",
    "The properties of the system are encoded in Hamiltonian, and a coupling operator which describes how it is coupled to the environment.\n",
    "\n",
    "The bosonic environment is implicitly assumed to obey a particular Hamiltonian ([see paper](https://arxiv.org/abs/2010.10806)), the parameters of which are encoded in the spectral density, and subsequently the free-bath correlation functions.\n",
    "\n",
    "In the example below we show how to model an Ohmic environment with exponential cut-off in three ways:\n",
    "\n",
    "* First we fit the spectral density with a set of underdamped brownian oscillator functions.\n",
    "* Second, we evaluate the correlation functions, and fit those with a certain choice of exponential functions.\n",
    "* Third, we use the available OhmicBath class \n",
    "\n",
    "In each case we will use the fit parameters to determine the correlation function expansion co-efficients needed to construct a description of the bath (i.e. a `BosonicBath` object) to supply to the `HEOMSolver` so that we can solve for the system dynamics."
   ]
  },
  {
   "cell_type": "markdown",
   "id": "0e624b73",
   "metadata": {},
   "source": [
    "## Setup"
   ]
  },
  {
   "cell_type": "code",
   "execution_count": 1,
   "id": "0028e918",
   "metadata": {},
   "outputs": [],
   "source": [
    "import numpy as np\n",
    "from matplotlib import pyplot as plt\n",
    "import qutip\n",
    "from qutip import (\n",
    "    basis,\n",
    "    expect,\n",
    "    sigmax,\n",
    "    sigmaz,\n",
    ")\n",
    "from qutip.solver.heom import (\n",
    "    HEOMSolver\n",
    ")\n",
    "from qutip.core.environment import BosonicEnvironment,OhmicEnvironment\n",
    "\n",
    "# Import mpmath functions for evaluation of gamma and zeta\n",
    "# functions in the expression for the correlation:\n",
    "\n",
    "from mpmath import mp\n",
    "\n",
    "mp.dps = 15\n",
    "mp.pretty = True\n",
    "\n",
    "%matplotlib inline"
   ]
  },
  {
   "cell_type": "markdown",
   "id": "9d44adc6",
   "metadata": {},
   "source": [
    "## System and bath definition\n",
    "\n",
    "Let us set up the system Hamiltonian, bath and system measurement operators:"
   ]
  },
  {
   "cell_type": "markdown",
   "id": "7c36a423",
   "metadata": {},
   "source": [
    "### System Hamiltonian"
   ]
  },
  {
   "cell_type": "code",
   "execution_count": 2,
   "id": "122d942d",
   "metadata": {},
   "outputs": [],
   "source": [
    "# Defining the system Hamiltonian\n",
    "eps = 0  # Energy of the 2-level system.\n",
    "Del = 0.2  # Tunnelling term\n",
    "Hsys = 0.5 * eps * sigmaz() + 0.5 * Del * sigmax()\n",
    "rho0 = basis(2, 0) * basis(2, 0).dag()"
   ]
  },
  {
   "cell_type": "markdown",
   "id": "2f90386e",
   "metadata": {},
   "source": [
    "### System measurement operators"
   ]
  },
  {
   "cell_type": "code",
   "execution_count": 3,
   "id": "bcf86ec7",
   "metadata": {},
   "outputs": [],
   "source": [
    "# Define some operators with which we will measure the system\n",
    "# 1,1 element of density matrix - corresonding to groundstate\n",
    "P11p = basis(2, 0) * basis(2, 0).dag()\n",
    "P22p = basis(2, 1) * basis(2, 1).dag()\n",
    "# 1,2 element of density matrix  - corresonding to coherence\n",
    "P12p = basis(2, 0) * basis(2, 1).dag()"
   ]
  },
  {
   "cell_type": "markdown",
   "id": "7e0d0038",
   "metadata": {},
   "source": [
    "### Bath and HEOM parameters"
   ]
  },
  {
   "cell_type": "markdown",
   "id": "2f4f5bbb",
   "metadata": {},
   "source": [
    "Finally, let's set the bath parameters we will work with and write down some measurement operators:"
   ]
  },
  {
   "cell_type": "code",
   "execution_count": 4,
   "id": "db22f152",
   "metadata": {},
   "outputs": [],
   "source": [
    "Q = sigmaz()\n",
    "alpha = 3.25\n",
    "T = 0.5\n",
    "wc = 1.0\n",
    "s = 1"
   ]
  },
  {
   "cell_type": "markdown",
   "id": "dc0db3ff",
   "metadata": {},
   "source": [
    "And set the cut-off for the HEOM hierarchy:"
   ]
  },
  {
   "cell_type": "code",
   "execution_count": null,
   "id": "596c6e81",
   "metadata": {},
   "outputs": [],
   "source": [
    "# HEOM parameters:\n",
    "\n",
    "# The max_depth defaults to 5 so that the notebook executes more\n",
    "# quickly. Change it to 11 to wait longer for more accurate results.\n",
    "max_depth = 5 #could not do 11 my laptop rans out of ram\n",
    "# I used 7 because I wanted to make sure things were working correctly\n",
    "# cf is terribly slow at 7, probably can be done better by changing guess, lower\n",
    "# upper, use 5 to play around :)\n",
    "\n",
    "# options used for the differential equation solver, while default works it \n",
    "# is way slower than using bdf\n",
    "options = {\n",
    "    \"nsteps\":15000, \"store_states\":True, \"rtol\":1e-12, \"atol\":1e-12, \"method\":\"bdf\",\n",
    "}"
   ]
  },
  {
   "cell_type": "markdown",
   "id": "242a054c",
   "metadata": {},
   "source": [
    "#### Plotting function"
   ]
  },
  {
   "cell_type": "code",
   "execution_count": 6,
   "id": "a0b1eb30",
   "metadata": {},
   "outputs": [],
   "source": [
    "def plot_result_expectations(plots, axes=None):\n",
    "    \"\"\"Plot the expectation values of operators as functions of time.\n",
    "\n",
    "    Each plot in plots consists of (solver_result,\n",
    "    measurement_operation, color, label).\n",
    "    \"\"\"\n",
    "    if axes is None:\n",
    "        fig, axes = plt.subplots(1, 1, sharex=True, figsize=(8, 8))\n",
    "        fig_created = True\n",
    "    else:\n",
    "        fig = None\n",
    "        fig_created = False\n",
    "\n",
    "    # add kw arguments to each plot if missing\n",
    "    plots = [p if len(p) == 5 else p + ({},) for p in plots]\n",
    "    for result, m_op, color, label, kw in plots:\n",
    "        exp = np.real(expect(result.states, m_op))\n",
    "        kw.setdefault(\"linewidth\", 2)\n",
    "        if color == \"rand\":\n",
    "            axes.plot(\n",
    "                result.times,\n",
    "                exp,\n",
    "                c=np.random.rand(\n",
    "                    3,\n",
    "                ),\n",
    "                label=label,\n",
    "                **kw,\n",
    "            )\n",
    "        else:\n",
    "            axes.plot(result.times, exp, color, label=label, **kw)\n",
    "\n",
    "    if fig_created:\n",
    "        axes.legend(loc=0, fontsize=12)\n",
    "        axes.set_xlabel(\"t\", fontsize=28)\n",
    "\n",
    "    return fig"
   ]
  },
  {
   "cell_type": "markdown",
   "id": "d0b9d0fb",
   "metadata": {},
   "source": [
    "# Obtaining a decaying Exponential description of the environment\n",
    "\n",
    "In order to carry out our HEOM simulation, we need to express the correlation \n",
    "function as a sum of decaying exponentials, that is we need to express it as \n",
    "\n",
    "$$C(\\tau)= \\sum_{k=0}^{N-1}c_{k}e^{-\\nu_{k}t}$$\n",
    "\n",
    "As the correlation function of the environment is tied to it's power spectrum via \n",
    "a Fourier transform, such a representation of the correlation function implies a \n",
    "power spectrum of the form\n",
    "\n",
    "$$S(\\omega)= \\sum_{k}2 Re\\left( \\frac{c_{k}}{\\nu_{k}- i \\omega}\\right)$$\n",
    "\n",
    "There are several ways one can obtain such a decomposition, in this tutorial we \n",
    "will cover the following approaches:\n",
    "\n",
    "- Non-Linear Least Squares:\n",
    "    - On the Spectral Density (`sd`)\n",
    "    - On the Correlation Function (`cf`)\n",
    "    - On the Power Spectrum (`ps`)\n",
    "- Methods based on the Prony Polynomial\n",
    "    - Prony on the correlation function(`prony`)\n",
    "    - The Matrix Pencil method on the correlation function (`mp`) :question:\n",
    "    - ESPRIT on the correlation function(`esprit`)\n",
    "- Methods based on rational Approximations\n",
    "    - The AAA algorithm on the Power Spectrum (`aaa`)\n",
    "    - ESPIRA-I (`espira-I`) :question:\n",
    "    - ESPIRA-II (`espira-II`)\n",
    "\n",
    "the ones with a question mark are the ones I think maybe can be deleted.\n",
    "Here's a quick high level comparison between the three different families \n",
    "of methods\n",
    "\n",
    "\n",
    "<table>\n",
    "  <tr>\n",
    "    <th>Class</th>\n",
    "    <th>Requires Extra information</th>\n",
    "    <th>Fast</th>\n",
    "    <th>Resilient to Noise</th>\n",
    "    <th>Allows constraitns</th>\n",
    "    <th>Stable</th>\n",
    "\n",
    "    \n",
    "  </tr>\n",
    "  <tr>\n",
    "    <td align=\"center\"> Non-Linear Least Squares</td>\n",
    "    <td align=\"center\">✔️</td>\n",
    "    <td align=\"center\">❌</td>\n",
    "    <td align=\"center\">❌</td>\n",
    "    <td align=\"center\">✔️</td>\n",
    "    <td align=\"center\">❌</td>\n",
    "  </tr>\n",
    "  <tr>\n",
    "    <td align=\"center\">Prony Polynomial</td>\n",
    "    <td align=\"center\">❌</td>\n",
    "    <td align=\"center\">✔️</td>\n",
    "    <td align=\"center\">❗</td>\n",
    "    <td align=\"center\">❌</td>\n",
    "    <td align=\"center\">❗</td>\n",
    "  </tr>\n",
    "  <tr>\n",
    "    <td align=\"center\">Rational Approximations </td>\n",
    "    <td align=\"center\">❌</td>\n",
    "    <td align=\"center\">✔️</td>\n",
    "    <td align=\"center\">❗</td>\n",
    "    <td align=\"center\">❗</td>\n",
    "    <td align=\"center\">✔️</td>\n",
    "  </tr>\n",
    "</table>\n",
    "\n",
    "Legend:\n",
    "\n",
    "❌: NO ✔️: Yes ❗: Partially"
   ]
  },
  {
   "cell_type": "markdown",
   "id": "45bdec8e",
   "metadata": {},
   "source": [
    "# Non-Linear Least Squares"
   ]
  },
  {
   "cell_type": "code",
   "execution_count": 7,
   "id": "08ce309d",
   "metadata": {},
   "outputs": [],
   "source": [
    "obs = OhmicEnvironment(T, alpha, wc,s=1)\n",
    "tlist = np.linspace(0, 30 * np.pi / Del, 600)"
   ]
  },
  {
   "cell_type": "markdown",
   "id": "a8c1920b",
   "metadata": {},
   "source": [
    "## Correlation Function"
   ]
  },
  {
   "cell_type": "code",
   "execution_count": 8,
   "id": "3bbd9ae1",
   "metadata": {},
   "outputs": [
    {
     "name": "stdout",
     "output_type": "stream",
     "text": [
      "Correlation function fit:\n",
      "\n",
      "Result of fitting the real part of                                    |Result of fitting the imaginary part                                   \n",
      "the correlation function with 4 terms:                                |of the correlation function with 4 terms:                              \n",
      "                                                                      |                                                                       \n",
      " Parameters|    a     |    b     |    c                               | Parameters|    a     |    b     |    c                                \n",
      " 1         |-1.98e+00 |-4.66e+00 |2.58e+00                            | 1         |-1.34e+01 |-1.05e+00 |2.56e-02                             \n",
      " 2         | 3.89e-02 |-1.43e-01 |5.74e-32                            | 2         |-8.73e+00 |-3.57e-01 |8.36e-04                             \n",
      " 3         | 3.45e-01 |-5.95e-01 |1.62e-06                            | 3         | 5.48e-01 |-4.30e+00 |3.99e+00                             \n",
      " 4         | 3.11e+00 |-2.93e+00 |4.65e-04                            | 4         |-1.34e+01 |-2.30e+00 |2.90e-01                             \n",
      "                                                                      |                                                                       \n",
      "A 1-R2 coefficient of  8.50e-07 was obtained for the the real part of |A 1-R2 coefficient of  7.13e-07 was obtained for the the imaginary part\n",
      "the correlation function.                                             |of the correlation function.                                           \n",
      "The current fit took  0.361273 seconds.                               |The current fit took  2.255287 seconds.                                \n",
      "\n",
      "10.0%. Run time:  18.30s. Est. time left: 00:00:02:44\n",
      "20.0%. Run time:  30.19s. Est. time left: 00:00:02:00\n",
      "30.1%. Run time:  41.27s. Est. time left: 00:00:01:36\n",
      "40.1%. Run time:  52.42s. Est. time left: 00:00:01:18\n",
      "50.1%. Run time:  63.79s. Est. time left: 00:00:01:03\n",
      "60.1%. Run time:  74.86s. Est. time left: 00:00:00:49\n",
      "70.1%. Run time:  86.01s. Est. time left: 00:00:00:36\n",
      "80.1%. Run time:  97.09s. Est. time left: 00:00:00:24\n",
      "90.2%. Run time: 108.06s. Est. time left: 00:00:00:11\n",
      "100.0%. Run time: 118.88s. Est. time left: 00:00:00:00\n",
      "Total run time: 118.88s\n"
     ]
    }
   ],
   "source": [
    "t=np.linspace(0,20,500)\n",
    "Obath, fitinfo = obs.approximate(method=\"cf\",tlist=t,Nr_max=4,Ni_max=4,maxfev=1e9,target_rsme=None)\n",
    "print(fitinfo[\"summary\"])\n",
    "HEOM_ohmic_corr_fit = HEOMSolver(\n",
    "    Hsys,\n",
    "    (Obath,Q),\n",
    "    max_depth=max_depth,\n",
    "    options=options,\n",
    ")\n",
    "results_ohmic_corr_fit = HEOM_ohmic_corr_fit.run(rho0, tlist)"
   ]
  },
  {
   "cell_type": "markdown",
   "id": "f3e2ea45",
   "metadata": {},
   "source": [
    "## Spectral Density"
   ]
  },
  {
   "cell_type": "code",
   "execution_count": 9,
   "id": "5cafea21",
   "metadata": {},
   "outputs": [
    {
     "name": "stdout",
     "output_type": "stream",
     "text": [
      "Result of fitting the spectral density with 4 terms: \n",
      " \n",
      " Parameters|    a     |    b     |    c \n",
      " 1         | 1.06e-02 | 3.06e-01 |1.02e-01\n",
      " 2         |-4.41e+00 | 4.30e+00 |3.98e+00\n",
      " 3         | 6.01e-01 | 1.00e+00 |1.02e-01\n",
      " 4         | 7.92e+00 | 2.30e+00 |1.02e-01\n",
      " \n",
      "A 1-R2 coefficient of  1.30e-06 was obtained for the the spectral density.\n",
      "The current fit took  0.340964 seconds.\n",
      "10.0%. Run time:   6.95s. Est. time left: 00:00:01:02\n",
      "20.0%. Run time:  11.80s. Est. time left: 00:00:00:47\n",
      "30.1%. Run time:  16.72s. Est. time left: 00:00:00:38\n",
      "40.1%. Run time:  21.69s. Est. time left: 00:00:00:32\n",
      "50.1%. Run time:  26.73s. Est. time left: 00:00:00:26\n",
      "60.1%. Run time:  31.86s. Est. time left: 00:00:00:21\n",
      "70.1%. Run time:  37.40s. Est. time left: 00:00:00:15\n",
      "80.1%. Run time:  43.64s. Est. time left: 00:00:00:10\n",
      "90.2%. Run time:  49.99s. Est. time left: 00:00:00:05\n",
      "100.0%. Run time:  56.89s. Est. time left: 00:00:00:00\n",
      "Total run time:  56.89s\n"
     ]
    }
   ],
   "source": [
    "w=np.linspace(0,30,500)\n",
    "Obath2, fitinfo = obs.approximate(method=\"sd\",wlist=w,Nmax=4,Nk=3)\n",
    "print(fitinfo[\"summary\"])\n",
    "HEOM_ohmic_sd_fit = HEOMSolver(\n",
    "    Hsys,\n",
    "    (Obath2,Q),\n",
    "    max_depth=max_depth,\n",
    "    options=options,\n",
    ")\n",
    "results_ohmic_sd_fit = HEOM_ohmic_sd_fit.run(rho0, tlist)"
   ]
  },
  {
   "cell_type": "markdown",
   "id": "a126d52a",
   "metadata": {},
   "source": [
    "## Power Spectrum"
   ]
  },
  {
   "cell_type": "code",
   "execution_count": 10,
   "id": "dfabd825",
   "metadata": {},
   "outputs": [
    {
     "name": "stdout",
     "output_type": "stream",
     "text": [
      "Result of fitting the power spectrum with 5 terms: \n",
      " \n",
      " Parameters|    a     |    b     |    c     |    d \n",
      " 1         | 4.87e+00 |-4.87e+00 | 6.25e-01 |-5.50e-02\n",
      " 2         | 6.51e-01 | 4.82e+00 | 5.00e-01 |1.87e-02\n",
      " 3         |-4.87e+00 |-9.32e-01 | 5.00e-01 |-9.85e-02\n",
      " 4         | 1.50e+00 | 7.36e-01 | 2.45e+00 |1.41e+00\n",
      " 5         |-6.40e-01 | 2.47e-01 | 3.98e+00 |3.14e+00\n",
      " \n",
      "A 1-R2 coefficient of  1.08e-04 was obtained for the the power spectrum.\n",
      "The current fit took  3.187300 seconds.\n",
      "10.0%. Run time:   3.44s. Est. time left: 00:00:00:30\n",
      "20.0%. Run time:   5.72s. Est. time left: 00:00:00:22\n",
      "30.1%. Run time:   8.00s. Est. time left: 00:00:00:18\n",
      "40.1%. Run time:  10.33s. Est. time left: 00:00:00:15\n",
      "50.1%. Run time:  12.61s. Est. time left: 00:00:00:12\n",
      "60.1%. Run time:  14.88s. Est. time left: 00:00:00:09\n",
      "70.1%. Run time:  16.46s. Est. time left: 00:00:00:07\n",
      "80.1%. Run time:  17.92s. Est. time left: 00:00:00:04\n",
      "90.2%. Run time:  19.40s. Est. time left: 00:00:00:02\n",
      "100.0%. Run time:  20.86s. Est. time left: 00:00:00:00\n",
      "Total run time:  20.86s\n"
     ]
    }
   ],
   "source": [
    "w=np.linspace(-50,30,500)\n",
    "Obath3, fitinfo = obs.approximate(method=\"ps\",wlist=w,Nmax=5)\n",
    "print(fitinfo[\"summary\"])\n",
    "HEOM_ohmic_ps_fit = HEOMSolver(\n",
    "    Hsys,\n",
    "    (Obath3,Q),\n",
    "    max_depth=max_depth,\n",
    "    options=options,\n",
    ")\n",
    "results_ohmic_ps_fit = HEOM_ohmic_ps_fit.run(rho0, tlist)"
   ]
  },
  {
   "cell_type": "markdown",
   "id": "d337fbc3",
   "metadata": {},
   "source": [
    "# Methods based on the Prony Polinomial"
   ]
  },
  {
   "cell_type": "markdown",
   "id": "7f788d72",
   "metadata": {},
   "source": [
    "## Prony"
   ]
  },
  {
   "cell_type": "code",
   "execution_count": 11,
   "id": "46fb17a5",
   "metadata": {},
   "outputs": [
    {
     "name": "stdout",
     "output_type": "stream",
     "text": [
      "Result of fitting Correlation Function with 4 terms: \n",
      " \n",
      " Parameters|    a     |    b     |    c     |    d \n",
      " 1         | 4.97e-02 |-2.48e-02 |-4.97e-02 |-2.48e-02\n",
      " 2         | 2.38e-01 |-5.58e-01 |-2.38e-01 |-5.58e-01\n",
      " 3         | 7.39e-01 | 4.93e-01 |-7.39e-01 |4.93e-01\n",
      " 4         |-2.67e-01 | 8.95e-02 | 2.67e-01 |8.95e-02\n",
      " \n",
      "A 1-R2 coefficient of  3.09e-05+9.93e-06j was obtained for the Correlation Function.\n",
      "The current fit took  0.170541 seconds.\n",
      "10.0%. Run time:   0.92s. Est. time left: 00:00:00:08\n",
      "20.0%. Run time:   1.51s. Est. time left: 00:00:00:06\n",
      "30.1%. Run time:   2.10s. Est. time left: 00:00:00:04\n",
      "40.1%. Run time:   2.68s. Est. time left: 00:00:00:04\n",
      "50.1%. Run time:   3.23s. Est. time left: 00:00:00:03\n",
      "60.1%. Run time:   3.79s. Est. time left: 00:00:00:02\n",
      "70.1%. Run time:   4.37s. Est. time left: 00:00:00:01\n",
      "80.1%. Run time:   4.94s. Est. time left: 00:00:00:01\n",
      "90.2%. Run time:   5.53s. Est. time left: 00:00:00:00\n",
      "100.0%. Run time:   6.09s. Est. time left: 00:00:00:00\n",
      "Total run time:   6.09s\n"
     ]
    }
   ],
   "source": [
    "tlist2=np.linspace(0,40,100)\n",
    "pbath,fitinfo=obs.approximate(\"prony\",tlist2,Nr=4)\n",
    "print(fitinfo[\"summary\"])\n",
    "HEOM_ohmic_prony_fit = HEOMSolver(\n",
    "    Hsys,\n",
    "    (pbath,Q),\n",
    "    max_depth=max_depth,\n",
    "    options=options,\n",
    ")\n",
    "results_ohmic_prony_fit = HEOM_ohmic_prony_fit.run(rho0, tlist)"
   ]
  },
  {
   "cell_type": "markdown",
   "id": "920b8b0f",
   "metadata": {},
   "source": [
    "## Matrix Pencil"
   ]
  },
  {
   "cell_type": "code",
   "execution_count": 12,
   "id": "efd0eae9",
   "metadata": {},
   "outputs": [
    {
     "name": "stdout",
     "output_type": "stream",
     "text": [
      "Correlation function fit:\n",
      "\n",
      "Result of fitting the real part of                                              |Result of fitting the imaginary part                                             \n",
      "the correlation function with 5 terms:                                          |of the correlation function with 5 terms:                                        \n",
      "                                                                                |                                                                                 \n",
      " Parameters|    a     |    b     |    c     |    d                              | Parameters|    a     |    b     |    c     |    d                               \n",
      " 1         | 1.94e+00 | 8.61e+00 |-0.00e+00 |0.00e+00                           | 1         | 9.91e-17 |-6.25e-01 |-7.78e+00 |0.00e+00                            \n",
      " 2         |-1.37e+01 | 4.65e+00 |-0.00e+00 |0.00e+00                           | 2         | 1.07e+00 | 4.39e+00 |-1.75e+00 |-1.46e+00                           \n",
      " 3         | 1.29e+01 | 3.77e+00 |-0.00e+00 |0.00e+00                           | 3         | 1.07e+00 | 4.39e+00 | 1.75e+00 |1.46e+00                            \n",
      " 4         | 3.78e-01 | 6.67e-01 |-0.00e+00 |0.00e+00                           | 4         |-1.92e+00 | 1.51e+00 |-0.00e+00 |2.43e-15                            \n",
      " 5         | 5.30e-02 | 1.66e-01 |-0.00e+00 |0.00e+00                           | 5         |-2.13e-01 | 5.44e-01 |-0.00e+00 |-2.22e-16                           \n",
      "                                                                                |                                                                                 \n",
      "A 1-R2 coefficient of  8.56e-06+0.00e+00j was obtained for the the real part of |A 1-R2 coefficient of  2.40e-05-5.11e-22j was obtained for the the imaginary part\n",
      "the correlation function.                                                       |of the correlation function.                                                     \n",
      "The current fit took  0.171659 seconds.                                         |The current fit took  0.204456 seconds.                                          \n",
      "\n",
      "10.0%. Run time:   3.40s. Est. time left: 00:00:00:30\n",
      "20.0%. Run time:   6.14s. Est. time left: 00:00:00:24\n",
      "30.1%. Run time:   9.27s. Est. time left: 00:00:00:21\n",
      "40.1%. Run time:  12.41s. Est. time left: 00:00:00:18\n",
      "50.1%. Run time:  15.86s. Est. time left: 00:00:00:15\n",
      "60.1%. Run time:  19.38s. Est. time left: 00:00:00:12\n",
      "70.1%. Run time:  22.92s. Est. time left: 00:00:00:09\n",
      "80.1%. Run time:  26.45s. Est. time left: 00:00:00:06\n",
      "90.2%. Run time:  30.00s. Est. time left: 00:00:00:03\n",
      "100.0%. Run time:  33.53s. Est. time left: 00:00:00:00\n",
      "Total run time:  33.53s\n"
     ]
    }
   ],
   "source": [
    "mpbath,fitinfo=obs.approximate(method=\"mp\",tlist=tlist2,Nr=5,Ni=5,separate=True)\n",
    "print(fitinfo[\"summary\"])\n",
    "HEOM_ohmic_mp_fit = HEOMSolver(\n",
    "    Hsys,\n",
    "    (mpbath,Q),\n",
    "    max_depth=max_depth,\n",
    "    options=options,\n",
    ")\n",
    "results_ohmic_mp_fit = HEOM_ohmic_mp_fit.run(rho0, tlist)"
   ]
  },
  {
   "cell_type": "markdown",
   "id": "db22b481",
   "metadata": {},
   "source": [
    "## ESPRIT"
   ]
  },
  {
   "cell_type": "code",
   "execution_count": 13,
   "id": "c4db8362",
   "metadata": {},
   "outputs": [
    {
     "name": "stdout",
     "output_type": "stream",
     "text": [
      "Result of fitting Correlation Function with 4 terms: \n",
      " \n",
      " Parameters|    a     |    b     |    c     |    d \n",
      " 1         |-2.67e-01 | 8.95e-02 | 2.67e-01 |8.95e-02\n",
      " 2         | 7.39e-01 | 4.93e-01 |-7.39e-01 |4.93e-01\n",
      " 3         | 2.38e-01 |-5.58e-01 |-2.38e-01 |-5.58e-01\n",
      " 4         | 4.97e-02 |-2.48e-02 |-4.97e-02 |-2.48e-02\n",
      " \n",
      "A 1-R2 coefficient of  3.09e-05+9.93e-06j was obtained for the Correlation Function.\n",
      "The current fit took  0.167535 seconds.\n",
      "10.0%. Run time:   0.93s. Est. time left: 00:00:00:08\n",
      "20.0%. Run time:   1.54s. Est. time left: 00:00:00:06\n",
      "30.1%. Run time:   2.16s. Est. time left: 00:00:00:05\n",
      "40.1%. Run time:   2.77s. Est. time left: 00:00:00:04\n",
      "50.1%. Run time:   3.35s. Est. time left: 00:00:00:03\n",
      "60.1%. Run time:   3.92s. Est. time left: 00:00:00:02\n",
      "70.1%. Run time:   4.48s. Est. time left: 00:00:00:01\n",
      "80.1%. Run time:   5.08s. Est. time left: 00:00:00:01\n",
      "90.2%. Run time:   5.66s. Est. time left: 00:00:00:00\n",
      "100.0%. Run time:   6.21s. Est. time left: 00:00:00:00\n",
      "Total run time:   6.21s\n"
     ]
    }
   ],
   "source": [
    "esbath,fitinfo=obs.approximate(\"esprit\",tlist2,Nr=4)\n",
    "print(fitinfo[\"summary\"])\n",
    "HEOM_ohmic_es_fit = HEOMSolver(\n",
    "    Hsys,\n",
    "    (esbath,Q),\n",
    "    max_depth=max_depth,\n",
    "    options=options,\n",
    ")\n",
    "results_ohmic_es_fit = HEOM_ohmic_es_fit.run(rho0, tlist)"
   ]
  },
  {
   "cell_type": "markdown",
   "id": "3fafdfdc",
   "metadata": {},
   "source": [
    "# Rational Approximations"
   ]
  },
  {
   "cell_type": "markdown",
   "id": "c2e3d835",
   "metadata": {},
   "source": [
    "## AAA"
   ]
  },
  {
   "cell_type": "code",
   "execution_count": 14,
   "id": "9c6e828f",
   "metadata": {},
   "outputs": [
    {
     "name": "stderr",
     "output_type": "stream",
     "text": [
      "/home/gerardo/Documents/gsuarezr/qutip_gsoc_app/qutip/utilities.py:55: RuntimeWarning: overflow encountered in exp\n",
      "  result[non_zero] = 1 / (np.exp(w[non_zero] / w_th) - 1)\n"
     ]
    },
    {
     "name": "stdout",
     "output_type": "stream",
     "text": [
      "Result of fitting the power spectrum with 5 terms: \n",
      " \n",
      " Parameters|    a     |    b     |    c     |    d \n",
      " 1         | 9.81e-01 | 1.27e+00 | 2.27e+00 |1.79e+00\n",
      " 2         | 5.53e-01 |-1.05e+00 | 9.41e-01 |-1.62e-01\n",
      " 3         | 3.92e-02 |-3.15e-02 | 1.52e-01 |-3.28e-02\n",
      " 4         | 4.13e-04 |-1.91e-04 | 1.13e-02 |-1.67e-03\n",
      " 5         | 4.66e-08 |-2.57e-07 | 1.38e-04 |-1.27e-04\n",
      " \n",
      "A 1-R2 coefficient of  1.09e-04 was obtained for the the power spectrum.\n",
      "The current fit took  10.199787 seconds.\n",
      "10.0%. Run time:   1.56s. Est. time left: 00:00:00:14\n",
      "20.0%. Run time:   2.42s. Est. time left: 00:00:00:09\n",
      "30.1%. Run time:   3.26s. Est. time left: 00:00:00:07\n",
      "40.1%. Run time:   4.11s. Est. time left: 00:00:00:06\n",
      "50.1%. Run time:   4.95s. Est. time left: 00:00:00:04\n",
      "60.1%. Run time:   5.80s. Est. time left: 00:00:00:03\n",
      "70.1%. Run time:   6.64s. Est. time left: 00:00:00:02\n",
      "80.1%. Run time:   7.49s. Est. time left: 00:00:00:01\n",
      "90.2%. Run time:   8.33s. Est. time left: 00:00:00:00\n",
      "100.0%. Run time:   9.16s. Est. time left: 00:00:00:00\n",
      "Total run time:   9.16s\n"
     ]
    }
   ],
   "source": [
    "aaabath,fitinfo=obs.approximate(\"aaa\",np.concatenate((-np.logspace(3,-8,3500),np.logspace(-8,3,3500))),N_max=6,tol=1e-15)\n",
    "print(fitinfo[\"summary\"])\n",
    "HEOM_ohmic_aaa_fit = HEOMSolver(\n",
    "    Hsys,\n",
    "    (aaabath,Q),\n",
    "    max_depth=max_depth,\n",
    "    options=options,\n",
    ")\n",
    "results_ohmic_aaa_fit = HEOM_ohmic_aaa_fit.run(rho0, tlist)"
   ]
  },
  {
   "cell_type": "markdown",
   "id": "ba03829b",
   "metadata": {},
   "source": [
    "# ESPIRA I"
   ]
  },
  {
   "cell_type": "code",
   "execution_count": 15,
   "id": "381bb1ee",
   "metadata": {},
   "outputs": [
    {
     "name": "stdout",
     "output_type": "stream",
     "text": [
      "Correlation function fit:\n",
      "\n",
      "Result of fitting the real part of                                              |Result of fitting the imaginary part                                             \n",
      "the correlation function with 4 terms:                                          |of the correlation function with 4 terms:                                        \n",
      "                                                                                |                                                                                 \n",
      " Parameters|    a     |    b     |    c     |    d                              | Parameters|    a     |    b     |    c     |    d                               \n",
      " 1         | 2.18e-01 | 3.22e+00 | 1.52e+00 |1.58e+00                           | 1         | 7.39e-01 | 3.68e+00 |-2.44e+00 |-5.14e-01                           \n",
      " 2         | 8.01e-01 | 2.84e+00 |-1.32e+00 |-1.54e+00                          | 2         | 9.27e-01 | 3.57e+00 | 2.23e+00 |4.43e-01                            \n",
      " 3         | 3.92e-01 | 6.42e-01 |-4.68e-02 |-4.15e-02                          | 3         |-1.60e+00 | 1.26e+00 |-4.47e-02 |5.98e-02                            \n",
      " 4         | 4.45e-02 | 1.54e-01 |-6.22e-03 |-4.58e-03                          | 4         |-7.70e-02 | 3.63e-01 |-2.83e-02 |1.68e-02                            \n",
      "                                                                                |                                                                                 \n",
      "A 1-R2 coefficient of  1.48e-04-5.04e-06j was obtained for the the real part of |A 1-R2 coefficient of  8.87e-06-9.73e-06j was obtained for the the imaginary part\n",
      "the correlation function.                                                       |of the correlation function.                                                     \n",
      "The current fit took  1.521248 seconds.                                         |The current fit took  1.571012 seconds.                                          \n",
      "\n",
      "10.0%. Run time:   0.71s. Est. time left: 00:00:00:06\n",
      "20.0%. Run time:   1.26s. Est. time left: 00:00:00:05\n",
      "30.1%. Run time:   1.79s. Est. time left: 00:00:00:04\n",
      "40.1%. Run time:   2.33s. Est. time left: 00:00:00:03\n",
      "50.1%. Run time:   2.87s. Est. time left: 00:00:00:02\n",
      "60.1%. Run time:   3.40s. Est. time left: 00:00:00:02\n",
      "70.1%. Run time:   3.93s. Est. time left: 00:00:00:01\n",
      "80.1%. Run time:   4.49s. Est. time left: 00:00:00:01\n",
      "90.2%. Run time:   5.02s. Est. time left: 00:00:00:00\n",
      "100.0%. Run time:   5.53s. Est. time left: 00:00:00:00\n",
      "Total run time:   5.53s\n"
     ]
    }
   ],
   "source": [
    "tlist4=np.linspace(0,20,1000)\n",
    "espibath,fitinfo=obs._approx_by_prony(\"espira-I\",tlist4,Nr=4,Ni=4,separate=True)\n",
    "print(fitinfo[\"summary\"])\n",
    "HEOM_ohmic_espira_fit = HEOMSolver(\n",
    "    Hsys,\n",
    "    (espibath,Q),\n",
    "    max_depth=max_depth,\n",
    "    options=options,\n",
    ")\n",
    "results_ohmic_espira_fit = HEOM_ohmic_espira_fit.run(rho0, tlist)"
   ]
  },
  {
   "cell_type": "markdown",
   "id": "a25d9385",
   "metadata": {},
   "source": [
    "# ESPIRA II"
   ]
  },
  {
   "cell_type": "code",
   "execution_count": 16,
   "id": "1756c0ab",
   "metadata": {},
   "outputs": [
    {
     "name": "stdout",
     "output_type": "stream",
     "text": [
      "Correlation function fit:\n",
      "\n",
      "Result of fitting the real part of                                              |Result of fitting the imaginary part                                             \n",
      "the correlation function with 4 terms:                                          |of the correlation function with 4 terms:                                        \n",
      "                                                                                |                                                                                 \n",
      " Parameters|    a     |    b     |    c     |    d                              | Parameters|    a     |    b     |    c     |    d                               \n",
      " 1         | 3.75e-01 | 2.85e+00 |-1.66e+00 |-1.14e+00                          | 1         | 7.81e-01 | 3.59e+00 | 2.38e+00 |4.62e-01                            \n",
      " 2         | 6.32e-01 | 2.62e+00 | 1.54e+00 |1.10e+00                           | 2         | 8.75e-01 | 3.51e+00 |-2.29e+00 |-4.10e-01                           \n",
      " 3         | 5.12e-02 | 1.63e-01 | 6.22e-03 |4.19e-03                           | 3         |-1.59e+00 | 1.26e+00 | 3.56e-02 |-3.86e-02                           \n",
      " 4         | 4.45e-01 | 7.02e-01 | 4.15e-02 |4.12e-02                           | 4         |-7.57e-02 | 3.62e-01 | 2.51e-02 |-1.47e-02                           \n",
      "                                                                                |                                                                                 \n",
      "A 1-R2 coefficient of  4.02e-05-5.77e-06j was obtained for the the real part of |A 1-R2 coefficient of  7.44e-06+1.93e-06j was obtained for the the imaginary part\n",
      "the correlation function.                                                       |of the correlation function.                                                     \n",
      "The current fit took  1.758265 seconds.                                         |The current fit took  1.723816 seconds.                                          \n",
      "\n",
      "10.0%. Run time:   0.69s. Est. time left: 00:00:00:06\n",
      "20.0%. Run time:   1.14s. Est. time left: 00:00:00:04\n",
      "30.1%. Run time:   1.60s. Est. time left: 00:00:00:03\n",
      "40.1%. Run time:   2.06s. Est. time left: 00:00:00:03\n",
      "50.1%. Run time:   2.47s. Est. time left: 00:00:00:02\n",
      "60.1%. Run time:   2.86s. Est. time left: 00:00:00:01\n",
      "70.1%. Run time:   3.26s. Est. time left: 00:00:00:01\n",
      "80.1%. Run time:   3.65s. Est. time left: 00:00:00:00\n",
      "90.2%. Run time:   4.07s. Est. time left: 00:00:00:00\n",
      "100.0%. Run time:   4.48s. Est. time left: 00:00:00:00\n",
      "Total run time:   4.48s\n"
     ]
    }
   ],
   "source": [
    "espibath2,fitinfo=obs._approx_by_prony(\"espira-II\",tlist4,Nr=4,Ni=4,separate=True)\n",
    "print(fitinfo[\"summary\"])\n",
    "HEOM_ohmic_espira_fit2 = HEOMSolver(\n",
    "    Hsys,\n",
    "    (espibath2,Q),\n",
    "    max_depth=max_depth,\n",
    "    options=options,\n",
    ")\n",
    "results_ohmic_espira2_fit = HEOM_ohmic_espira_fit2.run(rho0, tlist)"
   ]
  },
  {
   "cell_type": "markdown",
   "id": "d486d3f6",
   "metadata": {},
   "source": [
    "Finally we plot the dynamics obtained by the different methods"
   ]
  },
  {
   "cell_type": "code",
   "execution_count": 17,
   "id": "1a701be0",
   "metadata": {},
   "outputs": [
    {
     "data": {
      "image/png": "[encoded data removed]",
      "text/plain": [
       "<Figure size 1200x700 with 1 Axes>"
      ]
     },
     "metadata": {},
     "output_type": "display_data"
    }
   ],
   "source": [
    "fig, axes = plt.subplots(1, 1, sharex=True, figsize=(12, 7))\n",
    "\n",
    "plot_result_expectations(\n",
    "    [\n",
    "\n",
    "        (results_ohmic_corr_fit, P11p, \"r\", \"Correlation Fit\"),\n",
    "        (results_ohmic_sd_fit, P11p, \"g\", \"SD Fit\"),\n",
    "        (results_ohmic_sd_fit, P11p, \"y\", \"PS Fit\"),\n",
    "        (results_ohmic_prony_fit, P11p, \"k\", \" Prony Fit\"),\n",
    "        (results_ohmic_mp_fit, P11p, \"r\", \"Matrix Pencil Fit\"),\n",
    "        (results_ohmic_es_fit, P11p, \"b-.\", \"ESPRIT Fit\"),\n",
    "        (results_ohmic_aaa_fit, P11p, \"r-.\", \"Matrix AAA Fit\"),\n",
    "        (results_ohmic_espira_fit, P11p, \"k\", \"ESPIRA I Fit\"),\n",
    "        (results_ohmic_espira2_fit, P11p, \"--\", \"ESPIRA II Fit\"),\n",
    "\n",
    "    ],\n",
    "    axes=axes,\n",
    ")\n",
    "axes.set_ylabel(r\"$\\rho_{11}$\", fontsize=30)\n",
    "axes.set_xlabel(r\"$t\\;\\omega_c$\", fontsize=30)\n",
    "axes.legend(loc=0, fontsize=20);\n",
    "axes.set_yscale(\"log\")"
   ]
  },
  {
   "cell_type": "markdown",
   "id": "ef38be59",
   "metadata": {},
   "source": [
    "## About"
   ]
  },
  {
   "cell_type": "code",
   "execution_count": 18,
   "id": "14ae80bc",
   "metadata": {},
   "outputs": [
    {
     "name": "stdout",
     "output_type": "stream",
     "text": [
      "\n",
      "QuTiP: Quantum Toolbox in Python\n",
      "================================\n",
      "Copyright (c) QuTiP team 2011 and later.\n",
      "Current admin team: Alexander Pitchford, Nathan Shammah, Shahnawaz Ahmed, Neill Lambert, Eric Giguère, Boxi Li, Simon Cross, Asier Galicia, Paul Menczel, and Patrick Hopf.\n",
      "Board members: Daniel Burgarth, Robert Johansson, Anton F. Kockum, Franco Nori and Will Zeng.\n",
      "Original developers: R. J. Johansson & P. D. Nation.\n",
      "Previous lead developers: Chris Granade & A. Grimsmo.\n",
      "Currently developed through wide collaboration. See https://github.com/qutip for details.\n",
      "\n",
      "QuTiP Version:      5.2.0.dev0+678a16d\n",
      "Numpy Version:      2.2.1\n",
      "Scipy Version:      1.15.0\n",
      "Cython Version:     3.0.11\n",
      "Matplotlib Version: 3.10.0\n",
      "Python Version:     3.13.0\n",
      "Number of CPUs:     8\n",
      "BLAS Info:          Generic\n",
      "INTEL MKL Ext:      None\n",
      "Platform Info:      Linux (x86_64)\n",
      "Installation path:  /home/gerardo/Documents/gsuarezr/qutip_gsoc_app/qutip\n",
      "\n",
      "Installed QuTiP family packages\n",
      "-------------------------------\n",
      "\n",
      "No QuTiP family packages installed.\n",
      "\n",
      "================================================================================\n",
      "Please cite QuTiP in your publication.\n",
      "================================================================================\n",
      "For your convenience a bibtex reference can be easily generated using `qutip.cite()`\n"
     ]
    }
   ],
   "source": [
    "qutip.about()"
   ]
  },
  {
   "cell_type": "markdown",
   "id": "9e328c08",
   "metadata": {},
   "source": [
    "## Testing\n",
    "\n",
    "This section can include some tests to verify that the expected outputs are generated within the notebook. We put this section at the end of the notebook, so it's not interfering with the user experience. Please, define the tests using assert, so that the cell execution fails if a wrong output is generated."
   ]
  },
  {
   "cell_type": "code",
   "execution_count": 20,
   "id": "44448c73",
   "metadata": {},
   "outputs": [],
   "source": [
    "tol=1e-2\n",
    "assert np.allclose(\n",
    "    expect(P11p, results_ohmic_ps_fit.states),\n",
    "    expect(P11p, results_ohmic_sd_fit.states),\n",
    "    rtol=tol,\n",
    ")\n",
    "assert np.allclose(\n",
    "    expect(P11p, results_ohmic_corr_fit.states),\n",
    "    expect(P11p, results_ohmic_sd_fit.states),\n",
    "    rtol=tol,\n",
    ")\n",
    "assert np.allclose(\n",
    "    expect(P11p, results_ohmic_aaa_fit.states),\n",
    "    expect(P11p, results_ohmic_sd_fit.states),\n",
    "    rtol=tol,\n",
    ")\n",
    "assert np.allclose(\n",
    "    expect(P11p, results_ohmic_mp_fit.states),\n",
    "    expect(P11p, results_ohmic_sd_fit.states),\n",
    "    rtol=tol,\n",
    ")\n",
    "assert np.allclose(\n",
    "    expect(P11p, results_ohmic_prony_fit.states),\n",
    "    expect(P11p, results_ohmic_sd_fit.states),\n",
    "    rtol=tol,\n",
    ")\n",
    "\n",
    "assert np.allclose(\n",
    "    expect(P11p, results_ohmic_es_fit.states),\n",
    "    expect(P11p, results_ohmic_sd_fit.states),\n",
    "    rtol=tol,\n",
    ")\n",
    "assert np.allclose(\n",
    "    expect(P11p, results_ohmic_espira_fit.states),\n",
    "    expect(P11p, results_ohmic_sd_fit.states),\n",
    "    rtol=tol,\n",
    ")\n",
    "assert np.allclose(\n",
    "    expect(P11p, results_ohmic_espira2_fit.states),\n",
    "    expect(P11p, results_ohmic_sd_fit.states),\n",
    "    rtol=tol,\n",
    ")"
   ]
  }
 ],
 "metadata": {
  "jupytext": {
   "formats": "ipynb,md:myst"
  },
  "kernelspec": {
   "display_name": "qutip-dev",
   "language": "python",
   "name": "python3"
  },
  "language_info": {
   "codemirror_mode": {
    "name": "ipython",
    "version": 3
   },
   "file_extension": ".py",
   "mimetype": "text/x-python",
   "name": "python",
   "nbconvert_exporter": "python",
   "pygments_lexer": "ipython3",
   "version": "3.13.0"
  }
 },
 "nbformat": 4,
 "nbformat_minor": 5
}
