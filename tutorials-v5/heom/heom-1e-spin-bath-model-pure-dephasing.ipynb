{
 "cells": [
  {
   "cell_type": "markdown",
   "id": "e19a5cae",
   "metadata": {},
   "source": [
    "# HEOM 1e: Spin-Bath model (pure dephasing)"
   ]
  },
  {
   "cell_type": "markdown",
   "id": "8a180f04",
   "metadata": {},
   "source": [
    "## Introduction\n",
    "\n",
    "The HEOM method solves the dynamics and steady state of a system and its environment, the latter of which is encoded in a set of auxiliary density matrices.\n",
    "\n",
    "In this example we show the evolution of a single two-level system in contact with a single Bosonic environment.  The properties of the system are encoded in Hamiltonian, and a coupling operator which describes how it is coupled to the environment.\n",
    "\n",
    "The Bosonic environment is implicitly assumed to obey a particular Hamiltonian (see paper), the parameters of which are encoded in the spectral density, and subsequently the free-bath correlation functions.\n",
    "\n",
    "In the example below we show how to model the overdamped Drude-Lorentz Spectral Density, commonly used with the HEOM. We show how to do the Matsubara and Pade analytical decompositions, as well as how to fit the latter with a finite set of approximate exponentials.  This differs from examble 1a in that we assume that the system and coupling parts of the Hamiltonian commute, hence giving an analytically solvable ''pure dephasing'' model. This is a useful example to look at when introducing other approximations  (e.g., fitting of correlation functions) to check for validity/convergence against the analytical results.  (Note that, generally, for the fitting examples, the pure dephasing model is the 'worst possible case'.  \n",
    "\n",
    "### Drude-Lorentz spectral density\n",
    "\n",
    "The Drude-Lorentz spectral density is:\n",
    "\n",
    "$$J(\\omega)=\\omega \\frac{2\\lambda\\gamma}{{\\gamma}^2 + \\omega^2}$$\n",
    "\n",
    "where $\\lambda$ scales the coupling strength, and $\\gamma$ is the cut-off frequency.\n",
    "We use the convention,\n",
    "\\begin{equation*}\n",
    "C(t) = \\int_0^{\\infty} d\\omega \\frac{J_D(\\omega)}{\\pi}[\\coth(\\beta\\omega) \\cos(\\omega \\tau) - i \\sin(\\omega \\tau)]\n",
    "\\end{equation*}\n",
    "\n",
    "With the HEOM we must use an exponential decomposition:\n",
    "\n",
    "\\begin{equation*}\n",
    "C(t)=\\sum_{k=0}^{k=\\infty} c_k e^{-\\nu_k t}\n",
    "\\end{equation*}\n",
    "\n",
    "The Matsubara decomposition of the Drude-Lorentz spectral density is given by:\n",
    "\n",
    "\\begin{equation*}\n",
    "    \\nu_k = \\begin{cases}\n",
    "               \\gamma               & k = 0\\\\\n",
    "               {2 \\pi k} / {\\beta \\hbar}  & k \\geq 1\\\\\n",
    "           \\end{cases}\n",
    "\\end{equation*}\n",
    "\n",
    "\\begin{equation*}\n",
    "    c_k = \\begin{cases}\n",
    "               \\lambda \\gamma (\\cot(\\beta \\gamma / 2) - i) / \\hbar               & k = 0\\\\\n",
    "               4 \\lambda \\gamma \\nu_k / \\{(nu_k^2 - \\gamma^2)\\beta \\hbar^2 \\}    & k \\geq 1\\\\\n",
    "           \\end{cases}\n",
    "\\end{equation*}\n",
    "\n",
    "Note that in the above, and the following, we set $\\hbar = k_\\mathrm{B} = 1$."
   ]
  },
  {
   "cell_type": "markdown",
   "id": "2d6bb5b5",
   "metadata": {},
   "source": [
    "## Setup"
   ]
  },
  {
   "cell_type": "code",
   "execution_count": null,
   "id": "469bffd5",
   "metadata": {},
   "outputs": [],
   "source": [
    "import contextlib\n",
    "import time\n",
    "\n",
    "import numpy as np\n",
    "from matplotlib import pyplot as plt\n",
    "import scipy\n",
    "from scipy.optimize import curve_fit\n",
    "\n",
    "import qutip\n",
    "from qutip import (\n",
    "    basis,\n",
    "    expect,\n",
    "    liouvillian,\n",
    "    sigmax,\n",
    "    sigmaz,\n",
    ")\n",
    "from qutip.solver.heom import (\n",
    "    HEOMSolver\n",
    ")\n",
    "from qutip.core.environment import (\n",
    "    DrudeLorentzEnvironment,\n",
    "    system_terminator\n",
    ")\n",
    "\n",
    "%matplotlib inline"
   ]
  },
  {
   "cell_type": "markdown",
   "id": "fa8e2803",
   "metadata": {},
   "source": [
    "## Helper functions\n",
    "\n",
    "Let's define some helper functions for calculating correlation function expansions, plotting results and timing how long operations take:"
   ]
  },
  {
   "cell_type": "code",
   "execution_count": null,
   "id": "69d1848b",
   "metadata": {},
   "outputs": [],
   "source": [
    "def cot(x):\n",
    "    \"\"\" Vectorized cotangent of x. \"\"\"\n",
    "    return 1. / np.tan(x)\n",
    "\n",
    "\n",
    "def coth(x):\n",
    "    \"\"\" Vectorized hyperbolic cotangent of x. \"\"\"\n",
    "    return 1. / np.tanh(x)"
   ]
  },
  {
   "cell_type": "code",
   "execution_count": null,
   "id": "3f6fc1c4",
   "metadata": {},
   "outputs": [],
   "source": [
    "def plot_result_expectations(plots, axes=None):\n",
    "    \"\"\" Plot the expectation values of operators as functions of time.\n",
    "\n",
    "        Each plot in plots consists of (solver_result, measurement_operation,\n",
    "        color, label).\n",
    "    \"\"\"\n",
    "    if axes is None:\n",
    "        fig, axes = plt.subplots(1, 1, sharex=True, figsize=(8, 8))\n",
    "        fig_created = True\n",
    "    else:\n",
    "        fig = None\n",
    "        fig_created = False\n",
    "\n",
    "    # add kw arguments to each plot if missing\n",
    "    plots = [p if len(p) == 5 else p + ({},) for p in plots]\n",
    "    for result, m_op, color, label, kw in plots:\n",
    "        if m_op is None:\n",
    "            t, exp = result\n",
    "        else:\n",
    "            t = result.times\n",
    "            exp = np.real(expect(result.states, m_op))\n",
    "        kw.setdefault(\"linewidth\", 2)\n",
    "        axes.plot(t, exp, color, label=label, **kw)\n",
    "\n",
    "    if fig_created:\n",
    "        axes.legend(loc=0, fontsize=12)\n",
    "        axes.set_xlabel(\"t\", fontsize=28)\n",
    "\n",
    "    return fig"
   ]
  },
  {
   "cell_type": "code",
   "execution_count": null,
   "id": "a78edcad",
   "metadata": {},
   "outputs": [],
   "source": [
    "@contextlib.contextmanager\n",
    "def timer(label):\n",
    "    \"\"\" Simple utility for timing functions:\n",
    "\n",
    "        with timer(\"name\"):\n",
    "            ... code to time ...\n",
    "    \"\"\"\n",
    "    start = time.time()\n",
    "    yield\n",
    "    end = time.time()\n",
    "    print(f\"{label}: {end - start}\")"
   ]
  },
  {
   "cell_type": "code",
   "execution_count": null,
   "id": "399060b9",
   "metadata": {},
   "outputs": [],
   "source": [
    "# Solver options:\n",
    "\n",
    "options = {\n",
    "    \"nsteps\": 15000,\n",
    "    \"store_states\": True,\n",
    "    \"rtol\": 1e-14,\n",
    "    \"atol\": 1e-14,\n",
    "    \"method\": \"vern9\",\n",
    "    \"progress_bar\": \"enhanced\",\n",
    "}"
   ]
  },
  {
   "cell_type": "markdown",
   "id": "8de86a56",
   "metadata": {},
   "source": [
    "## System and bath definition\n",
    "\n",
    "And let us set up the system Hamiltonian, bath and system measurement operators:"
   ]
  },
  {
   "cell_type": "markdown",
   "id": "f480170d",
   "metadata": {},
   "source": [
    "Here we set $H_{sys}=0$, which means the interaction Hamiltonian and the system Hamiltonian commute, and we can compare the numerical results to a known analytical one.  We could in principle keep $\\epsilon \\neq 0$, but it just introduces fast system oscillations, so it is more convenient to set it to zero."
   ]
  },
  {
   "cell_type": "code",
   "execution_count": null,
   "id": "08793af6",
   "metadata": {},
   "outputs": [],
   "source": [
    "# Defining the system Hamiltonian\n",
    "eps = 0.0  # Energy of the 2-level system.\n",
    "Del = 0.0  # Tunnelling term\n",
    "Hsys = 0.5 * eps * sigmaz() + 0.5 * Del * sigmax()"
   ]
  },
  {
   "cell_type": "code",
   "execution_count": null,
   "id": "89bebf47",
   "metadata": {},
   "outputs": [],
   "source": [
    "# System-bath coupling (Drude-Lorentz spectral density)\n",
    "Q = sigmaz()  # coupling operator\n",
    "\n",
    "# Bath properties:\n",
    "gamma = 0.5  # cut off frequency\n",
    "lam = 0.1  # coupling strength\n",
    "T = 0.5\n",
    "beta = 1. / T\n",
    "\n",
    "# HEOM parameters:\n",
    "# cut off parameter for the bath:\n",
    "NC = 6\n",
    "# number of exponents to retain in the Matsubara expansion\n",
    "# of the correlation function:\n",
    "Nk = 3\n",
    "\n",
    "# Times to solve for\n",
    "tlist = np.linspace(0, 50, 1000)"
   ]
  },
  {
   "cell_type": "code",
   "execution_count": null,
   "id": "40892dda",
   "metadata": {},
   "outputs": [],
   "source": [
    "# Define some operators with which we will measure the system\n",
    "# 1,1 element of density matrix - corresponding to groundstate\n",
    "P11p = basis(2, 0) * basis(2, 0).dag()\n",
    "P22p = basis(2, 1) * basis(2, 1).dag()\n",
    "# 1,2 element of density matrix  - corresponding to coherence\n",
    "P12p = basis(2, 0) * basis(2, 1).dag()"
   ]
  },
  {
   "cell_type": "markdown",
   "id": "6973de51",
   "metadata": {},
   "source": [
    "To get a non-trivial result we prepare the initial state in a superposition, and see how the bath destroys the coherence."
   ]
  },
  {
   "cell_type": "code",
   "execution_count": null,
   "id": "00b82c7e",
   "metadata": {},
   "outputs": [],
   "source": [
    "# Initial state of the system.\n",
    "psi = (basis(2, 0) + basis(2, 1)).unit()\n",
    "rho0 = psi * psi.dag()"
   ]
  },
  {
   "cell_type": "markdown",
   "id": "71b927f6",
   "metadata": {},
   "source": [
    "We then define our environment, from which all the different simulations will \n",
    "be obtained"
   ]
  },
  {
   "cell_type": "code",
   "execution_count": null,
   "id": "ac7b875e",
   "metadata": {},
   "outputs": [],
   "source": [
    "env = DrudeLorentzEnvironment(lam=lam, gamma=gamma, T=T, Nk=Nk)"
   ]
  },
  {
   "cell_type": "markdown",
   "id": "4741a085",
   "metadata": {},
   "source": [
    "## Simulation 1: Matsubara decomposition, not using Ishizaki-Tanimura terminator"
   ]
  },
  {
   "cell_type": "code",
   "execution_count": null,
   "id": "0c968a2e",
   "metadata": {},
   "outputs": [],
   "source": [
    "with timer(\"RHS construction time\"):\n",
    "    env_mats=env.approx_by_matsubara(Nk=Nk)\n",
    "    HEOMMats = HEOMSolver(Hsys, (env_mats,Q), NC, options=options)\n",
    "\n",
    "with timer(\"ODE solver time\"):\n",
    "    resultMats = HEOMMats.run(rho0, tlist)"
   ]
  },
  {
   "cell_type": "code",
   "execution_count": null,
   "id": "1721076c",
   "metadata": {},
   "outputs": [],
   "source": [
    "# Plot the results so far\n",
    "plot_result_expectations([\n",
    "    (resultMats, P11p, 'b', \"P11 Matsubara\"),\n",
    "    (resultMats, P12p, 'r', \"P12 Matsubara\"),\n",
    "]);"
   ]
  },
  {
   "cell_type": "markdown",
   "id": "ff8fd434",
   "metadata": {},
   "source": [
    "## Simulation 2: Matsubara decomposition (including terminator)"
   ]
  },
  {
   "cell_type": "code",
   "execution_count": null,
   "id": "851f6695",
   "metadata": {},
   "outputs": [],
   "source": [
    "with timer(\"RHS construction time\"):\n",
    "    env_mats,delta=env.approx_by_matsubara(Nk=Nk,compute_delta=True)\n",
    "    Ltot = liouvillian(Hsys) + system_terminator(Q,delta)\n",
    "    HEOMMatsT = HEOMSolver(Ltot, (env_mats,Q), NC, options=options)\n",
    "\n",
    "with timer(\"ODE solver time\"):\n",
    "    resultMatsT = HEOMMatsT.run(rho0, tlist)"
   ]
  },
  {
   "cell_type": "code",
   "execution_count": null,
   "id": "a3c97d27",
   "metadata": {},
   "outputs": [],
   "source": [
    "# Plot the results\n",
    "plot_result_expectations([\n",
    "    (resultMats, P11p, 'b', \"P11 Matsubara\"),\n",
    "    (resultMats, P12p, 'r', \"P12 Matsubara\"),\n",
    "    (resultMatsT, P11p, 'r--', \"P11 Matsubara and terminator\"),\n",
    "    (resultMatsT, P12p, 'b--', \"P12 Matsubara and terminator\"),\n",
    "]);"
   ]
  },
  {
   "cell_type": "markdown",
   "id": "84382ad4",
   "metadata": {},
   "source": [
    "## Simulation 3: Pade decomposition\n",
    "\n",
    "As in example 1a, we can compare to Pade and Fitting approaches."
   ]
  },
  {
   "cell_type": "code",
   "execution_count": null,
   "id": "b3dc619a",
   "metadata": {},
   "outputs": [],
   "source": [
    "with timer(\"RHS construction time\"):\n",
    "    env_pade=env.approx_by_pade(Nk=Nk)\n",
    "    HEOMPade = HEOMSolver(Hsys, (env_pade,Q), NC, options=options)\n",
    "\n",
    "with timer(\"ODE solver time\"):\n",
    "    resultPade = HEOMPade.run(rho0, tlist)"
   ]
  },
  {
   "cell_type": "code",
   "execution_count": null,
   "id": "81b33bc8",
   "metadata": {},
   "outputs": [],
   "source": [
    "# Plot the results\n",
    "plot_result_expectations([\n",
    "    (resultMatsT, P11p, 'b', \"P11 Matsubara (+term)\"),\n",
    "    (resultMatsT, P12p, 'r', \"P12 Matsubara (+term)\"),\n",
    "    (resultPade, P11p, 'r--', \"P11 Pade\"),\n",
    "    (resultPade, P12p, 'b--', \"P12 Pade\"),\n",
    "]);"
   ]
  },
  {
   "cell_type": "markdown",
   "id": "17a35b89",
   "metadata": {},
   "source": [
    "## Simulation 4: Fitting approach"
   ]
  },
  {
   "cell_type": "code",
   "execution_count": null,
   "id": "73bc0976",
   "metadata": {},
   "outputs": [],
   "source": [
    "tfit=np.linspace(0,10,1000)\n",
    "with timer(\"RHS construction time\"):\n",
    "    bath,_ = env.approx_by_cf_fit(tfit,Ni_max=1,Nr_max=3,target_rsme=None)\n",
    "    HEOMFit = HEOMSolver(Hsys, (bath,Q), NC, options=options)\n",
    "\n",
    "with timer(\"ODE solver time\"):\n",
    "    resultFit = HEOMFit.run(rho0, tlist)"
   ]
  },
  {
   "cell_type": "markdown",
   "id": "3e7e6de0",
   "metadata": {},
   "source": [
    "## Analytic calculations"
   ]
  },
  {
   "cell_type": "code",
   "execution_count": null,
   "id": "b4633a28",
   "metadata": {},
   "outputs": [],
   "source": [
    "def pure_dephasing_evolution_analytical(tlist, wq, ck, vk):\n",
    "    \"\"\"\n",
    "    Computes the propagating function appearing in the pure dephasing model.\n",
    "\n",
    "    Parameters\n",
    "    ----------\n",
    "    t: float\n",
    "        A float specifying the time at which to calculate the integral.\n",
    "\n",
    "    wq: float\n",
    "        The qubit frequency in the Hamiltonian.\n",
    "\n",
    "    ck: ndarray\n",
    "        The list of coefficients in the correlation function.\n",
    "\n",
    "    vk: ndarray\n",
    "        The list of frequencies in the correlation function.\n",
    "\n",
    "    Returns\n",
    "    -------\n",
    "    integral: float\n",
    "        The value of the integral function at time t.\n",
    "    \"\"\"\n",
    "    evolution = np.array([\n",
    "        np.exp(-1j * wq * t - correlation_integral(t, ck, vk))\n",
    "        for t in tlist\n",
    "    ])\n",
    "    return evolution\n",
    "\n",
    "\n",
    "def correlation_integral(t, ck, vk):\n",
    "    r\"\"\"\n",
    "    Computes the integral sum function appearing in the pure dephasing model.\n",
    "\n",
    "    If the correlation function is a sum of exponentials then this sum\n",
    "    is given by:\n",
    "\n",
    "    .. math:\n",
    "\n",
    "        \\int_0^{t}d\\tau D(\\tau) = \\sum_k\\frac{c_k}{\\mu_k^2}e^{\\mu_k t}\n",
    "        + \\frac{\\bar c_k}{\\bar \\mu_k^2}e^{\\bar \\mu_k t}\n",
    "        - \\frac{\\bar \\mu_k c_k + \\mu_k \\bar c_k}{\\mu_k \\bar \\mu_k} t\n",
    "        + \\frac{\\bar \\mu_k^2 c_k + \\mu_k^2 \\bar c_k}{\\mu_k^2 \\bar \\mu_k^2}\n",
    "\n",
    "    Parameters\n",
    "    ----------\n",
    "    t: float\n",
    "        A float specifying the time at which to calculate the integral.\n",
    "\n",
    "    ck: ndarray\n",
    "        The list of coefficients in the correlation function.\n",
    "\n",
    "    vk: ndarray\n",
    "        The list of frequencies in the correlation function.\n",
    "\n",
    "    Returns\n",
    "    -------\n",
    "    integral: float\n",
    "        The value of the integral function at time t.\n",
    "    \"\"\"\n",
    "    t1 = np.sum(\n",
    "        (ck / vk**2) *\n",
    "        (np.exp(vk * t) - 1)\n",
    "    )\n",
    "    t2 = np.sum(\n",
    "        (ck.conj() / vk.conj()**2) *\n",
    "        (np.exp(vk.conj() * t) - 1)\n",
    "    )\n",
    "    t3 = np.sum(\n",
    "        (ck / vk + ck.conj() / vk.conj()) * t\n",
    "    )\n",
    "    return 2 * (t1 + t2 - t3)"
   ]
  },
  {
   "cell_type": "markdown",
   "id": "1286c92b",
   "metadata": {},
   "source": [
    "For the pure dephasing analytics, we just sum up as many matsubara terms as we can:"
   ]
  },
  {
   "cell_type": "code",
   "execution_count": null,
   "id": "7935ec7e",
   "metadata": {},
   "outputs": [],
   "source": [
    "lmaxmats2 = 15000\n",
    "\n",
    "vk = [complex(-gamma)]\n",
    "vk.extend([\n",
    "    complex(-2. * np.pi * k * T)\n",
    "    for k in range(1, lmaxmats2)\n",
    "])\n",
    "\n",
    "ck = [complex(lam * gamma * (-1.0j + cot(gamma * beta / 2.)))]\n",
    "ck.extend([\n",
    "    complex(4 * lam * gamma * T * (-v) / (v**2 - gamma**2))\n",
    "    for v in vk[1:]\n",
    "])\n",
    "\n",
    "P12_ana = 0.5 * pure_dephasing_evolution_analytical(\n",
    "    tlist, 0, np.asarray(ck), np.asarray(vk)\n",
    ")"
   ]
  },
  {
   "cell_type": "markdown",
   "id": "8ed59c50",
   "metadata": {},
   "source": [
    "Alternatively, we can just do the integral of the propagator directly, without using the correlation functions at all"
   ]
  },
  {
   "cell_type": "code",
   "execution_count": null,
   "id": "780b82b0",
   "metadata": {},
   "outputs": [],
   "source": [
    "def JDL(omega, lamc, omega_c):\n",
    "    return 2. * lamc * omega * omega_c / (omega_c**2 + omega**2)\n",
    "\n",
    "\n",
    "def integrand(omega, lamc, omega_c, Temp, t):\n",
    "    return (\n",
    "        (-4. * JDL(omega, lamc, omega_c) / omega**2) *\n",
    "        (1. - np.cos(omega*t)) * (coth(omega/(2.*Temp)))\n",
    "        / np.pi\n",
    "    )\n",
    "\n",
    "\n",
    "P12_ana2 = [\n",
    "    0.5 * np.exp(\n",
    "        scipy.integrate.quad(integrand, 0, np.inf, args=(lam, gamma, T, t))[0]\n",
    "    )\n",
    "    for t in tlist\n",
    "]"
   ]
  },
  {
   "cell_type": "markdown",
   "id": "28a0ad50",
   "metadata": {},
   "source": [
    "## Compare results"
   ]
  },
  {
   "cell_type": "code",
   "execution_count": null,
   "id": "c903876f",
   "metadata": {},
   "outputs": [],
   "source": [
    "plot_result_expectations([\n",
    "    (resultMats, P12p, 'r', \"P12 Mats\"),\n",
    "    (resultMatsT, P12p, 'r--', \"P12 Mats + Term\"),\n",
    "    (resultPade, P12p, 'b--', \"P12 Pade\"),\n",
    "    (resultFit, P12p, 'g', \"P12 Fit\"),\n",
    "    ((tlist, np.real(P12_ana)), None, 'b', \"Analytic 1\"),\n",
    "    ((tlist, np.real(P12_ana2)), None, 'y--', \"Analytic 2\"),\n",
    "]);"
   ]
  },
  {
   "cell_type": "markdown",
   "id": "35474f66",
   "metadata": {},
   "source": [
    "We can't see much difference in the plot above, so let's do a log plot instead:"
   ]
  },
  {
   "cell_type": "code",
   "execution_count": null,
   "id": "c6ef7e4f",
   "metadata": {},
   "outputs": [],
   "source": [
    "fig, axes = plt.subplots(1, 1, sharex=True, figsize=(8, 8))\n",
    "\n",
    "plot_result_expectations([\n",
    "    (resultMats, P12p, 'r', \"P12 Mats\"),\n",
    "    (resultMatsT, P12p, 'r--', \"P12 Mats + Term\"),\n",
    "    (resultPade, P12p, 'b-.', \"P12 Pade\"),\n",
    "    (resultFit, P12p, 'g', \"P12 Fit\"),\n",
    "    ((tlist, np.real(P12_ana)), None, 'b', \"Analytic 1\"),\n",
    "    ((tlist, np.real(P12_ana2)), None, 'y--', \"Analytic 2\"),\n",
    "], axes)\n",
    "\n",
    "axes.set_yscale('log')\n",
    "axes.legend(loc=0, fontsize=12);"
   ]
  },
  {
   "cell_type": "markdown",
   "id": "00259e47",
   "metadata": {},
   "source": [
    "## About"
   ]
  },
  {
   "cell_type": "code",
   "execution_count": null,
   "id": "e2a4b6c9",
   "metadata": {},
   "outputs": [],
   "source": [
    "qutip.about()"
   ]
  },
  {
   "cell_type": "markdown",
   "id": "945917f5",
   "metadata": {},
   "source": [
    "## Testing\n",
    "\n",
    "This section can include some tests to verify that the expected outputs are generated within the notebook. We put this section at the end of the notebook, so it's not interfering with the user experience. Please, define the tests using assert, so that the cell execution fails if a wrong output is generated."
   ]
  },
  {
   "cell_type": "code",
   "execution_count": null,
   "id": "98a3271d",
   "metadata": {},
   "outputs": [],
   "source": [
    "assert np.allclose(\n",
    "    expect(P12p, resultMats.states[:15]), np.real(P12_ana)[:15],\n",
    "    rtol=1e-2,\n",
    ")\n",
    "assert np.allclose(\n",
    "    expect(P12p, resultMatsT.states[:100]), np.real(P12_ana)[:100],\n",
    "    rtol=1e-3,\n",
    ")\n",
    "assert np.allclose(\n",
    "    expect(P12p, resultPade.states[:100]), np.real(P12_ana)[:100],\n",
    "    rtol=1e-3,\n",
    ")\n",
    "assert np.allclose(\n",
    "    expect(P12p, resultFit.states[:50]), np.real(P12_ana)[:50],\n",
    "    rtol=1e-3,\n",
    ")\n",
    "assert np.allclose(P12_ana, P12_ana2, rtol=1e-3)"
   ]
  }
 ],
 "metadata": {
  "jupytext": {
   "formats": "ipynb,md:myst"
  },
  "kernelspec": {
   "display_name": "qutip-dev",
   "language": "python",
   "name": "python3"
  }
 },
 "nbformat": 4,
 "nbformat_minor": 5
}
