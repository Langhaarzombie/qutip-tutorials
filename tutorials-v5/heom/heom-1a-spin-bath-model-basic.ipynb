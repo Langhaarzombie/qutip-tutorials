{
 "cells": [
  {
   "cell_type": "markdown",
   "id": "68c71886",
   "metadata": {},
   "source": [
    "# HEOM 1a: Spin-Bath model (introduction)"
   ]
  },
  {
   "cell_type": "markdown",
   "id": "86685431",
   "metadata": {},
   "source": [
    "## Introduction\n",
    "\n",
    "The HEOM method solves the dynamics and steady state of a system and its\n",
    "environment, the latter of which is encoded in a set of auxiliary density\n",
    "matrices.\n",
    "\n",
    "In this example we show the evolution of a single two-level system in contact\n",
    "with a single Bosonic environment.  The properties of the system are encoded\n",
    "in a Hamiltonian, and a coupling operator which describes how it is coupled\n",
    "to the environment.\n",
    "\n",
    "The Bosonic environment is implicitly assumed to obey a particular Hamiltonian ([see paper](https://arxiv.org/abs/2010.10806)), the parameters of which are encoded in the spectral density, and subsequently the free-bath correlation functions.\n",
    "\n",
    "In the example below we show how to model the overdamped Drude-Lorentz\n",
    "Spectral Density, commonly used with the HEOM. We show how to do this using\n",
    "the Matsubara, Pade and fitting decompositions, and compare their\n",
    "convergence.\n",
    "\n",
    "### Drude-Lorentz (overdamped) spectral density\n",
    "\n",
    "The Drude-Lorentz spectral density is:\n",
    "\n",
    "$$J_D(\\omega)= \\frac{2\\omega\\lambda\\gamma}{{\\gamma}^2 + \\omega^2}$$\n",
    "\n",
    "where $\\lambda$ scales the coupling strength, and $\\gamma$ is the cut-off\n",
    "frequency.  We use the convention,\n",
    "\\begin{equation*}\n",
    "C(t) = \\int_0^{\\infty} d\\omega \\frac{J_D(\\omega)}{\\pi}[\\coth(\\beta\\omega) \\\n",
    "       \\cos(\\omega \\tau) - i \\sin(\\omega \\tau)]\n",
    "\\end{equation*}\n",
    "\n",
    "With the HEOM we must use an exponential decomposition:\n",
    "\n",
    "\\begin{equation*}\n",
    "C(t)=\\sum_{k=0}^{k=\\infty} c_k e^{-\\nu_k t}\n",
    "\\end{equation*}\n",
    "\n",
    "As an example, the Matsubara decomposition of the Drude-Lorentz spectral\n",
    "density is given by:\n",
    "\n",
    "\\begin{equation*}\n",
    "    \\nu_k = \\begin{cases}\n",
    "               \\gamma               & k = 0\\\\\n",
    "               {2 \\pi k} / {\\beta }  & k \\geq 1\\\\\n",
    "           \\end{cases}\n",
    "\\end{equation*}\n",
    "\n",
    "\\begin{equation*}\n",
    "    c_k = \\begin{cases}\n",
    "               \\lambda \\gamma (\\cot(\\beta \\gamma / 2) - i) \\\n",
    "               & k = 0\\\\\n",
    "               4 \\lambda \\gamma \\nu_k / \\{(\\nu_k^2 - \\gamma^2)\\beta \\} \\\n",
    "               & k \\geq 1\\\\\n",
    "           \\end{cases}\n",
    "\\end{equation*}\n",
    "\n",
    "Note that in the above, and the following, we set $\\hbar = k_\\mathrm{B} = 1$."
   ]
  },
  {
   "cell_type": "markdown",
   "id": "1dcca8d4",
   "metadata": {},
   "source": [
    "## Setup"
   ]
  },
  {
   "cell_type": "code",
   "execution_count": 1,
   "id": "c44fa069",
   "metadata": {
    "lines_to_next_cell": 2
   },
   "outputs": [],
   "source": [
    "import contextlib\n",
    "import time\n",
    "\n",
    "import numpy as np\n",
    "from matplotlib import pyplot as plt\n",
    "from scipy.optimize import curve_fit\n",
    "\n",
    "import qutip\n",
    "from qutip import (\n",
    "    basis,\n",
    "    brmesolve,\n",
    "    destroy,\n",
    "    expect,\n",
    "    liouvillian,\n",
    "    qeye,\n",
    "    sigmax,\n",
    "    sigmaz,\n",
    "    spost,\n",
    "    spre,\n",
    "    tensor,\n",
    ")\n",
    "from qutip.core.environment import (\n",
    "    DrudeLorentzEnvironment,\n",
    "    ExponentialBosonicEnvironment,\n",
    "    system_terminator\n",
    ")\n",
    "from qutip.solver.heom import (\n",
    "    HEOMSolver,\n",
    "    HSolverDL,\n",
    ")\n",
    "\n",
    "%matplotlib inline"
   ]
  },
  {
   "cell_type": "markdown",
   "id": "36a7a852",
   "metadata": {},
   "source": [
    "## Helper functions\n",
    "\n",
    "Let's define some helper functions for calculating correlation function expansions, plotting results and timing how long operations take:"
   ]
  },
  {
   "cell_type": "code",
   "execution_count": 2,
   "id": "351c8bfe",
   "metadata": {},
   "outputs": [],
   "source": [
    "def cot(x):\n",
    "    \"\"\"Vectorized cotangent of x.\"\"\"\n",
    "    return 1.0 / np.tan(x)"
   ]
  },
  {
   "cell_type": "code",
   "execution_count": 3,
   "id": "b104feee",
   "metadata": {},
   "outputs": [],
   "source": [
    "def dl_matsubara_params(lam, gamma, T, nk):\n",
    "    \"\"\"Calculation of the real and imaginary expansions of the Drude-Lorenz\n",
    "    correlation functions.\n",
    "    \"\"\"\n",
    "    ckAR = [lam * gamma * cot(gamma / (2 * T))]\n",
    "    ckAR.extend(\n",
    "        (8 * lam * gamma * T * np.pi * k * T /\n",
    "         ((2 * np.pi * k * T)**2 - gamma**2))\n",
    "        for k in range(1, nk + 1)\n",
    "    )\n",
    "    vkAR = [gamma]\n",
    "    vkAR.extend(2 * np.pi * k * T for k in range(1, nk + 1))\n",
    "\n",
    "    ckAI = [lam * gamma * (-1.0)]\n",
    "    vkAI = [gamma]\n",
    "\n",
    "    return ckAR, vkAR, ckAI, vkAI"
   ]
  },
  {
   "cell_type": "code",
   "execution_count": 4,
   "id": "dc4701f9",
   "metadata": {},
   "outputs": [],
   "source": [
    "def plot_result_expectations(plots, axes=None):\n",
    "    \"\"\"Plot the expectation values of operators as functions of time.\n",
    "\n",
    "    Each plot in plots consists of (solver_result, measurement_operation,\n",
    "    color, label).\n",
    "    \"\"\"\n",
    "    if axes is None:\n",
    "        fig, axes = plt.subplots(1, 1, sharex=True, figsize=(8, 8))\n",
    "        fig_created = True\n",
    "    else:\n",
    "        fig = None\n",
    "        fig_created = False\n",
    "\n",
    "    # add kw arguments to each plot if missing\n",
    "    plots = [p if len(p) == 5 else p + ({},) for p in plots]\n",
    "    for result, m_op, color, label, kw in plots:\n",
    "        exp = np.real(expect(result.states, m_op))\n",
    "        kw.setdefault(\"linewidth\", 2)\n",
    "        axes.plot(result.times, exp, color, label=label, **kw)\n",
    "\n",
    "    if fig_created:\n",
    "        axes.legend(loc=0, fontsize=12)\n",
    "        axes.set_xlabel(\"t\", fontsize=28)\n",
    "\n",
    "    return fig"
   ]
  },
  {
   "cell_type": "code",
   "execution_count": 5,
   "id": "2f410ff7",
   "metadata": {},
   "outputs": [],
   "source": [
    "@contextlib.contextmanager\n",
    "def timer(label):\n",
    "    \"\"\"Simple utility for timing functions:\n",
    "\n",
    "    with timer(\"name\"):\n",
    "        ... code to time ...\n",
    "    \"\"\"\n",
    "    start = time.time()\n",
    "    yield\n",
    "    end = time.time()\n",
    "    print(f\"{label}: {end - start}\")"
   ]
  },
  {
   "cell_type": "code",
   "execution_count": 6,
   "id": "b33b495d",
   "metadata": {},
   "outputs": [],
   "source": [
    "# Default solver options:\n",
    "\n",
    "default_options = {\n",
    "    \"nsteps\": 1500,\n",
    "    \"store_states\": True,\n",
    "    \"rtol\": 1e-12,\n",
    "    \"atol\": 1e-12,\n",
    "    \"method\": \"vern9\",\n",
    "    \"progress_bar\": \"enhanced\",\n",
    "}"
   ]
  },
  {
   "cell_type": "markdown",
   "id": "582d1a64",
   "metadata": {},
   "source": [
    "## System and bath definition\n",
    "\n",
    "And let us set up the system Hamiltonian, bath and system measurement operators:"
   ]
  },
  {
   "cell_type": "code",
   "execution_count": 7,
   "id": "d8d5c7a1",
   "metadata": {},
   "outputs": [],
   "source": [
    "# Defining the system Hamiltonian\n",
    "eps = 0.5  # Energy of the 2-level system.\n",
    "Del = 1.0  # Tunnelling term\n",
    "Hsys = 0.5 * eps * sigmaz() + 0.5 * Del * sigmax()"
   ]
  },
  {
   "cell_type": "code",
   "execution_count": 8,
   "id": "01db3dfc",
   "metadata": {},
   "outputs": [],
   "source": [
    "# Initial state of the system.\n",
    "rho0 = basis(2, 0) * basis(2, 0).dag()"
   ]
  },
  {
   "cell_type": "code",
   "execution_count": 9,
   "id": "020d8228",
   "metadata": {},
   "outputs": [],
   "source": [
    "# System-bath coupling (Drude-Lorentz spectral density)\n",
    "Q = sigmaz()  # coupling operator\n",
    "\n",
    "# Bath properties:\n",
    "gamma = 0.5  # cut off frequency\n",
    "lam = 0.1  # coupling strength\n",
    "T = 0.5\n",
    "beta = 1.0 / T\n",
    "\n",
    "# HEOM parameters\n",
    "NC = 5  # cut off parameter for the bath\n",
    "Nk = 2  # terms in the Matsubara expansion of the correlation function\n",
    "\n",
    "# Times to solve for\n",
    "tlist = np.linspace(0, 50, 1000)"
   ]
  },
  {
   "cell_type": "code",
   "execution_count": 10,
   "id": "b2a8b071",
   "metadata": {},
   "outputs": [],
   "source": [
    "# Define some operators with which we will measure the system\n",
    "# 1,1 element of density matrix - corresonding to groundstate\n",
    "P11p = basis(2, 0) * basis(2, 0).dag()\n",
    "P22p = basis(2, 1) * basis(2, 1).dag()\n",
    "# 1,2 element of density matrix  - corresonding to coherence\n",
    "P12p = basis(2, 0) * basis(2, 1).dag()"
   ]
  },
  {
   "cell_type": "markdown",
   "id": "a93cae29",
   "metadata": {},
   "source": [
    "### First of all, it is useful to look at the spectral density\n",
    "\n",
    "Now we are ready to begin. Let's look at the shape of the spectral density given the bath parameters we defined above:"
   ]
  },
  {
   "cell_type": "code",
   "execution_count": 11,
   "id": "b4649efd",
   "metadata": {},
   "outputs": [
    {
     "data": {
      "image/png": "[encoded data removed]",
      "text/plain": [
       "<Figure size 800x800 with 1 Axes>"
      ]
     },
     "metadata": {},
     "output_type": "display_data"
    }
   ],
   "source": [
    "def plot_spectral_density():\n",
    "    \"\"\"Plot the Drude-Lorentz spectral density\"\"\"\n",
    "    w = np.linspace(0, 5, 1000)\n",
    "    J = w * 2 * lam * gamma / (gamma**2 + w**2)\n",
    "\n",
    "    fig, axes = plt.subplots(1, 1, sharex=True, figsize=(8, 8))\n",
    "    axes.plot(w, J, \"r\", linewidth=2)\n",
    "    axes.set_xlabel(r\"$\\omega$\", fontsize=28)\n",
    "    axes.set_ylabel(r\"J\", fontsize=28)\n",
    "\n",
    "\n",
    "plot_spectral_density()"
   ]
  },
  {
   "cell_type": "markdown",
   "id": "54abc0a5",
   "metadata": {},
   "source": [
    "Next we calculate the exponents using the Matsubara decompositions. Here we\n",
    "split them into real and imaginary parts.\n",
    "\n",
    "The HEOM code will optimize these, and reduce the number of exponents when\n",
    "real and imaginary parts have the same exponent. This is clearly the case\n",
    "for the first term in the vkAI and vkAR lists."
   ]
  },
  {
   "cell_type": "code",
   "execution_count": 12,
   "id": "bb6afd3d",
   "metadata": {},
   "outputs": [],
   "source": [
    "ckAR, vkAR, ckAI, vkAI = dl_matsubara_params(nk=Nk, lam=lam, gamma=gamma, T=T)"
   ]
  },
  {
   "cell_type": "markdown",
   "id": "d7c17b69",
   "metadata": {},
   "source": [
    "Having created the lists which specify the bath correlation functions, we\n",
    "create an `ExponentialBosonicEnvironment` from them and pass the environment to the `HEOMSolver` class.\n",
    "\n",
    "The solver constructs the \"right hand side\" (RHS) determinining how the\n",
    "system and auxiliary density operators evolve in time. This can then be used\n",
    "to solve for dynamics or steady-state.\n",
    "\n",
    "Below we create the bath and solver and then solve for the dynamics by\n",
    "calling `.run(rho0, tlist)`."
   ]
  },
  {
   "cell_type": "code",
   "execution_count": 13,
   "id": "bc687720",
   "metadata": {},
   "outputs": [
    {
     "name": "stdout",
     "output_type": "stream",
     "text": [
      "RHS construction time: 0.06298303604125977\n",
      " Total run time:   1.21s*] Elapsed 1.21s / Remaining 00:00:00:00\n",
      "ODE solver time: 1.2107598781585693\n"
     ]
    }
   ],
   "source": [
    "options = {**default_options}\n",
    "\n",
    "with timer(\"RHS construction time\"):\n",
    "    env = ExponentialBosonicEnvironment(ckAR, vkAR, ckAI, vkAI)\n",
    "    HEOMMats = HEOMSolver(Hsys, (env,Q), NC, options=options)\n",
    "\n",
    "with timer(\"ODE solver time\"):\n",
    "    resultMats = HEOMMats.run(rho0, tlist)"
   ]
  },
  {
   "cell_type": "code",
   "execution_count": 14,
   "id": "6413cfeb",
   "metadata": {},
   "outputs": [
    {
     "data": {
      "image/png": "[encoded data removed]",
      "text/plain": [
       "<Figure size 800x800 with 1 Axes>"
      ]
     },
     "metadata": {},
     "output_type": "display_data"
    }
   ],
   "source": [
    "plot_result_expectations(\n",
    "    [\n",
    "        (resultMats, P11p, \"b\", \"P11 Mats\"),\n",
    "        (resultMats, P12p, \"r\", \"P12 Mats\"),\n",
    "    ]\n",
    ");"
   ]
  },
  {
   "cell_type": "markdown",
   "id": "750e9d46",
   "metadata": {},
   "source": [
    "In practice, one would not perform this laborious expansion for the\n",
    "Drude-Lorentz correlation function, because QuTiP already has a class,\n",
    "`DrudeLorentzBath`, that can construct this bath for you. Nevertheless,\n",
    "knowing how to perform this expansion will allow you to construct your own\n",
    "baths for other spectral densities.\n",
    "\n",
    "Below we show how to use this built-in functionality:"
   ]
  },
  {
   "cell_type": "code",
   "execution_count": 15,
   "id": "19037baa",
   "metadata": {},
   "outputs": [
    {
     "name": "stdout",
     "output_type": "stream",
     "text": [
      "RHS construction time: 0.006415605545043945\n",
      " Total run time:   1.30s*] Elapsed 1.30s / Remaining 00:00:00:00\n",
      "ODE solver time: 1.3027725219726562\n"
     ]
    }
   ],
   "source": [
    "# Compare to built-in Drude-Lorentz bath:\n",
    "\n",
    "with timer(\"RHS construction time\"):\n",
    "    dlenv = DrudeLorentzEnvironment(lam=lam, gamma=gamma, T=T,Nk=100)\n",
    "    dlenv_approx=dlenv.approx_by_matsubara(Nk=Nk)\n",
    "    HEOM_dlbath = HEOMSolver(Hsys, (dlenv_approx,Q), NC, options=options)\n",
    "\n",
    "with timer(\"ODE solver time\"):\n",
    "    result_dlbath = HEOM_dlbath.run(rho0, tlist)  # normal  115"
   ]
  },
  {
   "cell_type": "code",
   "execution_count": 16,
   "id": "c6a09b78",
   "metadata": {},
   "outputs": [
    {
     "data": {
      "image/png": "[encoded data removed]",
      "text/plain": [
       "<Figure size 800x800 with 1 Axes>"
      ]
     },
     "metadata": {},
     "output_type": "display_data"
    }
   ],
   "source": [
    "plot_result_expectations(\n",
    "    [\n",
    "        (result_dlbath, P11p, \"b\", \"P11 (DrudeLorentzBath)\"),\n",
    "        (result_dlbath, P12p, \"r\", \"P12 (DrudeLorentzBath)\"),\n",
    "    ]\n",
    ");"
   ]
  },
  {
   "cell_type": "markdown",
   "id": "99ecf6dc",
   "metadata": {},
   "source": [
    "The `DrudeLorentzEnvironment` class also allows us to easily obtain the power spectrum, correlation function, and spectral density. The approximated Environment is a `BosonicEnvironment` where the effective power spectrum, correlation function, and spectral density  from the approximation is also accessible. In the following plots, the solid lines are the exact expressions, and the dashed lines are based on our approximation of the correlation function with a finite number of exponents."
   ]
  },
  {
   "cell_type": "code",
   "execution_count": 17,
   "id": "4f3f19f9",
   "metadata": {},
   "outputs": [
    {
     "data": {
      "image/png": "[encoded data removed]",
      "text/plain": [
       "<Figure size 640x480 with 4 Axes>"
      ]
     },
     "metadata": {},
     "output_type": "display_data"
    }
   ],
   "source": [
    "w = np.linspace(-10, 20, 1000)\n",
    "w2 = np.linspace(0, 20, 1000)\n",
    "fig, axs = plt.subplots(2, 2)\n",
    "\n",
    "axs[0, 0].plot(w, dlenv.power_spectrum(w))\n",
    "axs[0, 0].plot(w, dlenv_approx.power_spectrum(w), '--')\n",
    "axs[0, 0].set(xlabel=r'$\\omega$', ylabel=r'$S(\\omega)$')\n",
    "axs[0, 1].plot(w2, dlenv.spectral_density(w2))\n",
    "axs[0, 1].plot(w2, dlenv_approx.spectral_density(w2), '--')\n",
    "axs[0, 1].set(xlabel=r'$\\omega$', ylabel=r'$J(\\omega)$')\n",
    "axs[1, 0].plot(w2, np.real(dlenv.correlation_function(w2)))\n",
    "axs[1, 0].plot(w2, np.real(dlenv_approx.correlation_function(w2)), '--')\n",
    "axs[1, 0].set(xlabel=r'$t$', ylabel=r'$C_{R}(t)$')\n",
    "axs[1, 1].plot(w2, np.imag(dlenv.correlation_function(w2)))\n",
    "axs[1, 1].plot(w2, np.imag(dlenv_approx.correlation_function(w2)), '--')\n",
    "axs[1, 1].set(xlabel=r'$t$', ylabel=r'$C_{I}(t)$')\n",
    "\n",
    "fig.tight_layout()\n",
    "plt.show()"
   ]
  },
  {
   "cell_type": "markdown",
   "id": "95d00102",
   "metadata": {},
   "source": [
    "We also provide a legacy class, `HSolverDL`, which calculates the\n",
    "Drude-Lorentz correlation functions automatically, to be backwards\n",
    "compatible with the previous HEOM solver in QuTiP:"
   ]
  },
  {
   "cell_type": "code",
   "execution_count": null,
   "id": "01aedd06",
   "metadata": {},
   "outputs": [],
   "source": [
    "# Compare to legacy class:\n",
    "\n",
    "# The legacy class performs the above collation of coefficients automatically,\n",
    "# based upon the parameters for the Drude-Lorentz spectral density.\n",
    "\n",
    "with timer(\"RHS construction time\"):\n",
    "    HEOMlegacy = HSolverDL(Hsys, Q, lam, T, NC, Nk, gamma, options=options)\n",
    "\n",
    "with timer(\"ODE solver time\"):\n",
    "    resultLegacy = HEOMlegacy.run(rho0, tlist)  # normal  115"
   ]
  },
  {
   "cell_type": "code",
   "execution_count": null,
   "id": "461ae04e",
   "metadata": {},
   "outputs": [],
   "source": [
    "plot_result_expectations(\n",
    "    [\n",
    "        (resultLegacy, P11p, \"b\", \"P11 Legacy\"),\n",
    "        (resultLegacy, P12p, \"r\", \"P12 Legacy\"),\n",
    "    ]\n",
    ");"
   ]
  },
  {
   "cell_type": "markdown",
   "id": "f2dcec9a",
   "metadata": {},
   "source": [
    "## Ishizaki-Tanimura Terminator\n",
    "\n",
    "To speed up convergence (in terms of the number of exponents kept in the\n",
    "Matsubara decomposition), We can treat the $Re[C(t=0)]$ component as a\n",
    "delta-function distribution, and include it as Lindblad correction. This is\n",
    "sometimes known as the Ishizaki-Tanimura Terminator.\n",
    "\n",
    "In more detail, given\n",
    "\n",
    "\\begin{equation*}\n",
    "C(t)=\\sum_{k=0}^{\\infty} c_k e^{-\\nu_k t}\n",
    "\\end{equation*}\n",
    "\n",
    "since $\\nu_k=\\frac{2 \\pi k}{\\beta }$, if $1/\\nu_k$ is much much smaller than\n",
    "other important time-scales, we can approximate,\n",
    "$ e^{-\\nu_k t} \\approx \\delta(t)/\\nu_k$, and $C(t)=\\sum_{k=N_k}^{\\infty}\n",
    "\\frac{c_k}{\\nu_k} \\delta(t)$\n",
    "\n",
    "It is convenient to calculate the whole sum\n",
    "$ C(t)=\\sum_{k=0}^{\\infty} \\frac{c_k}{\\nu_k} =  2 \\lambda / (\\beta \\gamma)- i\\lambda $\n",
    ", and subtract off the contribution from the finite number of Matsubara terms\n",
    "that are kept in the hierarchy, and treat the residual as a contribution in \n",
    "Lindblad form.\n",
    "\n",
    "This is clearer if we plot the correlation function with a large number of\n",
    "Matsubara terms. To create the plot, we use the utility function of the\n",
    "`DrudeLorentzBath` class mentioned above."
   ]
  },
  {
   "cell_type": "code",
   "execution_count": null,
   "id": "dbb982d4",
   "metadata": {},
   "outputs": [],
   "source": [
    "def plot_correlation_expansion_divergence():\n",
    "    \"\"\"We plot the correlation function with a large number of Matsubara terms\n",
    "    to show that the real part is slowly diverging at t = 0.\n",
    "    \"\"\"\n",
    "    t = np.linspace(0, 2, 100)\n",
    "\n",
    "    # correlation coefficients with 15k and 2 terms\n",
    "    corr_15k = dlenv.correlation_function(t)\n",
    "    corr_2 = dlenv_approx.correlation_function(t)\n",
    "\n",
    "    fig, ax1 = plt.subplots(figsize=(12, 7))\n",
    "\n",
    "    ax1.plot(\n",
    "        t, np.real(corr_2), color=\"b\", linewidth=3, label=rf\"Mats = {Nk} real\"\n",
    "    )\n",
    "    ax1.plot(\n",
    "        t, np.imag(corr_2), color=\"r\", linewidth=3, label=rf\"Mats = {Nk} imag\"\n",
    "    )\n",
    "    ax1.plot(\n",
    "        t, np.real(corr_15k), \"b--\", linewidth=3, label=r\"Mats = 15000 real\"\n",
    "    )\n",
    "    ax1.plot(\n",
    "        t, np.imag(corr_15k), \"r--\", linewidth=3, label=r\"Mats = 15000 imag\"\n",
    "    )\n",
    "\n",
    "    ax1.set_xlabel(\"t\")\n",
    "    ax1.set_ylabel(r\"$C$\")\n",
    "    ax1.legend()\n",
    "\n",
    "plot_correlation_expansion_divergence()"
   ]
  },
  {
   "cell_type": "markdown",
   "id": "c0b4a0d6",
   "metadata": {},
   "source": [
    "Let us evaluate the result including this Ishizaki-Tanimura terminator:"
   ]
  },
  {
   "cell_type": "code",
   "execution_count": null,
   "id": "1ee891d1",
   "metadata": {},
   "outputs": [],
   "source": [
    "# Run HEOM solver and include the Ishizaki-Tanimura terminator\n",
    "\n",
    "# Notes:\n",
    "#\n",
    "# * when using the built-in DrudeLorentzEnvironment the terminator (L_bnd) is\n",
    "#   available from bath.terminator().\n",
    "# \n",
    "# * in the legacy HSolverDL function the terminator is included automatically\n",
    "#   if the parameter bnd_cut_approx=True is used.\n",
    "\n",
    "op = -2 * spre(Q) * spost(Q.dag()) + spre(Q.dag() * Q) + spost(Q.dag() * Q)\n",
    "\n",
    "approx_factr = (2 * lam / (beta * gamma)) - 1j * lam\n",
    "\n",
    "approx_factr -= lam * gamma * (-1.0j + cot(gamma / (2 * T))) / gamma\n",
    "for k in range(1, Nk + 1):\n",
    "    vk = 2 * np.pi * k * T\n",
    "\n",
    "    approx_factr -= (4 * lam * gamma * T * vk / (vk**2 - gamma**2)) / vk\n",
    "\n",
    "L_bnd = -approx_factr * op\n",
    "\n",
    "Ltot = -1.0j * (spre(Hsys) - spost(Hsys)) + L_bnd\n",
    "Ltot = liouvillian(Hsys) + L_bnd\n",
    "\n",
    "options = {**default_options, \"rtol\": 1e-14, \"atol\": 1e-14}\n",
    "\n",
    "with timer(\"RHS construction time\"):\n",
    "    bath = ExponentialBosonicEnvironment(ckAR, vkAR, ckAI, vkAI)\n",
    "    HEOMMatsT = HEOMSolver(Ltot, (bath,Q), NC, options=options)\n",
    "\n",
    "with timer(\"ODE solver time\"):\n",
    "    resultMatsT = HEOMMatsT.run(rho0, tlist)"
   ]
  },
  {
   "cell_type": "code",
   "execution_count": null,
   "id": "b2df9cc0",
   "metadata": {},
   "outputs": [],
   "source": [
    "plot_result_expectations(\n",
    "    [\n",
    "        (resultMatsT, P11p, \"b\", \"P11 Mats + Term\"),\n",
    "        (resultMatsT, P12p, \"r\", \"P12 Mats + Term\"),\n",
    "    ]\n",
    ");"
   ]
  },
  {
   "cell_type": "markdown",
   "id": "8d86e00d",
   "metadata": {},
   "source": [
    "Or using the built-in Drude-Lorentz environment we can write simply:"
   ]
  },
  {
   "cell_type": "code",
   "execution_count": null,
   "id": "b4f84c83",
   "metadata": {},
   "outputs": [],
   "source": [
    "options = {**default_options, \"rtol\": 1e-14, \"atol\": 1e-14}\n",
    "\n",
    "with timer(\"RHS construction time\"):\n",
    "    bath,delta = dlenv.approx_by_matsubara(Nk=Nk,compute_delta=True)\n",
    "    Ltot = liouvillian(Hsys) + system_terminator(Q,delta)\n",
    "    HEOM_dlbath_T = HEOMSolver(Ltot, (bath,Q), NC, options=options)\n",
    "\n",
    "with timer(\"ODE solver time\"):\n",
    "    result_dlbath_T = HEOM_dlbath_T.run(rho0, tlist)"
   ]
  },
  {
   "cell_type": "code",
   "execution_count": null,
   "id": "2b88277e",
   "metadata": {},
   "outputs": [],
   "source": [
    "plot_result_expectations(\n",
    "    [\n",
    "        (result_dlbath_T, P11p, \"b\", \"P11 Mats (DrudeLorentzBath + Term)\"),\n",
    "        (result_dlbath_T, P12p, \"r\", \"P12 Mats (DrudeLorentzBath + Term)\"),\n",
    "    ]\n",
    ");"
   ]
  },
  {
   "cell_type": "markdown",
   "id": "5e7017d0",
   "metadata": {},
   "source": [
    "We can compare the solution obtained from the QuTiP Bloch-Redfield solver:"
   ]
  },
  {
   "cell_type": "code",
   "execution_count": null,
   "id": "be8f8acf",
   "metadata": {},
   "outputs": [],
   "source": [
    "options = {**default_options}\n",
    "\n",
    "with timer(\"ODE solver time\"):\n",
    "    resultBR = brmesolve(\n",
    "        Hsys, rho0, tlist, a_ops=[[sigmaz(), dlenv]], options=options\n",
    "    )"
   ]
  },
  {
   "cell_type": "code",
   "execution_count": null,
   "id": "6f98a4a0",
   "metadata": {},
   "outputs": [],
   "source": [
    "plot_result_expectations(\n",
    "    [\n",
    "        (resultMats, P11p, \"b\", \"P11 Mats\"),\n",
    "        (resultMats, P12p, \"r\", \"P12 Mats\"),\n",
    "        (resultMatsT, P11p, \"b--\", \"P11 Mats + Term\"),\n",
    "        (resultMatsT, P12p, \"r--\", \"P12 Mats + Term\"),\n",
    "        (resultBR, P11p, \"g--\", \"P11 Bloch Redfield\"),\n",
    "        (resultBR, P12p, \"g--\", \"P12 Bloch Redfield\"),\n",
    "    ]\n",
    ");"
   ]
  },
  {
   "cell_type": "markdown",
   "id": "85ffc12b",
   "metadata": {},
   "source": [
    "## Padé decomposition"
   ]
  },
  {
   "cell_type": "markdown",
   "id": "d9e06c20",
   "metadata": {},
   "source": [
    "The Matsubara decomposition is not the only option.  We can also use the\n",
    "faster-converging Pade decomposition."
   ]
  },
  {
   "cell_type": "code",
   "execution_count": null,
   "id": "20935ef0",
   "metadata": {},
   "outputs": [],
   "source": [
    "def deltafun(j, k):\n",
    "    if j == k:\n",
    "        return 1.0\n",
    "    else:\n",
    "        return 0.0\n",
    "\n",
    "\n",
    "def pade_eps(lmax):\n",
    "    Alpha = np.zeros((2 * lmax, 2 * lmax))\n",
    "    for j in range(2 * lmax):\n",
    "        for k in range(2 * lmax):\n",
    "            # Fermionic (see other example notebooks):\n",
    "            #   Alpha[j][k] = (deltafun(j, k+1) + deltafun(j, k-1))\n",
    "            #                 / sqrt((2 * (j + 1) - 1) * (2 * (k + 1) - 1))\n",
    "            # Bosonic:\n",
    "            Alpha[j][k] = (deltafun(j, k + 1) + deltafun(j, k - 1)) / np.sqrt(\n",
    "                (2 * (j + 1) + 1) * (2 * (k + 1) + 1)\n",
    "            )\n",
    "\n",
    "    eigvalsA = np.linalg.eigvalsh(Alpha)\n",
    "    eps = [-2 / val for val in eigvalsA[0:lmax]]\n",
    "    return eps\n",
    "\n",
    "\n",
    "def pade_chi(lmax):\n",
    "    AlphaP = np.zeros((2 * lmax - 1, 2 * lmax - 1))\n",
    "    for j in range(2 * lmax - 1):\n",
    "        for k in range(2 * lmax - 1):\n",
    "            # Fermionic:\n",
    "            #   AlphaP[j][k] = (deltafun(j, k + 1) + deltafun(j, k - 1))\n",
    "            #                  / sqrt((2 * (j + 1) + 1) * (2 * (k + 1) + 1))\n",
    "            # Bosonic [this is +3 because +1 (bose) + 2*(+1) (from bm+1)]:\n",
    "            AlphaP[j][k] = (deltafun(j, k + 1) + deltafun(j, k - 1)) / np.sqrt(\n",
    "                (2 * (j + 1) + 3) * (2 * (k + 1) + 3)\n",
    "            )\n",
    "\n",
    "    eigvalsAP = np.linalg.eigvalsh(AlphaP)\n",
    "    chi = [-2 / val for val in eigvalsAP[0:lmax - 1]]\n",
    "    return chi\n",
    "\n",
    "\n",
    "def pade_kappa_epsilon(lmax):\n",
    "    eps = pade_eps(lmax)\n",
    "    chi = pade_chi(lmax)\n",
    "\n",
    "    kappa = [0]\n",
    "    prefactor = 0.5 * lmax * (2 * (lmax + 1) + 1)\n",
    "\n",
    "    for j in range(lmax):\n",
    "        term = prefactor\n",
    "        for k in range(lmax - 1):\n",
    "            term *= (chi[k] ** 2 - eps[j] ** 2) / (\n",
    "                eps[k] ** 2 - eps[j] ** 2 + deltafun(j, k)\n",
    "            )\n",
    "\n",
    "        for k in range(lmax - 1, lmax):\n",
    "            term /= eps[k] ** 2 - eps[j] ** 2 + deltafun(j, k)\n",
    "\n",
    "        kappa.append(term)\n",
    "\n",
    "    epsilon = [0] + eps\n",
    "\n",
    "    return kappa, epsilon\n",
    "\n",
    "\n",
    "def pade_corr(tlist, lmax):\n",
    "    kappa, epsilon = pade_kappa_epsilon(lmax)\n",
    "\n",
    "    eta_list = [lam * gamma * (cot(gamma * beta / 2.0) - 1.0j)]\n",
    "    gamma_list = [gamma]\n",
    "\n",
    "    if lmax > 0:\n",
    "        for ll in range(1, lmax + 1):\n",
    "            eta_list.append(\n",
    "                (kappa[ll] / beta)\n",
    "                * 4\n",
    "                * lam\n",
    "                * gamma\n",
    "                * (epsilon[ll] / beta)\n",
    "                / ((epsilon[ll] ** 2 / beta**2) - gamma**2)\n",
    "            )\n",
    "            gamma_list.append(epsilon[ll] / beta)\n",
    "\n",
    "    c_tot = []\n",
    "    for t in tlist:\n",
    "        c_tot.append(\n",
    "            sum(\n",
    "                [\n",
    "                    eta_list[ll] * np.exp(-gamma_list[ll] * t)\n",
    "                    for ll in range(lmax + 1)\n",
    "                ]\n",
    "            )\n",
    "        )\n",
    "    return c_tot, eta_list, gamma_list\n",
    "\n",
    "\n",
    "tlist_corr = np.linspace(0, 2, 100)\n",
    "cppLP, etapLP, gampLP = pade_corr(tlist_corr, 2)\n",
    "corr_15k = dlenv.correlation_function(tlist_corr, Nk=15_000)\n",
    "corr_2k = dlenv.correlation_function(tlist_corr, Nk=2)\n",
    "\n",
    "fig, ax1 = plt.subplots(figsize=(12, 7))\n",
    "ax1.plot(\n",
    "    tlist_corr,\n",
    "    np.real(cppLP),\n",
    "    color=\"b\",\n",
    "    linewidth=3,\n",
    "    label=r\"real pade 2 terms\",\n",
    ")\n",
    "ax1.plot(\n",
    "    tlist_corr,\n",
    "    np.real(corr_15k),\n",
    "    \"r--\",\n",
    "    linewidth=3,\n",
    "    label=r\"real mats 15000 terms\",\n",
    ")\n",
    "ax1.plot(\n",
    "    tlist_corr,\n",
    "    np.real(corr_2k),\n",
    "    \"g--\",\n",
    "    linewidth=3,\n",
    "    label=r\"real mats 2 terms\",\n",
    ")\n",
    "\n",
    "ax1.set_xlabel(\"t\")\n",
    "ax1.set_ylabel(r\"$C_{R}(t)$\")\n",
    "ax1.legend()\n",
    "\n",
    "fig, ax1 = plt.subplots(figsize=(12, 7))\n",
    "\n",
    "ax1.plot(\n",
    "    tlist_corr,\n",
    "    np.real(cppLP) - np.real(corr_15k),\n",
    "    color=\"b\",\n",
    "    linewidth=3,\n",
    "    label=r\"pade error\",\n",
    ")\n",
    "ax1.plot(\n",
    "    tlist_corr,\n",
    "    np.real(corr_2k) - np.real(corr_15k),\n",
    "    \"r--\",\n",
    "    linewidth=3,\n",
    "    label=r\"mats error\",\n",
    ")\n",
    "\n",
    "ax1.set_xlabel(\"t\")\n",
    "ax1.set_ylabel(r\"Error\")\n",
    "ax1.legend();"
   ]
  },
  {
   "cell_type": "code",
   "execution_count": null,
   "id": "981d2e53",
   "metadata": {},
   "outputs": [],
   "source": [
    "# put pade parameters in lists for heom solver\n",
    "ckAR = [np.real(eta) + 0j for eta in etapLP]\n",
    "ckAI = [np.imag(etapLP[0]) + 0j]\n",
    "vkAR = [gam + 0j for gam in gampLP]\n",
    "vkAI = [gampLP[0] + 0j]\n",
    "\n",
    "options = {**default_options, \"rtol\": 1e-14, \"atol\": 1e-14}\n",
    "\n",
    "with timer(\"RHS construction time\"):\n",
    "    bath = ExponentialBosonicEnvironment(ckAR, vkAR, ckAI, vkAI)\n",
    "    HEOMPade = HEOMSolver(Hsys, (bath,Q), NC, options=options)\n",
    "\n",
    "with timer(\"ODE solver time\"):\n",
    "    resultPade = HEOMPade.run(rho0, tlist)"
   ]
  },
  {
   "cell_type": "code",
   "execution_count": null,
   "id": "e24e66cf",
   "metadata": {},
   "outputs": [],
   "source": [
    "plot_result_expectations(\n",
    "    [\n",
    "        (resultMats, P11p, \"b\", \"P11 Mats\"),\n",
    "        (resultMats, P12p, \"r\", \"P12 Mats\"),\n",
    "        (resultMatsT, P11p, \"y\", \"P11 Mats + Term\"),\n",
    "        (resultMatsT, P12p, \"g\", \"P12 Mats + Term\"),\n",
    "        (resultPade, P11p, \"b--\", \"P11 Pade\"),\n",
    "        (resultPade, P12p, \"r--\", \"P12 Pade\"),\n",
    "    ]\n",
    ");"
   ]
  },
  {
   "cell_type": "markdown",
   "id": "3661887e",
   "metadata": {},
   "source": [
    "The Padé decomposition of the Drude-Lorentz bath is also available via a\n",
    "built-in class, `DrudeLorentzEnvironment` bath. Similarly to the terminator\n",
    "section when approximating by Padé one can calculate the terminator easily by\n",
    "requesting the approximation function to compute delta\n",
    "\n",
    "Below we show how to use the built-in Drude-Lorentz Environment to obtain a\n",
    "Padé decomposition approximation and its terminator (although the terminator \n",
    "does not provide much improvement here,because the Padé expansion already fits \n",
    "the correlation function well):"
   ]
  },
  {
   "cell_type": "code",
   "execution_count": null,
   "id": "e2a8616b",
   "metadata": {},
   "outputs": [],
   "source": [
    "options = {**default_options, \"rtol\": 1e-14, \"atol\": 1e-14}\n",
    "\n",
    "with timer(\"RHS construction time\"):\n",
    "    env_approx,delta = dlenv.approx_by_pade(Nk=2,compute_delta=True)\n",
    "    Ltot = liouvillian(Hsys) + system_terminator(Q,delta)\n",
    "    HEOM_dlpbath_T = HEOMSolver(Ltot, (env_approx,Q), NC, options=options)\n",
    "\n",
    "with timer(\"ODE solver time\"):\n",
    "    result_dlpbath_T = HEOM_dlpbath_T.run(rho0, tlist)"
   ]
  },
  {
   "cell_type": "code",
   "execution_count": null,
   "id": "69c6df5d",
   "metadata": {},
   "outputs": [],
   "source": [
    "plot_result_expectations(\n",
    "    [\n",
    "        (result_dlpbath_T, P11p, \"b\", \"P11 Padé (DrudeLorentzBath + Term)\"),\n",
    "        (result_dlpbath_T, P12p, \"r\", \"P12 Padé (DrudeLorentzBath + Term)\"),\n",
    "    ]\n",
    ");"
   ]
  },
  {
   "cell_type": "markdown",
   "id": "bc417d19",
   "metadata": {},
   "source": [
    "### Next we compare the Matsubara and Pade correlation function fits\n",
    "\n",
    "Fitting the correlation function is not efficient for this example, but\n",
    "can be extremely useful in situations where large number of exponents\n",
    "are needed (e.g., near zero temperature). We will perform the fitting\n",
    "manually below, and then show how to do it with the built-in tools\n",
    "\n",
    "For the manual fit we First we collect a large sum of Matsubara terms for \n",
    "many time steps:"
   ]
  },
  {
   "cell_type": "code",
   "execution_count": null,
   "id": "86f50d83",
   "metadata": {},
   "outputs": [],
   "source": [
    "tlist2 = np.linspace(0, 2, 10000)\n",
    "\n",
    "corr_15k_t10k = dlenv.correlation_function(tlist2, Nk=15_000)\n",
    "\n",
    "corrRana = np.real(corr_15k_t10k)\n",
    "corrIana = np.imag(corr_15k_t10k)"
   ]
  },
  {
   "cell_type": "markdown",
   "id": "da27abbe",
   "metadata": {},
   "source": [
    "We then fit this sum with standard least-squares approach:"
   ]
  },
  {
   "cell_type": "code",
   "execution_count": null,
   "id": "0c06f6e9",
   "metadata": {},
   "outputs": [],
   "source": [
    "def wrapper_fit_func(x, N, args):\n",
    "    \"\"\" Fit function wrapper that unpacks its arguments. \"\"\"\n",
    "    x = np.array(x)\n",
    "    a = np.array(args[:N])\n",
    "    b = np.array(args[N:2 * N])\n",
    "    return fit_func(x, a, b)\n",
    "\n",
    "\n",
    "def fit_func(x, a, b):\n",
    "    \"\"\" Fit function. Calculates the value of the\n",
    "        correlation function at each x, given the\n",
    "        fit parameters in a and b.\n",
    "    \"\"\"\n",
    "    return np.sum(\n",
    "        a[:, None] * np.exp(np.multiply.outer(b, x)),\n",
    "        axis=0,\n",
    "    )\n",
    "\n",
    "\n",
    "def fitter(ans, tlist, k):\n",
    "    \"\"\" Compute fit with k exponents. \"\"\"\n",
    "    upper_a = abs(max(ans, key=abs)) * 10\n",
    "    # sets initial guesses:\n",
    "    guess = (\n",
    "        [upper_a / k] * k +  # guesses for a\n",
    "        [0] * k  # guesses for b\n",
    "    )\n",
    "    # sets lower bounds:\n",
    "    b_lower = (\n",
    "        [-upper_a] * k +  # lower bounds for a\n",
    "        [-np.inf] * k  # lower bounds for b\n",
    "    )\n",
    "    # sets higher bounds:\n",
    "    b_higher = (\n",
    "        [upper_a] * k +  # upper bounds for a\n",
    "        [0] * k  # upper bounds for b\n",
    "    )\n",
    "    param_bounds = (b_lower, b_higher)\n",
    "    p1, p2 = curve_fit(\n",
    "        lambda x, *params_0: wrapper_fit_func(x, k, params_0),\n",
    "        tlist,\n",
    "        ans,\n",
    "        p0=guess,\n",
    "        sigma=[0.01 for t in tlist],\n",
    "        bounds=param_bounds,\n",
    "        maxfev=1e8,\n",
    "    )\n",
    "    a, b = p1[:k], p1[k:]\n",
    "    return (a, b)"
   ]
  },
  {
   "cell_type": "code",
   "execution_count": null,
   "id": "763ab538",
   "metadata": {},
   "outputs": [],
   "source": [
    "kR = 4  # number of exponents to use for real part\n",
    "poptR = []\n",
    "with timer(\"Correlation (real) fitting time\"):\n",
    "    for i in range(kR):\n",
    "        poptR.append(fitter(corrRana, tlist2, i + 1))\n",
    "\n",
    "corrRMats = np.real(dlenv_approx.correlation_function(tlist2))\n",
    "\n",
    "kI = 1  # number of exponents for imaginary part\n",
    "poptI = []\n",
    "with timer(\"Correlation (imaginary) fitting time\"):\n",
    "    for i in range(kI):\n",
    "        poptI.append(fitter(corrIana, tlist2, i + 1))"
   ]
  },
  {
   "cell_type": "markdown",
   "id": "2be1d70d",
   "metadata": {},
   "source": [
    "And plot the results of the fits:"
   ]
  },
  {
   "cell_type": "code",
   "execution_count": null,
   "id": "44d390a2",
   "metadata": {},
   "outputs": [],
   "source": [
    "# Define line styles and colors\n",
    "linestyles = [\"-\", \"--\", \"-.\", \":\", (0, (3, 1, 1, 1)), (0, (5, 1))]\n",
    "colors = [\"blue\", \"green\", \"purple\", \"orange\", \"red\", \"brown\", \"cyan\", \"magenta\"]\n",
    "\n",
    "# Define a larger linewidth\n",
    "linewidth = 2.5\n",
    "\n",
    "# Create a single figure with two subplots\n",
    "fig, (ax1, ax2) = plt.subplots(1, 2, figsize=(14, 6))\n",
    "\n",
    "# Plot the real part on the first subplot (ax1)\n",
    "ax1.plot(tlist2, corrRana, label=\"Analytic\", color=colors[0], linestyle=linestyles[0], linewidth=linewidth)\n",
    "ax1.plot(tlist2, corrRMats, label=\"Matsubara\", color=colors[1], linestyle=linestyles[1], linewidth=linewidth)\n",
    "\n",
    "for i in range(kR):\n",
    "    y = fit_func(tlist2, *poptR[i])\n",
    "    ax1.plot(tlist2, y, label=f\"Fit with {i} terms\", color=colors[(i + 2) % len(colors)], linestyle=linestyles[(i + 2) % len(linestyles)], linewidth=linewidth)\n",
    "ax1.set_ylabel(r\"$C_{R}(t)$\")\n",
    "ax1.set_xlabel(r\"$t$\")\n",
    "ax1.legend()\n",
    "\n",
    "# Plot the imaginary part on the second subplot (ax2)\n",
    "ax2.plot(tlist2, corrIana, label=\"Analytic\", color=colors[0], linestyle=linestyles[0], linewidth=linewidth)\n",
    "\n",
    "for i in range(kI):\n",
    "    y = fit_func(tlist2, *poptI[i])\n",
    "    ax2.plot(tlist2, y, label=f\"Fit with {i} terms\", color=colors[(i + 3) % len(colors)], linestyle=linestyles[(i + 1) % len(linestyles)], linewidth=linewidth)\n",
    "ax2.set_ylabel(r\"$C_{I}(t)$\")\n",
    "ax2.set_xlabel(r\"$t$\")\n",
    "\n",
    "ax2.legend()\n",
    "\n",
    "# Add overall plot title and show the figure\n",
    "fig.suptitle(\"Comparison of Analytic and Fit to Correlations (Real and Imaginary Parts)\", fontsize=16)\n",
    "plt.show()\n",
    "\n"
   ]
  },
  {
   "cell_type": "code",
   "execution_count": null,
   "id": "15e69700",
   "metadata": {},
   "outputs": [],
   "source": [
    "# Set the exponential coefficients from the fit parameters\n",
    "\n",
    "ckAR1 = poptR[-1][0]\n",
    "ckAR = [x + 0j for x in ckAR1]\n",
    "\n",
    "vkAR1 = poptR[-1][1]\n",
    "vkAR = [-x + 0j for x in vkAR1]\n",
    "\n",
    "ckAI1 = poptI[-1][0]\n",
    "ckAI = [x + 0j for x in ckAI1]\n",
    "\n",
    "vkAI1 = poptI[-1][1]\n",
    "vkAI = [-x + 0j for x in vkAI1]"
   ]
  },
  {
   "cell_type": "code",
   "execution_count": null,
   "id": "ffcb4f21",
   "metadata": {},
   "outputs": [],
   "source": [
    "# overwrite imaginary fit with analytical value (not much reason to use the\n",
    "# fit for this)\n",
    "\n",
    "ckAI = [lam * gamma * (-1.0) + 0.0j]\n",
    "vkAI = [gamma + 0.0j]"
   ]
  },
  {
   "cell_type": "code",
   "execution_count": null,
   "id": "eb4c1da5",
   "metadata": {},
   "outputs": [],
   "source": [
    "options = {**default_options}\n",
    "\n",
    "NC = 4\n",
    "\n",
    "with timer(\"RHS construction time\"):\n",
    "    bath = ExponentialBosonicEnvironment(ckAR, vkAR, ckAI, vkAI)\n",
    "    HEOMFit = HEOMSolver(Hsys, (bath,Q), NC, options=options)\n",
    "\n",
    "with timer(\"ODE solver time\"):\n",
    "    resultFit = HEOMFit.run(rho0, tlist)"
   ]
  },
  {
   "cell_type": "code",
   "execution_count": null,
   "id": "10367aab",
   "metadata": {},
   "outputs": [],
   "source": [
    "plot_result_expectations(\n",
    "    [\n",
    "        (resultFit, P11p, \"b\", \"P11 Fit\"),\n",
    "        (resultFit, P12p, \"r\", \"P12 Fit\"),\n",
    "    ]\n",
    ");"
   ]
  },
  {
   "cell_type": "markdown",
   "id": "eee27930",
   "metadata": {},
   "source": [
    "Now we use the built-in functions. The `BosonicEnvironment` class, includes a \n",
    "method that performs this fit automatically. More information on how the\n",
    "built-in functios work can be found in `HEOM 1d: Spin-Bath model, fitting of spectrum and correlation functions`"
   ]
  },
  {
   "cell_type": "code",
   "execution_count": null,
   "id": "93e96c60",
   "metadata": {},
   "outputs": [],
   "source": [
    "tlist3 = np.linspace(0, 2, 200)\n",
    "envfit, fitinfo =dlenv.approx_by_cf_fit(tlist=tlist3,full_ansatz=True,maxfev=1e6,Ni_max=1,Nr_max=3)"
   ]
  },
  {
   "cell_type": "markdown",
   "id": "10d5e5bf",
   "metadata": {},
   "source": [
    "The approx_by_cf_fit method outputs a `ExponentialBosonicEnvironment` object,\n",
    "which contains a decaying exponential representation of the original \n",
    "environment , and a dictionary containing all information related to the fit.\n",
    "The dictionary contains a summary of the fir information and the normalized \n",
    "root mean squared error, which assesses how good the fit is. "
   ]
  },
  {
   "cell_type": "code",
   "execution_count": null,
   "id": "fa998aa2",
   "metadata": {},
   "outputs": [],
   "source": [
    "print(fitinfo['summary'])"
   ]
  },
  {
   "cell_type": "markdown",
   "id": "43257850",
   "metadata": {},
   "source": [
    "We can then compare the result of the built-in fit with the manual fit"
   ]
  },
  {
   "cell_type": "code",
   "execution_count": null,
   "id": "2d897b84",
   "metadata": {},
   "outputs": [],
   "source": [
    "# Create a single figure with two subplots\n",
    "fig, (ax1, ax2) = plt.subplots(1, 2, figsize=(14, 6))\n",
    "\n",
    "# Plot the real part on the first subplot (ax1)\n",
    "ax1.plot(tlist2, corrRana, label=\"Original\", marker=\"o\", markevery=500)\n",
    "ax1.plot(tlist2, fit_func(tlist2, *poptR[-1]), color=\"r\", label=\"Manual Fit\")\n",
    "ax1.plot(tlist2, np.real(envfit.correlation_function(tlist2)), \"k--\", label=\"Built-in fit\")\n",
    "ax1.set_ylabel(r\"$C_{R}(t)$\")\n",
    "ax1.set_xlabel(r\"$t$\")\n",
    "ax1.legend()\n",
    "\n",
    "# Plot the imaginary part on the second subplot (ax2)\n",
    "ax2.plot(tlist2, corrIana, label=\"Original\", marker=\"o\", markevery=500)\n",
    "ax2.plot(tlist2, fit_func(tlist2, *poptI[-1]), color=\"r\", label=\"Manual Fit\")\n",
    "ax2.plot(tlist2, np.imag(envfit.correlation_function(tlist2)), \"k--\", label=\"Built-in fit\")\n",
    "ax2.set_ylabel(r\"$C_{I}(t)$\")\n",
    "ax2.set_xlabel(r\"$t$\")\n",
    "ax2.legend()\n",
    "# Add an overall title and adjust layout\n",
    "plt.tight_layout(rect=[0, 0.03, 1, 0.95])\n",
    "plt.show()\n"
   ]
  },
  {
   "cell_type": "code",
   "execution_count": null,
   "id": "a089f775",
   "metadata": {},
   "outputs": [],
   "source": [
    "options = {**default_options}\n",
    "\n",
    "NC = 4\n",
    "\n",
    "with timer(\"RHS construction time\"):\n",
    "    HEOMFit_2 = HEOMSolver(Hsys, (envfit,Q), NC, options=options)\n",
    "\n",
    "with timer(\"ODE solver time\"):\n",
    "    resultFit_2 = HEOMFit_2.run(rho0, tlist)"
   ]
  },
  {
   "cell_type": "code",
   "execution_count": null,
   "id": "b1a02d7b",
   "metadata": {},
   "outputs": [],
   "source": [
    "plot_result_expectations(\n",
    "    [\n",
    "        (resultFit, P11p, \"b\", \"P11 Fit\"),\n",
    "        (resultFit, P12p, \"r\", \"P12 Fit\"),\n",
    "        (resultFit_2, P11p, \"r--\", \"P11 Built-in-Fit\"),\n",
    "        (resultFit_2, P12p, \"b--\", \"P12 Built-in-Fit\"),\n",
    "    ]\n",
    ");"
   ]
  },
  {
   "cell_type": "markdown",
   "id": "e1585ec3",
   "metadata": {},
   "source": [
    "## A reaction coordinate approach"
   ]
  },
  {
   "cell_type": "markdown",
   "id": "0cf8a70a",
   "metadata": {},
   "source": [
    "Here we construct a reaction coordinate inspired model to capture the\n",
    "steady-state behavior, and compare to the HEOM prediction. This result is\n",
    "more accurate for narrow spectral densities.  We will use the population and\n",
    "coherence from this cell in our final plot below."
   ]
  },
  {
   "cell_type": "code",
   "execution_count": null,
   "id": "079c7bae",
   "metadata": {},
   "outputs": [],
   "source": [
    "dot_energy, dot_state = Hsys.eigenstates()\n",
    "deltaE = dot_energy[1] - dot_energy[0]\n",
    "\n",
    "gamma2 = deltaE / (2 * np.pi * gamma)\n",
    "wa = 2 * np.pi * gamma2 * gamma  # reaction coordinate frequency\n",
    "g = np.sqrt(np.pi * wa * lam / 2.0)  # reaction coordinate coupling\n",
    "# reaction coordinate coupling factor over 2 because of diff in J(w)\n",
    "# (it is 2 lam now):\n",
    "g = np.sqrt(\n",
    "    np.pi * wa * lam / 4.0\n",
    ")  #\n",
    "\n",
    "NRC = 10\n",
    "\n",
    "Hsys_exp = tensor(qeye(NRC), Hsys)\n",
    "Q_exp = tensor(qeye(NRC), Q)\n",
    "a = tensor(destroy(NRC), qeye(2))\n",
    "\n",
    "H0 = wa * a.dag() * a + Hsys_exp\n",
    "# interaction\n",
    "H1 = g * (a.dag() + a) * Q_exp\n",
    "\n",
    "H = H0 + H1\n",
    "\n",
    "energies, states = H.eigenstates()\n",
    "rhoss = 0 * states[0] * states[0].dag()\n",
    "for kk, energ in enumerate(energies):\n",
    "    rhoss += states[kk] * states[kk].dag() * np.exp(-beta * energies[kk])\n",
    "\n",
    "rhoss = rhoss / rhoss.norm()\n",
    "\n",
    "\n",
    "class ReactionCoordinateResult:\n",
    "    def __init__(self, states, times):\n",
    "        self.states = states\n",
    "        self.times = times\n",
    "\n",
    "\n",
    "resultRC = ReactionCoordinateResult([rhoss] * len(tlist), tlist)\n",
    "\n",
    "P12RC = tensor(qeye(NRC), basis(2, 0) * basis(2, 1).dag())\n",
    "P11RC = tensor(qeye(NRC), basis(2, 0) * basis(2, 0).dag())"
   ]
  },
  {
   "cell_type": "markdown",
   "id": "67b7c2a2",
   "metadata": {},
   "source": [
    "## Let's plot all our results\n",
    "\n",
    "Finally, let's plot all of our different results to see how they shape up against each other."
   ]
  },
  {
   "cell_type": "code",
   "execution_count": null,
   "id": "ae0d4e46",
   "metadata": {},
   "outputs": [],
   "source": [
    "rcParams = {\n",
    "    \"axes.titlesize\": 25,\n",
    "    \"axes.labelsize\": 30,\n",
    "    \"xtick.labelsize\": 28,\n",
    "    \"ytick.labelsize\": 28,\n",
    "    \"legend.fontsize\": 28,\n",
    "    \"axes.grid\": False,\n",
    "    \"savefig.bbox\": \"tight\",\n",
    "    \"lines.markersize\": 5,\n",
    "    \"font.family\": \"STIXgeneral\",\n",
    "    \"mathtext.fontset\": \"stix\",\n",
    "    \"font.serif\": \"STIX\",\n",
    "    \"text.usetex\": False,\n",
    "}"
   ]
  },
  {
   "cell_type": "code",
   "execution_count": null,
   "id": "1037005d",
   "metadata": {},
   "outputs": [],
   "source": [
    "fig, axes = plt.subplots(2, 1, sharex=False, figsize=(12, 15))\n",
    "\n",
    "with plt.rc_context(rcParams):\n",
    "\n",
    "    plt.sca(axes[0])\n",
    "    plt.yticks([expect(P11RC, resultRC.states[0]), 0.6, 1.0], [0.32, 0.6, 1])\n",
    "    plot_result_expectations(\n",
    "        [\n",
    "            (resultBR, P11p, \"y-.\", \"Bloch-Redfield\"),\n",
    "            (resultMats, P11p, \"b\", \"Matsubara $N_k=2$\"),\n",
    "            (\n",
    "                resultMatsT,\n",
    "                P11p,\n",
    "                \"g--\",\n",
    "                \"Matsubara $N_k=2$ & Terminator\",\n",
    "                {\"linewidth\": 3},\n",
    "            ),\n",
    "            (\n",
    "                resultFit,\n",
    "                P11p,\n",
    "                \"r\",\n",
    "                r\"Fit $N_f = 4$, $N_k=15\\times 10^3$\",\n",
    "                {\"dashes\": [3, 2]},\n",
    "            ),\n",
    "            (\n",
    "                resultRC,\n",
    "                P11RC,\n",
    "                \"--\", \"Thermal\",\n",
    "                {\"linewidth\": 2, \"color\": \"black\"},\n",
    "            ),\n",
    "        ],\n",
    "        axes=axes[0],\n",
    "    )\n",
    "    axes[0].set_ylabel(r\"$\\rho_{11}$\", fontsize=30)\n",
    "    axes[0].legend(loc=0)\n",
    "    axes[0].text(5, 0.9, \"(a)\", fontsize=30)\n",
    "    axes[0].set_xlim(0, 50)\n",
    "\n",
    "    plt.sca(axes[1])\n",
    "    plt.yticks(\n",
    "        [np.real(expect(P12RC, resultRC.states[0])), -0.2, 0.0, 0.2],\n",
    "        [-0.33, -0.2, 0, 0.2],\n",
    "    )\n",
    "    plot_result_expectations(\n",
    "        [\n",
    "            (resultBR, P12p, \"y-.\", \"Bloch-Redfield\"),\n",
    "            (resultMats, P12p, \"b\", \"Matsubara $N_k=2$\"),\n",
    "            (\n",
    "                resultMatsT,\n",
    "                P12p,\n",
    "                \"g--\",\n",
    "                \"Matsubara $N_k=2$ & Terminator\",\n",
    "                {\"linewidth\": 3},\n",
    "            ),\n",
    "            (\n",
    "                resultFit,\n",
    "                P12p,\n",
    "                \"r\",\n",
    "                r\"Fit $N_f = 4$, $N_k=15\\times 10^3$\",\n",
    "                {\"dashes\": [3, 2]},\n",
    "            ),\n",
    "            (\n",
    "                resultRC,\n",
    "                P12RC,\n",
    "                \"--\",\n",
    "                \"Thermal\",\n",
    "                {\"linewidth\": 2, \"color\": \"black\"},\n",
    "            ),\n",
    "        ],\n",
    "        axes=axes[1],\n",
    "    )\n",
    "    axes[1].text(5, 0.1, \"(b)\", fontsize=30)\n",
    "    axes[1].set_xlabel(r\"$t \\Delta$\", fontsize=30)\n",
    "    axes[1].set_ylabel(r\"$\\rho_{01}$\", fontsize=30)\n",
    "    axes[1].set_xlim(0, 50)"
   ]
  },
  {
   "cell_type": "markdown",
   "id": "33ee2124",
   "metadata": {},
   "source": [
    "And that's the end of a detailed first dive into modeling bosonic environments with the HEOM."
   ]
  },
  {
   "cell_type": "markdown",
   "id": "64bfae7b",
   "metadata": {},
   "source": [
    "## About"
   ]
  },
  {
   "cell_type": "code",
   "execution_count": null,
   "id": "60d4a331",
   "metadata": {},
   "outputs": [],
   "source": [
    "qutip.about()"
   ]
  },
  {
   "cell_type": "markdown",
   "id": "e654ee7f",
   "metadata": {},
   "source": [
    "## Testing\n",
    "\n",
    "This section can include some tests to verify that the expected outputs are generated within the notebook. We put this section at the end of the notebook, so it's not interfering with the user experience. Please, define the tests using assert, so that the cell execution fails if a wrong output is generated."
   ]
  },
  {
   "cell_type": "code",
   "execution_count": null,
   "id": "d19a74bc",
   "metadata": {},
   "outputs": [],
   "source": [
    "# Check P11p\n",
    "assert np.allclose(\n",
    "    expect(P11p, resultMatsT.states),\n",
    "    expect(P11p, resultPade.states),\n",
    "    rtol=1e-2,\n",
    ")\n",
    "assert np.allclose(\n",
    "    expect(P11p, resultMatsT.states),\n",
    "    expect(P11p, resultFit.states),\n",
    "    rtol=1e-2,\n",
    ")\n",
    "\n",
    "# Check P12p\n",
    "assert np.allclose(\n",
    "    expect(P12p, resultMatsT.states),\n",
    "    expect(P12p, resultPade.states),\n",
    "    rtol=1e-2,\n",
    ")\n",
    "assert np.allclose(\n",
    "    expect(P12p, resultMatsT.states),\n",
    "    expect(P12p, resultFit.states),\n",
    "    rtol=1e-1,\n",
    ")"
   ]
  }
 ],
 "metadata": {
  "jupytext": {
   "cell_metadata_filter": "-all",
   "notebook_metadata_filter": "-jupytext.cell_metadata_filter,-jupytext.notebook_metadata_filter"
  },
  "kernelspec": {
   "display_name": "qutip-dev",
   "language": "python",
   "name": "python3"
  },
  "language_info": {
   "codemirror_mode": {
    "name": "ipython",
    "version": 3
   },
   "file_extension": ".py",
   "mimetype": "text/x-python",
   "name": "python",
   "nbconvert_exporter": "python",
   "pygments_lexer": "ipython3",
   "version": "3.12.7"
  }
 },
 "nbformat": 4,
 "nbformat_minor": 5
}
