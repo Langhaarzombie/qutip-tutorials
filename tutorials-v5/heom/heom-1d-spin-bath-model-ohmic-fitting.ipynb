{
 "cells": [
  {
   "cell_type": "markdown",
   "id": "cabf955e",
   "metadata": {},
   "source": [
    "# HEOM 1d: Spin-Bath model, fitting of spectrum and correlation functions"
   ]
  },
  {
   "cell_type": "markdown",
   "id": "97086a26",
   "metadata": {},
   "source": [
    "## Introduction\n",
    "\n",
    "The HEOM method solves the dynamics and steady state of a system and its environment, the latter of which is encoded \n",
    "in a set of auxiliary density matrices.\n",
    "\n",
    "In this example we show the evolution of a single two-level system in contact with a single bosonic environment.\n",
    "\n",
    "The properties of the system are encoded in Hamiltonian, and a coupling operator which describes how it is coupled to the environment.\n",
    "\n",
    "The bosonic environment is implicitly assumed to obey a particular Hamiltonian ([see paper](https://arxiv.org/abs/2010.10806)), the parameters of which are encoded in the spectral density, and subsequently the free-bath correlation functions.\n",
    "\n",
    "In the example below we show how to model an Ohmic environment with exponential cut-off in three ways:\n",
    "\n",
    "* First we fit the spectral density with a set of underdamped brownian oscillator functions.\n",
    "* Second, we evaluate the correlation functions, and fit those with a certain choice of exponential functions.\n",
    "* Third, we use the available OhmicBath class \n",
    "\n",
    "In each case we will use the fit parameters to determine the correlation function expansion co-efficients needed to construct a description of the bath (i.e. a `BosonicBath` object) to supply to the `HEOMSolver` so that we can solve for the system dynamics."
   ]
  },
  {
   "cell_type": "markdown",
   "id": "6ff3b68e",
   "metadata": {},
   "source": [
    "## Setup"
   ]
  },
  {
   "cell_type": "code",
   "execution_count": null,
   "id": "507d7e77",
   "metadata": {},
   "outputs": [],
   "source": [
    "import numpy as np\n",
    "from matplotlib import pyplot as plt\n",
    "import qutip\n",
    "from qutip import (\n",
    "    basis,\n",
    "    expect,\n",
    "    sigmax,\n",
    "    sigmaz,\n",
    ")\n",
    "from qutip.solver.heom import (\n",
    "    HEOMSolver,\n",
    "    SpectralFitter,\n",
    "    CorrelationFitter,\n",
    "    OhmicBath,\n",
    ")\n",
    "\n",
    "# Import mpmath functions for evaluation of gamma and zeta\n",
    "# functions in the expression for the correlation:\n",
    "\n",
    "from mpmath import mp\n",
    "\n",
    "mp.dps = 15\n",
    "mp.pretty = True\n",
    "\n",
    "%matplotlib inline"
   ]
  },
  {
   "cell_type": "code",
   "execution_count": null,
   "id": "e35aa06f",
   "metadata": {},
   "outputs": [],
   "source": [
    "# Solver options:\n",
    "\n",
    "options = {\n",
    "    \"nsteps\": 15000,\n",
    "    \"store_states\": True,\n",
    "    \"rtol\": 1e-14,\n",
    "    \"atol\": 1e-14,\n",
    "    \"method\": \"vern9\",\n",
    "    \"progress_bar\": \"enhanced\",\n",
    "}"
   ]
  },
  {
   "cell_type": "markdown",
   "id": "9682b098",
   "metadata": {},
   "source": [
    "## System and bath definition\n",
    "\n",
    "And let us set up the system Hamiltonian, bath and system measurement operators:"
   ]
  },
  {
   "cell_type": "markdown",
   "id": "67e767f2",
   "metadata": {},
   "source": [
    "### System Hamiltonian"
   ]
  },
  {
   "cell_type": "code",
   "execution_count": null,
   "id": "175e4f9c",
   "metadata": {},
   "outputs": [],
   "source": [
    "# Defining the system Hamiltonian\n",
    "eps = 0  # Energy of the 2-level system.\n",
    "Del = 0.2  # Tunnelling term\n",
    "Hsys = 0.5 * eps * sigmaz() + 0.5 * Del * sigmax()\n",
    "rho0 = basis(2, 0) * basis(2, 0).dag()"
   ]
  },
  {
   "cell_type": "markdown",
   "id": "3e170b8e",
   "metadata": {},
   "source": [
    "### System measurement operators"
   ]
  },
  {
   "cell_type": "code",
   "execution_count": null,
   "id": "f66f7b0f",
   "metadata": {},
   "outputs": [],
   "source": [
    "# Define some operators with which we will measure the system\n",
    "# 1,1 element of density matrix - corresonding to groundstate\n",
    "P11p = basis(2, 0) * basis(2, 0).dag()\n",
    "P22p = basis(2, 1) * basis(2, 1).dag()\n",
    "# 1,2 element of density matrix  - corresonding to coherence\n",
    "P12p = basis(2, 0) * basis(2, 1).dag()"
   ]
  },
  {
   "cell_type": "markdown",
   "id": "b10c8d81",
   "metadata": {},
   "source": [
    "### Analytical expressions for the Ohmic bath correlation function and spectral density"
   ]
  },
  {
   "cell_type": "markdown",
   "id": "ac2c1bfe",
   "metadata": {},
   "source": [
    "Before we begin fitting, let us examine the analytic expressions for the correlation and spectral density functions and write Python equivalents. \n",
    "\n",
    "The correlation function is given by (see, e.g., http://www1.itp.tu-berlin.de/brandes/public_html/publications/notes.pdf for a derivation, equation 7.59, but with a factor of $\\pi$ moved into the definition of the correlation function):\n",
    "\n",
    "\\begin{align}\n",
    "C(t) =& \\: \\frac{1}{\\pi}\\alpha \\omega_{c}^{1 - s} \\beta^{- (s + 1)} \\: \\times \\\\\n",
    "      & \\: \\Gamma(s + 1) \\left[ \\zeta \\left(s + 1, \\frac{1 + \\beta \\omega_c - i \\omega_c t}{\\beta \\omega_c}\\right) + \\zeta \\left(s + 1, \\frac{1 + i \\omega_c t}{\\beta \\omega_c}\\right) \\right]\n",
    "\\end{align}\n",
    "\n",
    "where $\\Gamma$ is the Gamma function and\n",
    "\n",
    "\\begin{equation}\n",
    "\\zeta(z, u) \\equiv \\sum_{n=0}^{\\infty} \\frac{1}{(n + u)^z}, \\; u \\neq 0, -1, -2, \\ldots\n",
    "\\end{equation}\n",
    "\n",
    "is the generalized Zeta function. The Ohmic case is given by $s = 1$.\n",
    "\n",
    "The corresponding spectral density for the Ohmic case is:\n",
    "\n",
    "\\begin{equation}\n",
    "J(\\omega) = \\omega \\alpha e^{- \\frac{\\omega}{\\omega_c}}\n",
    "\\end{equation}"
   ]
  },
  {
   "cell_type": "code",
   "execution_count": null,
   "id": "e445252c",
   "metadata": {},
   "outputs": [],
   "source": [
    "def ohmic_correlation(t, alpha, wc, beta, s=1):\n",
    "    \"\"\"The Ohmic bath correlation function as a function of t\n",
    "    (and the bath parameters).\n",
    "    \"\"\"\n",
    "    corr = (1 / np.pi) * alpha * wc ** (1 - s)\n",
    "    corr *= beta ** (-(s + 1)) * mp.gamma(s + 1)\n",
    "    z1_u = (1 + beta * wc - 1.0j * wc * t) / (beta * wc)\n",
    "    z2_u = (1 + 1.0j * wc * t) / (beta * wc)\n",
    "    # Note: the arguments to zeta should be in as high precision as possible.\n",
    "    # See http://mpmath.org/doc/current/basics.html#providing-correct-input\n",
    "    return np.array(\n",
    "        [\n",
    "            complex(corr * (mp.zeta(s + 1, u1) + mp.zeta(s + 1, u2)))\n",
    "            for u1, u2 in zip(z1_u, z2_u)\n",
    "        ],\n",
    "        dtype=np.complex128,\n",
    "    )"
   ]
  },
  {
   "cell_type": "code",
   "execution_count": null,
   "id": "7f596c55",
   "metadata": {},
   "outputs": [],
   "source": [
    "def ohmic_spectral_density(w, alpha, wc):\n",
    "    \"\"\"The Ohmic bath spectral density as a function of w\n",
    "    (and the bath parameters).\n",
    "    \"\"\"\n",
    "    return w * alpha * np.e ** (-w / wc)"
   ]
  },
  {
   "cell_type": "code",
   "execution_count": null,
   "id": "6361cbb5",
   "metadata": {},
   "outputs": [],
   "source": [
    "def ohmic_power_spectrum(w, alpha, wc, beta):\n",
    "    \"\"\"The Ohmic bath power spectrum as a function of w\n",
    "    (and the bath parameters).\n",
    "    \"\"\"\n",
    "    bose = (1 / (np.e ** (w * beta) - 1)) + 1\n",
    "    return w * alpha * np.e ** (-abs(w) / wc) * bose * 2"
   ]
  },
  {
   "cell_type": "markdown",
   "id": "828807f3",
   "metadata": {},
   "source": [
    "### Bath and HEOM parameters"
   ]
  },
  {
   "cell_type": "markdown",
   "id": "e8d2c4eb",
   "metadata": {},
   "source": [
    "Finally, let's set the bath parameters we will work with and write down some measurement operators:"
   ]
  },
  {
   "cell_type": "code",
   "execution_count": null,
   "id": "84692a7a",
   "metadata": {},
   "outputs": [],
   "source": [
    "Q = sigmaz()\n",
    "alpha = 3.25\n",
    "T = 0.5\n",
    "wc = 1.0\n",
    "s = 1"
   ]
  },
  {
   "cell_type": "markdown",
   "id": "6311fc80",
   "metadata": {},
   "source": [
    "And set the cut-off for the HEOM hierarchy:"
   ]
  },
  {
   "cell_type": "code",
   "execution_count": null,
   "id": "4a2d75e0",
   "metadata": {},
   "outputs": [],
   "source": [
    "# HEOM parameters:\n",
    "\n",
    "# The max_depth defaults to 5 so that the notebook executes more\n",
    "# quickly. Change it to 11 to wait longer for more accurate results.\n",
    "max_depth = 5"
   ]
  },
  {
   "cell_type": "markdown",
   "id": "96a8795a",
   "metadata": {},
   "source": [
    "## Building the HEOM bath by fitting the spectral density"
   ]
  },
  {
   "cell_type": "markdown",
   "id": "0087eff9",
   "metadata": {},
   "source": [
    "We begin by fitting the spectral density, using a series of $k$ underdamped harmonic oscillators case with the Meier-Tannor form (J. Chem. Phys. 111, 3365 (1999); https://doi.org/10.1063/1.479669):\n",
    "\n",
    "\\begin{equation}\n",
    "J_{\\mathrm approx}(\\omega; a, b, c) = \\sum_{i=0}^{k-1} \\frac{2 a_i b_i w}{((w + c_i)^2 + b_i^2) ((w - c_i)^2 + b_i^2)}\n",
    "\\end{equation}\n",
    "\n",
    "where $a, b$ and $c$ are the fit parameters and each is a vector of length $k$."
   ]
  },
  {
   "cell_type": "markdown",
   "id": "ee9df492",
   "metadata": {},
   "source": [
    "With the spectral density approximation $J_{\\mathrm approx}(w; a, b, c)$ implemented above, we can now perform the fit and examine the results. This can be done quickly using the `SpectralFitter` class, which takes the target spectral density as an array and fits it to the series of **k** underdamped harmonic oscillators with the Meier-Tannor form"
   ]
  },
  {
   "cell_type": "code",
   "execution_count": null,
   "id": "61cb326f",
   "metadata": {},
   "outputs": [],
   "source": [
    "w = np.linspace(0, 15, 20000)\n",
    "J = ohmic_spectral_density(w, alpha, wc)"
   ]
  },
  {
   "cell_type": "markdown",
   "id": "70b4e4c2",
   "metadata": {},
   "source": [
    "We first initialize our SpectralFitter"
   ]
  },
  {
   "cell_type": "code",
   "execution_count": null,
   "id": "1a415eb6",
   "metadata": {},
   "outputs": [],
   "source": [
    "fs = SpectralFitter(T, Q, w, J)"
   ]
  },
  {
   "cell_type": "markdown",
   "id": "c7d4d10c",
   "metadata": {},
   "source": [
    "To obtain a fit we simply pass our desired spectral density and range, into the ``get_fit`` method. The number of exponents we'll use in our bath is given by Nk"
   ]
  },
  {
   "cell_type": "code",
   "execution_count": null,
   "id": "e649ebea",
   "metadata": {},
   "outputs": [],
   "source": [
    "bath, fitinfo = fs.get_fit(Nk=1)"
   ]
  },
  {
   "cell_type": "markdown",
   "id": "47c73e52",
   "metadata": {},
   "source": [
    "To obtain an overview of the results of the fit we may take a look at the summary from the ``fitinfo``"
   ]
  },
  {
   "cell_type": "code",
   "execution_count": null,
   "id": "6d03e729",
   "metadata": {},
   "outputs": [],
   "source": [
    "print(fitinfo[\"summary\"])"
   ]
  },
  {
   "cell_type": "markdown",
   "id": "518e5698",
   "metadata": {},
   "source": [
    "We may see how the number of exponents chosen affects the fit since the approximated functions are available:"
   ]
  },
  {
   "cell_type": "code",
   "execution_count": null,
   "id": "ee47e95c",
   "metadata": {},
   "outputs": [],
   "source": [
    "fig, (ax1, ax2) = plt.subplots(ncols=2, figsize=(10, 5))\n",
    "\n",
    "ax1.plot(w, J, label=\"Original spectral density\")\n",
    "ax1.plot(w, bath.spectral_density_approx(w), label=\"Effective fitted SD\")\n",
    "ax1.set_xlabel(r'$\\omega$')\n",
    "ax1.set_ylabel(r'$J$')\n",
    "ax1.legend()\n",
    "\n",
    "ax2.plot(w, np.abs(J - bath.spectral_density_approx(w)), label=\"Error\")\n",
    "ax2.set_xlabel(r'$\\omega$')\n",
    "ax2.set_ylabel(r'$J$')\n",
    "ax2.legend()\n",
    "\n",
    "plt.show()"
   ]
  },
  {
   "cell_type": "markdown",
   "id": "c5c6b894",
   "metadata": {},
   "source": [
    "Here we see a surprisingly large discrepancy in our approximated or effective spectral density. This happens because we are not using enough exponentials from each of the underdamped modes to have an appropiate fit. All modes have the same number of exponents, and we set it to 1 which is not enough to model a bath with the temperature considered, let us repeat this with a higher number of exponents."
   ]
  },
  {
   "cell_type": "code",
   "execution_count": null,
   "id": "75e720a6",
   "metadata": {},
   "outputs": [],
   "source": [
    "bath, fitinfo = fs.get_fit(Nk=5)\n",
    "print(fitinfo[\"summary\"])\n",
    "\n",
    "fig, (ax1, ax2) = plt.subplots(ncols=2, figsize=(10, 5))\n",
    "\n",
    "ax1.plot(w, J, label=\"Original spectral density\")\n",
    "ax1.plot(w, bath.spectral_density_approx(w), label=\"Effective fitted SD\")\n",
    "ax1.set_xlabel(r'$\\omega$')\n",
    "ax1.set_ylabel(r'$J$')\n",
    "ax1.legend()\n",
    "\n",
    "ax2.plot(w, np.abs(J - bath.spectral_density_approx(w)), label=\"Error\")\n",
    "ax2.set_xlabel(r'$\\omega$')\n",
    "ax2.set_ylabel(r'$J$')\n",
    "ax2.legend()\n",
    "\n",
    "plt.show()"
   ]
  },
  {
   "cell_type": "markdown",
   "id": "5575f325",
   "metadata": {},
   "source": [
    "Since the number of exponents increases simulation time one should go with the least amount of exponents that correctly describe the bath properties (Power spectrum, Spectral density and the correlation function). When the number of exponents is not specified it defaults to 5."
   ]
  },
  {
   "cell_type": "markdown",
   "id": "114bf341",
   "metadata": {},
   "source": [
    "By default the ``get_fit`` method, has a threshold normalized root mean squared error (NRMSE) of $5\\times 10^{-6}$ and selects the number of oscillators automatically to obtain that value. One may also specify the number of oscillators that is used with the optional argument N, or may want a more accurate NRMSE, which can be specified with the final_rmse optional argument"
   ]
  },
  {
   "cell_type": "code",
   "execution_count": null,
   "id": "d2b612fe",
   "metadata": {},
   "outputs": [],
   "source": [
    "bath, fitinfo = fs.get_fit(final_rmse=1e-6)\n",
    "print(fitinfo[\"summary\"])"
   ]
  },
  {
   "cell_type": "markdown",
   "id": "0962962b",
   "metadata": {},
   "source": [
    "Alternatively one may choose the number of oscillators in the fit instead of a desired NRMSE"
   ]
  },
  {
   "cell_type": "code",
   "execution_count": null,
   "id": "192d9a35",
   "metadata": {},
   "outputs": [],
   "source": [
    "fittedbath, fitinfo = fs.get_fit(N=4)\n",
    "print(fitinfo[\"summary\"])"
   ]
  },
  {
   "cell_type": "markdown",
   "id": "65ad093e",
   "metadata": {},
   "source": [
    "Let's take a closer look at our last fit by plotting the contribution of each term of the fit:"
   ]
  },
  {
   "cell_type": "code",
   "execution_count": null,
   "id": "53e63db1",
   "metadata": {},
   "outputs": [],
   "source": [
    "# Plot the components of the fit separately:\n",
    "plt.rcParams[\"font.size\"] = 25\n",
    "plt.rcParams[\"figure.figsize\"] = (10, 5)\n",
    "\n",
    "\n",
    "def plot_fit(func, J, w, lam, gamma, w0):\n",
    "    \"\"\"Plot the individual components of a fit to the spectral density.\n",
    "    and how they contribute to the full fit one by one\"\"\"\n",
    "    total = 0\n",
    "    for i in range(len(lam)):\n",
    "        component = func(w, [lam[i]], [gamma[i]], [w0[i]])\n",
    "        total += component\n",
    "        plt.plot(w, J, \"r--\", linewidth=2, label=\"original\")\n",
    "        plt.plot(w, total, label=rf\"$k={i+1}$\")\n",
    "        plt.xlabel(r\"$\\omega$\")\n",
    "        plt.ylabel(r\"$J(\\omega)$\")\n",
    "        plt.legend()\n",
    "        plt.pause(1)\n",
    "        plt.show()\n",
    "\n",
    "\n",
    "def plot_fit_components(func, J, w, lam, gamma, w0):\n",
    "    \"\"\"Plot the individual components of a fit to the spectral density.\n",
    "    and how they contribute to the full fit\"\"\"\n",
    "    plt.plot(w, J, \"r--\", linewidth=2, label=\"original\")\n",
    "    for i in range(len(lam)):\n",
    "        component = func(w, [lam[i]], [gamma[i]], [w0[i]])\n",
    "        plt.plot(w, component, label=rf\"$k={i+1}$\")\n",
    "    plt.xlabel(r\"$\\omega$\")\n",
    "    plt.ylabel(r\"$J(\\omega)$\")\n",
    "    plt.legend(bbox_to_anchor=(1.04, 1))\n",
    "    plt.show()\n",
    "\n",
    "\n",
    "lam, gamma, w0 = fitinfo[\"params\"]\n",
    "plot_fit(SpectralFitter._meier_tannor_SD, J, w, lam, gamma, w0)"
   ]
  },
  {
   "cell_type": "code",
   "execution_count": null,
   "id": "ef71d94e",
   "metadata": {},
   "outputs": [],
   "source": [
    "plot_fit_components(SpectralFitter._meier_tannor_SD, J, w, lam, gamma, w0)"
   ]
  },
  {
   "cell_type": "markdown",
   "id": "b9cc7bd7",
   "metadata": {},
   "source": [
    "And let's also compare the power spectrum of the fit and the analytical spectral density:"
   ]
  },
  {
   "cell_type": "code",
   "execution_count": null,
   "id": "9fb1bbfc",
   "metadata": {},
   "outputs": [],
   "source": [
    "def plot_power_spectrum(alpha, wc, beta, save=True):\n",
    "    \"\"\"Plot the power spectrum of a fit against the actual power spectrum.\"\"\"\n",
    "    w = np.linspace(-10, 10, 50000)\n",
    "    s_orig = ohmic_power_spectrum(w, alpha=alpha, wc=wc, beta=beta)\n",
    "    s_fit = fittedbath.power_spectrum_approx(w)\n",
    "    fig, axes = plt.subplots(1, 1, sharex=True, figsize=(8, 8))\n",
    "    axes.plot(w, s_orig, \"r\", linewidth=2, label=\"original\")\n",
    "    axes.plot(w, np.real(s_fit), \"b\", linewidth=2, label=\"fit\")\n",
    "\n",
    "    axes.set_xlabel(r\"$\\omega$\", fontsize=28)\n",
    "    axes.set_ylabel(r\"$S(\\omega)$\", fontsize=28)\n",
    "    axes.legend()\n",
    "\n",
    "    if save:\n",
    "        fig.savefig(\"powerspectrum.eps\")\n",
    "\n",
    "\n",
    "plot_power_spectrum(alpha, wc, 1 / T, save=False)"
   ]
  },
  {
   "cell_type": "markdown",
   "id": "987d142c",
   "metadata": {},
   "source": [
    "Now that we have a good fit to the spectral density, Let us obtain its dynamics, by passing our ``FitSpectral`` bath specifications into the ``HEOMSolver``"
   ]
  },
  {
   "cell_type": "code",
   "execution_count": null,
   "id": "5966b87b",
   "metadata": {},
   "outputs": [],
   "source": [
    "tlist = np.linspace(0, 30 * np.pi / Del, 600)\n",
    "HEOM_spectral_fit = HEOMSolver(\n",
    "    Hsys,\n",
    "    fittedbath,\n",
    "    max_depth=4,\n",
    "    options=options,\n",
    ")\n",
    "result_spectral = HEOM_spectral_fit.run(rho0, tlist)"
   ]
  },
  {
   "cell_type": "markdown",
   "id": "3019de19",
   "metadata": {},
   "source": [
    "Now if we want to see the systems's behaviour as we change the Number of terms in the fit, we may use this auxiliary function"
   ]
  },
  {
   "cell_type": "code",
   "execution_count": null,
   "id": "2314e5cc",
   "metadata": {},
   "outputs": [],
   "source": [
    "def generate_spectrum_results(Q, N, Nk, max_depth):\n",
    "    \"\"\"Run the HEOM with the given bath parameters and\n",
    "    and return the results of the evolution.\n",
    "    \"\"\"\n",
    "    fs = SpectralFitter(T, Q, w, J)\n",
    "    bath, _ = fs.get_fit(N, Nk=Nk)\n",
    "    tlist = np.linspace(0, 30 * np.pi / Del, 600)\n",
    "\n",
    "    # This problem is a little stiff, so we use  the BDF method to solve\n",
    "    # the ODE ^^^\n",
    "    print(f\"Starting calculations for N={N}, Nk={Nk} and max_depth={max_depth} ... \")\n",
    "    HEOM_spectral_fit = HEOMSolver(\n",
    "        Hsys,\n",
    "        bath,\n",
    "        max_depth=max_depth,\n",
    "        options=options,\n",
    "    )\n",
    "    results_spectral_fit = HEOM_spectral_fit.run(rho0, tlist)\n",
    "    return results_spectral_fit"
   ]
  },
  {
   "cell_type": "markdown",
   "id": "4720a994",
   "metadata": {},
   "source": [
    "Below we generate results for different convergence parameters (number of terms in the fit, number of matsubara terms, and depth of the hierarchy).  For the parameter choices here, we need a relatively large depth of around '11', which can be a little slow."
   ]
  },
  {
   "cell_type": "code",
   "execution_count": null,
   "id": "578752e9",
   "metadata": {},
   "outputs": [],
   "source": [
    "def plot_result_expectations(plots, axes=None):\n",
    "    \"\"\"Plot the expectation values of operators as functions of time.\n",
    "\n",
    "    Each plot in plots consists of (solver_result,\n",
    "    measurement_operation, color, label).\n",
    "    \"\"\"\n",
    "    if axes is None:\n",
    "        fig, axes = plt.subplots(1, 1, sharex=True, figsize=(8, 8))\n",
    "        fig_created = True\n",
    "    else:\n",
    "        fig = None\n",
    "        fig_created = False\n",
    "\n",
    "    # add kw arguments to each plot if missing\n",
    "    plots = [p if len(p) == 5 else p + ({},) for p in plots]\n",
    "    for result, m_op, color, label, kw in plots:\n",
    "        exp = np.real(expect(result.states, m_op))\n",
    "        kw.setdefault(\"linewidth\", 2)\n",
    "        if color == \"rand\":\n",
    "            axes.plot(\n",
    "                result.times,\n",
    "                exp,\n",
    "                c=np.random.rand(\n",
    "                    3,\n",
    "                ),\n",
    "                label=label,\n",
    "                **kw,\n",
    "            )\n",
    "        else:\n",
    "            axes.plot(result.times, exp, color, label=label, **kw)\n",
    "\n",
    "    if fig_created:\n",
    "        axes.legend(loc=0, fontsize=12)\n",
    "        axes.set_xlabel(\"t\", fontsize=28)\n",
    "\n",
    "    return fig"
   ]
  },
  {
   "cell_type": "code",
   "execution_count": null,
   "id": "7772dc40",
   "metadata": {},
   "outputs": [],
   "source": [
    "# Generate results for different number of lorentzians in fit:\n",
    "\n",
    "results_spectral_fit_pk = [\n",
    "    generate_spectrum_results(Q, n, Nk=1, max_depth=max_depth) for n in range(1, 5)\n",
    "]\n",
    "\n",
    "plot_result_expectations(\n",
    "    [\n",
    "        (\n",
    "            result,\n",
    "            P11p,\n",
    "            \"rand\",\n",
    "            f\"P11 (spectral fit) $k_J$={pk + 1}\",\n",
    "        )\n",
    "        for pk, result in enumerate(results_spectral_fit_pk)\n",
    "    ]\n",
    ");"
   ]
  },
  {
   "cell_type": "code",
   "execution_count": null,
   "id": "bc81583f",
   "metadata": {},
   "outputs": [],
   "source": [
    "# generate results for different number of Matsubara terms per Lorentzian\n",
    "# for max number of Lorentzians:\n",
    "\n",
    "Nk_list = range(2, 4)\n",
    "results_spectral_fit_nk = [\n",
    "    generate_spectrum_results(Q, 4, Nk=Nk, max_depth=max_depth) for Nk in Nk_list\n",
    "]\n",
    "\n",
    "plot_result_expectations(\n",
    "    [\n",
    "        (\n",
    "            result,\n",
    "            P11p,\n",
    "            \"rand\",\n",
    "            f\"P11 (spectral fit) K={nk}\",\n",
    "        )\n",
    "        for nk, result in zip(Nk_list, results_spectral_fit_nk)\n",
    "    ]\n",
    ");"
   ]
  },
  {
   "cell_type": "code",
   "execution_count": null,
   "id": "43152603",
   "metadata": {},
   "outputs": [],
   "source": [
    "# Generate results for different depths:\n",
    "\n",
    "Nc_list = range(2, max_depth)\n",
    "results_spectral_fit_nc = [\n",
    "    generate_spectrum_results(Q, 4, Nk=1, max_depth=Nc) for Nc in Nc_list\n",
    "]\n",
    "\n",
    "plot_result_expectations(\n",
    "    [\n",
    "        (\n",
    "            result,\n",
    "            P11p,\n",
    "            \"rand\",\n",
    "            f\"P11 (spectral fit) $N_C={nc}$\",\n",
    "        )\n",
    "        for nc, result in zip(Nc_list, results_spectral_fit_nc)\n",
    "    ]\n",
    ");"
   ]
  },
  {
   "cell_type": "markdown",
   "id": "bb4a424c",
   "metadata": {},
   "source": [
    "#### We now combine the fitting and correlation function data into one large plot. Here we define a function to plot everything together"
   ]
  },
  {
   "cell_type": "code",
   "execution_count": null,
   "id": "9a2b8c4b",
   "metadata": {},
   "outputs": [],
   "source": [
    "def gen_plots(fs, w, J, t, C, w2, S):\n",
    "    def plot_cr_fit_vs_actual(t, C, func, axes):\n",
    "        \"\"\"Plot the C_R(t) fit.\"\"\"\n",
    "        yR = func(t)\n",
    "\n",
    "        axes.plot(\n",
    "            t,\n",
    "            np.real(C),\n",
    "            \"r\",\n",
    "            linewidth=3,\n",
    "            label=\"Original\",\n",
    "        )\n",
    "        axes.plot(\n",
    "            t,\n",
    "            np.real(yR),\n",
    "            \"g\",\n",
    "            dashes=[3, 3],\n",
    "            linewidth=2,\n",
    "            label=\"Reconstructed\",\n",
    "        )\n",
    "\n",
    "        axes.set_ylabel(r\"$C_R(t)$\", fontsize=28)\n",
    "        axes.set_xlabel(r\"$t\\;\\omega_c$\", fontsize=28)\n",
    "        axes.locator_params(axis=\"y\", nbins=4)\n",
    "        axes.locator_params(axis=\"x\", nbins=4)\n",
    "        axes.text(0.15, 0.85, \"(a)\", fontsize=28, transform=axes.transAxes)\n",
    "\n",
    "    def plot_ci_fit_vs_actual(t, C, func, axes):\n",
    "        \"\"\"Plot the C_I(t) fit.\"\"\"\n",
    "        yI = func(t)\n",
    "\n",
    "        axes.plot(\n",
    "            t,\n",
    "            np.imag(C),\n",
    "            \"r\",\n",
    "            linewidth=3,\n",
    "        )\n",
    "        axes.plot(\n",
    "            t,\n",
    "            np.real(yI),\n",
    "            \"g\",\n",
    "            dashes=[3, 3],\n",
    "            linewidth=2,\n",
    "        )\n",
    "\n",
    "        axes.set_ylabel(r\"$C_I(t)$\", fontsize=28)\n",
    "        axes.set_xlabel(r\"$t\\;\\omega_c$\", fontsize=28)\n",
    "        axes.locator_params(axis=\"y\", nbins=4)\n",
    "        axes.locator_params(axis=\"x\", nbins=4)\n",
    "        axes.text(0.80, 0.80, \"(b)\", fontsize=28, transform=axes.transAxes)\n",
    "\n",
    "    def plot_jw_fit_vs_actual(w, J, axes):\n",
    "        \"\"\"Plot the J(w) fit.\"\"\"\n",
    "        J_fit = fs.spectral_density_approx(w)\n",
    "\n",
    "        axes.plot(\n",
    "            w,\n",
    "            J,\n",
    "            \"r\",\n",
    "            linewidth=3,\n",
    "        )\n",
    "        axes.plot(\n",
    "            w,\n",
    "            J_fit,\n",
    "            \"g\",\n",
    "            dashes=[3, 3],\n",
    "            linewidth=2,\n",
    "        )\n",
    "\n",
    "        axes.set_ylabel(r\"$J(\\omega)$\", fontsize=28)\n",
    "        axes.set_xlabel(r\"$\\omega/\\omega_c$\", fontsize=28)\n",
    "        axes.locator_params(axis=\"y\", nbins=4)\n",
    "        axes.locator_params(axis=\"x\", nbins=4)\n",
    "        axes.text(0.15, 0.85, \"(c)\", fontsize=28, transform=axes.transAxes)\n",
    "\n",
    "    def plot_sw_fit_vs_actual(axes):\n",
    "        \"\"\"Plot the S(w) fit.\"\"\"\n",
    "\n",
    "        # avoid the pole in the fit around zero:\n",
    "        s_fit = fs.power_spectrum_approx(w2)\n",
    "\n",
    "        axes.plot(w2, S, \"r\", linewidth=3)\n",
    "        axes.plot(w2, s_fit, \"g\", dashes=[3, 3], linewidth=2)\n",
    "\n",
    "        axes.set_ylabel(r\"$S(\\omega)$\", fontsize=28)\n",
    "        axes.set_xlabel(r\"$\\omega/\\omega_c$\", fontsize=28)\n",
    "        axes.locator_params(axis=\"y\", nbins=4)\n",
    "        axes.locator_params(axis=\"x\", nbins=4)\n",
    "        axes.text(0.15, 0.85, \"(d)\", fontsize=28, transform=axes.transAxes)\n",
    "\n",
    "    def plot_matsubara_spectrum_fit_vs_actual(t, C):\n",
    "        \"\"\"Plot the Matsubara fit of the spectrum .\"\"\"\n",
    "        fig = plt.figure(figsize=(12, 10))\n",
    "        grid = plt.GridSpec(2, 2, wspace=0.4, hspace=0.3)\n",
    "\n",
    "        plot_cr_fit_vs_actual(\n",
    "            t,\n",
    "            C,\n",
    "            lambda t: fs.correlation_function_approx(t),\n",
    "            axes=fig.add_subplot(grid[0, 0]),\n",
    "        )\n",
    "        plot_ci_fit_vs_actual(\n",
    "            t,\n",
    "            C,\n",
    "            lambda t: np.imag(fs.correlation_function_approx(t)),\n",
    "            axes=fig.add_subplot(grid[0, 1]),\n",
    "        )\n",
    "        plot_jw_fit_vs_actual(\n",
    "            w,\n",
    "            J,\n",
    "            axes=fig.add_subplot(grid[1, 0]),\n",
    "        )\n",
    "        plot_sw_fit_vs_actual(\n",
    "            axes=fig.add_subplot(grid[1, 1]),\n",
    "        )\n",
    "        fig.legend(loc=\"upper center\", ncol=2, fancybox=True, shadow=True)\n",
    "\n",
    "    return plot_matsubara_spectrum_fit_vs_actual(t, C)"
   ]
  },
  {
   "cell_type": "markdown",
   "id": "7adb9314",
   "metadata": {},
   "source": [
    "#### And finally plot everything together"
   ]
  },
  {
   "cell_type": "code",
   "execution_count": null,
   "id": "4ea17170",
   "metadata": {},
   "outputs": [],
   "source": [
    "t = np.linspace(0, 15, 1000)\n",
    "C = ohmic_correlation(t, alpha, wc, 1 / T)\n",
    "w2 = np.concatenate((-np.linspace(10, 1e-2, 100), np.linspace(1e-2, 10, 100)))\n",
    "S = ohmic_power_spectrum(w2, alpha, wc, 1 / T)\n",
    "gen_plots(fittedbath, w, J, t, C, w2, S)"
   ]
  },
  {
   "cell_type": "markdown",
   "id": "77deecd5",
   "metadata": {},
   "source": [
    "## Building the HEOM bath by fitting the correlation function"
   ]
  },
  {
   "cell_type": "markdown",
   "id": "51ba39e5",
   "metadata": {},
   "source": [
    "Having successfully fitted the spectral density and used the result to calculate the Matsubara expansion and terminator for the HEOM bosonic bath, we now proceed to the second case of fitting the correlation function itself instead.\n",
    "\n",
    "Here we fit the real and imaginary parts separately, using the following ansatz\n",
    "\n",
    "$$C_R^F(t) = \\sum_{i=1}^{k_R} c_R^ie^{-\\gamma_R^i t}\\cos(\\omega_R^i t)$$\n",
    "\n",
    "$$C_I^F(t) = \\sum_{i=1}^{k_I} c_I^ie^{-\\gamma_I^i t}\\sin(\\omega_I^i t)$$\n",
    "\n",
    "Analogously to the spectral density case, one may use the `CorrelationFitter` class"
   ]
  },
  {
   "cell_type": "code",
   "execution_count": null,
   "id": "23c96ebc",
   "metadata": {},
   "outputs": [],
   "source": [
    "t = np.linspace(0, 15, 1500)\n",
    "C = ohmic_correlation(t, alpha=alpha, wc=wc, beta=1 / T)"
   ]
  },
  {
   "cell_type": "code",
   "execution_count": null,
   "id": "d1a4b158",
   "metadata": {},
   "outputs": [],
   "source": [
    "fc = CorrelationFitter(Q, T, t, C)"
   ]
  },
  {
   "cell_type": "code",
   "execution_count": null,
   "id": "ad502b23",
   "metadata": {},
   "outputs": [],
   "source": [
    "bath, fitinfo = fc.get_fit(Ni=4, Nr=4)\n",
    "print(fitinfo[\"summary\"])"
   ]
  },
  {
   "cell_type": "code",
   "execution_count": null,
   "id": "ebee4fd6",
   "metadata": {},
   "outputs": [],
   "source": [
    "gen_plots(bath, w, J, t, C, w2, S)"
   ]
  },
  {
   "cell_type": "code",
   "execution_count": null,
   "id": "6788a571",
   "metadata": {},
   "outputs": [],
   "source": [
    "def generate_corr_results(N, max_depth):\n",
    "    tlist = np.linspace(0, 30 * np.pi / Del, 600)\n",
    "    bath, _ = fc.get_fit(Ni=N, Nr=N)\n",
    "    HEOM_corr_fit = HEOMSolver(\n",
    "        Hsys,\n",
    "        bath,\n",
    "        max_depth=max_depth,\n",
    "        options=options,\n",
    "    )\n",
    "\n",
    "    results_corr_fit = HEOM_corr_fit.run(rho0, tlist)\n",
    "\n",
    "    return results_corr_fit\n",
    "\n",
    "\n",
    "# Generate results for different number of exponentials in fit:\n",
    "results_corr_fit_pk = [\n",
    "    print(f\"{i + 1}\")\n",
    "    or generate_corr_results(\n",
    "        i,\n",
    "        max_depth=max_depth,\n",
    "    )\n",
    "    for i in range(1, 4)\n",
    "]"
   ]
  },
  {
   "cell_type": "code",
   "execution_count": null,
   "id": "d0fc7ffc",
   "metadata": {},
   "outputs": [],
   "source": [
    "plot_result_expectations(\n",
    "    [\n",
    "        (\n",
    "            result,\n",
    "            P11p,\n",
    "            \"rand\",\n",
    "            f\"P11 (correlation fit) k_R=k_I={pk + 1}\",\n",
    "        )\n",
    "        for pk, result in enumerate(results_corr_fit_pk)\n",
    "    ]\n",
    ");"
   ]
  },
  {
   "cell_type": "code",
   "execution_count": null,
   "id": "7609c0a4",
   "metadata": {},
   "outputs": [],
   "source": [
    "fig, axes = plt.subplots(1, 1, sharex=True, figsize=(12, 7))\n",
    "\n",
    "plot_result_expectations(\n",
    "    [\n",
    "        (\n",
    "            results_corr_fit_pk[0],\n",
    "            P11p,\n",
    "            \"y\",\n",
    "            \"Correlation Function Fit $k_R=k_I=1$\",\n",
    "        ),\n",
    "        (\n",
    "            results_corr_fit_pk[2],\n",
    "            P11p,\n",
    "            \"k\",\n",
    "            \"Correlation Function Fit $k_R=k_I=3$\",\n",
    "        ),\n",
    "        (results_spectral_fit_pk[0], P11p, \"b\", \"Spectral Density Fit $k_J=1$\"),\n",
    "        (results_spectral_fit_pk[3], P11p, \"r-.\", \"Spectral Density Fit $k_J=4$\"),\n",
    "    ],\n",
    "    axes=axes,\n",
    ")\n",
    "\n",
    "axes.set_yticks([0.6, 0.8, 1])\n",
    "axes.set_ylabel(r\"$\\rho_{11}$\", fontsize=30)\n",
    "axes.set_xlabel(r\"$t\\;\\omega_c$\", fontsize=30)\n",
    "axes.legend(loc=0, fontsize=20);"
   ]
  },
  {
   "cell_type": "markdown",
   "id": "4456fb86",
   "metadata": {},
   "source": [
    "# Using the Ohmic Bath class\n",
    "\n",
    " As the ohmic spectrum is popular in the modeling of open quantum systems, it has its own dedicated class, the results above can be reproduced quickly by using the OhmicBath class. This allows for rapid implementation of fitted ohmic baths via the correlation function or spectral density"
   ]
  },
  {
   "cell_type": "code",
   "execution_count": null,
   "id": "96f35548",
   "metadata": {},
   "outputs": [],
   "source": [
    "obs = OhmicBath(T, Q, alpha, wc, s)"
   ]
  },
  {
   "cell_type": "code",
   "execution_count": null,
   "id": "0474ab23",
   "metadata": {},
   "outputs": [],
   "source": [
    "Obath, fitinfo = obs.make_correlation_fit(t, rmse=2e-4)\n",
    "print(fitinfo[\"summary\"])"
   ]
  },
  {
   "cell_type": "code",
   "execution_count": null,
   "id": "7b6702fd",
   "metadata": {},
   "outputs": [],
   "source": [
    "tlist = np.linspace(0, 30 * np.pi / Del, 600)\n",
    "HEOM_ohmic_corr_fit = HEOMSolver(\n",
    "    Hsys,\n",
    "    Obath,\n",
    "    max_depth=5,\n",
    "    options=options,\n",
    ")\n",
    "results_ohmic_corr_fit = HEOM_ohmic_corr_fit.run(rho0, tlist)"
   ]
  },
  {
   "cell_type": "code",
   "execution_count": null,
   "id": "f2eaaf50",
   "metadata": {},
   "outputs": [],
   "source": [
    "Obath, fitinfo = obs.make_spectral_fit(w, rmse=2e-4)\n",
    "print(fitinfo[\"summary\"])"
   ]
  },
  {
   "cell_type": "code",
   "execution_count": null,
   "id": "672ed9f6",
   "metadata": {},
   "outputs": [],
   "source": [
    "HEOM_ohmic_spectral_fit = HEOMSolver(\n",
    "    Hsys,\n",
    "    Obath,\n",
    "    max_depth=5,\n",
    "    options=options,\n",
    ")\n",
    "results_ohmic_spectral_fit = HEOM_ohmic_spectral_fit.run(rho0, tlist)"
   ]
  },
  {
   "cell_type": "code",
   "execution_count": null,
   "id": "0f1c8430",
   "metadata": {},
   "outputs": [],
   "source": [
    "fig, axes = plt.subplots(1, 1, sharex=True, figsize=(12, 7))\n",
    "\n",
    "plot_result_expectations(\n",
    "    [\n",
    "        #   (\n",
    "        #       results_corr_fit_pk[0], P11p,\n",
    "        #       'y', \"Correlation Function Fit $k_R=k_I=1$\",\n",
    "        #   ),\n",
    "        (\n",
    "            results_corr_fit_pk[2],\n",
    "            P11p,\n",
    "            \"y-.\",\n",
    "            \"Correlation Function Fit $k_R=k_I=3$\",\n",
    "        ),\n",
    "        (results_spectral_fit_pk[0], P11p, \"b\", \"Spectral Density Fit $k_J=1$\"),\n",
    "        (results_spectral_fit_pk[2], P11p, \"g--\", \"Spectral Density Fit $k_J=3$\"),\n",
    "        (results_spectral_fit_pk[3], P11p, \"r-.\", \"Spectral Density Fit $k_J=4$\"),\n",
    "        (results_ohmic_spectral_fit, P11p, \"g-.\", \"Spectral Density Fit Ohmic Bath\"),\n",
    "        (results_ohmic_corr_fit, P11p, \"k-.\", \"Correlation Fit Ohmic Bath\"),\n",
    "    ],\n",
    "    axes=axes,\n",
    ")\n",
    "\n",
    "axes.set_yticks([0.6, 0.8, 1])\n",
    "axes.set_ylabel(r\"$\\rho_{11}$\", fontsize=30)\n",
    "axes.set_xlabel(r\"$t\\;\\omega_c$\", fontsize=30)\n",
    "axes.legend(loc=0, fontsize=20);"
   ]
  },
  {
   "cell_type": "markdown",
   "id": "bbd88736",
   "metadata": {},
   "source": [
    "## About"
   ]
  },
  {
   "cell_type": "code",
   "execution_count": null,
   "id": "a14ddea9",
   "metadata": {},
   "outputs": [],
   "source": [
    "qutip.about()"
   ]
  },
  {
   "cell_type": "markdown",
   "id": "25aec367",
   "metadata": {},
   "source": [
    "## Testing\n",
    "\n",
    "This section can include some tests to verify that the expected outputs are generated within the notebook. We put this section at the end of the notebook, so it's not interfering with the user experience. Please, define the tests using assert, so that the cell execution fails if a wrong output is generated."
   ]
  },
  {
   "cell_type": "code",
   "execution_count": null,
   "id": "04a94f35",
   "metadata": {},
   "outputs": [],
   "source": [
    "assert np.allclose(\n",
    "    expect(P11p, results_spectral_fit_pk[2].states),\n",
    "    expect(P11p, results_spectral_fit_pk[3].states),\n",
    "    rtol=1e-2,\n",
    ")"
   ]
  }
 ],
 "metadata": {
  "jupytext": {
   "formats": "ipynb,md:myst"
  },
  "kernelspec": {
   "display_name": "qutip-dev",
   "language": "python",
   "name": "python3"
  },
  "language_info": {
   "name": "python",
   "version": "3.12.2"
  }
 },
 "nbformat": 4,
 "nbformat_minor": 5
}
