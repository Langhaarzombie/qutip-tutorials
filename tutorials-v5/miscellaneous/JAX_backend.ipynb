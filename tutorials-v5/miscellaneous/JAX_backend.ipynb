{
 "cells": [
  {
   "cell_type": "markdown",
   "id": "7c55afa5",
   "metadata": {},
   "source": [
    "# qutip-jax JAX backend for qutip\n",
    "\n",
    "JAX is a numpy like library that can run on a CPU, GPU and TPU and supports automatic differentiation.\n",
    "qutip-jax allows JAX array to be used to store `Qobj`'s data allowing qutip to run on GPU.\n",
    "\n",
    "This backend will work with all qutip functions, but some may convert data to other format without warning. For example using scipy ODE will convert the state to a numpy array.\n",
    "\n",
    "Support for `jit` and `grad` with qutip's functions is experimental. When using the right options, it is possible to run `mesolve` and `sesolve` on GPU with both compilation and auto-differentiation working. Many `Qobj` operations are also supported."
   ]
  },
  {
   "cell_type": "code",
   "execution_count": 1,
   "id": "32144945",
   "metadata": {
    "execution": {
     "iopub.execute_input": "2025-04-16T02:29:12.440236Z",
     "iopub.status.busy": "2025-04-16T02:29:12.439794Z",
     "iopub.status.idle": "2025-04-16T02:29:13.712799Z",
     "shell.execute_reply": "2025-04-16T02:29:13.712273Z"
    }
   },
   "outputs": [],
   "source": [
    "import jax\n",
    "import qutip\n",
    "import qutip_jax  # noqa: F401"
   ]
  },
  {
   "cell_type": "markdown",
   "id": "bae9ddff",
   "metadata": {},
   "source": [
    "The JAX backend is activated by importing the `qutip_jax` module. \n",
    "Then the formats `jax` and `jaxdia` are added to know qutip data types.\n",
    "- `\"jax\"` stores the data as a dense Jax Array.\n",
    "- `\"jaxdia\"` represents sparse arrays in DIAgonal format."
   ]
  },
  {
   "cell_type": "code",
   "execution_count": 2,
   "id": "c53aae86",
   "metadata": {
    "execution": {
     "iopub.execute_input": "2025-04-16T02:29:13.714819Z",
     "iopub.status.busy": "2025-04-16T02:29:13.714400Z",
     "iopub.status.idle": "2025-04-16T02:29:13.828765Z",
     "shell.execute_reply": "2025-04-16T02:29:13.828286Z"
    }
   },
   "outputs": [
    {
     "data": {
      "text/plain": [
       "Array([[1.+0.j, 0.+0.j, 0.+0.j],\n",
       "       [0.+0.j, 1.+0.j, 0.+0.j],\n",
       "       [0.+0.j, 0.+0.j, 1.+0.j]], dtype=complex128)"
      ]
     },
     "execution_count": 2,
     "metadata": {},
     "output_type": "execute_result"
    }
   ],
   "source": [
    "# Creating jax Qobj using the dtype argument\n",
    "id_jax = qutip.qeye(3, dtype=\"jax\")\n",
    "id_jax.data_as(\"JaxArray\")"
   ]
  },
  {
   "cell_type": "code",
   "execution_count": 3,
   "id": "9e4f7eb2",
   "metadata": {
    "execution": {
     "iopub.execute_input": "2025-04-16T02:29:13.830495Z",
     "iopub.status.busy": "2025-04-16T02:29:13.830168Z",
     "iopub.status.idle": "2025-04-16T02:29:14.381448Z",
     "shell.execute_reply": "2025-04-16T02:29:14.380979Z"
    }
   },
   "outputs": [
    {
     "data": {
      "text/latex": [
       "Quantum object: dims=[[2, 3], [2, 3]], shape=(6, 6), type='oper', dtype=JaxDia, isherm=False$$\\left(\\begin{array}{cc}0 & 1 & 0 & 1 & 0 & 0\\\\0 & 0 & 1.414 & 0 & 1 & 0\\\\0 & 0 & 0 & 0 & 0 & 1\\\\1 & 0 & 0 & 0 & -1 & 0\\\\0 & 1 & 0 & 0 & 0 & -1.414\\\\0 & 0 & 1 & 0 & 0 & 0\\end{array}\\right)$$"
      ],
      "text/plain": [
       "Quantum object: dims=[[2, 3], [2, 3]], shape=(6, 6), type='oper', dtype=JaxDia, isherm=False\n",
       "Qobj data =\n",
       "[[ 0.          1.          0.          1.          0.          0.        ]\n",
       " [ 0.          0.          1.41421356  0.          1.          0.        ]\n",
       " [ 0.          0.          0.         -0.          0.          1.        ]\n",
       " [ 1.          0.          0.          0.         -1.          0.        ]\n",
       " [ 0.          1.          0.          0.          0.         -1.41421356]\n",
       " [ 0.          0.          1.          0.          0.          0.        ]]"
      ]
     },
     "execution_count": 3,
     "metadata": {},
     "output_type": "execute_result"
    }
   ],
   "source": [
    "# Creating jax Qobj using a context manager\n",
    "with qutip.CoreOptions(default_dtype=\"jaxdia\"):\n",
    "    id = qutip.qeye(3)\n",
    "    a = qutip.destroy(3)\n",
    "\n",
    "# Creating jax Qobj using manual conversion\n",
    "sz = qutip.sigmaz().to(\"jaxdia\")\n",
    "sx = qutip.sigmax().to(\"jaxdia\")\n",
    "\n",
    "# Once created, most operations will conserve the data format\n",
    "op = (sz & a) + (sx & id)\n",
    "op"
   ]
  },
  {
   "cell_type": "code",
   "execution_count": 4,
   "id": "32c0eb16",
   "metadata": {
    "execution": {
     "iopub.execute_input": "2025-04-16T02:29:14.383132Z",
     "iopub.status.busy": "2025-04-16T02:29:14.382748Z",
     "iopub.status.idle": "2025-04-16T02:29:14.427248Z",
     "shell.execute_reply": "2025-04-16T02:29:14.426809Z"
    }
   },
   "outputs": [
    {
     "data": {
      "text/plain": [
       "Array(0.12954248-0.08438418j, dtype=complex128)"
      ]
     },
     "execution_count": 4,
     "metadata": {},
     "output_type": "execute_result"
    }
   ],
   "source": [
    "# Many functions will do operations without converting its output to numpy\n",
    "qutip.expect(op, qutip.rand_dm([2, 3], dtype=\"jax\"))"
   ]
  },
  {
   "cell_type": "markdown",
   "id": "18ca31a4",
   "metadata": {},
   "source": [
    "`jit` can be used with most linear algebra functions:"
   ]
  },
  {
   "cell_type": "code",
   "execution_count": 5,
   "id": "6d8fbf22",
   "metadata": {
    "execution": {
     "iopub.execute_input": "2025-04-16T02:29:14.428873Z",
     "iopub.status.busy": "2025-04-16T02:29:14.428522Z",
     "iopub.status.idle": "2025-04-16T02:29:23.192963Z",
     "shell.execute_reply": "2025-04-16T02:29:23.192448Z"
    }
   },
   "outputs": [
    {
     "name": "stdout",
     "output_type": "stream",
     "text": [
      "Quantum object: dims=[[3], [3]], shape=(3, 3), type='oper', dtype=JaxArray, isherm=True\n",
      "Qobj data =\n",
      "[[ 0.        +0.j          0.        +0.j          0.        +0.j        ]\n",
      " [ 0.        +0.j          0.40045969+0.j         -0.09146798+0.24661566j]\n",
      " [ 0.        +0.j         -0.09146798-0.24661566j  1.24012653+0.j        ]]\n"
     ]
    },
    {
     "name": "stdout",
     "output_type": "stream",
     "text": [
      "81.8 μs ± 427 ns per loop (mean ± std. dev. of 7 runs, 10,000 loops each)\n"
     ]
    },
    {
     "name": "stdout",
     "output_type": "stream",
     "text": [
      "23.2 μs ± 69.1 ns per loop (mean ± std. dev. of 7 runs, 10,000 loops each)\n"
     ]
    }
   ],
   "source": [
    "op = qutip.num(3, dtype=\"jaxdia\")\n",
    "state = qutip.rand_dm(3, dtype=\"jax\")\n",
    "\n",
    "\n",
    "@jax.jit\n",
    "def f(op, state):\n",
    "    return op @ state @ op.dag()\n",
    "\n",
    "\n",
    "print(f(op, state))\n",
    "%timeit op @ state @ op.dag()\n",
    "%timeit f(op, state)"
   ]
  },
  {
   "cell_type": "markdown",
   "id": "1d973724",
   "metadata": {},
   "source": [
    "JAX can be used with `mesolve` and `sesolve` in a way that supports `jax.jit` and `jax.grad`, but specific options must be used:\n",
    "- The ODE solver from diffrax must be used instead of those provided by scipy.\n",
    "- `normalize_output` must be false\n",
    "- Coefficient for QobjEvo must be `jitted` function.\n",
    "- The isherm flag of e_ops must be pre-set.\n",
    "- The class interface must be used for `jit`\n",
    "- `e_data` must be used instead of expect for auto-differentiation.\n",
    "- All operators and states must use `jax` or `jaxdia` format."
   ]
  },
  {
   "cell_type": "code",
   "execution_count": 6,
   "id": "91a13fc3",
   "metadata": {
    "execution": {
     "iopub.execute_input": "2025-04-16T02:29:23.194595Z",
     "iopub.status.busy": "2025-04-16T02:29:23.194259Z",
     "iopub.status.idle": "2025-04-16T02:29:27.214447Z",
     "shell.execute_reply": "2025-04-16T02:29:27.213981Z"
    },
    "lines_to_next_cell": 2
   },
   "outputs": [
    {
     "name": "stderr",
     "output_type": "stream",
     "text": [
      "/home/runner/miniconda3/envs/test-environment-v5/lib/python3.12/site-packages/equinox/_jit.py:55: UserWarning: Complex dtype support in Diffrax is a work in progress and may not yet produce correct results. Consider splitting your computation into real and imaginary parts instead.\n",
      "  out = fun(*args, **kwargs)\n"
     ]
    },
    {
     "data": {
      "text/plain": [
       "(Array(-9.6348726, dtype=float64, weak_type=True),)"
      ]
     },
     "execution_count": 6,
     "metadata": {},
     "output_type": "execute_result"
    }
   ],
   "source": [
    "@jax.jit\n",
    "def fp(t, w):\n",
    "    return jax.numpy.exp(1j * t * w)\n",
    "\n",
    "\n",
    "@jax.jit\n",
    "def fm(t, w):\n",
    "    return jax.numpy.exp(-1j * t * w)\n",
    "\n",
    "\n",
    "@jax.jit\n",
    "def cte(t, A):\n",
    "    return A\n",
    "\n",
    "\n",
    "with qutip.CoreOptions(default_dtype=\"jax\"):\n",
    "    H = qutip.num(10)\n",
    "    c_ops = [qutip.QobjEvo([qutip.destroy(10), fm], args={\"w\": 1.0})]\n",
    "\n",
    "H.isherm  # Precomputing the `isherm` flag\n",
    "\n",
    "solver = qutip.MESolver(\n",
    "    H, c_ops, options={\"method\": \"diffrax\", \"normalize_output\": False}\n",
    ")\n",
    "\n",
    "\n",
    "def final_expect(solver, rho0, t, w):\n",
    "    result = solver.run(rho0, [0, t], args={\"w\": w}, e_ops=H)\n",
    "    return result.e_data[0][-1].real\n",
    "\n",
    "\n",
    "dfinal_expect_dt = jax.jit(\n",
    "    jax.grad(final_expect, argnums=[2]), static_argnames=[\"solver\"]\n",
    ")\n",
    "\n",
    "# TODO: use dfinal_expect_dt instead of final_expect when qutip-jax bug-fix\n",
    "# dfinal_expect_dt(solver, qutip.basis(10, 8, dtype=\"jax\"), 0.1, 1.0)\n",
    "jax.grad(final_expect, argnums=[2])(solver, qutip.basis(10, 8, dtype=\"jax\"), 0.1, 1.0)"
   ]
  },
  {
   "cell_type": "code",
   "execution_count": 7,
   "id": "0ca463c8",
   "metadata": {
    "execution": {
     "iopub.execute_input": "2025-04-16T02:29:27.215953Z",
     "iopub.status.busy": "2025-04-16T02:29:27.215761Z",
     "iopub.status.idle": "2025-04-16T02:29:27.230392Z",
     "shell.execute_reply": "2025-04-16T02:29:27.230007Z"
    },
    "lines_to_next_cell": 0
   },
   "outputs": [
    {
     "name": "stdout",
     "output_type": "stream",
     "text": [
      "\n",
      "QuTiP: Quantum Toolbox in Python\n",
      "================================\n",
      "Copyright (c) QuTiP team 2011 and later.\n",
      "Current admin team: Alexander Pitchford, Nathan Shammah, Shahnawaz Ahmed, Neill Lambert, Eric Giguère, Boxi Li, Simon Cross, Asier Galicia, Paul Menczel, and Patrick Hopf.\n",
      "Board members: Daniel Burgarth, Robert Johansson, Anton F. Kockum, Franco Nori and Will Zeng.\n",
      "Original developers: R. J. Johansson & P. D. Nation.\n",
      "Previous lead developers: Chris Granade & A. Grimsmo.\n",
      "Currently developed through wide collaboration. See https://github.com/qutip for details.\n",
      "\n",
      "QuTiP Version:      5.2.0.dev0+4033695\n",
      "Numpy Version:      2.2.4\n",
      "Scipy Version:      1.15.2\n",
      "Cython Version:     3.0.12\n",
      "Matplotlib Version: 3.10.1\n",
      "Python Version:     3.12.0\n",
      "Number of CPUs:     4\n",
      "BLAS Info:          Generic\n",
      "INTEL MKL Ext:      None\n",
      "Platform Info:      Linux (x86_64)\n",
      "Installation path:  /home/runner/miniconda3/envs/test-environment-v5/lib/python3.12/site-packages/qutip\n",
      "\n",
      "Installed QuTiP family packages\n",
      "-------------------------------\n",
      "\n",
      "qutip-jax: 0.1.1.dev5\n",
      "qutip-qtrl: 0.2.0.dev0+acb71a0\n",
      "qutip-qip: 0.5.0.dev0+d58a82d\n",
      "\n",
      "================================================================================\n",
      "Please cite QuTiP in your publication.\n",
      "================================================================================\n",
      "For your convenience a bibtex reference can be easily generated using `qutip.cite()`\n"
     ]
    }
   ],
   "source": [
    "qutip.about()"
   ]
  },
  {
   "cell_type": "markdown",
   "id": "c77da288",
   "metadata": {},
   "source": []
  }
 ],
 "metadata": {
  "jupytext": {
   "cell_metadata_filter": "-all",
   "notebook_metadata_filter": "-jupytext.cell_metadata_filter,-jupytext.notebook_metadata_filter"
  },
  "kernelspec": {
   "display_name": "Python 3 (ipykernel)",
   "language": "python",
   "name": "python3"
  },
  "language_info": {
   "codemirror_mode": {
    "name": "ipython",
    "version": 3
   },
   "file_extension": ".py",
   "mimetype": "text/x-python",
   "name": "python",
   "nbconvert_exporter": "python",
   "pygments_lexer": "ipython3",
   "version": "3.12.0"
  }
 },
 "nbformat": 4,
 "nbformat_minor": 5
}
