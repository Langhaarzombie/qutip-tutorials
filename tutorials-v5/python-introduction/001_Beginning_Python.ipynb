{
 "cells": [
  {
   "cell_type": "markdown",
   "id": "bd108c17",
   "metadata": {},
   "source": [
    "# Introduction to Python"
   ]
  },
  {
   "cell_type": "markdown",
   "id": "c279d520",
   "metadata": {},
   "source": [
    "P.D. Nation and J.R. Johansson\n",
    "\n",
    "For more information about QuTiP see [http://qutip.org](http://qutip.org)"
   ]
  },
  {
   "cell_type": "markdown",
   "id": "f35291c4",
   "metadata": {},
   "source": [
    "## Imports\n",
    "Here we import the required functions for later usage."
   ]
  },
  {
   "cell_type": "code",
   "execution_count": 1,
   "id": "da63b2e7",
   "metadata": {
    "execution": {
     "iopub.execute_input": "2025-04-16T02:29:29.856361Z",
     "iopub.status.busy": "2025-04-16T02:29:29.855847Z",
     "iopub.status.idle": "2025-04-16T02:29:30.297392Z",
     "shell.execute_reply": "2025-04-16T02:29:30.296895Z"
    }
   },
   "outputs": [],
   "source": [
    "import matplotlib.pyplot as plt\n",
    "import numpy as np\n",
    "from scipy.special import factorial"
   ]
  },
  {
   "cell_type": "markdown",
   "id": "17215754",
   "metadata": {},
   "source": [
    "## Using Python For Simple Calculations"
   ]
  },
  {
   "cell_type": "markdown",
   "id": "3f6ec365",
   "metadata": {},
   "source": [
    "As a first step, lets try to use the interactive Python command line tool **iPython** as a basic calculator.  Addition, subtraction, and multiplication, all work in the same way as you would write the equations down on paper"
   ]
  },
  {
   "cell_type": "code",
   "execution_count": 2,
   "id": "b250ad7b",
   "metadata": {
    "execution": {
     "iopub.execute_input": "2025-04-16T02:29:30.299401Z",
     "iopub.status.busy": "2025-04-16T02:29:30.299012Z",
     "iopub.status.idle": "2025-04-16T02:29:30.304009Z",
     "shell.execute_reply": "2025-04-16T02:29:30.303556Z"
    }
   },
   "outputs": [
    {
     "data": {
      "text/plain": [
       "15"
      ]
     },
     "execution_count": 2,
     "metadata": {},
     "output_type": "execute_result"
    }
   ],
   "source": [
    "10 + 5"
   ]
  },
  {
   "cell_type": "code",
   "execution_count": 3,
   "id": "0436c652",
   "metadata": {
    "execution": {
     "iopub.execute_input": "2025-04-16T02:29:30.305332Z",
     "iopub.status.busy": "2025-04-16T02:29:30.305169Z",
     "iopub.status.idle": "2025-04-16T02:29:30.308368Z",
     "shell.execute_reply": "2025-04-16T02:29:30.307968Z"
    }
   },
   "outputs": [
    {
     "data": {
      "text/plain": [
       "-147"
      ]
     },
     "execution_count": 3,
     "metadata": {},
     "output_type": "execute_result"
    }
   ],
   "source": [
    "10 - 157"
   ]
  },
  {
   "cell_type": "code",
   "execution_count": 4,
   "id": "574e8bbd",
   "metadata": {
    "execution": {
     "iopub.execute_input": "2025-04-16T02:29:30.309658Z",
     "iopub.status.busy": "2025-04-16T02:29:30.309514Z",
     "iopub.status.idle": "2025-04-16T02:29:30.312546Z",
     "shell.execute_reply": "2025-04-16T02:29:30.312147Z"
    }
   },
   "outputs": [
    {
     "data": {
      "text/plain": [
       "1.3333333333333333"
      ]
     },
     "execution_count": 4,
     "metadata": {},
     "output_type": "execute_result"
    }
   ],
   "source": [
    "4 / 3"
   ]
  },
  {
   "cell_type": "code",
   "execution_count": 5,
   "id": "64784d19",
   "metadata": {
    "execution": {
     "iopub.execute_input": "2025-04-16T02:29:30.313843Z",
     "iopub.status.busy": "2025-04-16T02:29:30.313679Z",
     "iopub.status.idle": "2025-04-16T02:29:30.316813Z",
     "shell.execute_reply": "2025-04-16T02:29:30.316423Z"
    }
   },
   "outputs": [
    {
     "data": {
      "text/plain": [
       "92.0"
      ]
     },
     "execution_count": 5,
     "metadata": {},
     "output_type": "execute_result"
    }
   ],
   "source": [
    "(50 - 4) * 10 / 5"
   ]
  },
  {
   "cell_type": "markdown",
   "id": "88c4a56e",
   "metadata": {},
   "source": [
    "However, things like raising a number to a power, $4^{4}$, are written differently."
   ]
  },
  {
   "cell_type": "code",
   "execution_count": 6,
   "id": "b7aed8cf",
   "metadata": {
    "execution": {
     "iopub.execute_input": "2025-04-16T02:29:30.318158Z",
     "iopub.status.busy": "2025-04-16T02:29:30.317990Z",
     "iopub.status.idle": "2025-04-16T02:29:30.321242Z",
     "shell.execute_reply": "2025-04-16T02:29:30.320763Z"
    }
   },
   "outputs": [
    {
     "data": {
      "text/plain": [
       "256"
      ]
     },
     "execution_count": 6,
     "metadata": {},
     "output_type": "execute_result"
    }
   ],
   "source": [
    "4**4"
   ]
  },
  {
   "cell_type": "markdown",
   "id": "ff67a9c7",
   "metadata": {},
   "source": [
    "We could also express this in the mathematically equivalent way as $4^{4.0}$.  However, inside of the computer, the result is not treated the same as the above answer."
   ]
  },
  {
   "cell_type": "code",
   "execution_count": 7,
   "id": "4afc99a5",
   "metadata": {
    "execution": {
     "iopub.execute_input": "2025-04-16T02:29:30.322735Z",
     "iopub.status.busy": "2025-04-16T02:29:30.322450Z",
     "iopub.status.idle": "2025-04-16T02:29:30.325488Z",
     "shell.execute_reply": "2025-04-16T02:29:30.325103Z"
    }
   },
   "outputs": [
    {
     "data": {
      "text/plain": [
       "256.0"
      ]
     },
     "execution_count": 7,
     "metadata": {},
     "output_type": "execute_result"
    }
   ],
   "source": [
    "4**4.0"
   ]
  },
  {
   "cell_type": "markdown",
   "id": "4ec1e302",
   "metadata": {},
   "source": [
    "## Integers vs. Floating Point Numbers"
   ]
  },
  {
   "cell_type": "markdown",
   "id": "e8564284",
   "metadata": {},
   "source": [
    "All information stored in a computer must be represented in a binary format consisting of zeros and ones (e.g. $461\\rightarrow 111001101$).  Each zero or one is called a **bit**, and given $N$ bits, one can store all of the integers in the range $[0,2^{N-1}]$, where the $-1$ is due to the fact that the first bit is reserved for defining if a number is positive or negative   \n",
    "\n",
    "However, given a fixed number of bits, it is impossible to store an arbitrary number exactly.  Therefore, if one is given a random number, unless the number is exactly divisible by a factor of two, the conversion between the random number and the binary bit representation ultimately leads to a loss of precision, and what is known as **roundoff error**.\n"
   ]
  },
  {
   "cell_type": "markdown",
   "id": "93857c3a",
   "metadata": {},
   "source": [
    "When dealing with numbers inside a computer there are two distinct types of numbers to consider:"
   ]
  },
  {
   "cell_type": "markdown",
   "id": "efb82dff",
   "metadata": {},
   "source": [
    "- **Integers** - (1,2,4,-586,..) Are what are called **fixed-point numbers**, where the term fixed-point means that there is a fixed number of decimal places in the number (zero for integers).  These numbers can be stored exactly in a computer."
   ]
  },
  {
   "cell_type": "markdown",
   "id": "c154557a",
   "metadata": {},
   "source": [
    "- **Doubles/Floats** - (3.141,0.21,-0.1,..) These are **floating-point numbers** that are the binary equivalent to scientific notation $c=2.99792458\\times 10^{8}$.  Doubles (also called double-precision numbers) are floating point numbers that are written using 64-bits and, in general, are only accurate to the 15th or 16th decimal place.  Floats (or single-precision numbers) use 32-bits, and are good to 6-7 decimal places.  **Serious scientific calculations always require a combination of integers and double (64-bit) numbers**."
   ]
  },
  {
   "cell_type": "code",
   "execution_count": 8,
   "id": "689faafc",
   "metadata": {
    "execution": {
     "iopub.execute_input": "2025-04-16T02:29:30.326793Z",
     "iopub.status.busy": "2025-04-16T02:29:30.326626Z",
     "iopub.status.idle": "2025-04-16T02:29:30.329553Z",
     "shell.execute_reply": "2025-04-16T02:29:30.329171Z"
    }
   },
   "outputs": [
    {
     "data": {
      "text/plain": [
       "7.000000000000001"
      ]
     },
     "execution_count": 8,
     "metadata": {},
     "output_type": "execute_result"
    }
   ],
   "source": [
    "7 + 0.000000000000001"
   ]
  },
  {
   "cell_type": "code",
   "execution_count": 9,
   "id": "6c68f931",
   "metadata": {
    "execution": {
     "iopub.execute_input": "2025-04-16T02:29:30.330843Z",
     "iopub.status.busy": "2025-04-16T02:29:30.330664Z",
     "iopub.status.idle": "2025-04-16T02:29:30.333577Z",
     "shell.execute_reply": "2025-04-16T02:29:30.333206Z"
    }
   },
   "outputs": [
    {
     "data": {
      "text/plain": [
       "7.0"
      ]
     },
     "execution_count": 9,
     "metadata": {},
     "output_type": "execute_result"
    }
   ],
   "source": [
    "7 + 0.0000000000000001"
   ]
  },
  {
   "cell_type": "code",
   "execution_count": 10,
   "id": "084a33d3",
   "metadata": {
    "execution": {
     "iopub.execute_input": "2025-04-16T02:29:30.334986Z",
     "iopub.status.busy": "2025-04-16T02:29:30.334827Z",
     "iopub.status.idle": "2025-04-16T02:29:30.338085Z",
     "shell.execute_reply": "2025-04-16T02:29:30.337657Z"
    }
   },
   "outputs": [
    {
     "data": {
      "text/plain": [
       "0.30000000000000004"
      ]
     },
     "execution_count": 10,
     "metadata": {},
     "output_type": "execute_result"
    }
   ],
   "source": [
    "0.1 + 0.2"
   ]
  },
  {
   "cell_type": "markdown",
   "id": "0ba5bd76",
   "metadata": {},
   "source": [
    "This last example clearly highlights the fact that the computer does not store decimal (floating-point) numbers exactly.  The loss of precision in floating-point numbers can be characterized by the **machine precision**, $\\epsilon_{\\rm m}$, that is defined to be the smallest positive number such that \n",
    "\n",
    "$$1_{\\rm c}+\\epsilon_{\\rm m}\\neq 1_{\\rm c}$$\n",
    "\n",
    "where the subscript on $1_{\\rm c}$ is meant to remind you that this is a computer number.  Therefore, for any arbitrary number $N$ is related to its floating-point equivalent $N_{\\rm c}$ by\n",
    "\n",
    "$$N_{\\rm c}=N\\pm \\epsilon, \\ \\ \\forall~|\\epsilon|< \\epsilon_{\\rm m}.$$\n",
    "\n",
    "**Take Home Message** - All double-precision decimal numbers that are not factors of two will have error in the 15th decimal place.  This can lead to errors in your numerical solutions if you are not careful."
   ]
  },
  {
   "cell_type": "markdown",
   "id": "21a4bf79",
   "metadata": {},
   "source": [
    "## Making Python Smarter Using NumPy"
   ]
  },
  {
   "cell_type": "markdown",
   "id": "0725c440",
   "metadata": {},
   "source": [
    "Python itself has limited support for mathematics outside of simple arithmetic.  Therefore, we will use the functions in the NumPy module to do more impressive, and faster, calculations.  We have imported NumPy already at the top of this notebook and can use it now by referring to `np`.\n",
    "\n",
    "We can now do more impressive calculations:"
   ]
  },
  {
   "cell_type": "code",
   "execution_count": 11,
   "id": "ffcdb556",
   "metadata": {
    "execution": {
     "iopub.execute_input": "2025-04-16T02:29:30.339523Z",
     "iopub.status.busy": "2025-04-16T02:29:30.339220Z",
     "iopub.status.idle": "2025-04-16T02:29:30.342522Z",
     "shell.execute_reply": "2025-04-16T02:29:30.342101Z"
    }
   },
   "outputs": [
    {
     "data": {
      "text/plain": [
       "np.float64(10.381236562731843)"
      ]
     },
     "execution_count": 11,
     "metadata": {},
     "output_type": "execute_result"
    }
   ],
   "source": [
    "np.exp(2.34)"
   ]
  },
  {
   "cell_type": "code",
   "execution_count": 12,
   "id": "d962fe83",
   "metadata": {
    "execution": {
     "iopub.execute_input": "2025-04-16T02:29:30.343981Z",
     "iopub.status.busy": "2025-04-16T02:29:30.343769Z",
     "iopub.status.idle": "2025-04-16T02:29:30.347115Z",
     "shell.execute_reply": "2025-04-16T02:29:30.346618Z"
    }
   },
   "outputs": [
    {
     "data": {
      "text/plain": [
       "np.float64(2.23606797749979)"
      ]
     },
     "execution_count": 12,
     "metadata": {},
     "output_type": "execute_result"
    }
   ],
   "source": [
    "np.sqrt(5)"
   ]
  },
  {
   "cell_type": "code",
   "execution_count": 13,
   "id": "26ed79a6",
   "metadata": {
    "execution": {
     "iopub.execute_input": "2025-04-16T02:29:30.348596Z",
     "iopub.status.busy": "2025-04-16T02:29:30.348285Z",
     "iopub.status.idle": "2025-04-16T02:29:30.351550Z",
     "shell.execute_reply": "2025-04-16T02:29:30.351075Z"
    }
   },
   "outputs": [
    {
     "data": {
      "text/plain": [
       "np.float64(0.6366197723675814)"
      ]
     },
     "execution_count": 13,
     "metadata": {},
     "output_type": "execute_result"
    }
   ],
   "source": [
    "np.sinc(0.5)"
   ]
  },
  {
   "cell_type": "markdown",
   "id": "38e2011c",
   "metadata": {},
   "source": [
    "## Variables"
   ]
  },
  {
   "cell_type": "markdown",
   "id": "416bde7d",
   "metadata": {},
   "source": [
    "If we want to be able to store the numbers and results from our calculations then we must define variables using the \"=\" sign:"
   ]
  },
  {
   "cell_type": "code",
   "execution_count": 14,
   "id": "dcb756d0",
   "metadata": {
    "execution": {
     "iopub.execute_input": "2025-04-16T02:29:30.352860Z",
     "iopub.status.busy": "2025-04-16T02:29:30.352696Z",
     "iopub.status.idle": "2025-04-16T02:29:30.355881Z",
     "shell.execute_reply": "2025-04-16T02:29:30.355485Z"
    }
   },
   "outputs": [
    {
     "data": {
      "text/plain": [
       "78.53981633974483"
      ]
     },
     "execution_count": 14,
     "metadata": {},
     "output_type": "execute_result"
    }
   ],
   "source": [
    "radius = 5\n",
    "area = np.pi * radius**2\n",
    "area"
   ]
  },
  {
   "cell_type": "markdown",
   "id": "4c6fe9f8",
   "metadata": {},
   "source": [
    "We see that our variables name is defined on the left of the ```=``` sign and the value its given is defined on the right.  Here we have also used the ```pi``` variable that has been predefined by NumPy.  Variables can then be used in other expressions.  \n",
    "\n",
    "If a predefined variable is again used on the left side of ```=``` then its original value is replaced."
   ]
  },
  {
   "cell_type": "code",
   "execution_count": 15,
   "id": "6c7b4a16",
   "metadata": {
    "execution": {
     "iopub.execute_input": "2025-04-16T02:29:30.357206Z",
     "iopub.status.busy": "2025-04-16T02:29:30.357043Z",
     "iopub.status.idle": "2025-04-16T02:29:30.360296Z",
     "shell.execute_reply": "2025-04-16T02:29:30.359837Z"
    }
   },
   "outputs": [
    {
     "data": {
      "text/plain": [
       "12.5"
      ]
     },
     "execution_count": 15,
     "metadata": {},
     "output_type": "execute_result"
    }
   ],
   "source": [
    "x = 10\n",
    "x = (x**2 + 25) / 10\n",
    "x"
   ]
  },
  {
   "cell_type": "markdown",
   "id": "2a2a8df8",
   "metadata": {},
   "source": [
    "This is different than the mathematical equation $10x=x^{2}+25$  which has the solution $x=5$.  Therefore, it is important to remember that the ```=``` sign in a computer program is **not** equivalent to the mathematical equality. "
   ]
  },
  {
   "cell_type": "markdown",
   "id": "07c3a199",
   "metadata": {},
   "source": [
    "What happens if you try to use a variable without first defining it? \n",
    "\n",
    "Python would give us an error that the variable is not defined.  In addition, there are several words that are reserved by the Python language and cannot be used as variables:\n",
    "\n",
    "    and, as, assert, break, class, continue, def, del, elif, else, except, \n",
    "    exec, finally, for, from, global, if, import, in, is, lambda, not, or,\n",
    "    pass, print, raise, return, try, while, with, yield\n",
    "    \n",
    "Other than the above reserved words, your variables can be anything that starts with a letter or the underscore character \"$\\_$\" followed by any combination of alphanumeric characters and \"$\\_$\".  Note that using upper or lower case letters will give you two different variables."
   ]
  },
  {
   "cell_type": "code",
   "execution_count": 16,
   "id": "81677edf",
   "metadata": {
    "execution": {
     "iopub.execute_input": "2025-04-16T02:29:30.361743Z",
     "iopub.status.busy": "2025-04-16T02:29:30.361448Z",
     "iopub.status.idle": "2025-04-16T02:29:30.364596Z",
     "shell.execute_reply": "2025-04-16T02:29:30.364148Z"
    }
   },
   "outputs": [
    {
     "data": {
      "text/plain": [
       "80"
      ]
     },
     "execution_count": 16,
     "metadata": {},
     "output_type": "execute_result"
    }
   ],
   "source": [
    "_freq = 8\n",
    "Oscillator_Energy = 10\n",
    "_freq * Oscillator_Energy"
   ]
  },
  {
   "cell_type": "markdown",
   "id": "22956432",
   "metadata": {},
   "source": [
    "### Some Rules About Variables"
   ]
  },
  {
   "cell_type": "markdown",
   "id": "ec6cfb4d",
   "metadata": {},
   "source": [
    "Although there are many ways to define variables in Python, it is best to try to define your variables in all the same way.  In this class, all of our variables will use only lower case characters. \n"
   ]
  },
  {
   "cell_type": "code",
   "execution_count": 17,
   "id": "83a79fbd",
   "metadata": {
    "execution": {
     "iopub.execute_input": "2025-04-16T02:29:30.366102Z",
     "iopub.status.busy": "2025-04-16T02:29:30.365709Z",
     "iopub.status.idle": "2025-04-16T02:29:30.368086Z",
     "shell.execute_reply": "2025-04-16T02:29:30.367719Z"
    }
   },
   "outputs": [],
   "source": [
    "speed_of_light = 2.9979 * 10**8\n",
    "spring_constant = np.sqrt(2 / 5)"
   ]
  },
  {
   "cell_type": "markdown",
   "id": "b7c6154f",
   "metadata": {},
   "source": [
    "It is also good practice to use variable names that correspond to the physical quantity that the variable represents."
   ]
  },
  {
   "cell_type": "markdown",
   "id": "b84b8e21",
   "metadata": {},
   "source": [
    "## Strings"
   ]
  },
  {
   "cell_type": "markdown",
   "id": "61cb5193",
   "metadata": {},
   "source": [
    "Often we want to print some text along with our variables, ask the user for input, or actually use the words and letters themselves as variables (e.g. in DNA analysis).  All of these can be accomplished using **strings**.  We have already seen one string already in this class: "
   ]
  },
  {
   "cell_type": "code",
   "execution_count": 18,
   "id": "f3d5d66a",
   "metadata": {
    "execution": {
     "iopub.execute_input": "2025-04-16T02:29:30.369524Z",
     "iopub.status.busy": "2025-04-16T02:29:30.369228Z",
     "iopub.status.idle": "2025-04-16T02:29:30.372317Z",
     "shell.execute_reply": "2025-04-16T02:29:30.371858Z"
    }
   },
   "outputs": [
    {
     "data": {
      "text/plain": [
       "'Hello Class'"
      ]
     },
     "execution_count": 18,
     "metadata": {},
     "output_type": "execute_result"
    }
   ],
   "source": [
    "\"Hello Class\""
   ]
  },
  {
   "cell_type": "markdown",
   "id": "48afc024",
   "metadata": {},
   "source": [
    "We can also use single quotes, e.g. `'Hello Class'`.\n",
    "\n",
    "If we want to use the quote symbol in the string itself then we need to mix the two types "
   ]
  },
  {
   "cell_type": "code",
   "execution_count": 19,
   "id": "ab6acaef",
   "metadata": {
    "execution": {
     "iopub.execute_input": "2025-04-16T02:29:30.373812Z",
     "iopub.status.busy": "2025-04-16T02:29:30.373501Z",
     "iopub.status.idle": "2025-04-16T02:29:30.376553Z",
     "shell.execute_reply": "2025-04-16T02:29:30.376099Z"
    }
   },
   "outputs": [
    {
     "data": {
      "text/plain": [
       "\"How was Hwajung's birthday party?\""
      ]
     },
     "execution_count": 19,
     "metadata": {},
     "output_type": "execute_result"
    }
   ],
   "source": [
    "\"How was Hwajung's birthday party?\""
   ]
  },
  {
   "cell_type": "markdown",
   "id": "7a864749",
   "metadata": {},
   "source": [
    "Just like we did with integers and doubles, we can assign a string to a variable, and we can even add two strings together."
   ]
  },
  {
   "cell_type": "code",
   "execution_count": 20,
   "id": "aba7aba3",
   "metadata": {
    "execution": {
     "iopub.execute_input": "2025-04-16T02:29:30.377834Z",
     "iopub.status.busy": "2025-04-16T02:29:30.377663Z",
     "iopub.status.idle": "2025-04-16T02:29:30.380932Z",
     "shell.execute_reply": "2025-04-16T02:29:30.380517Z"
    }
   },
   "outputs": [
    {
     "data": {
      "text/plain": [
       "'I like chicken and HOF'"
      ]
     },
     "execution_count": 20,
     "metadata": {},
     "output_type": "execute_result"
    }
   ],
   "source": [
    "a = \"I like \"  # There is a blank space at the end of this string.\n",
    "b = \"chicken and HOF\"\n",
    "a + b"
   ]
  },
  {
   "cell_type": "markdown",
   "id": "030c2b19",
   "metadata": {},
   "source": [
    "Notice the blank space at the end of the string in variable \"a\" provides spacing between \"like\" and \"chicken\"."
   ]
  },
  {
   "cell_type": "markdown",
   "id": "3b46256f",
   "metadata": {},
   "source": [
    "If we want to print out stuff, including strings and integers or doubles together, then we can use the builtin ```print``` function to accomplish this"
   ]
  },
  {
   "cell_type": "code",
   "execution_count": 21,
   "id": "fb268013",
   "metadata": {
    "execution": {
     "iopub.execute_input": "2025-04-16T02:29:30.382172Z",
     "iopub.status.busy": "2025-04-16T02:29:30.382027Z",
     "iopub.status.idle": "2025-04-16T02:29:30.384890Z",
     "shell.execute_reply": "2025-04-16T02:29:30.384470Z"
    }
   },
   "outputs": [
    {
     "name": "stdout",
     "output_type": "stream",
     "text": [
      "The temperature right now is 23\n"
     ]
    }
   ],
   "source": [
    "temp = 23\n",
    "text = \"The temperature right now is\"\n",
    "print(text, temp)"
   ]
  },
  {
   "cell_type": "markdown",
   "id": "d515e5cc",
   "metadata": {},
   "source": [
    "Notice how the print function automatically puts a space between the the two input arguments.  The ```print``` function automatically takes any number of string, integer, double, or other variables, converts them into strings, and then prints them for the user."
   ]
  },
  {
   "cell_type": "markdown",
   "id": "40c658fe",
   "metadata": {},
   "source": [
    "## Lists"
   ]
  },
  {
   "cell_type": "markdown",
   "id": "fd7efd58",
   "metadata": {},
   "source": [
    "Often times we will want to group many variables together into one object.  In Python this is accomplished by using a **```list```** datatype variable."
   ]
  },
  {
   "cell_type": "code",
   "execution_count": 22,
   "id": "d1323675",
   "metadata": {
    "execution": {
     "iopub.execute_input": "2025-04-16T02:29:30.386135Z",
     "iopub.status.busy": "2025-04-16T02:29:30.385993Z",
     "iopub.status.idle": "2025-04-16T02:29:30.388190Z",
     "shell.execute_reply": "2025-04-16T02:29:30.387821Z"
    }
   },
   "outputs": [],
   "source": [
    "shopping_list = [\"eggs\", \"bread\", \"milk\", \"bananas\"]"
   ]
  },
  {
   "cell_type": "markdown",
   "id": "d02f42e7",
   "metadata": {},
   "source": [
    "If we want to access a single variable inside of the list, then we need to use the **index** that corresponds to the variable inside of square brackets."
   ]
  },
  {
   "cell_type": "code",
   "execution_count": 23,
   "id": "e60fc269",
   "metadata": {
    "execution": {
     "iopub.execute_input": "2025-04-16T02:29:30.389457Z",
     "iopub.status.busy": "2025-04-16T02:29:30.389313Z",
     "iopub.status.idle": "2025-04-16T02:29:30.392268Z",
     "shell.execute_reply": "2025-04-16T02:29:30.391908Z"
    }
   },
   "outputs": [
    {
     "data": {
      "text/plain": [
       "'milk'"
      ]
     },
     "execution_count": 23,
     "metadata": {},
     "output_type": "execute_result"
    }
   ],
   "source": [
    "shopping_list[2]"
   ]
  },
  {
   "cell_type": "markdown",
   "id": "ad2d372f",
   "metadata": {},
   "source": [
    "We see that the \"milk\" string can be accessed using the index number $2$.  However, we can see that this variable is actually the third string in the list.  This discrepancy is due to the fact that Python (like C-code) considers the first element in a list, or other multivariable data structures, to be at index $0$."
   ]
  },
  {
   "cell_type": "code",
   "execution_count": 24,
   "id": "7a05351a",
   "metadata": {
    "execution": {
     "iopub.execute_input": "2025-04-16T02:29:30.393621Z",
     "iopub.status.busy": "2025-04-16T02:29:30.393471Z",
     "iopub.status.idle": "2025-04-16T02:29:30.396410Z",
     "shell.execute_reply": "2025-04-16T02:29:30.396034Z"
    }
   },
   "outputs": [
    {
     "data": {
      "text/plain": [
       "'eggs'"
      ]
     },
     "execution_count": 24,
     "metadata": {},
     "output_type": "execute_result"
    }
   ],
   "source": [
    "shopping_list[0]"
   ]
  },
  {
   "cell_type": "markdown",
   "id": "02fe65ff",
   "metadata": {},
   "source": [
    "This is important to remember, and will take some getting used to before it becomes natural.  If we want to access the elements of the list from back to front, we can use negative indices"
   ]
  },
  {
   "cell_type": "code",
   "execution_count": 25,
   "id": "3274d653",
   "metadata": {
    "execution": {
     "iopub.execute_input": "2025-04-16T02:29:30.397655Z",
     "iopub.status.busy": "2025-04-16T02:29:30.397507Z",
     "iopub.status.idle": "2025-04-16T02:29:30.400628Z",
     "shell.execute_reply": "2025-04-16T02:29:30.400161Z"
    }
   },
   "outputs": [
    {
     "data": {
      "text/plain": [
       "'bananas'"
      ]
     },
     "execution_count": 25,
     "metadata": {},
     "output_type": "execute_result"
    }
   ],
   "source": [
    "shopping_list[-1]"
   ]
  },
  {
   "cell_type": "code",
   "execution_count": 26,
   "id": "83167345",
   "metadata": {
    "execution": {
     "iopub.execute_input": "2025-04-16T02:29:30.402092Z",
     "iopub.status.busy": "2025-04-16T02:29:30.401762Z",
     "iopub.status.idle": "2025-04-16T02:29:30.404930Z",
     "shell.execute_reply": "2025-04-16T02:29:30.404454Z"
    }
   },
   "outputs": [
    {
     "data": {
      "text/plain": [
       "'milk'"
      ]
     },
     "execution_count": 26,
     "metadata": {},
     "output_type": "execute_result"
    }
   ],
   "source": [
    "shopping_list[-2]"
   ]
  },
  {
   "cell_type": "markdown",
   "id": "818ed3d2",
   "metadata": {},
   "source": [
    "If we are given a list variable and we want to known how many elements are inside of the list, then we can use the ```len``` function that returns an integer giving the length of the list."
   ]
  },
  {
   "cell_type": "code",
   "execution_count": 27,
   "id": "70d476c4",
   "metadata": {
    "execution": {
     "iopub.execute_input": "2025-04-16T02:29:30.406374Z",
     "iopub.status.busy": "2025-04-16T02:29:30.406007Z",
     "iopub.status.idle": "2025-04-16T02:29:30.409183Z",
     "shell.execute_reply": "2025-04-16T02:29:30.408708Z"
    }
   },
   "outputs": [
    {
     "data": {
      "text/plain": [
       "4"
      ]
     },
     "execution_count": 27,
     "metadata": {},
     "output_type": "execute_result"
    }
   ],
   "source": [
    "len(shopping_list)"
   ]
  },
  {
   "cell_type": "markdown",
   "id": "d75e111e",
   "metadata": {},
   "source": [
    "If we want to change the length of the list by adding or removing elements, then we can use ```append``` and ```remove```, respectively."
   ]
  },
  {
   "cell_type": "code",
   "execution_count": 28,
   "id": "82f130db",
   "metadata": {
    "execution": {
     "iopub.execute_input": "2025-04-16T02:29:30.410576Z",
     "iopub.status.busy": "2025-04-16T02:29:30.410278Z",
     "iopub.status.idle": "2025-04-16T02:29:30.413481Z",
     "shell.execute_reply": "2025-04-16T02:29:30.413017Z"
    }
   },
   "outputs": [
    {
     "data": {
      "text/plain": [
       "['eggs', 'bread', 'milk', 'bananas', 'apples']"
      ]
     },
     "execution_count": 28,
     "metadata": {},
     "output_type": "execute_result"
    }
   ],
   "source": [
    "shopping_list.append(\"apples\")\n",
    "shopping_list"
   ]
  },
  {
   "cell_type": "code",
   "execution_count": 29,
   "id": "9200f24c",
   "metadata": {
    "execution": {
     "iopub.execute_input": "2025-04-16T02:29:30.414953Z",
     "iopub.status.busy": "2025-04-16T02:29:30.414789Z",
     "iopub.status.idle": "2025-04-16T02:29:30.417987Z",
     "shell.execute_reply": "2025-04-16T02:29:30.417512Z"
    }
   },
   "outputs": [
    {
     "data": {
      "text/plain": [
       "['eggs', 'milk', 'bananas', 'apples']"
      ]
     },
     "execution_count": 29,
     "metadata": {},
     "output_type": "execute_result"
    }
   ],
   "source": [
    "shopping_list.remove(\"bread\")\n",
    "shopping_list"
   ]
  },
  {
   "cell_type": "markdown",
   "id": "35bc424f",
   "metadata": {},
   "source": [
    "Note that lists to not have to have the same type of data in each element!  You can mix any data types you want."
   ]
  },
  {
   "cell_type": "code",
   "execution_count": 30,
   "id": "d999ec0e",
   "metadata": {
    "execution": {
     "iopub.execute_input": "2025-04-16T02:29:30.419408Z",
     "iopub.status.busy": "2025-04-16T02:29:30.419246Z",
     "iopub.status.idle": "2025-04-16T02:29:30.422841Z",
     "shell.execute_reply": "2025-04-16T02:29:30.422405Z"
    }
   },
   "outputs": [
    {
     "data": {
      "text/plain": [
       "[1, 'hello', -1.234, [-1, -2, -3]]"
      ]
     },
     "execution_count": 30,
     "metadata": {},
     "output_type": "execute_result"
    }
   ],
   "source": [
    "various_things = [1, \"hello\", -1.234, [-1, -2, -3]]\n",
    "various_things"
   ]
  },
  {
   "cell_type": "markdown",
   "id": "41bc2b56",
   "metadata": {},
   "source": [
    "All of these elements can be accessed in the usual way"
   ]
  },
  {
   "cell_type": "code",
   "execution_count": 31,
   "id": "77f86bc3",
   "metadata": {
    "execution": {
     "iopub.execute_input": "2025-04-16T02:29:30.424324Z",
     "iopub.status.busy": "2025-04-16T02:29:30.423964Z",
     "iopub.status.idle": "2025-04-16T02:29:30.427122Z",
     "shell.execute_reply": "2025-04-16T02:29:30.426648Z"
    }
   },
   "outputs": [
    {
     "data": {
      "text/plain": [
       "1"
      ]
     },
     "execution_count": 31,
     "metadata": {},
     "output_type": "execute_result"
    }
   ],
   "source": [
    "various_things[0]"
   ]
  },
  {
   "cell_type": "code",
   "execution_count": 32,
   "id": "53bea8f8",
   "metadata": {
    "execution": {
     "iopub.execute_input": "2025-04-16T02:29:30.428550Z",
     "iopub.status.busy": "2025-04-16T02:29:30.428246Z",
     "iopub.status.idle": "2025-04-16T02:29:30.431408Z",
     "shell.execute_reply": "2025-04-16T02:29:30.430956Z"
    }
   },
   "outputs": [
    {
     "data": {
      "text/plain": [
       "[-1, -2, -3]"
      ]
     },
     "execution_count": 32,
     "metadata": {},
     "output_type": "execute_result"
    }
   ],
   "source": [
    "various_things[-1]"
   ]
  },
  {
   "cell_type": "code",
   "execution_count": 33,
   "id": "b76fc4c8",
   "metadata": {
    "execution": {
     "iopub.execute_input": "2025-04-16T02:29:30.432833Z",
     "iopub.status.busy": "2025-04-16T02:29:30.432517Z",
     "iopub.status.idle": "2025-04-16T02:29:30.435625Z",
     "shell.execute_reply": "2025-04-16T02:29:30.435173Z"
    }
   },
   "outputs": [
    {
     "data": {
      "text/plain": [
       "-2"
      ]
     },
     "execution_count": 33,
     "metadata": {},
     "output_type": "execute_result"
    }
   ],
   "source": [
    "various_things[3][1]"
   ]
  },
  {
   "cell_type": "markdown",
   "id": "5082c19e",
   "metadata": {},
   "source": [
    "## Iterating Through Lists and Python Indention Rules"
   ]
  },
  {
   "cell_type": "markdown",
   "id": "2c5cfad1",
   "metadata": {},
   "source": [
    "One of the most important reasons for using lists is because one often wants to do the same type of manipulation on each of the elements one at a time.  Going through a list in this fashion is called **iteration** and is accomplished in Python using the ```for``` command: "
   ]
  },
  {
   "cell_type": "code",
   "execution_count": 34,
   "id": "d9ac0fee",
   "metadata": {
    "execution": {
     "iopub.execute_input": "2025-04-16T02:29:30.436897Z",
     "iopub.status.busy": "2025-04-16T02:29:30.436723Z",
     "iopub.status.idle": "2025-04-16T02:29:30.439581Z",
     "shell.execute_reply": "2025-04-16T02:29:30.439167Z"
    }
   },
   "outputs": [
    {
     "name": "stdout",
     "output_type": "stream",
     "text": [
      "four calling birds\n",
      "three french hens\n",
      "two turtle doves\n",
      "a partridge in a pear tree\n"
     ]
    }
   ],
   "source": [
    "items = [\n",
    "    \"four calling birds\",\n",
    "    \"three french hens\",\n",
    "    \"two turtle doves\",\n",
    "    \"a partridge in a pear tree\",\n",
    "]\n",
    "for thing in items:\n",
    "    print(thing)"
   ]
  },
  {
   "cell_type": "markdown",
   "id": "256668fc",
   "metadata": {},
   "source": [
    "Here, \"thing\" is a variable that takes the value of each item in the list \"items\" and then gets sent to the ```print``` function.  We are free to call this variable anything we want.  "
   ]
  },
  {
   "cell_type": "code",
   "execution_count": 35,
   "id": "0fe03495",
   "metadata": {
    "execution": {
     "iopub.execute_input": "2025-04-16T02:29:30.441199Z",
     "iopub.status.busy": "2025-04-16T02:29:30.440710Z",
     "iopub.status.idle": "2025-04-16T02:29:30.443344Z",
     "shell.execute_reply": "2025-04-16T02:29:30.442892Z"
    }
   },
   "outputs": [
    {
     "name": "stdout",
     "output_type": "stream",
     "text": [
      "four calling birds\n",
      "three french hens\n",
      "two turtle doves\n",
      "a partridge in a pear tree\n"
     ]
    }
   ],
   "source": [
    "for variable in items:\n",
    "    print(variable)"
   ]
  },
  {
   "cell_type": "markdown",
   "id": "ec61c4cd",
   "metadata": {},
   "source": [
    "The next important thing to notice is that after the colon \":\" the print statement is indented.  This indention after a colon is required in the Python programming langage and represents a section of the code called a **block**.  If we did not intent the print function then Python would yell at us. "
   ]
  },
  {
   "cell_type": "markdown",
   "id": "726cf483",
   "metadata": {},
   "source": [
    "Blocks are a standard part of any programming language and are used for organization and flow-control in computer code.  Anything that is indented in the above example will be run for each item in the list"
   ]
  },
  {
   "cell_type": "code",
   "execution_count": 36,
   "id": "4ae759ea",
   "metadata": {
    "execution": {
     "iopub.execute_input": "2025-04-16T02:29:30.444789Z",
     "iopub.status.busy": "2025-04-16T02:29:30.444478Z",
     "iopub.status.idle": "2025-04-16T02:29:30.447229Z",
     "shell.execute_reply": "2025-04-16T02:29:30.446759Z"
    }
   },
   "outputs": [
    {
     "name": "stdout",
     "output_type": "stream",
     "text": [
      "My true love gave to me four calling birds\n",
      "My true love gave to me three french hens\n",
      "My true love gave to me two turtle doves\n",
      "My true love gave to me a partridge in a pear tree\n"
     ]
    }
   ],
   "source": [
    "for variable in items:\n",
    "    print(\"My true love gave to me\", variable)"
   ]
  },
  {
   "cell_type": "markdown",
   "id": "b4c65ea3",
   "metadata": {},
   "source": [
    "## Slicing Lists"
   ]
  },
  {
   "cell_type": "markdown",
   "id": "faf28dc6",
   "metadata": {},
   "source": [
    "If we want to grab certain elements from a list we can make use of **slicing** to conveniently access the elements.  Slicing can be used on any **sequence** such as lists, strings, and as we will see shortly, arrays. Consider our ```shopping_list``` list:"
   ]
  },
  {
   "cell_type": "code",
   "execution_count": 37,
   "id": "e3043a31",
   "metadata": {
    "execution": {
     "iopub.execute_input": "2025-04-16T02:29:30.448669Z",
     "iopub.status.busy": "2025-04-16T02:29:30.448369Z",
     "iopub.status.idle": "2025-04-16T02:29:30.450746Z",
     "shell.execute_reply": "2025-04-16T02:29:30.450291Z"
    }
   },
   "outputs": [],
   "source": [
    "shopping_list = [\"eggs\", \"bread\", \"milk\", \"bananas\", \"apples\"]"
   ]
  },
  {
   "cell_type": "markdown",
   "id": "41e5844c",
   "metadata": {},
   "source": [
    "To get the first element we used a single index"
   ]
  },
  {
   "cell_type": "code",
   "execution_count": 38,
   "id": "ff773b21",
   "metadata": {
    "execution": {
     "iopub.execute_input": "2025-04-16T02:29:30.452152Z",
     "iopub.status.busy": "2025-04-16T02:29:30.451859Z",
     "iopub.status.idle": "2025-04-16T02:29:30.454982Z",
     "shell.execute_reply": "2025-04-16T02:29:30.454591Z"
    }
   },
   "outputs": [
    {
     "data": {
      "text/plain": [
       "'eggs'"
      ]
     },
     "execution_count": 38,
     "metadata": {},
     "output_type": "execute_result"
    }
   ],
   "source": [
    "shopping_list[0]"
   ]
  },
  {
   "cell_type": "markdown",
   "id": "1ae79d65",
   "metadata": {},
   "source": [
    "But if we want to get the first three elements in the list we can use: "
   ]
  },
  {
   "cell_type": "code",
   "execution_count": 39,
   "id": "74310c45",
   "metadata": {
    "execution": {
     "iopub.execute_input": "2025-04-16T02:29:30.456240Z",
     "iopub.status.busy": "2025-04-16T02:29:30.456090Z",
     "iopub.status.idle": "2025-04-16T02:29:30.459251Z",
     "shell.execute_reply": "2025-04-16T02:29:30.458786Z"
    }
   },
   "outputs": [
    {
     "data": {
      "text/plain": [
       "['eggs', 'bread', 'milk']"
      ]
     },
     "execution_count": 39,
     "metadata": {},
     "output_type": "execute_result"
    }
   ],
   "source": [
    "shopping_list[0:3]"
   ]
  },
  {
   "cell_type": "markdown",
   "id": "86d1f97d",
   "metadata": {},
   "source": [
    "We could also grab the last two elements using:"
   ]
  },
  {
   "cell_type": "code",
   "execution_count": 40,
   "id": "1dd7c497",
   "metadata": {
    "execution": {
     "iopub.execute_input": "2025-04-16T02:29:30.460602Z",
     "iopub.status.busy": "2025-04-16T02:29:30.460433Z",
     "iopub.status.idle": "2025-04-16T02:29:30.463507Z",
     "shell.execute_reply": "2025-04-16T02:29:30.463125Z"
    }
   },
   "outputs": [
    {
     "data": {
      "text/plain": [
       "['bananas', 'apples']"
      ]
     },
     "execution_count": 40,
     "metadata": {},
     "output_type": "execute_result"
    }
   ],
   "source": [
    "shopping_list[-2:]"
   ]
  },
  {
   "cell_type": "markdown",
   "id": "f9af0a45",
   "metadata": {},
   "source": [
    "Or, we can get even more complex and grab all of the even number elements by using a third argument in the brackets that tells use the step size:"
   ]
  },
  {
   "cell_type": "code",
   "execution_count": 41,
   "id": "9b754008",
   "metadata": {
    "execution": {
     "iopub.execute_input": "2025-04-16T02:29:30.464768Z",
     "iopub.status.busy": "2025-04-16T02:29:30.464619Z",
     "iopub.status.idle": "2025-04-16T02:29:30.467834Z",
     "shell.execute_reply": "2025-04-16T02:29:30.467405Z"
    }
   },
   "outputs": [
    {
     "data": {
      "text/plain": [
       "['eggs', 'milk', 'apples']"
      ]
     },
     "execution_count": 41,
     "metadata": {},
     "output_type": "execute_result"
    }
   ],
   "source": [
    "shopping_list[0::2]"
   ]
  },
  {
   "cell_type": "markdown",
   "id": "0d5312ca",
   "metadata": {},
   "source": [
    "## Conditional Statements"
   ]
  },
  {
   "cell_type": "markdown",
   "id": "1bce2f0e",
   "metadata": {},
   "source": [
    "We have now seen a collection of data types (integers, doubles/floats, lists, strings) but we have yet to discuss how to compare two different variables.  For example, how do we check if two different integers $a$ and $b$ are equal?  Or how do we know if $a\\ge b$?  This is accomplished using **conditional statements**.  The basic operations in boolean logic are \"equal\" (```==```), \"not equal\" (```!=```), \"greater than\" (```>```), \"greater than or equal\" (```>=```), \"less than\" (```<```), and \"less than or equal\" (```<=```).  All of these conditionals operate on two variables and return a simple boolean ```True``` or ```False``` answer.  For example"
   ]
  },
  {
   "cell_type": "code",
   "execution_count": 42,
   "id": "97c21974",
   "metadata": {
    "execution": {
     "iopub.execute_input": "2025-04-16T02:29:30.469082Z",
     "iopub.status.busy": "2025-04-16T02:29:30.468935Z",
     "iopub.status.idle": "2025-04-16T02:29:30.471966Z",
     "shell.execute_reply": "2025-04-16T02:29:30.471575Z"
    }
   },
   "outputs": [
    {
     "data": {
      "text/plain": [
       "False"
      ]
     },
     "execution_count": 42,
     "metadata": {},
     "output_type": "execute_result"
    }
   ],
   "source": [
    "a = 5\n",
    "b = 8\n",
    "a > b"
   ]
  },
  {
   "cell_type": "code",
   "execution_count": 43,
   "id": "5eab0fe9",
   "metadata": {
    "execution": {
     "iopub.execute_input": "2025-04-16T02:29:30.473199Z",
     "iopub.status.busy": "2025-04-16T02:29:30.473053Z",
     "iopub.status.idle": "2025-04-16T02:29:30.476240Z",
     "shell.execute_reply": "2025-04-16T02:29:30.475728Z"
    }
   },
   "outputs": [
    {
     "data": {
      "text/plain": [
       "(True, True)"
      ]
     },
     "execution_count": 43,
     "metadata": {},
     "output_type": "execute_result"
    }
   ],
   "source": [
    "c = 0\n",
    "c <= 0, c >= 0"
   ]
  },
  {
   "cell_type": "code",
   "execution_count": 44,
   "id": "c7d8ac9c",
   "metadata": {
    "execution": {
     "iopub.execute_input": "2025-04-16T02:29:30.477571Z",
     "iopub.status.busy": "2025-04-16T02:29:30.477420Z",
     "iopub.status.idle": "2025-04-16T02:29:30.480588Z",
     "shell.execute_reply": "2025-04-16T02:29:30.480188Z"
    }
   },
   "outputs": [
    {
     "data": {
      "text/plain": [
       "(False, True)"
      ]
     },
     "execution_count": 44,
     "metadata": {},
     "output_type": "execute_result"
    }
   ],
   "source": [
    "a = 5\n",
    "b = 6\n",
    "a == b, a != b"
   ]
  },
  {
   "cell_type": "markdown",
   "id": "d4ece86c",
   "metadata": {},
   "source": [
    "It is important to point out that in Python ```1``` and ```0``` are the same as ```True``` and ```False```, respectively."
   ]
  },
  {
   "cell_type": "code",
   "execution_count": 45,
   "id": "6ccfe4ea",
   "metadata": {
    "execution": {
     "iopub.execute_input": "2025-04-16T02:29:30.481940Z",
     "iopub.status.busy": "2025-04-16T02:29:30.481753Z",
     "iopub.status.idle": "2025-04-16T02:29:30.484961Z",
     "shell.execute_reply": "2025-04-16T02:29:30.484567Z"
    }
   },
   "outputs": [
    {
     "data": {
      "text/plain": [
       "(True, True)"
      ]
     },
     "execution_count": 45,
     "metadata": {},
     "output_type": "execute_result"
    }
   ],
   "source": [
    "t = True\n",
    "f = False\n",
    "t == 1, f == 0"
   ]
  },
  {
   "cell_type": "markdown",
   "id": "135ff163",
   "metadata": {},
   "source": [
    "We can also combine multiple conditional statements"
   ]
  },
  {
   "cell_type": "code",
   "execution_count": 46,
   "id": "f1137975",
   "metadata": {
    "execution": {
     "iopub.execute_input": "2025-04-16T02:29:30.486352Z",
     "iopub.status.busy": "2025-04-16T02:29:30.486102Z",
     "iopub.status.idle": "2025-04-16T02:29:30.489288Z",
     "shell.execute_reply": "2025-04-16T02:29:30.488923Z"
    }
   },
   "outputs": [
    {
     "data": {
      "text/plain": [
       "True"
      ]
     },
     "execution_count": 46,
     "metadata": {},
     "output_type": "execute_result"
    }
   ],
   "source": [
    "a = -1\n",
    "b = 4\n",
    "c = 10\n",
    "d = 11\n",
    "a < b < c != d"
   ]
  },
  {
   "cell_type": "markdown",
   "id": "05d6938b",
   "metadata": {},
   "source": [
    "These operations can also be used on lists and strings:"
   ]
  },
  {
   "cell_type": "code",
   "execution_count": 47,
   "id": "e89b32ad",
   "metadata": {
    "execution": {
     "iopub.execute_input": "2025-04-16T02:29:30.490741Z",
     "iopub.status.busy": "2025-04-16T02:29:30.490443Z",
     "iopub.status.idle": "2025-04-16T02:29:30.493609Z",
     "shell.execute_reply": "2025-04-16T02:29:30.493155Z"
    }
   },
   "outputs": [
    {
     "data": {
      "text/plain": [
       "False"
      ]
     },
     "execution_count": 47,
     "metadata": {},
     "output_type": "execute_result"
    }
   ],
   "source": [
    "[4, 5, 6] >= [4, 5, 7]"
   ]
  },
  {
   "cell_type": "code",
   "execution_count": 48,
   "id": "56daacea",
   "metadata": {
    "execution": {
     "iopub.execute_input": "2025-04-16T02:29:30.495144Z",
     "iopub.status.busy": "2025-04-16T02:29:30.494845Z",
     "iopub.status.idle": "2025-04-16T02:29:30.498055Z",
     "shell.execute_reply": "2025-04-16T02:29:30.497582Z"
    }
   },
   "outputs": [
    {
     "data": {
      "text/plain": [
       "True"
      ]
     },
     "execution_count": 48,
     "metadata": {},
     "output_type": "execute_result"
    }
   ],
   "source": [
    "[4, 5, 6] <= [4, 5, 7]"
   ]
  },
  {
   "cell_type": "code",
   "execution_count": 49,
   "id": "adcdcd2c",
   "metadata": {
    "execution": {
     "iopub.execute_input": "2025-04-16T02:29:30.499519Z",
     "iopub.status.busy": "2025-04-16T02:29:30.499141Z",
     "iopub.status.idle": "2025-04-16T02:29:30.502297Z",
     "shell.execute_reply": "2025-04-16T02:29:30.501847Z"
    }
   },
   "outputs": [
    {
     "data": {
      "text/plain": [
       "False"
      ]
     },
     "execution_count": 49,
     "metadata": {},
     "output_type": "execute_result"
    }
   ],
   "source": [
    "\"today\" == \"Today\""
   ]
  },
  {
   "cell_type": "markdown",
   "id": "0de85954",
   "metadata": {},
   "source": [
    "### Conditional Statements and Flow Control"
   ]
  },
  {
   "cell_type": "markdown",
   "id": "8741c3ce",
   "metadata": {},
   "source": [
    "The main purpose of these conditional statements is to control the flow of a Python program.  The result of a conditional statement can be used to control a program using ```if/else``` and ```while``` statements."
   ]
  },
  {
   "cell_type": "code",
   "execution_count": 50,
   "id": "61d00e19",
   "metadata": {
    "execution": {
     "iopub.execute_input": "2025-04-16T02:29:30.503766Z",
     "iopub.status.busy": "2025-04-16T02:29:30.503471Z",
     "iopub.status.idle": "2025-04-16T02:29:30.505993Z",
     "shell.execute_reply": "2025-04-16T02:29:30.505592Z"
    }
   },
   "outputs": [
    {
     "name": "stdout",
     "output_type": "stream",
     "text": [
      "We have class today :(\n"
     ]
    }
   ],
   "source": [
    "today = \"friday\"\n",
    "if today == \"friday\":\n",
    "    print(\"We have class today :(\")  # this is a code block\n",
    "else:\n",
    "    print(\"No class today :)\")  # this is also a code block"
   ]
  },
  {
   "cell_type": "markdown",
   "id": "363d0a3d",
   "metadata": {},
   "source": [
    "The code block below the ```if``` statement is run only if the conditional ```today=='friday'``` returns ```True```.  If the conditional is ```False``` then the code block inside the ```else``` statement is run.  We can also check multiple conditions by using the ``elif`` statement after ```if```:"
   ]
  },
  {
   "cell_type": "code",
   "execution_count": 51,
   "id": "66e6f34a",
   "metadata": {
    "execution": {
     "iopub.execute_input": "2025-04-16T02:29:30.507312Z",
     "iopub.status.busy": "2025-04-16T02:29:30.507151Z",
     "iopub.status.idle": "2025-04-16T02:29:30.509703Z",
     "shell.execute_reply": "2025-04-16T02:29:30.509317Z"
    }
   },
   "outputs": [
    {
     "name": "stdout",
     "output_type": "stream",
     "text": [
      "Our assignment is due today :(\n"
     ]
    }
   ],
   "source": [
    "today = \"thursday\"\n",
    "if today == \"friday\":\n",
    "    print(\"We have class today :(\")\n",
    "elif today == \"thursday\":\n",
    "    print(\"Our assignment is due today :(\")\n",
    "else:\n",
    "    print(\"No class today :)\")"
   ]
  },
  {
   "cell_type": "markdown",
   "id": "bf268aca",
   "metadata": {},
   "source": [
    "The other important flow control expression is the **```while``` loop** that executes a block of code repeatedly until the conditional statement at the start of the loop is ```False```."
   ]
  },
  {
   "cell_type": "code",
   "execution_count": 52,
   "id": "023fec80",
   "metadata": {
    "execution": {
     "iopub.execute_input": "2025-04-16T02:29:30.511011Z",
     "iopub.status.busy": "2025-04-16T02:29:30.510860Z",
     "iopub.status.idle": "2025-04-16T02:29:30.513838Z",
     "shell.execute_reply": "2025-04-16T02:29:30.513407Z"
    }
   },
   "outputs": [
    {
     "name": "stdout",
     "output_type": "stream",
     "text": [
      "The current value of n is: 0\n",
      "The current value of n is: 1\n",
      "The current value of n is: 2\n",
      "The current value of n is: 3\n",
      "The current value of n is: 4\n",
      "The current value of n is: 5\n",
      "The current value of n is: 6\n",
      "The current value of n is: 7\n",
      "The current value of n is: 8\n",
      "The current value of n is: 9\n",
      "The current value of n is: 10\n"
     ]
    }
   ],
   "source": [
    "n = 0\n",
    "while n <= 10:  # evaluate code block until n>10\n",
    "    print(\"The current value of n is:\", n)\n",
    "    n = n + 1  # increase the value of n by 1"
   ]
  },
  {
   "cell_type": "markdown",
   "id": "da20d849",
   "metadata": {},
   "source": [
    "When using a ```while``` loop you must make sure the conditional is not ```True``` forever.  Otherwise your program will be in an **infinite loop** that never ends."
   ]
  },
  {
   "cell_type": "markdown",
   "id": "94d7fc15",
   "metadata": {},
   "source": [
    "### Example: Even and Odd Numbers"
   ]
  },
  {
   "cell_type": "markdown",
   "id": "4575728b",
   "metadata": {},
   "source": [
    "Let us determine whether a given number between [1,10] is an even or odd number."
   ]
  },
  {
   "cell_type": "code",
   "execution_count": 53,
   "id": "e0ee084b",
   "metadata": {
    "execution": {
     "iopub.execute_input": "2025-04-16T02:29:30.515157Z",
     "iopub.status.busy": "2025-04-16T02:29:30.514991Z",
     "iopub.status.idle": "2025-04-16T02:29:30.518034Z",
     "shell.execute_reply": "2025-04-16T02:29:30.517619Z"
    }
   },
   "outputs": [
    {
     "name": "stdout",
     "output_type": "stream",
     "text": [
      "1 is odd\n",
      "2 is even\n",
      "3 is odd\n",
      "4 is even\n",
      "5 is odd\n",
      "6 is even\n",
      "7 is odd\n",
      "8 is even\n",
      "9 is odd\n",
      "10 is even\n"
     ]
    }
   ],
   "source": [
    "for n in [1, 2, 3, 4, 5, 6, 7, 8, 9, 10]:\n",
    "    if np.remainder(n, 2) == 0:\n",
    "        print(n, \"is even\")\n",
    "    else:\n",
    "        print(n, \"is odd\")"
   ]
  },
  {
   "cell_type": "markdown",
   "id": "19148cb6",
   "metadata": {},
   "source": [
    "Typing lists with a long sequence of integers is quite annoying.  Fortunately, Python has a builtin function called ```range``` that makes creating sequences of integers very easy.  For instance, the above example becomes"
   ]
  },
  {
   "cell_type": "code",
   "execution_count": 54,
   "id": "270e7bab",
   "metadata": {
    "execution": {
     "iopub.execute_input": "2025-04-16T02:29:30.519387Z",
     "iopub.status.busy": "2025-04-16T02:29:30.519225Z",
     "iopub.status.idle": "2025-04-16T02:29:30.522256Z",
     "shell.execute_reply": "2025-04-16T02:29:30.521794Z"
    }
   },
   "outputs": [
    {
     "name": "stdout",
     "output_type": "stream",
     "text": [
      "1 is odd\n",
      "2 is even\n",
      "3 is odd\n",
      "4 is even\n",
      "5 is odd\n",
      "6 is even\n",
      "7 is odd\n",
      "8 is even\n",
      "9 is odd\n",
      "10 is even\n"
     ]
    }
   ],
   "source": [
    "for n in range(1, 11):\n",
    "    if np.remainder(n, 2) == 0:\n",
    "        print(n, \"is even\")\n",
    "    else:\n",
    "        print(n, \"is odd\")"
   ]
  },
  {
   "cell_type": "markdown",
   "id": "4baf9e3b",
   "metadata": {},
   "source": [
    "Notice how the range function only counts to $10$ even though the range goes to $11$.  The endpoint is *never* part of the generated sequence when using ```range```.  If we wanted the ```range``` function to start at zero instead of one we could simply write ```range(11)```.  We can also make sequences that go in arbitrary steps:"
   ]
  },
  {
   "cell_type": "code",
   "execution_count": 55,
   "id": "53c20a61",
   "metadata": {
    "execution": {
     "iopub.execute_input": "2025-04-16T02:29:30.523731Z",
     "iopub.status.busy": "2025-04-16T02:29:30.523432Z",
     "iopub.status.idle": "2025-04-16T02:29:30.526029Z",
     "shell.execute_reply": "2025-04-16T02:29:30.525616Z"
    }
   },
   "outputs": [
    {
     "name": "stdout",
     "output_type": "stream",
     "text": [
      "0\n",
      "2\n",
      "4\n",
      "6\n",
      "8\n",
      "10\n"
     ]
    }
   ],
   "source": [
    "for n in range(0, 11, 2):\n",
    "    print(n)"
   ]
  },
  {
   "cell_type": "markdown",
   "id": "f97def7d",
   "metadata": {},
   "source": [
    "The ```range``` function does not return a list of integers but is something called a **generator**.  In general, the ```range``` function should only be used in combination with the ```for``` command."
   ]
  },
  {
   "cell_type": "markdown",
   "id": "fdfd121d",
   "metadata": {},
   "source": [
    "### Example: Fibonacci Sequence"
   ]
  },
  {
   "cell_type": "markdown",
   "id": "26f254db",
   "metadata": {},
   "source": [
    "Let us follow the Python documentation and calculate the first ten numbers in the Fibonacci sequence:"
   ]
  },
  {
   "cell_type": "code",
   "execution_count": 56,
   "id": "4add6528",
   "metadata": {
    "execution": {
     "iopub.execute_input": "2025-04-16T02:29:30.527587Z",
     "iopub.status.busy": "2025-04-16T02:29:30.527233Z",
     "iopub.status.idle": "2025-04-16T02:29:30.530351Z",
     "shell.execute_reply": "2025-04-16T02:29:30.529940Z"
    }
   },
   "outputs": [
    {
     "name": "stdout",
     "output_type": "stream",
     "text": [
      "[0, 1, 1, 2, 3, 5, 8, 13, 21, 34]\n"
     ]
    }
   ],
   "source": [
    "n = 10\n",
    "fib = [0, 1]\n",
    "for i in range(2, n):\n",
    "    fib.append(fib[i - 1] + fib[i - 2])\n",
    "print(fib)"
   ]
  },
  {
   "cell_type": "markdown",
   "id": "5a31b559",
   "metadata": {},
   "source": [
    "We can also write this using a ```while``` loop if we wanted to."
   ]
  },
  {
   "cell_type": "code",
   "execution_count": 57,
   "id": "824d6412",
   "metadata": {
    "execution": {
     "iopub.execute_input": "2025-04-16T02:29:30.531900Z",
     "iopub.status.busy": "2025-04-16T02:29:30.531504Z",
     "iopub.status.idle": "2025-04-16T02:29:30.534311Z",
     "shell.execute_reply": "2025-04-16T02:29:30.533929Z"
    }
   },
   "outputs": [
    {
     "name": "stdout",
     "output_type": "stream",
     "text": [
      "[0, 1, 1, 2, 3, 5, 8, 13, 21, 34]\n"
     ]
    }
   ],
   "source": [
    "n = 2\n",
    "fib = [0, 1]\n",
    "while n < 10:\n",
    "    fib.append(fib[n - 1] + fib[n - 2])\n",
    "    n = n + 1\n",
    "print(fib)"
   ]
  },
  {
   "cell_type": "markdown",
   "id": "65abf22e",
   "metadata": {},
   "source": [
    "## Writing Scripts and Functions"
   ]
  },
  {
   "cell_type": "markdown",
   "id": "0b5eccbe",
   "metadata": {},
   "source": [
    "Up until now we have been running little code snippets but have not really been doing any real programming.  Recall that Python is a scripting language.  Therefore, most of the time, we want to write **scripts** that contain a collection of constants, variables, data structures, functions, comments, etc., that perform various complicated tasks. "
   ]
  },
  {
   "cell_type": "markdown",
   "id": "f21fad77",
   "metadata": {},
   "source": [
    "###  Scripts"
   ]
  },
  {
   "cell_type": "markdown",
   "id": "c9bd5f49",
   "metadata": {},
   "source": [
    "A Python script file is nothing but a text file containing Python code that ends with a **.py** extension.  Python scripts are also called Python **programs**.  If we open up any editor, then we are given a blank window that we can enter our Python commands in."
   ]
  },
  {
   "cell_type": "markdown",
   "id": "7ea177ee",
   "metadata": {},
   "source": [
    "Before we begin to write our scripts, lets first discuss the best format for writing your scripts."
   ]
  },
  {
   "cell_type": "code",
   "execution_count": 58,
   "id": "7659540e",
   "metadata": {
    "execution": {
     "iopub.execute_input": "2025-04-16T02:29:30.535765Z",
     "iopub.status.busy": "2025-04-16T02:29:30.535508Z",
     "iopub.status.idle": "2025-04-16T02:29:30.539051Z",
     "shell.execute_reply": "2025-04-16T02:29:30.538551Z"
    }
   },
   "outputs": [
    {
     "name": "stdout",
     "output_type": "stream",
     "text": [
      "Series approximation: 0.7071067811796194\n",
      "Error: 6.928013718265902e-12\n"
     ]
    }
   ],
   "source": [
    "# This is an example script for the P461 class\n",
    "# Here we will calculate the series expansion\n",
    "# for sin(x) up to an arbitrary order N.\n",
    "#\n",
    "# Paul Nation, 02/03/2014\n",
    "\n",
    "N = 5  # The order of the series expansion\n",
    "x = np.pi / 4.0  # The point at which we want to evaluate sine\n",
    "\n",
    "ans = 0.0\n",
    "for k in range(N + 1):\n",
    "    ans = ans + (-1) ** k * x ** (1 + 2 * k) / factorial(1 + 2 * k)\n",
    "print(\"Series approximation:\", ans)\n",
    "print(\"Error:\", np.sin(x) - ans)"
   ]
  },
  {
   "cell_type": "markdown",
   "id": "176d3dff",
   "metadata": {},
   "source": [
    "We can see that the script has four main parts: First, we have a section of **comments** that describe what the script does and when it was created.  In python all comments start with the **```#```** symbol.  Everything after this symbol is ignored by the computer.  Second, we have the section of the scripts that load the necessary functions that we need from other packages.  Third is a section where we define all of the constants that are going to be used in the script. You should also add comments here that tell us what the constants are.  Finally, your main body of code goes after these sections."
   ]
  },
  {
   "cell_type": "markdown",
   "id": "89324547",
   "metadata": {},
   "source": [
    "### Functions"
   ]
  },
  {
   "cell_type": "markdown",
   "id": "582875d4",
   "metadata": {},
   "source": [
    "We are finally in a position to look at one of the most important parts of any programming language **functions**.  Functions are blocks of code that accomplish a specific task. Functions usually take \"input arguments\", perform operations on these inputs, and then \"return\" one or more results. Functions can be used over and over again, and can also be \"called\" from the inside of other functions.  Let us rewrite our script for $sin(x)$ using a function and then describe each part."
   ]
  },
  {
   "cell_type": "code",
   "execution_count": 59,
   "id": "b8835345",
   "metadata": {
    "execution": {
     "iopub.execute_input": "2025-04-16T02:29:30.540356Z",
     "iopub.status.busy": "2025-04-16T02:29:30.540196Z",
     "iopub.status.idle": "2025-04-16T02:29:30.543765Z",
     "shell.execute_reply": "2025-04-16T02:29:30.543299Z"
    }
   },
   "outputs": [
    {
     "name": "stdout",
     "output_type": "stream",
     "text": [
      "Series approximation: 0.7071067811796194\n",
      "Error: 6.928013718265902e-12\n"
     ]
    }
   ],
   "source": [
    "N = 5  # The order of the series expansion\n",
    "x = np.pi / 4.0  # The point at which we want to evaluate sine\n",
    "\n",
    "\n",
    "def sine_series(x, N):\n",
    "    ans = 0.0\n",
    "    for k in range(N + 1):\n",
    "        ans = ans + (-1) ** k * x ** (1 + 2 * k) / factorial(1 + 2 * k)\n",
    "    return ans\n",
    "\n",
    "\n",
    "result = sine_series(x, N)\n",
    "print(\"Series approximation:\", result)\n",
    "print(\"Error:\", np.sin(x) - result)"
   ]
  },
  {
   "cell_type": "markdown",
   "id": "116bcf45",
   "metadata": {},
   "source": [
    "We see see that a function is created using the keyword ```def``` which is short \"define\", then the name of the function followed by the input arguments in parentheses.  After the block of code called by the function, the ```return``` keyword specifies what variable(s) and/or data structure(s) are given as the output.  So a general functions call is"
   ]
  },
  {
   "cell_type": "code",
   "execution_count": 60,
   "id": "a7caf2af",
   "metadata": {
    "execution": {
     "iopub.execute_input": "2025-04-16T02:29:30.545203Z",
     "iopub.status.busy": "2025-04-16T02:29:30.544904Z",
     "iopub.status.idle": "2025-04-16T02:29:30.547316Z",
     "shell.execute_reply": "2025-04-16T02:29:30.546860Z"
    }
   },
   "outputs": [],
   "source": [
    "def function_name(arg1, arg2):\n",
    "    \"Block of code to run\"\n",
    "    \"...\"\n",
    "    return result"
   ]
  },
  {
   "cell_type": "markdown",
   "id": "0148c1d4",
   "metadata": {},
   "source": [
    "Again, everything after the colon (:) that is inside the function must be indented.  The beauty of using functions is that we can use the same code over and over, just by changing the constants near the top of our Python script.\n",
    "\n",
    "Variables that are defined inside of a function are called **local variables** and only defined for the block of code inside of the function.  In our previous example, ```k``` was a local variable.  The input arguments and return arguments are *not* local variables.  Once a function is done running, the local variables are erased from memory.  Therefore, if you want get something out of a function, your must return the value when your done."
   ]
  },
  {
   "cell_type": "markdown",
   "id": "bd0a0682",
   "metadata": {},
   "source": [
    "If we want to return more than one thing at the end of the function then we just need to separate the different items by a comma."
   ]
  },
  {
   "cell_type": "code",
   "execution_count": 61,
   "id": "28baea8b",
   "metadata": {
    "execution": {
     "iopub.execute_input": "2025-04-16T02:29:30.548802Z",
     "iopub.status.busy": "2025-04-16T02:29:30.548414Z",
     "iopub.status.idle": "2025-04-16T02:29:30.628351Z",
     "shell.execute_reply": "2025-04-16T02:29:30.627882Z"
    }
   },
   "outputs": [
    {
     "data": {
      "image/png": "[encoded data removed]",
      "text/plain": [
       "<Figure size 640x480 with 1 Axes>"
      ]
     },
     "metadata": {},
     "output_type": "display_data"
    }
   ],
   "source": [
    "N = 100  # Number of points to generate\n",
    "\n",
    "\n",
    "def random_coordinates(N):\n",
    "    x_coords = []\n",
    "    y_coords = []\n",
    "    for n in range(N):\n",
    "        xnew, ynew = np.random.random(2)\n",
    "        x_coords.append(xnew)\n",
    "        y_coords.append(ynew)\n",
    "    return x_coords, y_coords\n",
    "\n",
    "\n",
    "xc, yc = random_coordinates(N)\n",
    "plt.plot(xc, yc, \"ro\", markersize=8)\n",
    "plt.show()"
   ]
  },
  {
   "cell_type": "code",
   "execution_count": 62,
   "id": "e3fd64f1",
   "metadata": {
    "execution": {
     "iopub.execute_input": "2025-04-16T02:29:30.630042Z",
     "iopub.status.busy": "2025-04-16T02:29:30.629651Z",
     "iopub.status.idle": "2025-04-16T02:29:30.697137Z",
     "shell.execute_reply": "2025-04-16T02:29:30.696657Z"
    }
   },
   "outputs": [
    {
     "data": {
      "image/png": "[encoded data removed]",
      "text/plain": [
       "<Figure size 640x480 with 1 Axes>"
      ]
     },
     "metadata": {},
     "output_type": "display_data"
    }
   ],
   "source": [
    "N = 20  # Number of points to generate\n",
    "\n",
    "\n",
    "def random_coordinates(N):\n",
    "    x_coords = []\n",
    "    y_coords = []\n",
    "    for n in range(N):\n",
    "        xnew, ynew = np.random.random(2)\n",
    "        x_coords.append(xnew)\n",
    "        y_coords.append(ynew)\n",
    "    return x_coords, y_coords\n",
    "\n",
    "\n",
    "def dist2d(x1, y1, x2, y2):\n",
    "    return np.sqrt((x1 - x2) ** 2 + (y1 - y2) ** 2)\n",
    "\n",
    "\n",
    "def max_dist(xc, yc):\n",
    "    max_dist = 0.0\n",
    "    num_points = len(xc)\n",
    "    for ii in range(num_points):\n",
    "        for jj in range(num_points):\n",
    "            dist = dist2d(xc[ii], yc[ii], xc[jj], yc[jj])\n",
    "            if dist > max_dist:\n",
    "                max_dist = dist\n",
    "                xvals = [xc[ii], xc[jj]]\n",
    "                yvals = [yc[ii], yc[jj]]\n",
    "    return max_dist, xvals, yvals\n",
    "\n",
    "\n",
    "xc, yc = random_coordinates(N)\n",
    "max_dist, pnt1, pnt2 = max_dist(xc, yc)\n",
    "plt.plot(xc, yc, \"ro\", markersize=8)\n",
    "plt.plot(pnt1, pnt2, \"b-\", lw=2)\n",
    "plt.show()"
   ]
  },
  {
   "cell_type": "markdown",
   "id": "14ec3765",
   "metadata": {},
   "source": [
    "Obvious this last example is more complex, and in particular, it is hard to understand what the functions.  Even for your own functions, you may often forget what your functions do unless you provide some documentation and comments in your scripts.  Here we will see how to properly document a function in Python by looking at the ```max_dist``` function:"
   ]
  },
  {
   "cell_type": "code",
   "execution_count": 63,
   "id": "b5bedfc0",
   "metadata": {
    "execution": {
     "iopub.execute_input": "2025-04-16T02:29:30.698805Z",
     "iopub.status.busy": "2025-04-16T02:29:30.698415Z",
     "iopub.status.idle": "2025-04-16T02:29:30.701606Z",
     "shell.execute_reply": "2025-04-16T02:29:30.701208Z"
    }
   },
   "outputs": [],
   "source": [
    "def max_dist(xc, yc):\n",
    "    \"\"\"\n",
    "    Finds the maximum distance between any two points\n",
    "    in a collection of 2D points.  The points corresponding\n",
    "    to this distance are also returned.\n",
    "\n",
    "    Parameters\n",
    "    ----------\n",
    "    xc : list\n",
    "        List of x-coordinates\n",
    "    yc : list\n",
    "        List of y-coordinates\n",
    "\n",
    "    Returns\n",
    "    -------\n",
    "    max_dist : float\n",
    "        Maximum distance\n",
    "    xvals : list\n",
    "        x-coodinates of two points\n",
    "    yvals : list\n",
    "        y-coordinates of two points\n",
    "\n",
    "    \"\"\"\n",
    "    max_dist = 0.0  # initialize max_dist\n",
    "    num_points = len(xc)  # number of points in collection\n",
    "    for ii in range(num_points):\n",
    "        for jj in range(num_points):\n",
    "            dist = dist2d(xc[ii], yc[ii], xc[jj], yc[jj])\n",
    "            if dist > max_dist:\n",
    "                max_dist = dist\n",
    "                xvals = [xc[ii], xc[jj]]\n",
    "                yvals = [yc[ii], yc[jj]]\n",
    "    return max_dist, xvals, yvals"
   ]
  },
  {
   "cell_type": "markdown",
   "id": "67f584b5",
   "metadata": {},
   "source": [
    "Everything inbetween the ```\"\"\"...\"\"\"``` is called a **docstring** and it gives a tells someone who is not familiar with a partiular functions a detailed explaination as to what the function does, what parameters it takes as inputs, and what values it returns.  It is also good practice to put some comments next to your local variables so the user knows what each of these is for. Although it seems like a lot of work at first, writing docstrings will make you a much better programmer in the future."
   ]
  },
  {
   "cell_type": "markdown",
   "id": "e7524385",
   "metadata": {},
   "source": [
    "<h1 align=\"center\">End of Tutorial</h1> \n",
    "<h3 align=\"center\"><a href=\"http://qutip.org/tutorials.html\">Return to QuTiP tutorials page</a></h3> "
   ]
  }
 ],
 "metadata": {
  "jupytext": {
   "cell_metadata_filter": "-all",
   "notebook_metadata_filter": "-jupytext.cell_metadata_filter,-jupytext.notebook_metadata_filter"
  },
  "kernelspec": {
   "display_name": "Python 3 (ipykernel)",
   "language": "python",
   "name": "python3"
  },
  "language_info": {
   "codemirror_mode": {
    "name": "ipython",
    "version": 3
   },
   "file_extension": ".py",
   "mimetype": "text/x-python",
   "name": "python",
   "nbconvert_exporter": "python",
   "pygments_lexer": "ipython3",
   "version": "3.12.0"
  }
 },
 "nbformat": 4,
 "nbformat_minor": 5
}
