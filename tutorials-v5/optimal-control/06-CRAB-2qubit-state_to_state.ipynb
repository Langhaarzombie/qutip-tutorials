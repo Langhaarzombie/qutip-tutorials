{
 "cells": [
  {
   "cell_type": "markdown",
   "id": "50aefba7",
   "metadata": {},
   "source": [
    "# Calculation of control fields for state-to-state transfer of a 2 qubit system using CRAB algorithm"
   ]
  },
  {
   "cell_type": "markdown",
   "id": "e669d4b7",
   "metadata": {},
   "source": [
    "Jonathan Zoller (jonathan.zoller@uni-ulm.de)"
   ]
  },
  {
   "cell_type": "markdown",
   "id": "c9e6c889",
   "metadata": {},
   "source": [
    "Example to demonstrate using the control library to determine control\n",
    "pulses using the ctrlpulseoptim.optimize_pulse_unitary function.\n",
    "The CRAB algorithm is used to optimize pulse shapes to minimize the fidelity\n",
    "error, which is equivalent maximising the fidelity to an optimal value of 1.\n",
    "\n",
    "The system in this example are two qubits, where the interaction can be\n",
    "controlled. The target is to perform a pure state transfer from a down-down\n",
    "state to an up-up state.\n",
    "\n",
    "The user can experiment with the timeslicing, by means of changing the\n",
    "number of timeslots and/or total time for the evolution.\n",
    "Different initial (starting) pulse types can be tried as well as\n",
    "boundaries on the control and a smooth ramping of the pulse when\n",
    "switching the control on and off (at the beginning and close to the end).\n",
    "The initial and final pulses are displayed in a plot\n",
    "\n",
    "An in depth discussion of using methods of this type can be found in [1,2]"
   ]
  },
  {
   "cell_type": "code",
   "execution_count": 1,
   "id": "c7733353",
   "metadata": {
    "execution": {
     "iopub.execute_input": "2025-04-16T02:25:03.878344Z",
     "iopub.status.busy": "2025-04-16T02:25:03.878172Z",
     "iopub.status.idle": "2025-04-16T02:25:04.899267Z",
     "shell.execute_reply": "2025-04-16T02:25:04.898695Z"
    }
   },
   "outputs": [],
   "source": [
    "import datetime\n",
    "\n",
    "import matplotlib.pyplot as plt\n",
    "import numpy as np\n",
    "import random\n",
    "\n",
    "import qutip_qtrl.pulseoptim as cpo\n",
    "from qutip import Qobj, identity, sigmax, sigmaz, tensor, about\n",
    "\n",
    "example_name = \"2qubitInteract\"\n",
    "%matplotlib inline"
   ]
  },
  {
   "cell_type": "markdown",
   "id": "8f37fa2a",
   "metadata": {},
   "source": [
    "### Defining the physics"
   ]
  },
  {
   "cell_type": "markdown",
   "id": "b5bf8d11",
   "metadata": {},
   "source": [
    "The dynamics of the system are governed by the combined Hamiltonian:\n",
    "H(t) = H_d + sum(u1(t)*Hc1 + u2(t)*Hc2 + ....)\n",
    "That is the time-dependent Hamiltonian has a constant part (called here the drift) and time vary parts, which are the control Hamiltonians scaled by some functions u_j(t) known as control amplitudes\n",
    "In this example we describe an Ising like Hamiltonian, encompassing random coefficients in the drift part and controlling the interaction of the qubits:\n",
    "\n",
    "$ \\hat{H} = \\sum_{i=1}^2 \\alpha_i \\sigma_x^i + \\beta_i \\sigma_z^i + u(t) \\cdot \\sigma_z \\otimes \\sigma_z $\n",
    "\n",
    "Initial $\\newcommand{\\ket}[1]{\\left|{#1}\\right\\rangle} \\ket{\\psi_0} = \\text{U_0}$ and target state $\\ket{\\psi_t} = \\text{U_targ}$ are chosen to be:\n",
    "\n",
    "$ \\ket{\\psi_0} = \\begin{pmatrix} 1 \\\\ 0 \\\\ 0 \\\\ 0 \\end{pmatrix}$\n",
    "\n",
    "$ \\ket{\\psi_t} = \\begin{pmatrix} 0 \\\\ 0 \\\\ 0 \\\\ 1 \\end{pmatrix}$"
   ]
  },
  {
   "cell_type": "code",
   "execution_count": 2,
   "id": "5e2af13b",
   "metadata": {
    "execution": {
     "iopub.execute_input": "2025-04-16T02:25:04.901407Z",
     "iopub.status.busy": "2025-04-16T02:25:04.900941Z",
     "iopub.status.idle": "2025-04-16T02:25:04.905609Z",
     "shell.execute_reply": "2025-04-16T02:25:04.905231Z"
    }
   },
   "outputs": [],
   "source": [
    "random.seed(20)\n",
    "alpha = [random.random(), random.random()]\n",
    "beta = [random.random(), random.random()]\n",
    "\n",
    "Sx = sigmax()\n",
    "Sz = sigmaz()\n",
    "\n",
    "H_d = (\n",
    "    alpha[0] * tensor(Sx, identity(2))\n",
    "    + alpha[1] * tensor(identity(2), Sx)\n",
    "    + beta[0] * tensor(Sz, identity(2))\n",
    "    + beta[1] * tensor(identity(2), Sz)\n",
    ")\n",
    "H_c = [tensor(Sz, Sz)]\n",
    "# Number of ctrls\n",
    "n_ctrls = len(H_c)\n",
    "\n",
    "q1_0 = q2_0 = Qobj([[1], [0]])\n",
    "q1_targ = q2_targ = Qobj([[0], [1]])\n",
    "\n",
    "psi_0 = tensor(q1_0, q2_0)\n",
    "psi_targ = tensor(q1_targ, q2_targ)"
   ]
  },
  {
   "cell_type": "markdown",
   "id": "8e784bba",
   "metadata": {},
   "source": [
    "### Defining the time evolution parameters"
   ]
  },
  {
   "cell_type": "markdown",
   "id": "19aba891",
   "metadata": {},
   "source": [
    "To solve the evolution the control amplitudes are considered constant within piecewise timeslots, hence the evolution during the timeslot can be calculated using U(t_k) = expm(-i*H(t_k)*dt). Combining these for all the timeslots gives the approximation to the evolution from an initial state $\\psi_0$ at t=0 to U(T) at the t=evo_time.\n",
    "The number of timeslots and evo_time have to be chosen such that the timeslot durations (dt) are small compared with the dynamics of the system."
   ]
  },
  {
   "cell_type": "code",
   "execution_count": 3,
   "id": "4fc70066",
   "metadata": {
    "execution": {
     "iopub.execute_input": "2025-04-16T02:25:04.907014Z",
     "iopub.status.busy": "2025-04-16T02:25:04.906847Z",
     "iopub.status.idle": "2025-04-16T02:25:04.909160Z",
     "shell.execute_reply": "2025-04-16T02:25:04.908785Z"
    }
   },
   "outputs": [],
   "source": [
    "# Number of time slots\n",
    "n_ts = 100\n",
    "# Time allowed for the evolution\n",
    "evo_time = 18"
   ]
  },
  {
   "cell_type": "markdown",
   "id": "b668903b",
   "metadata": {},
   "source": [
    "### Set the conditions which will cause the pulse optimisation to terminate"
   ]
  },
  {
   "cell_type": "markdown",
   "id": "71ec9e72",
   "metadata": {},
   "source": [
    "At each iteration the fidelity of the evolution is tested by comparaing the calculated evolution U(T) with the target U_targ. For unitary systems such as this one this is typically:\n",
    "f = normalise(overlap(U(T), U_targ)). The maximum fidelity (for a unitary system) calculated this way would be 1, and hence the error is calculated as fid_err = 1 - fidelity. As such the optimisation is considered completed when the fid_err falls below such a target value.\n",
    "\n",
    "In some cases the optimisation either gets stuck in some local minima, or the fid_err_targ is just not achievable, therefore some limits are set to the time/effort allowed to find a solution.\n",
    "\n",
    "The algorithm uses the CRAB algorithm to determine optimized coefficients that lead to a minimal fidelity error. The underlying optimization procedure is set to be the Nelder-Mead downhill simplex. Therefore, when all vertices shrink together, the algorithm will terminate."
   ]
  },
  {
   "cell_type": "code",
   "execution_count": 4,
   "id": "842c5506",
   "metadata": {
    "execution": {
     "iopub.execute_input": "2025-04-16T02:25:04.910484Z",
     "iopub.status.busy": "2025-04-16T02:25:04.910338Z",
     "iopub.status.idle": "2025-04-16T02:25:04.912602Z",
     "shell.execute_reply": "2025-04-16T02:25:04.912233Z"
    }
   },
   "outputs": [],
   "source": [
    "# Fidelity error target\n",
    "fid_err_targ = 1e-3\n",
    "# Maximum iterations for the optisation algorithm\n",
    "max_iter = 500\n",
    "# Maximum (elapsed) time allowed in seconds\n",
    "max_wall_time = 120"
   ]
  },
  {
   "cell_type": "markdown",
   "id": "831b966e",
   "metadata": {},
   "source": [
    "### Set the initial pulse type"
   ]
  },
  {
   "cell_type": "markdown",
   "id": "a4c4d672",
   "metadata": {},
   "source": [
    "The control amplitudes must be set to some initial values. Typically these are just random values for each control in each timeslot. These do however result in erratic optimised pulses. For this example, a solution will be found for any initial pulse, and so it can be interesting to look at the other initial pulse alternatives."
   ]
  },
  {
   "cell_type": "code",
   "execution_count": 5,
   "id": "72408bd8",
   "metadata": {
    "execution": {
     "iopub.execute_input": "2025-04-16T02:25:04.913969Z",
     "iopub.status.busy": "2025-04-16T02:25:04.913817Z",
     "iopub.status.idle": "2025-04-16T02:25:04.916010Z",
     "shell.execute_reply": "2025-04-16T02:25:04.915568Z"
    }
   },
   "outputs": [],
   "source": [
    "# pulse type alternatives: RND|ZERO|LIN|SINE|SQUARE|SAW|TRIANGLE|\n",
    "p_type = \"DEF\""
   ]
  },
  {
   "cell_type": "markdown",
   "id": "e0f6ee1c",
   "metadata": {},
   "source": [
    "### Give an extension for output files"
   ]
  },
  {
   "cell_type": "code",
   "execution_count": 6,
   "id": "da77211a",
   "metadata": {
    "execution": {
     "iopub.execute_input": "2025-04-16T02:25:04.917319Z",
     "iopub.status.busy": "2025-04-16T02:25:04.917167Z",
     "iopub.status.idle": "2025-04-16T02:25:04.919358Z",
     "shell.execute_reply": "2025-04-16T02:25:04.918993Z"
    }
   },
   "outputs": [],
   "source": [
    "# Set to None to suppress output files\n",
    "f_ext = \"{}_n_ts{}_ptype{}.txt\".format(example_name, n_ts, p_type)"
   ]
  },
  {
   "cell_type": "markdown",
   "id": "84c945c0",
   "metadata": {},
   "source": [
    "### Run the optimisation"
   ]
  },
  {
   "cell_type": "markdown",
   "id": "ed8bd8c9",
   "metadata": {},
   "source": [
    "In this step, the actual optimization is performed. At each iteration the Nelder-Mead algorithm calculates a new set of coefficients that improves the currently worst set among all set of coefficients. For details see [1,2] and a textbook about static search methods. The algorithm continues until one of the termination conditions defined above has been reached. If undesired results are achieved, rerun the algorithm and/or try to change the number of coefficients to be optimized for, as this is a very crucial parameter."
   ]
  },
  {
   "cell_type": "code",
   "execution_count": 7,
   "id": "b6c3aa58",
   "metadata": {
    "execution": {
     "iopub.execute_input": "2025-04-16T02:25:04.920723Z",
     "iopub.status.busy": "2025-04-16T02:25:04.920557Z",
     "iopub.status.idle": "2025-04-16T02:25:05.755680Z",
     "shell.execute_reply": "2025-04-16T02:25:05.755203Z"
    }
   },
   "outputs": [],
   "source": [
    "result = cpo.opt_pulse_crab_unitary(\n",
    "    H_d,\n",
    "    H_c,\n",
    "    psi_0,\n",
    "    psi_targ,\n",
    "    n_ts,\n",
    "    evo_time,\n",
    "    fid_err_targ=fid_err_targ,\n",
    "    max_iter=max_iter,\n",
    "    max_wall_time=max_wall_time,\n",
    "    init_coeff_scaling=5.0,\n",
    "    num_coeffs=5,\n",
    "    method_params={\"xtol\": 1e-3},\n",
    "    guess_pulse_type=None,\n",
    "    guess_pulse_action=\"modulate\",\n",
    "    out_file_ext=f_ext,\n",
    "    gen_stats=True,\n",
    ")"
   ]
  },
  {
   "cell_type": "markdown",
   "id": "056945f7",
   "metadata": {},
   "source": [
    "### Report the results"
   ]
  },
  {
   "cell_type": "markdown",
   "id": "88ac78b9",
   "metadata": {},
   "source": [
    "Firstly the performace statistics are reported, which gives a breakdown of the processing times. In this example it can be seen that the majority of time is spent calculating the propagators, i.e. exponentiating the combined Hamiltonian.\n",
    "\n",
    "The optimised U(T) is reported as the 'final evolution', which is essentially the string representation of the Qobj that holds the full time evolution at the point when the optimisation is terminated.\n",
    "\n",
    "The key information is in the summary (given last). Here the final fidelity is reported and the reason for termination of the algorithm."
   ]
  },
  {
   "cell_type": "code",
   "execution_count": 8,
   "id": "830396c5",
   "metadata": {
    "execution": {
     "iopub.execute_input": "2025-04-16T02:25:05.758010Z",
     "iopub.status.busy": "2025-04-16T02:25:05.757818Z",
     "iopub.status.idle": "2025-04-16T02:25:05.763978Z",
     "shell.execute_reply": "2025-04-16T02:25:05.763527Z"
    }
   },
   "outputs": [
    {
     "name": "stdout",
     "output_type": "stream",
     "text": [
      "\n",
      "------------------------------------\n",
      "---- Control optimisation stats ----\n",
      "**** Timings (HH:MM:SS.US) ****\n",
      "Total wall time elapsed during optimisation: 0:00:00.828031\n",
      "Wall time computing Hamiltonians: 0:00:00.145897 (17.62%)\n",
      "Wall time computing propagators: 0:00:00.577539 (69.75%)\n",
      "Wall time computing forward propagation: 0:00:00.028268 (3.41%)\n",
      "Wall time computing onward propagation: 0:00:00.027276 (3.29%)\n",
      "Wall time computing gradient: 0:00:00 (0.00%)\n",
      "\n",
      "**** Iterations and function calls ****\n",
      "Number of iterations: 216\n",
      "Number of fidelity function calls: 309\n",
      "Number of times fidelity is computed: 309\n",
      "Number of gradient function calls: 0\n",
      "Number of times gradients are computed: 0\n",
      "Number of times timeslot evolution is recomputed: 309\n",
      "\n",
      "**** Control amplitudes ****\n",
      "Number of control amplitude updates: 308\n",
      "Mean number of updates per iteration: 1.4259259259259258\n",
      "Number of timeslot values changed: 30799\n",
      "Mean number of timeslot changes per update: 99.99675324675324\n",
      "Number of amplitude values changed: 30799\n",
      "Mean number of amplitude changes per update: 99.99675324675324\n",
      "------------------------------------\n",
      "Final evolution\n",
      "Quantum object: dims=[[2, 2], [1]], shape=(4, 1), type='ket', dtype=Dense\n",
      "Qobj data =\n",
      "[[ 0.00455181-0.0204084j ]\n",
      " [ 0.00542571-0.03097222j]\n",
      " [ 0.01611009-0.0057778j ]\n",
      " [-0.23173175-0.97189585j]]\n",
      "\n",
      "********* Summary *****************\n",
      "Final fidelity error 0.0008597980462669019\n",
      "Final gradient normal 0.0\n",
      "Terminated due to Goal achieved\n",
      "Number of iterations 216\n",
      "Completed in 0:00:00.828031 HH:MM:SS.US\n"
     ]
    }
   ],
   "source": [
    "result.stats.report()\n",
    "print(\"Final evolution\\n{}\\n\".format(result.evo_full_final))\n",
    "print(\"********* Summary *****************\")\n",
    "print(\"Final fidelity error {}\".format(result.fid_err))\n",
    "print(\"Final gradient normal {}\".format(result.grad_norm_final))\n",
    "print(\"Terminated due to {}\".format(result.termination_reason))\n",
    "print(\"Number of iterations {}\".format(result.num_iter))\n",
    "print(\n",
    "    \"Completed in {} HH:MM:SS.US\".format(datetime.timedelta(seconds=result.wall_time))\n",
    ")"
   ]
  },
  {
   "cell_type": "markdown",
   "id": "21a6683a",
   "metadata": {},
   "source": [
    "### Plot the initial and final amplitudes"
   ]
  },
  {
   "cell_type": "markdown",
   "id": "b16fd063",
   "metadata": {},
   "source": [
    "Here the (random) starting pulse is plotted along with the pulse (control amplitudes) that was found to produce the target gate evolution to within the specified error."
   ]
  },
  {
   "cell_type": "code",
   "execution_count": 9,
   "id": "fe7247e0",
   "metadata": {
    "execution": {
     "iopub.execute_input": "2025-04-16T02:25:05.765995Z",
     "iopub.status.busy": "2025-04-16T02:25:05.765812Z",
     "iopub.status.idle": "2025-04-16T02:25:05.969982Z",
     "shell.execute_reply": "2025-04-16T02:25:05.969429Z"
    }
   },
   "outputs": [
    {
     "data": {
      "image/png": "[encoded data removed]",
      "text/plain": [
       "<Figure size 640x480 with 2 Axes>"
      ]
     },
     "metadata": {},
     "output_type": "display_data"
    }
   ],
   "source": [
    "fig1 = plt.figure()\n",
    "ax1 = fig1.add_subplot(2, 1, 1)\n",
    "ax1.set_title(\"Initial Control amps\")\n",
    "ax1.set_ylabel(\"Control amplitude\")\n",
    "ax1.step(\n",
    "    result.time,\n",
    "    np.hstack((result.initial_amps[:, 0], result.initial_amps[-1, 0])),\n",
    "    where=\"post\",\n",
    ")\n",
    "\n",
    "ax2 = fig1.add_subplot(2, 1, 2)\n",
    "ax2.set_title(\"Optimised Control Amplitudes\")\n",
    "ax2.set_xlabel(\"Time\")\n",
    "ax2.set_ylabel(\"Control amplitude\")\n",
    "ax2.step(\n",
    "    result.time,\n",
    "    np.hstack((result.final_amps[:, 0], result.final_amps[-1, 0])),\n",
    "    where=\"post\",\n",
    ")\n",
    "plt.tight_layout()\n",
    "plt.show()"
   ]
  },
  {
   "cell_type": "markdown",
   "id": "ca9e594c",
   "metadata": {},
   "source": [
    "### Versions"
   ]
  },
  {
   "cell_type": "code",
   "execution_count": 10,
   "id": "09171379",
   "metadata": {
    "execution": {
     "iopub.execute_input": "2025-04-16T02:25:05.971571Z",
     "iopub.status.busy": "2025-04-16T02:25:05.971394Z",
     "iopub.status.idle": "2025-04-16T02:25:06.572299Z",
     "shell.execute_reply": "2025-04-16T02:25:06.571793Z"
    }
   },
   "outputs": [
    {
     "name": "stdout",
     "output_type": "stream",
     "text": [
      "\n",
      "QuTiP: Quantum Toolbox in Python\n",
      "================================\n",
      "Copyright (c) QuTiP team 2011 and later.\n",
      "Current admin team: Alexander Pitchford, Nathan Shammah, Shahnawaz Ahmed, Neill Lambert, Eric Giguère, Boxi Li, Simon Cross, Asier Galicia, Paul Menczel, and Patrick Hopf.\n",
      "Board members: Daniel Burgarth, Robert Johansson, Anton F. Kockum, Franco Nori and Will Zeng.\n",
      "Original developers: R. J. Johansson & P. D. Nation.\n",
      "Previous lead developers: Chris Granade & A. Grimsmo.\n",
      "Currently developed through wide collaboration. See https://github.com/qutip for details.\n",
      "\n",
      "QuTiP Version:      5.2.0.dev0+4033695\n",
      "Numpy Version:      2.2.4\n",
      "Scipy Version:      1.15.2\n",
      "Cython Version:     3.0.12\n",
      "Matplotlib Version: 3.10.1\n",
      "Python Version:     3.12.0\n",
      "Number of CPUs:     4\n",
      "BLAS Info:          Generic\n",
      "INTEL MKL Ext:      None\n",
      "Platform Info:      Linux (x86_64)\n",
      "Installation path:  /home/runner/miniconda3/envs/test-environment-v5/lib/python3.12/site-packages/qutip\n",
      "\n",
      "Installed QuTiP family packages\n",
      "-------------------------------\n",
      "\n"
     ]
    },
    {
     "name": "stdout",
     "output_type": "stream",
     "text": [
      "qutip-jax: 0.1.1.dev5\n",
      "qutip-qtrl: 0.2.0.dev0+acb71a0\n",
      "qutip-qip: 0.5.0.dev0+d58a82d\n",
      "\n",
      "================================================================================\n",
      "Please cite QuTiP in your publication.\n",
      "================================================================================\n",
      "For your convenience a bibtex reference can be easily generated using `qutip.cite()`\n"
     ]
    }
   ],
   "source": [
    "about()"
   ]
  },
  {
   "cell_type": "markdown",
   "id": "d1c2d5d0",
   "metadata": {},
   "source": [
    "### References"
   ]
  },
  {
   "cell_type": "markdown",
   "id": "081b0fcb",
   "metadata": {},
   "source": [
    "[1] Doria, P., Calarco, T. & Montangero, S.: Optimal Control Technique for Many-Body Quantum Dynamics. Phys. Rev. Lett. 106, 1–4 (2011).\n",
    "\n",
    "[2] Caneva, T., Calarco, T. & Montangero, S.: Chopped random-basis quantum optimization. Phys. Rev. A - At. Mol. Opt. Phys. 84, (2011)."
   ]
  }
 ],
 "metadata": {
  "jupytext": {
   "cell_metadata_filter": "-all",
   "notebook_metadata_filter": "-jupytext.cell_metadata_filter,-jupytext.notebook_metadata_filter"
  },
  "kernelspec": {
   "display_name": "Python 3",
   "language": "python",
   "name": "python3"
  },
  "language_info": {
   "codemirror_mode": {
    "name": "ipython",
    "version": 3
   },
   "file_extension": ".py",
   "mimetype": "text/x-python",
   "name": "python",
   "nbconvert_exporter": "python",
   "pygments_lexer": "ipython3",
   "version": "3.12.0"
  }
 },
 "nbformat": 4,
 "nbformat_minor": 5
}
