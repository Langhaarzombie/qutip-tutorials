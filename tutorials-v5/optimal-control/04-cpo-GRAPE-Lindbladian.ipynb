{
 "cells": [
  {
   "cell_type": "markdown",
   "id": "802a9898",
   "metadata": {},
   "source": [
    "# Calculation of control fields for Lindbladian dynamics using L-BFGS-B algorithm"
   ]
  },
  {
   "cell_type": "markdown",
   "id": "3b2f1704",
   "metadata": {},
   "source": [
    "Christian Arenz (christianarenz.ca@gmail.com), Alexander Pitchford (alex.pitchford@gmail.com)"
   ]
  },
  {
   "cell_type": "markdown",
   "id": "84dd4cbf",
   "metadata": {},
   "source": [
    "Example to demonstrate using the control library to determine control pulses using the ctrlpulseoptim.optimize_pulse function. The (default) L-BFGS-B algorithm is used to optimise the pulse to\n",
    "minimise the fidelity error, which in this case is given by the 'Trace difference' norm.\n",
    "\n",
    "This in an open quantum system example, with a single qubit subject to an amplitude damping channel. The target evolution is the Hadamard gate. For a $d$ dimensional quantum system in general we represent the Lindbladian\n",
    "as a $d^2 \\times d^2$ dimensional matrix by creating the Liouvillian superoperator. Here done for the Lindbladian that describes the amplitude damping channel. Similarly the control generators acting on the qubit are also converted to superoperators. The initial and target maps also need to be in superoperator form. \n",
    "\n",
    "The user can experiment with the strength of the amplitude damping by changing the gamma variable value. If the rate is sufficiently small then the target fidelity can be achieved within the given tolerence. The drift Hamiltonian and control generators can also be swapped and changed to experiment with controllable and uncontrollable setups.\n",
    "\n",
    "The user can experiment with the timeslicing, by means of changing the\n",
    "number of timeslots and/or total time for the evolution.\n",
    "Different initial (starting) pulse types can be tried.\n",
    "The initial and final pulses are displayed in a plot"
   ]
  },
  {
   "cell_type": "code",
   "execution_count": 1,
   "id": "541dc721",
   "metadata": {
    "execution": {
     "iopub.execute_input": "2025-04-16T02:25:12.723292Z",
     "iopub.status.busy": "2025-04-16T02:25:12.722911Z",
     "iopub.status.idle": "2025-04-16T02:25:13.738095Z",
     "shell.execute_reply": "2025-04-16T02:25:13.737510Z"
    }
   },
   "outputs": [],
   "source": [
    "import datetime\n",
    "\n",
    "import matplotlib.pyplot as plt\n",
    "import numpy as np\n",
    "\n",
    "import qutip_qtrl.pulseoptim as cpo\n",
    "from qutip import (\n",
    "    gates,\n",
    "    identity,\n",
    "    liouvillian,\n",
    "    sigmam,\n",
    "    sigmax,\n",
    "    sigmay,\n",
    "    sigmaz,\n",
    "    sprepost,\n",
    "    about,\n",
    ")\n",
    "\n",
    "example_name = \"Lindblad\"\n",
    "\n",
    "%matplotlib inline"
   ]
  },
  {
   "cell_type": "markdown",
   "id": "5cfebc74",
   "metadata": {},
   "source": [
    "### Defining the physics"
   ]
  },
  {
   "cell_type": "code",
   "execution_count": 2,
   "id": "afe1c4a6",
   "metadata": {
    "execution": {
     "iopub.execute_input": "2025-04-16T02:25:13.739896Z",
     "iopub.status.busy": "2025-04-16T02:25:13.739636Z",
     "iopub.status.idle": "2025-04-16T02:25:13.744713Z",
     "shell.execute_reply": "2025-04-16T02:25:13.744326Z"
    }
   },
   "outputs": [],
   "source": [
    "Sx = sigmax()\n",
    "Sy = sigmay()\n",
    "Sz = sigmaz()\n",
    "Sm = sigmam()\n",
    "Si = identity(2)\n",
    "# Hadamard gate\n",
    "had_gate = gates.hadamard_transform(1)\n",
    "\n",
    "# Hamiltonian\n",
    "Del = 0.1  # Tunnelling term\n",
    "wq = 1.0  # Energy of the 2-level system.\n",
    "H0 = 0.5 * wq * sigmaz() + 0.5 * Del * sigmax()\n",
    "\n",
    "# Amplitude damping#\n",
    "# Damping rate:\n",
    "gamma = 0.1\n",
    "L0 = liouvillian(H0, [np.sqrt(gamma) * Sm])\n",
    "\n",
    "# sigma X control\n",
    "LC_x = liouvillian(Sx)\n",
    "# sigma Y control\n",
    "LC_y = liouvillian(Sy)\n",
    "# sigma Z control\n",
    "LC_z = liouvillian(Sz)\n",
    "\n",
    "# Drift\n",
    "drift = L0\n",
    "# Controls - different combinations can be tried\n",
    "ctrls = [LC_z, LC_x]\n",
    "# Number of ctrls\n",
    "n_ctrls = len(ctrls)\n",
    "\n",
    "# start point for the map evolution\n",
    "E0 = sprepost(Si, Si)\n",
    "\n",
    "# target for map evolution\n",
    "E_targ = sprepost(had_gate, had_gate)"
   ]
  },
  {
   "cell_type": "markdown",
   "id": "72d30561",
   "metadata": {},
   "source": [
    "### Defining the time evolution parameters"
   ]
  },
  {
   "cell_type": "code",
   "execution_count": 3,
   "id": "146ca9d0",
   "metadata": {
    "execution": {
     "iopub.execute_input": "2025-04-16T02:25:13.746076Z",
     "iopub.status.busy": "2025-04-16T02:25:13.745917Z",
     "iopub.status.idle": "2025-04-16T02:25:13.748301Z",
     "shell.execute_reply": "2025-04-16T02:25:13.747832Z"
    }
   },
   "outputs": [],
   "source": [
    "# Number of time slots\n",
    "n_ts = 10\n",
    "# Time allowed for the evolution\n",
    "evo_time = 2"
   ]
  },
  {
   "cell_type": "markdown",
   "id": "ddc6100d",
   "metadata": {},
   "source": [
    "### Set the conditions which will cause the pulse optimisation to terminate"
   ]
  },
  {
   "cell_type": "code",
   "execution_count": 4,
   "id": "96058cb9",
   "metadata": {
    "execution": {
     "iopub.execute_input": "2025-04-16T02:25:13.749744Z",
     "iopub.status.busy": "2025-04-16T02:25:13.749446Z",
     "iopub.status.idle": "2025-04-16T02:25:13.751983Z",
     "shell.execute_reply": "2025-04-16T02:25:13.751512Z"
    }
   },
   "outputs": [],
   "source": [
    "# Fidelity error target\n",
    "fid_err_targ = 1e-3\n",
    "# Maximum iterations for the optisation algorithm\n",
    "max_iter = 200\n",
    "# Maximum (elapsed) time allowed in seconds\n",
    "max_wall_time = 30\n",
    "# Minimum gradient (sum of gradients squared)\n",
    "# as this tends to 0 -> local minima has been found\n",
    "min_grad = 1e-20"
   ]
  },
  {
   "cell_type": "markdown",
   "id": "a07ffd6f",
   "metadata": {},
   "source": [
    "### Set the initial pulse type"
   ]
  },
  {
   "cell_type": "code",
   "execution_count": 5,
   "id": "731d74be",
   "metadata": {
    "execution": {
     "iopub.execute_input": "2025-04-16T02:25:13.753214Z",
     "iopub.status.busy": "2025-04-16T02:25:13.753059Z",
     "iopub.status.idle": "2025-04-16T02:25:13.755348Z",
     "shell.execute_reply": "2025-04-16T02:25:13.754947Z"
    }
   },
   "outputs": [],
   "source": [
    "# pulse type alternatives: RND|ZERO|LIN|SINE|SQUARE|SAW|TRIANGLE|\n",
    "p_type = \"RND\""
   ]
  },
  {
   "cell_type": "markdown",
   "id": "3e008730",
   "metadata": {},
   "source": [
    "### Give an extension for output files"
   ]
  },
  {
   "cell_type": "code",
   "execution_count": 6,
   "id": "b4f7120f",
   "metadata": {
    "execution": {
     "iopub.execute_input": "2025-04-16T02:25:13.756717Z",
     "iopub.status.busy": "2025-04-16T02:25:13.756564Z",
     "iopub.status.idle": "2025-04-16T02:25:13.758990Z",
     "shell.execute_reply": "2025-04-16T02:25:13.758514Z"
    }
   },
   "outputs": [],
   "source": [
    "# Set to None to suppress output files\n",
    "f_ext = \"{}_n_ts{}_ptype{}.txt\".format(example_name, n_ts, p_type)"
   ]
  },
  {
   "cell_type": "markdown",
   "id": "848ba206",
   "metadata": {},
   "source": [
    "### Run the optimisation"
   ]
  },
  {
   "cell_type": "code",
   "execution_count": 7,
   "id": "bd1a6a32",
   "metadata": {
    "execution": {
     "iopub.execute_input": "2025-04-16T02:25:13.760429Z",
     "iopub.status.busy": "2025-04-16T02:25:13.760061Z",
     "iopub.status.idle": "2025-04-16T02:25:14.598479Z",
     "shell.execute_reply": "2025-04-16T02:25:14.597994Z"
    }
   },
   "outputs": [],
   "source": [
    "# Note that this call will take the defaults\n",
    "#    dyn_type='GEN_MAT'\n",
    "# This means that matrices that describe the dynamics are assumed to be\n",
    "# general, i.e. the propagator can be calculated using:\n",
    "# expm(combined_dynamics*dt)\n",
    "#    prop_type='FRECHET'\n",
    "# and the propagators and their gradients will be calculated using the\n",
    "# Frechet method, i.e. an exact gradent\n",
    "#    fid_type='TRACEDIFF'\n",
    "# and that the fidelity error, i.e. distance from the target, is give\n",
    "# by the trace of the difference between the target and evolved operators\n",
    "result = cpo.optimize_pulse(\n",
    "    drift,\n",
    "    ctrls,\n",
    "    E0,\n",
    "    E_targ,\n",
    "    n_ts,\n",
    "    evo_time,\n",
    "    fid_err_targ=fid_err_targ,\n",
    "    min_grad=min_grad,\n",
    "    max_iter=max_iter,\n",
    "    max_wall_time=max_wall_time,\n",
    "    out_file_ext=f_ext,\n",
    "    init_pulse_type=p_type,\n",
    "    gen_stats=True,\n",
    ")"
   ]
  },
  {
   "cell_type": "markdown",
   "id": "76d0464e",
   "metadata": {},
   "source": [
    "### Report the results"
   ]
  },
  {
   "cell_type": "code",
   "execution_count": 8,
   "id": "6dfdc658",
   "metadata": {
    "execution": {
     "iopub.execute_input": "2025-04-16T02:25:14.600700Z",
     "iopub.status.busy": "2025-04-16T02:25:14.600510Z",
     "iopub.status.idle": "2025-04-16T02:25:14.606647Z",
     "shell.execute_reply": "2025-04-16T02:25:14.606219Z"
    }
   },
   "outputs": [
    {
     "name": "stdout",
     "output_type": "stream",
     "text": [
      "\n",
      "------------------------------------\n",
      "---- Control optimisation stats ----\n",
      "**** Timings (HH:MM:SS.US) ****\n",
      "Total wall time elapsed during optimisation: 0:00:00.833410\n",
      "Wall time computing Hamiltonians: 0:00:00.015455 (1.85%)\n",
      "Wall time computing propagators: 0:00:00.725999 (87.11%)\n",
      "Wall time computing forward propagation: 0:00:00.003129 (0.38%)\n",
      "Wall time computing onward propagation: 0:00:00.002902 (0.35%)\n",
      "Wall time computing gradient: 0:00:00.055225 (6.63%)\n",
      "\n",
      "**** Iterations and function calls ****\n",
      "Number of iterations: 200\n",
      "Number of fidelity function calls: 249\n",
      "Number of times fidelity is computed: 249\n",
      "Number of gradient function calls: 249\n",
      "Number of times gradients are computed: 249\n",
      "Number of times timeslot evolution is recomputed: 249\n",
      "\n",
      "**** Control amplitudes ****\n",
      "Number of control amplitude updates: 248\n",
      "Mean number of updates per iteration: 1.24\n",
      "Number of timeslot values changed: 2480\n",
      "Mean number of timeslot changes per update: 10.0\n",
      "Number of amplitude values changed: 4960\n",
      "Mean number of amplitude changes per update: 20.0\n",
      "------------------------------------\n",
      "Final evolution\n",
      "Quantum object: dims=[[[2], [2]], [[2], [2]]], shape=(4, 4), type='super', dtype=Dense, isherm=False\n",
      "Qobj data =\n",
      "[[ 0.49935321-2.44830714e-17j  0.4357622 -1.18394496e-03j\n",
      "   0.4357622 +1.18394496e-03j  0.4985896 +4.74942943e-17j]\n",
      " [ 0.44144869+8.32628387e-04j -0.43630293-1.58061061e-03j\n",
      "   0.43719632-8.09969276e-04j -0.43908082+1.25978750e-03j]\n",
      " [ 0.44144869-8.32628387e-04j  0.43719632+8.09969276e-04j\n",
      "  -0.43630293+1.58061061e-03j -0.43908082-1.25978750e-03j]\n",
      " [ 0.50064679+4.13241454e-17j -0.4357622 +1.18394496e-03j\n",
      "  -0.4357622 -1.18394496e-03j  0.5014104 -5.63916715e-17j]]\n",
      "\n",
      "********* Summary *****************\n",
      "Initial fidelity error 0.8743987901822398\n",
      "Final fidelity error 0.0058511641174127\n",
      "Final gradient normal 7.54700692548697e-05\n",
      "Terminated due to Iteration or fidelity function call limit reached\n",
      "Number of iterations 200\n",
      "Completed in 0:00:00.833410 HH:MM:SS.US\n"
     ]
    }
   ],
   "source": [
    "result.stats.report()\n",
    "print(\"Final evolution\\n{}\\n\".format(result.evo_full_final))\n",
    "print(\"********* Summary *****************\")\n",
    "print(\"Initial fidelity error {}\".format(result.initial_fid_err))\n",
    "print(\"Final fidelity error {}\".format(result.fid_err))\n",
    "print(\"Final gradient normal {}\".format(result.grad_norm_final))\n",
    "print(\"Terminated due to {}\".format(result.termination_reason))\n",
    "print(\"Number of iterations {}\".format(result.num_iter))\n",
    "print(\n",
    "    \"Completed in {} HH:MM:SS.US\".format(datetime.timedelta(seconds=result.wall_time))\n",
    ")"
   ]
  },
  {
   "cell_type": "markdown",
   "id": "04a9ede6",
   "metadata": {},
   "source": [
    "### Plot the initial and final amplitudes"
   ]
  },
  {
   "cell_type": "code",
   "execution_count": 9,
   "id": "9ba91fcf",
   "metadata": {
    "execution": {
     "iopub.execute_input": "2025-04-16T02:25:14.609117Z",
     "iopub.status.busy": "2025-04-16T02:25:14.608463Z",
     "iopub.status.idle": "2025-04-16T02:25:14.849036Z",
     "shell.execute_reply": "2025-04-16T02:25:14.848509Z"
    }
   },
   "outputs": [
    {
     "data": {
      "image/png": "[encoded data removed]",
      "text/plain": [
       "<Figure size 640x480 with 2 Axes>"
      ]
     },
     "metadata": {},
     "output_type": "display_data"
    }
   ],
   "source": [
    "fig1 = plt.figure()\n",
    "ax1 = fig1.add_subplot(2, 1, 1)\n",
    "ax1.set_title(\"Initial control amps\")\n",
    "ax1.set_xlabel(\"Time\")\n",
    "ax1.set_ylabel(\"Control amplitude\")\n",
    "for j in range(n_ctrls):\n",
    "    ax1.step(\n",
    "        result.time,\n",
    "        np.hstack((result.initial_amps[:, j], result.initial_amps[-1, j])),\n",
    "        where=\"post\",\n",
    "    )\n",
    "\n",
    "ax2 = fig1.add_subplot(2, 1, 2)\n",
    "ax2.set_title(\"Optimised Control Sequences\")\n",
    "ax2.set_xlabel(\"Time\")\n",
    "ax2.set_ylabel(\"Control amplitude\")\n",
    "for j in range(n_ctrls):\n",
    "    ax2.step(\n",
    "        result.time,\n",
    "        np.hstack((result.final_amps[:, j], result.final_amps[-1, j])),\n",
    "        where=\"post\",\n",
    "    )\n",
    "fig1.tight_layout()"
   ]
  },
  {
   "cell_type": "markdown",
   "id": "80930427",
   "metadata": {},
   "source": [
    "### Versions"
   ]
  },
  {
   "cell_type": "code",
   "execution_count": 10,
   "id": "a5194230",
   "metadata": {
    "execution": {
     "iopub.execute_input": "2025-04-16T02:25:14.850806Z",
     "iopub.status.busy": "2025-04-16T02:25:14.850470Z",
     "iopub.status.idle": "2025-04-16T02:25:15.437163Z",
     "shell.execute_reply": "2025-04-16T02:25:15.436660Z"
    }
   },
   "outputs": [
    {
     "name": "stdout",
     "output_type": "stream",
     "text": [
      "\n",
      "QuTiP: Quantum Toolbox in Python\n",
      "================================\n",
      "Copyright (c) QuTiP team 2011 and later.\n",
      "Current admin team: Alexander Pitchford, Nathan Shammah, Shahnawaz Ahmed, Neill Lambert, Eric Giguère, Boxi Li, Simon Cross, Asier Galicia, Paul Menczel, and Patrick Hopf.\n",
      "Board members: Daniel Burgarth, Robert Johansson, Anton F. Kockum, Franco Nori and Will Zeng.\n",
      "Original developers: R. J. Johansson & P. D. Nation.\n",
      "Previous lead developers: Chris Granade & A. Grimsmo.\n",
      "Currently developed through wide collaboration. See https://github.com/qutip for details.\n",
      "\n",
      "QuTiP Version:      5.2.0.dev0+4033695\n",
      "Numpy Version:      2.2.4\n",
      "Scipy Version:      1.15.2\n",
      "Cython Version:     3.0.12\n",
      "Matplotlib Version: 3.10.1\n",
      "Python Version:     3.12.0\n",
      "Number of CPUs:     4\n",
      "BLAS Info:          Generic\n",
      "INTEL MKL Ext:      None\n",
      "Platform Info:      Linux (x86_64)\n",
      "Installation path:  /home/runner/miniconda3/envs/test-environment-v5/lib/python3.12/site-packages/qutip\n",
      "\n",
      "Installed QuTiP family packages\n",
      "-------------------------------\n",
      "\n"
     ]
    },
    {
     "name": "stdout",
     "output_type": "stream",
     "text": [
      "qutip-jax: 0.1.1.dev5\n",
      "qutip-qtrl: 0.2.0.dev0+acb71a0\n",
      "qutip-qip: 0.5.0.dev0+d58a82d\n",
      "\n",
      "================================================================================\n",
      "Please cite QuTiP in your publication.\n",
      "================================================================================\n",
      "For your convenience a bibtex reference can be easily generated using `qutip.cite()`\n"
     ]
    }
   ],
   "source": [
    "about()"
   ]
  },
  {
   "cell_type": "code",
   "execution_count": null,
   "id": "7879221c",
   "metadata": {},
   "outputs": [],
   "source": []
  }
 ],
 "metadata": {
  "jupytext": {
   "cell_metadata_filter": "-all",
   "notebook_metadata_filter": "-jupytext.cell_metadata_filter,-jupytext.notebook_metadata_filter"
  },
  "kernelspec": {
   "display_name": "Python 3",
   "language": "python",
   "name": "python3"
  },
  "language_info": {
   "codemirror_mode": {
    "name": "ipython",
    "version": 3
   },
   "file_extension": ".py",
   "mimetype": "text/x-python",
   "name": "python",
   "nbconvert_exporter": "python",
   "pygments_lexer": "ipython3",
   "version": "3.12.0"
  }
 },
 "nbformat": 4,
 "nbformat_minor": 5
}
