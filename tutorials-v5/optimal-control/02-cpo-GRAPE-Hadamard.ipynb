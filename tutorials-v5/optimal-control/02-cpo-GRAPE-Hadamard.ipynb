{
 "cells": [
  {
   "cell_type": "markdown",
   "id": "9abfb0c6",
   "metadata": {},
   "source": [
    "# Calculation of control fields for Hadamard gate on single qubit using L-BFGS-B algorithm"
   ]
  },
  {
   "cell_type": "markdown",
   "id": "6feb4bfb",
   "metadata": {},
   "source": [
    "Alexander Pitchford (agp1@aber.ac.uk)"
   ]
  },
  {
   "cell_type": "markdown",
   "id": "133b57d2",
   "metadata": {},
   "source": [
    "Example to demonstrate using the control library to determine control\n",
    "pulses using the ctrlpulseoptim.optimize_pulse_unitary function.\n",
    "The (default) L-BFGS-B algorithm is used to optimise the pulse to\n",
    "minimise the fidelity error, which is equivalent maximising the fidelity\n",
    "to an optimal value of 1.\n",
    "\n",
    "The system in this example is a single qubit in a constant field in z\n",
    "with a variable control field in x\n",
    "The target evolution is the Hadamard gate irrespective of global phase\n",
    "\n",
    "The user can experiment with the timeslicing, by means of changing the\n",
    "number of timeslots and/or total time for the evolution.\n",
    "Different initial (starting) pulse types can be tried.\n",
    "The initial and final pulses are displayed in a plot\n",
    "\n",
    "An in depth discussion of using methods of this type can be found in [1]"
   ]
  },
  {
   "cell_type": "code",
   "execution_count": 1,
   "id": "7b88090b",
   "metadata": {
    "execution": {
     "iopub.execute_input": "2025-04-16T02:28:44.853184Z",
     "iopub.status.busy": "2025-04-16T02:28:44.853015Z",
     "iopub.status.idle": "2025-04-16T02:28:45.850430Z",
     "shell.execute_reply": "2025-04-16T02:28:45.849902Z"
    }
   },
   "outputs": [],
   "source": [
    "import datetime\n",
    "\n",
    "import matplotlib.pyplot as plt\n",
    "import numpy as np\n",
    "\n",
    "import qutip_qtrl.pulseoptim as cpo\n",
    "from qutip import gates, identity, sigmax, sigmaz, about\n",
    "\n",
    "example_name = \"Hadamard\"\n",
    "\n",
    "%matplotlib inline"
   ]
  },
  {
   "cell_type": "markdown",
   "id": "9d1f667e",
   "metadata": {},
   "source": [
    "### Defining the physics"
   ]
  },
  {
   "cell_type": "markdown",
   "id": "37a19014",
   "metadata": {},
   "source": [
    "The dynamics of the system are governed by the combined Hamiltonian:\n",
    "H(t) = H_d + sum(u1(t)*Hc1 + u2(t)*Hc2 + ....)\n",
    "That is the time-dependent Hamiltonian has a constant part (called here the drift) and time vary parts, which are the control Hamiltonians scaled by some functions u_j(t) known as control amplitudes\n",
    "In this case the drift is simply a rotation about z and the (time-varying) control is a rotation about x\n",
    "In theory this system is fully controllable (irrespective of global phase) and so any unitary target could be chosen; we have chosen the Hadamard gate."
   ]
  },
  {
   "cell_type": "code",
   "execution_count": 2,
   "id": "74e04f77",
   "metadata": {
    "execution": {
     "iopub.execute_input": "2025-04-16T02:28:45.852586Z",
     "iopub.status.busy": "2025-04-16T02:28:45.852139Z",
     "iopub.status.idle": "2025-04-16T02:28:45.855533Z",
     "shell.execute_reply": "2025-04-16T02:28:45.855017Z"
    }
   },
   "outputs": [],
   "source": [
    "# Drift Hamiltonian\n",
    "H_d = sigmaz()\n",
    "# The (single) control Hamiltonian\n",
    "H_c = [sigmax()]\n",
    "# start point for the gate evolution\n",
    "U_0 = identity(2)\n",
    "# Target for the gate evolution Hadamard gate\n",
    "U_targ = gates.hadamard_transform(1)"
   ]
  },
  {
   "cell_type": "markdown",
   "id": "bffa8121",
   "metadata": {},
   "source": [
    "### Defining the time evolution parameters"
   ]
  },
  {
   "cell_type": "markdown",
   "id": "72c84b0c",
   "metadata": {},
   "source": [
    "To solve the evolution the control amplitudes are considered constant within piecewise timeslots, hence the evolution during the timeslot can be calculated using U(t_k) = expm(-i*H(t_k)*dt). Combining these for all the timeslots gives the approximation to the evolution from the identity at t=0 to U(T) at the t=evo_time\n",
    "The number of timeslots and evo_time have to be chosen such that the timeslot durations (dt) are small compared with the dynamics of the system."
   ]
  },
  {
   "cell_type": "code",
   "execution_count": 3,
   "id": "07a091aa",
   "metadata": {
    "execution": {
     "iopub.execute_input": "2025-04-16T02:28:45.857424Z",
     "iopub.status.busy": "2025-04-16T02:28:45.857007Z",
     "iopub.status.idle": "2025-04-16T02:28:45.859736Z",
     "shell.execute_reply": "2025-04-16T02:28:45.859250Z"
    }
   },
   "outputs": [],
   "source": [
    "# Number of time slots\n",
    "n_ts = 10\n",
    "# Time allowed for the evolution\n",
    "evo_time = 10"
   ]
  },
  {
   "cell_type": "markdown",
   "id": "680e7be6",
   "metadata": {},
   "source": [
    "### Set the conditions which will cause the pulse optimisation to terminate"
   ]
  },
  {
   "cell_type": "markdown",
   "id": "aef00a12",
   "metadata": {},
   "source": [
    "At each iteration the fidelity of the evolution is tested by comparaing the calculated evolution U(T) with the target U_targ. For unitary systems such as this one this is typically:\n",
    "f = normalise(overlap(U(T), U_targ))\n",
    "For details of the normalisation see [1] or the source code.\n",
    "The maximum fidelity (for a unitary system) calculated this way would be 1, and hence the error is calculated as fid_err = 1 - fidelity. As such the optimisation is considered completed when the fid_err falls below such a target value.\n",
    "\n",
    "In some cases the optimisation either gets stuck in some local minima, or the fid_err_targ is just not achievable, therefore some limits are set to the time/effort allowed to find a solution.\n",
    "\n",
    "The algorithm uses gradients to direct its search for the minimum fidelity error. If the sum of all the gradients falls below the min_grad, then it is assumed some local minima has been found."
   ]
  },
  {
   "cell_type": "code",
   "execution_count": 4,
   "id": "9741a337",
   "metadata": {
    "execution": {
     "iopub.execute_input": "2025-04-16T02:28:45.861483Z",
     "iopub.status.busy": "2025-04-16T02:28:45.861044Z",
     "iopub.status.idle": "2025-04-16T02:28:45.863864Z",
     "shell.execute_reply": "2025-04-16T02:28:45.863370Z"
    }
   },
   "outputs": [],
   "source": [
    "# Fidelity error target\n",
    "fid_err_targ = 1e-10\n",
    "# Maximum iterations for the optisation algorithm\n",
    "max_iter = 200\n",
    "# Maximum (elapsed) time allowed in seconds\n",
    "max_wall_time = 120\n",
    "# Minimum gradient (sum of gradients squared)\n",
    "# as this tends to 0 -> local minima has been found\n",
    "min_grad = 1e-20"
   ]
  },
  {
   "cell_type": "markdown",
   "id": "6aa2a230",
   "metadata": {},
   "source": [
    "### Set the initial pulse type"
   ]
  },
  {
   "cell_type": "markdown",
   "id": "912f594b",
   "metadata": {},
   "source": [
    "The control amplitudes must be set to some initial values. Typically these are just random values for each control in each timeslot. These do however result in erratic optimised pulses. For this example, a solution will be found for any initial pulse, and so it can be interesting to look at the other initial pulse alternatives."
   ]
  },
  {
   "cell_type": "code",
   "execution_count": 5,
   "id": "86a9b931",
   "metadata": {
    "execution": {
     "iopub.execute_input": "2025-04-16T02:28:45.865361Z",
     "iopub.status.busy": "2025-04-16T02:28:45.865049Z",
     "iopub.status.idle": "2025-04-16T02:28:45.867408Z",
     "shell.execute_reply": "2025-04-16T02:28:45.866950Z"
    }
   },
   "outputs": [],
   "source": [
    "# pulse type alternatives: RND|ZERO|LIN|SINE|SQUARE|SAW|TRIANGLE|\n",
    "p_type = \"RND\""
   ]
  },
  {
   "cell_type": "markdown",
   "id": "97b8011b",
   "metadata": {},
   "source": [
    "### Give an extension for output files"
   ]
  },
  {
   "cell_type": "code",
   "execution_count": 6,
   "id": "556d0522",
   "metadata": {
    "execution": {
     "iopub.execute_input": "2025-04-16T02:28:45.868852Z",
     "iopub.status.busy": "2025-04-16T02:28:45.868534Z",
     "iopub.status.idle": "2025-04-16T02:28:45.870921Z",
     "shell.execute_reply": "2025-04-16T02:28:45.870450Z"
    }
   },
   "outputs": [],
   "source": [
    "# Set to None to suppress output files\n",
    "f_ext = \"{}_n_ts{}_ptype{}.txt\".format(example_name, n_ts, p_type)"
   ]
  },
  {
   "cell_type": "markdown",
   "id": "681f0516",
   "metadata": {},
   "source": [
    "### Run the optimisation"
   ]
  },
  {
   "cell_type": "markdown",
   "id": "c981abbf",
   "metadata": {},
   "source": [
    "In this step the L-BFGS-B algorithm is invoked. At each iteration the gradient of the fidelity error w.r.t. each control amplitude in each timeslot is calculated using an exact gradient method (see [1]). Using the gradients the algorithm will determine a set of piecewise control amplitudes that reduce the fidelity error. With repeated iterations an approximation of the Hessian matrix (the 2nd order differentials) is calculated, which enables a quasi 2nd order Newton method for finding a minima.  The algorithm continues until one of the termination conditions defined above has been reached."
   ]
  },
  {
   "cell_type": "code",
   "execution_count": 7,
   "id": "ecdd93af",
   "metadata": {
    "execution": {
     "iopub.execute_input": "2025-04-16T02:28:45.872394Z",
     "iopub.status.busy": "2025-04-16T02:28:45.872028Z",
     "iopub.status.idle": "2025-04-16T02:28:45.885459Z",
     "shell.execute_reply": "2025-04-16T02:28:45.885054Z"
    }
   },
   "outputs": [],
   "source": [
    "result = cpo.optimize_pulse_unitary(\n",
    "    H_d,\n",
    "    H_c,\n",
    "    U_0,\n",
    "    U_targ,\n",
    "    n_ts,\n",
    "    evo_time,\n",
    "    fid_err_targ=fid_err_targ,\n",
    "    min_grad=min_grad,\n",
    "    max_iter=max_iter,\n",
    "    max_wall_time=max_wall_time,\n",
    "    out_file_ext=f_ext,\n",
    "    init_pulse_type=p_type,\n",
    "    gen_stats=True,\n",
    ")"
   ]
  },
  {
   "cell_type": "markdown",
   "id": "31e51be0",
   "metadata": {},
   "source": [
    "### Report the results"
   ]
  },
  {
   "cell_type": "markdown",
   "id": "eef11725",
   "metadata": {},
   "source": [
    "Firstly the performace statistics are reported, which gives a breadown of the processing times. The times given are those that are associated with calculating the fidelity and the gradients. Any remaining processing time can be assumed to be used by the optimisation algorithm (L-BFGS-B) itself. In this example it can be seen that the majority of time is spent calculating the propagators, i.e. exponentiating the combined Hamiltonian.\n",
    "\n",
    "The optimised U(T) is reported as the 'final evolution', which is essentially the string representation of the Qobj that holds the full time evolution at the point when the optimisation is terminated.\n",
    "\n",
    "The key information is in the summary (given) last. Here the final fidelity is reported and the reasonn for termination of the algorithm."
   ]
  },
  {
   "cell_type": "code",
   "execution_count": 8,
   "id": "b516c355",
   "metadata": {
    "execution": {
     "iopub.execute_input": "2025-04-16T02:28:45.887284Z",
     "iopub.status.busy": "2025-04-16T02:28:45.887110Z",
     "iopub.status.idle": "2025-04-16T02:28:45.892504Z",
     "shell.execute_reply": "2025-04-16T02:28:45.892051Z"
    }
   },
   "outputs": [
    {
     "name": "stdout",
     "output_type": "stream",
     "text": [
      "\n",
      "------------------------------------\n",
      "---- Control optimisation stats ----\n",
      "**** Timings (HH:MM:SS.US) ****\n",
      "Total wall time elapsed during optimisation: 0:00:00.008985\n",
      "Wall time computing Hamiltonians: 0:00:00.000355 (3.95%)\n",
      "Wall time computing propagators: 0:00:00.006143 (68.37%)\n",
      "Wall time computing forward propagation: 0:00:00.000066 (0.73%)\n",
      "Wall time computing onward propagation: 0:00:00.000065 (0.72%)\n",
      "Wall time computing gradient: 0:00:00.000330 (3.68%)\n",
      "\n",
      "**** Iterations and function calls ****\n",
      "Number of iterations: 5\n",
      "Number of fidelity function calls: 7\n",
      "Number of times fidelity is computed: 7\n",
      "Number of gradient function calls: 6\n",
      "Number of times gradients are computed: 6\n",
      "Number of times timeslot evolution is recomputed: 7\n",
      "\n",
      "**** Control amplitudes ****\n",
      "Number of control amplitude updates: 6\n",
      "Mean number of updates per iteration: 1.2\n",
      "Number of timeslot values changed: 60\n",
      "Mean number of timeslot changes per update: 10.0\n",
      "Number of amplitude values changed: 60\n",
      "Mean number of amplitude changes per update: 10.0\n",
      "------------------------------------\n",
      "Final evolution\n",
      "Quantum object: dims=[[2], [2]], shape=(2, 2), type='oper', dtype=Dense, isherm=False\n",
      "Qobj data =\n",
      "[[-4.48791463e-08-0.70710677j  5.23839129e-08-0.70710679j]\n",
      " [-5.23839128e-08-0.70710679j -4.48791463e-08+0.70710677j]]\n",
      "\n",
      "********* Summary *****************\n",
      "Final fidelity error 2.886579864025407e-15\n",
      "Final gradient normal 4.521759447104883e-05\n",
      "Terminated due to Goal achieved\n",
      "Number of iterations 5\n",
      "Completed in 0:00:00.008985 HH:MM:SS.US\n"
     ]
    }
   ],
   "source": [
    "result.stats.report()\n",
    "print(\"Final evolution\\n{}\\n\".format(result.evo_full_final))\n",
    "print(\"********* Summary *****************\")\n",
    "print(\"Final fidelity error {}\".format(result.fid_err))\n",
    "print(\"Final gradient normal {}\".format(result.grad_norm_final))\n",
    "print(\"Terminated due to {}\".format(result.termination_reason))\n",
    "print(\"Number of iterations {}\".format(result.num_iter))\n",
    "print(\n",
    "    \"Completed in {} HH:MM:SS.US\".format(datetime.timedelta(seconds=result.wall_time))\n",
    ")"
   ]
  },
  {
   "cell_type": "markdown",
   "id": "92038f0d",
   "metadata": {},
   "source": [
    "### Plot the initial and final amplitudes"
   ]
  },
  {
   "cell_type": "markdown",
   "id": "5254914f",
   "metadata": {},
   "source": [
    "Here the (random) starting pulse is plotted along with the pulse (control amplitudes) that was found to produce the target gate evolution to within the specified error."
   ]
  },
  {
   "cell_type": "code",
   "execution_count": 9,
   "id": "f4257f55",
   "metadata": {
    "execution": {
     "iopub.execute_input": "2025-04-16T02:28:45.894377Z",
     "iopub.status.busy": "2025-04-16T02:28:45.894159Z",
     "iopub.status.idle": "2025-04-16T02:28:46.084349Z",
     "shell.execute_reply": "2025-04-16T02:28:46.083828Z"
    }
   },
   "outputs": [
    {
     "data": {
      "image/png": "[encoded data removed]",
      "text/plain": [
       "<Figure size 640x480 with 2 Axes>"
      ]
     },
     "metadata": {},
     "output_type": "display_data"
    }
   ],
   "source": [
    "fig1 = plt.figure()\n",
    "ax1 = fig1.add_subplot(2, 1, 1)\n",
    "ax1.set_title(\"Initial control amps\")\n",
    "# ax1.set_xlabel(\"Time\")\n",
    "ax1.set_ylabel(\"Control amplitude\")\n",
    "ax1.step(\n",
    "    result.time,\n",
    "    np.hstack((result.initial_amps[:, 0], result.initial_amps[-1, 0])),\n",
    "    where=\"post\",\n",
    ")\n",
    "\n",
    "ax2 = fig1.add_subplot(2, 1, 2)\n",
    "ax2.set_title(\"Optimised Control Sequences\")\n",
    "ax2.set_xlabel(\"Time\")\n",
    "ax2.set_ylabel(\"Control amplitude\")\n",
    "ax2.step(\n",
    "    result.time,\n",
    "    np.hstack((result.final_amps[:, 0], result.final_amps[-1, 0])),\n",
    "    where=\"post\",\n",
    ")\n",
    "plt.tight_layout()\n",
    "plt.show()"
   ]
  },
  {
   "cell_type": "markdown",
   "id": "88326a66",
   "metadata": {},
   "source": [
    "### Versions"
   ]
  },
  {
   "cell_type": "code",
   "execution_count": 10,
   "id": "e3ff3470",
   "metadata": {
    "execution": {
     "iopub.execute_input": "2025-04-16T02:28:46.085942Z",
     "iopub.status.busy": "2025-04-16T02:28:46.085735Z",
     "iopub.status.idle": "2025-04-16T02:28:46.667006Z",
     "shell.execute_reply": "2025-04-16T02:28:46.666483Z"
    }
   },
   "outputs": [
    {
     "name": "stdout",
     "output_type": "stream",
     "text": [
      "\n",
      "QuTiP: Quantum Toolbox in Python\n",
      "================================\n",
      "Copyright (c) QuTiP team 2011 and later.\n",
      "Current admin team: Alexander Pitchford, Nathan Shammah, Shahnawaz Ahmed, Neill Lambert, Eric Giguère, Boxi Li, Simon Cross, Asier Galicia, Paul Menczel, and Patrick Hopf.\n",
      "Board members: Daniel Burgarth, Robert Johansson, Anton F. Kockum, Franco Nori and Will Zeng.\n",
      "Original developers: R. J. Johansson & P. D. Nation.\n",
      "Previous lead developers: Chris Granade & A. Grimsmo.\n",
      "Currently developed through wide collaboration. See https://github.com/qutip for details.\n",
      "\n",
      "QuTiP Version:      5.2.0.dev0+4033695\n",
      "Numpy Version:      2.2.4\n",
      "Scipy Version:      1.15.2\n",
      "Cython Version:     3.0.12\n",
      "Matplotlib Version: 3.10.1\n",
      "Python Version:     3.12.0\n",
      "Number of CPUs:     4\n",
      "BLAS Info:          Generic\n",
      "INTEL MKL Ext:      None\n",
      "Platform Info:      Linux (x86_64)\n",
      "Installation path:  /home/runner/miniconda3/envs/test-environment-v5/lib/python3.12/site-packages/qutip\n",
      "\n",
      "Installed QuTiP family packages\n",
      "-------------------------------\n",
      "\n"
     ]
    },
    {
     "name": "stdout",
     "output_type": "stream",
     "text": [
      "qutip-jax: 0.1.1.dev5\n",
      "qutip-qtrl: 0.2.0.dev0+acb71a0\n",
      "qutip-qip: 0.5.0.dev0+d58a82d\n",
      "\n",
      "================================================================================\n",
      "Please cite QuTiP in your publication.\n",
      "================================================================================\n",
      "For your convenience a bibtex reference can be easily generated using `qutip.cite()`\n"
     ]
    }
   ],
   "source": [
    "about()"
   ]
  },
  {
   "cell_type": "markdown",
   "id": "731a7255",
   "metadata": {},
   "source": [
    "### References"
   ]
  },
  {
   "cell_type": "markdown",
   "id": "45c0bc76",
   "metadata": {},
   "source": [
    "[1] Machnes et.al., DYNAMO - Dynamic Framework for Quantum Optimal Control. arXiv.1011.4874"
   ]
  }
 ],
 "metadata": {
  "jupytext": {
   "cell_metadata_filter": "-all",
   "notebook_metadata_filter": "-jupytext.cell_metadata_filter,-jupytext.notebook_metadata_filter"
  },
  "kernelspec": {
   "display_name": "Python 3",
   "language": "python",
   "name": "python3"
  },
  "language_info": {
   "codemirror_mode": {
    "name": "ipython",
    "version": 3
   },
   "file_extension": ".py",
   "mimetype": "text/x-python",
   "name": "python",
   "nbconvert_exporter": "python",
   "pygments_lexer": "ipython3",
   "version": "3.12.0"
  }
 },
 "nbformat": 4,
 "nbformat_minor": 5
}
