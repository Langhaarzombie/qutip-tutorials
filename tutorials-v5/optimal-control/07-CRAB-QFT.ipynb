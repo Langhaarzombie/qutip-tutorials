{
 "cells": [
  {
   "cell_type": "markdown",
   "id": "f253320f",
   "metadata": {},
   "source": [
    "# Calculation of control fields for QFT gate on two qubits using the CRAB algorithm"
   ]
  },
  {
   "cell_type": "markdown",
   "id": "d14edf5f",
   "metadata": {},
   "source": [
    "Alexander Pitchford (agp1@aber.ac.uk)"
   ]
  },
  {
   "cell_type": "raw",
   "id": "e5e16025",
   "metadata": {},
   "source": [
    "Example to demonstrate using the CRAB [1][2] algorithm in the control library \n",
    "to determine control pulses using the ctrlpulseoptim.create_pulse_optimizer function to \n",
    "generate an Optimizer object, through which the configuration can be\n",
    "manipulated before running the optmisation algorithm. In this case it is\n",
    "demonstrated by modifying the CRAB pulse parameters to show how pulse constraints\n",
    "for controls can be applied.\n",
    "\n",
    "The system in this example is two qubits in constant fields in x, y and z\n",
    "with a variable independant controls fields in x and y acting on each qubit\n",
    "The target evolution is the QFT gate. The user can experiment with the\n",
    "different:\n",
    "    phase options - phase_option = SU or PSU\n",
    "    propagtor computer type prop_type = DIAG or FRECHET\n",
    "    fidelity measures - fid_type = UNIT or TRACEDIFF\n",
    "\n",
    "The user can experiment with the timeslicing, by means of changing the\n",
    "number of timeslots and/or total time for the evolution.\n",
    "Different guess and ramping pulse parameters can be tried.\n",
    "The initial and final pulses are displayed in a plot"
   ]
  },
  {
   "cell_type": "code",
   "execution_count": 1,
   "id": "f1ff29f8",
   "metadata": {
    "execution": {
     "iopub.execute_input": "2025-04-16T02:25:16.685749Z",
     "iopub.status.busy": "2025-04-16T02:25:16.685575Z",
     "iopub.status.idle": "2025-04-16T02:25:17.684808Z",
     "shell.execute_reply": "2025-04-16T02:25:17.684289Z"
    }
   },
   "outputs": [],
   "source": [
    "import datetime\n",
    "\n",
    "import matplotlib.pyplot as plt\n",
    "import numpy as np\n",
    "\n",
    "import qutip_qtrl.pulsegen as pulsegen\n",
    "import qutip_qtrl.pulseoptim as cpo\n",
    "from qutip import identity, sigmax, sigmay, sigmaz, tensor, about\n",
    "from qutip_qip.algorithms import qft\n",
    "\n",
    "example_name = \"QFT\"\n",
    "%matplotlib inline"
   ]
  },
  {
   "cell_type": "markdown",
   "id": "653caa55",
   "metadata": {},
   "source": [
    "### Defining the physics"
   ]
  },
  {
   "cell_type": "code",
   "execution_count": 2,
   "id": "400d7243",
   "metadata": {
    "execution": {
     "iopub.execute_input": "2025-04-16T02:25:17.686738Z",
     "iopub.status.busy": "2025-04-16T02:25:17.686507Z",
     "iopub.status.idle": "2025-04-16T02:25:17.690652Z",
     "shell.execute_reply": "2025-04-16T02:25:17.690178Z"
    }
   },
   "outputs": [],
   "source": [
    "Sx = sigmax()\n",
    "Sy = sigmay()\n",
    "Sz = sigmaz()\n",
    "Si = 0.5 * identity(2)\n",
    "\n",
    "# Drift Hamiltonian\n",
    "H_d = 0.5 * (tensor(Sx, Sx) + tensor(Sy, Sy) + tensor(Sz, Sz))\n",
    "# The (four) control Hamiltonians\n",
    "H_c = [tensor(Sx, Si), tensor(Sy, Si), tensor(Si, Sx), tensor(Si, Sy)]\n",
    "n_ctrls = len(H_c)\n",
    "# start point for the gate evolution\n",
    "U_0 = identity(4)\n",
    "# Target for the gate evolution - Quantum Fourier Transform gate\n",
    "U_targ = qft(2)"
   ]
  },
  {
   "cell_type": "markdown",
   "id": "49e7b372",
   "metadata": {},
   "source": [
    "### Defining the time evolution parameters"
   ]
  },
  {
   "cell_type": "code",
   "execution_count": 3,
   "id": "583e352e",
   "metadata": {
    "execution": {
     "iopub.execute_input": "2025-04-16T02:25:17.692086Z",
     "iopub.status.busy": "2025-04-16T02:25:17.691917Z",
     "iopub.status.idle": "2025-04-16T02:25:17.694330Z",
     "shell.execute_reply": "2025-04-16T02:25:17.693859Z"
    }
   },
   "outputs": [],
   "source": [
    "# Number of time slots\n",
    "n_ts = 200\n",
    "# Time allowed for the evolution\n",
    "evo_time = 10"
   ]
  },
  {
   "cell_type": "markdown",
   "id": "e7b8df56",
   "metadata": {},
   "source": [
    "### Set the conditions which will cause the pulse optimisation to terminate"
   ]
  },
  {
   "cell_type": "code",
   "execution_count": 4,
   "id": "c0da8bae",
   "metadata": {
    "execution": {
     "iopub.execute_input": "2025-04-16T02:25:17.695682Z",
     "iopub.status.busy": "2025-04-16T02:25:17.695526Z",
     "iopub.status.idle": "2025-04-16T02:25:17.698031Z",
     "shell.execute_reply": "2025-04-16T02:25:17.697554Z"
    }
   },
   "outputs": [],
   "source": [
    "# Fidelity error target\n",
    "fid_err_targ = 1e-3\n",
    "# Maximum iterations for the optisation algorithm\n",
    "max_iter = 20000\n",
    "# Maximum (elapsed) time allowed in seconds\n",
    "max_wall_time = 300"
   ]
  },
  {
   "cell_type": "markdown",
   "id": "3b8ce45d",
   "metadata": {},
   "source": [
    "### Give an extension for output files"
   ]
  },
  {
   "cell_type": "code",
   "execution_count": 5,
   "id": "918f0999",
   "metadata": {
    "execution": {
     "iopub.execute_input": "2025-04-16T02:25:17.699570Z",
     "iopub.status.busy": "2025-04-16T02:25:17.699203Z",
     "iopub.status.idle": "2025-04-16T02:25:17.701524Z",
     "shell.execute_reply": "2025-04-16T02:25:17.701142Z"
    }
   },
   "outputs": [],
   "source": [
    "# Set to None to suppress output files\n",
    "f_ext = \"{}_n_ts{}.txt\".format(example_name, n_ts)"
   ]
  },
  {
   "cell_type": "markdown",
   "id": "af3e3f86",
   "metadata": {},
   "source": [
    "### Create the optimiser objects"
   ]
  },
  {
   "cell_type": "code",
   "execution_count": 6,
   "id": "9de6d3fe",
   "metadata": {
    "execution": {
     "iopub.execute_input": "2025-04-16T02:25:17.702870Z",
     "iopub.status.busy": "2025-04-16T02:25:17.702692Z",
     "iopub.status.idle": "2025-04-16T02:25:17.705858Z",
     "shell.execute_reply": "2025-04-16T02:25:17.705421Z"
    }
   },
   "outputs": [],
   "source": [
    "optim = cpo.create_pulse_optimizer(\n",
    "    H_d,\n",
    "    H_c,\n",
    "    U_0,\n",
    "    U_targ,\n",
    "    n_ts,\n",
    "    evo_time,\n",
    "    fid_err_targ=fid_err_targ,\n",
    "    max_iter=max_iter,\n",
    "    max_wall_time=max_wall_time,\n",
    "    alg=\"CRAB\",\n",
    "    dyn_type=\"UNIT\",\n",
    "    prop_type=\"DIAG\",\n",
    "    fid_type=\"UNIT\",\n",
    "    fid_params={\"phase_option\": \"PSU\"},\n",
    "    gen_stats=True,\n",
    ")"
   ]
  },
  {
   "cell_type": "markdown",
   "id": "e77a0760",
   "metadata": {},
   "source": [
    "### Configure the pulses for each of the controls"
   ]
  },
  {
   "cell_type": "code",
   "execution_count": 7,
   "id": "77bd629a",
   "metadata": {
    "execution": {
     "iopub.execute_input": "2025-04-16T02:25:17.707181Z",
     "iopub.status.busy": "2025-04-16T02:25:17.707031Z",
     "iopub.status.idle": "2025-04-16T02:25:17.713477Z",
     "shell.execute_reply": "2025-04-16T02:25:17.712996Z"
    }
   },
   "outputs": [],
   "source": [
    "dyn = optim.dynamics\n",
    "\n",
    "# Control 1\n",
    "crab_pgen = optim.pulse_generator[0]\n",
    "# Start from a ramped pulse\n",
    "guess_pgen = pulsegen.create_pulse_gen(\"LIN\", dyn=dyn, pulse_params={\"scaling\": 3.0})\n",
    "crab_pgen.guess_pulse = guess_pgen.gen_pulse()\n",
    "crab_pgen.scaling = 0.0\n",
    "# Add some higher frequency components\n",
    "crab_pgen.num_coeffs = 5\n",
    "\n",
    "# Control 2\n",
    "crab_pgen = optim.pulse_generator[1]\n",
    "# Apply a ramping pulse that will force the start and end to zero\n",
    "ramp_pgen = pulsegen.create_pulse_gen(\n",
    "    \"GAUSSIAN_EDGE\", dyn=dyn, pulse_params={\"decay_time\": evo_time / 50.0}\n",
    ")\n",
    "crab_pgen.ramping_pulse = ramp_pgen.gen_pulse()\n",
    "\n",
    "# Control 3\n",
    "crab_pgen = optim.pulse_generator[2]\n",
    "# Add bounds\n",
    "crab_pgen.scaling = 0.5\n",
    "crab_pgen.lbound = -2.0\n",
    "crab_pgen.ubound = 2.0\n",
    "\n",
    "\n",
    "# Control 4\n",
    "crab_pgen = optim.pulse_generator[3]\n",
    "# Start from a triangular pulse with small signal\n",
    "guess_pgen = pulsegen.PulseGenTriangle(dyn=dyn)\n",
    "guess_pgen.num_waves = 1\n",
    "guess_pgen.scaling = 2.0\n",
    "guess_pgen.offset = 2.0\n",
    "crab_pgen.guess_pulse = guess_pgen.gen_pulse()\n",
    "crab_pgen.scaling = 0.1\n",
    "\n",
    "init_amps = np.zeros([n_ts, n_ctrls])\n",
    "for j in range(dyn.num_ctrls):\n",
    "    pgen = optim.pulse_generator[j]\n",
    "    pgen.init_pulse()\n",
    "    init_amps[:, j] = pgen.gen_pulse()\n",
    "\n",
    "dyn.initialize_controls(init_amps)"
   ]
  },
  {
   "cell_type": "markdown",
   "id": "74de700d",
   "metadata": {},
   "source": [
    "### Run the pulse optimisation"
   ]
  },
  {
   "cell_type": "code",
   "execution_count": 8,
   "id": "0b096bb2",
   "metadata": {
    "execution": {
     "iopub.execute_input": "2025-04-16T02:25:17.714763Z",
     "iopub.status.busy": "2025-04-16T02:25:17.714601Z",
     "iopub.status.idle": "2025-04-16T02:28:32.445201Z",
     "shell.execute_reply": "2025-04-16T02:28:32.444738Z"
    }
   },
   "outputs": [
    {
     "name": "stdout",
     "output_type": "stream",
     "text": [
      "Initial amplitudes output to file: ctrl_amps_initial_QFT_n_ts200.txt\n",
      "***********************************\n",
      "Starting pulse optimisation\n"
     ]
    },
    {
     "name": "stdout",
     "output_type": "stream",
     "text": [
      "Final amplitudes output to file: ctrl_amps_final_QFT_n_ts200.txt\n"
     ]
    }
   ],
   "source": [
    "# Save initial amplitudes to a text file\n",
    "if f_ext is not None:\n",
    "    pulsefile = \"ctrl_amps_initial_\" + f_ext\n",
    "    dyn.save_amps(pulsefile)\n",
    "    print(\"Initial amplitudes output to file: \" + pulsefile)\n",
    "\n",
    "print(\"***********************************\")\n",
    "print(\"Starting pulse optimisation\")\n",
    "result = optim.run_optimization()\n",
    "\n",
    "# Save final amplitudes to a text file\n",
    "if f_ext is not None:\n",
    "    pulsefile = \"ctrl_amps_final_\" + f_ext\n",
    "    dyn.save_amps(pulsefile)\n",
    "    print(\"Final amplitudes output to file: \" + pulsefile)"
   ]
  },
  {
   "cell_type": "markdown",
   "id": "ef1cf8d5",
   "metadata": {},
   "source": [
    "### Report the results"
   ]
  },
  {
   "cell_type": "code",
   "execution_count": 9,
   "id": "70510116",
   "metadata": {
    "execution": {
     "iopub.execute_input": "2025-04-16T02:28:32.446640Z",
     "iopub.status.busy": "2025-04-16T02:28:32.446476Z",
     "iopub.status.idle": "2025-04-16T02:28:32.450719Z",
     "shell.execute_reply": "2025-04-16T02:28:32.450318Z"
    }
   },
   "outputs": [
    {
     "name": "stdout",
     "output_type": "stream",
     "text": [
      "\n",
      "------------------------------------\n",
      "---- Control optimisation stats ----\n",
      "**** Timings (HH:MM:SS.US) ****\n",
      "Total wall time elapsed during optimisation: 0:03:14.722403\n",
      "Wall time computing Hamiltonians: 0:00:16.919115 (8.69%)\n",
      "Wall time computing propagators: 0:02:52.162436 (88.41%)\n",
      "Wall time computing forward propagation: 0:00:01.500259 (0.77%)\n",
      "Wall time computing onward propagation: 0:00:01.427924 (0.73%)\n",
      "Wall time computing gradient: 0:00:00 (0.00%)\n",
      "\n",
      "**** Iterations and function calls ****\n",
      "Number of iterations: 7485\n",
      "Number of fidelity function calls: 9020\n",
      "Number of times fidelity is computed: 9020\n",
      "Number of gradient function calls: 0\n",
      "Number of times gradients are computed: 0\n",
      "Number of times timeslot evolution is recomputed: 9020\n",
      "\n",
      "**** Control amplitudes ****\n",
      "Number of control amplitude updates: 9019\n",
      "Mean number of updates per iteration: 1.204943219772879\n",
      "Number of timeslot values changed: 1803799\n",
      "Mean number of timeslot changes per update: 199.99988912296263\n",
      "Number of amplitude values changed: 7198996\n",
      "Mean number of amplitude changes per update: 798.2033484865284\n",
      "------------------------------------\n",
      "Final evolution\n",
      "Quantum object: dims=[[4], [4]], shape=(4, 4), type='oper', dtype=Dense, isherm=False\n",
      "Qobj data =\n",
      "[[ 0.19621177-0.43725653j  0.20017369-0.44285248j  0.19110856-0.46919639j\n",
      "   0.1867399 -0.49252443j]\n",
      " [ 0.20578268-0.46385233j  0.46646374+0.19924731j -0.19811241+0.47987775j\n",
      "  -0.42357978-0.19040901j]\n",
      " [ 0.18157747-0.46641134j -0.15854545+0.45742326j  0.19490682-0.47353676j\n",
      "  -0.19623151+0.46301711j]\n",
      " [ 0.18980939-0.47567284j -0.48033319-0.20354752j -0.17640627+0.42480134j\n",
      "   0.46693184+0.18961932j]]\n",
      "\n",
      "********* Summary *****************\n",
      "Initial fidelity error 0.6639772962686581\n",
      "Final fidelity error 0.0009889774989637612\n",
      "Terminated due to Goal achieved\n",
      "Number of iterations 7485\n",
      "Completed in 0:03:14.722403 HH:MM:SS.US\n"
     ]
    }
   ],
   "source": [
    "result.stats.report()\n",
    "print(\"Final evolution\\n{}\\n\".format(result.evo_full_final))\n",
    "print(\"********* Summary *****************\")\n",
    "print(\"Initial fidelity error {}\".format(result.initial_fid_err))\n",
    "print(\"Final fidelity error {}\".format(result.fid_err))\n",
    "print(\"Terminated due to {}\".format(result.termination_reason))\n",
    "print(\"Number of iterations {}\".format(result.num_iter))\n",
    "print(\n",
    "    \"Completed in {} HH:MM:SS.US\".format(datetime.timedelta(seconds=result.wall_time))\n",
    ")"
   ]
  },
  {
   "cell_type": "markdown",
   "id": "b9d07c08",
   "metadata": {},
   "source": [
    "### Plot the initial and final amplitudes"
   ]
  },
  {
   "cell_type": "code",
   "execution_count": 10,
   "id": "0cfd5ce6",
   "metadata": {
    "execution": {
     "iopub.execute_input": "2025-04-16T02:28:32.452058Z",
     "iopub.status.busy": "2025-04-16T02:28:32.451904Z",
     "iopub.status.idle": "2025-04-16T02:28:32.641372Z",
     "shell.execute_reply": "2025-04-16T02:28:32.640854Z"
    }
   },
   "outputs": [
    {
     "data": {
      "image/png": "[encoded data removed]",
      "text/plain": [
       "<Figure size 640x480 with 2 Axes>"
      ]
     },
     "metadata": {},
     "output_type": "display_data"
    }
   ],
   "source": [
    "fig1 = plt.figure()\n",
    "ax1 = fig1.add_subplot(2, 1, 1)\n",
    "ax1.set_title(\"Initial Control amps\")\n",
    "ax1.set_xlabel(\"Time\")\n",
    "ax1.set_ylabel(\"Control amplitude\")\n",
    "for j in range(n_ctrls):\n",
    "    ax1.step(\n",
    "        result.time,\n",
    "        np.hstack((result.initial_amps[:, j], result.initial_amps[-1, j])),\n",
    "        where=\"post\",\n",
    "    )\n",
    "ax2 = fig1.add_subplot(2, 1, 2)\n",
    "ax2.set_title(\"Optimised Control Amplitudes\")\n",
    "ax2.set_xlabel(\"Time\")\n",
    "ax2.set_ylabel(\"Control amplitude\")\n",
    "for j in range(n_ctrls):\n",
    "    ax2.step(\n",
    "        result.time,\n",
    "        np.hstack((result.final_amps[:, j], result.final_amps[-1, j])),\n",
    "        where=\"post\",\n",
    "        label=\"u{}\".format(j),\n",
    "    )\n",
    "ax2.legend(loc=8, ncol=n_ctrls)\n",
    "plt.tight_layout()\n",
    "plt.show()"
   ]
  },
  {
   "cell_type": "markdown",
   "id": "f720ce69",
   "metadata": {},
   "source": [
    "### Versions"
   ]
  },
  {
   "cell_type": "code",
   "execution_count": 11,
   "id": "f7ab4566",
   "metadata": {
    "execution": {
     "iopub.execute_input": "2025-04-16T02:28:32.642816Z",
     "iopub.status.busy": "2025-04-16T02:28:32.642631Z",
     "iopub.status.idle": "2025-04-16T02:28:33.208538Z",
     "shell.execute_reply": "2025-04-16T02:28:33.208026Z"
    }
   },
   "outputs": [
    {
     "name": "stdout",
     "output_type": "stream",
     "text": [
      "\n",
      "QuTiP: Quantum Toolbox in Python\n",
      "================================\n",
      "Copyright (c) QuTiP team 2011 and later.\n",
      "Current admin team: Alexander Pitchford, Nathan Shammah, Shahnawaz Ahmed, Neill Lambert, Eric Giguère, Boxi Li, Simon Cross, Asier Galicia, Paul Menczel, and Patrick Hopf.\n",
      "Board members: Daniel Burgarth, Robert Johansson, Anton F. Kockum, Franco Nori and Will Zeng.\n",
      "Original developers: R. J. Johansson & P. D. Nation.\n",
      "Previous lead developers: Chris Granade & A. Grimsmo.\n",
      "Currently developed through wide collaboration. See https://github.com/qutip for details.\n",
      "\n",
      "QuTiP Version:      5.2.0.dev0+4033695\n",
      "Numpy Version:      2.2.4\n",
      "Scipy Version:      1.15.2\n",
      "Cython Version:     3.0.12\n",
      "Matplotlib Version: 3.10.1\n",
      "Python Version:     3.12.0\n",
      "Number of CPUs:     4\n",
      "BLAS Info:          Generic\n",
      "INTEL MKL Ext:      None\n",
      "Platform Info:      Linux (x86_64)\n",
      "Installation path:  /home/runner/miniconda3/envs/test-environment-v5/lib/python3.12/site-packages/qutip\n",
      "\n",
      "Installed QuTiP family packages\n",
      "-------------------------------\n",
      "\n"
     ]
    },
    {
     "name": "stdout",
     "output_type": "stream",
     "text": [
      "qutip-jax: 0.1.1.dev5\n",
      "qutip-qtrl: 0.2.0.dev0+acb71a0\n",
      "qutip-qip: 0.5.0.dev0+d58a82d\n",
      "\n",
      "================================================================================\n",
      "Please cite QuTiP in your publication.\n",
      "================================================================================\n",
      "For your convenience a bibtex reference can be easily generated using `qutip.cite()`\n"
     ]
    }
   ],
   "source": [
    "about()"
   ]
  },
  {
   "cell_type": "raw",
   "id": "0f45c409",
   "metadata": {},
   "source": [
    "References:\n",
    "\n",
    "3.  Doria, P., Calarco, T. & Montangero, S. \n",
    "    Optimal Control Technique for Many-Body Quantum Dynamics. \n",
    "    Phys. Rev. Lett. 106, 1–4 (2011).\n",
    "\n",
    "4.  Caneva, T., Calarco, T. & Montangero, S. \n",
    "    Chopped random-basis quantum optimization. \n",
    "    Phys. Rev. A - At. Mol. Opt. Phys. 84, (2011)."
   ]
  },
  {
   "cell_type": "raw",
   "id": "19bfab7c",
   "metadata": {},
   "source": []
  }
 ],
 "metadata": {
  "jupytext": {
   "cell_metadata_filter": "-all",
   "notebook_metadata_filter": "-jupytext.cell_metadata_filter,-jupytext.notebook_metadata_filter"
  },
  "kernelspec": {
   "display_name": "Python 3",
   "language": "python",
   "name": "python3"
  },
  "language_info": {
   "codemirror_mode": {
    "name": "ipython",
    "version": 3
   },
   "file_extension": ".py",
   "mimetype": "text/x-python",
   "name": "python",
   "nbconvert_exporter": "python",
   "pygments_lexer": "ipython3",
   "version": "3.12.0"
  }
 },
 "nbformat": 4,
 "nbformat_minor": 5
}
