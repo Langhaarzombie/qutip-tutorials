{
 "cells": [
  {
   "cell_type": "markdown",
   "id": "276f335c",
   "metadata": {},
   "source": [
    "# Quantum Teleportation Circuit"
   ]
  },
  {
   "cell_type": "code",
   "execution_count": 1,
   "id": "ea3931ce",
   "metadata": {
    "execution": {
     "iopub.execute_input": "2025-04-16T02:30:02.215561Z",
     "iopub.status.busy": "2025-04-16T02:30:02.215376Z",
     "iopub.status.idle": "2025-04-16T02:30:02.938615Z",
     "shell.execute_reply": "2025-04-16T02:30:02.938190Z"
    }
   },
   "outputs": [],
   "source": [
    "from math import sqrt\n",
    "\n",
    "from qutip import about, basis, tensor\n",
    "from qutip_qip.circuit import QubitCircuit\n",
    "from qutip_qip.operations import Measurement"
   ]
  },
  {
   "cell_type": "markdown",
   "id": "490c6fee",
   "metadata": {},
   "source": [
    "## Introduction \n",
    "\n",
    "This notebook introduces the basic quantum teleportation circuit (https://en.wikipedia.org/wiki/Quantum_teleportation), complete with measurements and classical control. This notebook also serves as an example on how to add measurement gates and classical controls to a circuit.\n",
    "\n",
    "We will describe the circuit that enables quantum teleportation. We will use two classical wires and three qubit wires. The first qubit wire represents the quantum state $| q0 ⟩ = | \\psi ⟩$ that needs to be transferred from Alice to Bob (so the first qubit is in the possession of Alice). "
   ]
  },
  {
   "cell_type": "code",
   "execution_count": 2,
   "id": "c97d43eb",
   "metadata": {
    "execution": {
     "iopub.execute_input": "2025-04-16T02:30:02.940547Z",
     "iopub.status.busy": "2025-04-16T02:30:02.940169Z",
     "iopub.status.idle": "2025-04-16T02:30:02.942764Z",
     "shell.execute_reply": "2025-04-16T02:30:02.942385Z"
    }
   },
   "outputs": [],
   "source": [
    "teleportation = QubitCircuit(\n",
    "    3, num_cbits=2, input_states=[r\"\\psi\", \"0\", \"0\", \"c0\", \"c1\"]\n",
    ")"
   ]
  },
  {
   "cell_type": "markdown",
   "id": "f974c900",
   "metadata": {},
   "source": [
    "First, Alice and Bob need to create the shared EPR pair ($\\frac{| 00 ⟩ + | 11 ⟩} {2}$) between the second and third qubit by using the hadamard gate on Alice's qubit followed by an entangling CNOT gate.  "
   ]
  },
  {
   "cell_type": "code",
   "execution_count": 3,
   "id": "5da3c5b6",
   "metadata": {
    "execution": {
     "iopub.execute_input": "2025-04-16T02:30:02.944420Z",
     "iopub.status.busy": "2025-04-16T02:30:02.943920Z",
     "iopub.status.idle": "2025-04-16T02:30:02.946882Z",
     "shell.execute_reply": "2025-04-16T02:30:02.946406Z"
    }
   },
   "outputs": [],
   "source": [
    "teleportation.add_gate(\"SNOT\", targets=[1])\n",
    "teleportation.add_gate(\"CNOT\", targets=[2], controls=[1])"
   ]
  },
  {
   "cell_type": "markdown",
   "id": "639cd540",
   "metadata": {},
   "source": [
    "Following this, Alice makes the qubit $| q0 ⟩$ interact with Alice's EPR qubit, followed by measuring on the two qubits belonging to Alice. The measurement results for the first qubit is stored in classical register $c1$ and the second qubit is stored in classical register $c0$."
   ]
  },
  {
   "cell_type": "code",
   "execution_count": 4,
   "id": "73980dfc",
   "metadata": {
    "execution": {
     "iopub.execute_input": "2025-04-16T02:30:02.948349Z",
     "iopub.status.busy": "2025-04-16T02:30:02.948103Z",
     "iopub.status.idle": "2025-04-16T02:30:02.951002Z",
     "shell.execute_reply": "2025-04-16T02:30:02.950527Z"
    }
   },
   "outputs": [],
   "source": [
    "teleportation.add_gate(\"CNOT\", targets=[1], controls=[0])\n",
    "teleportation.add_gate(\"SNOT\", targets=[0])\n",
    "\n",
    "teleportation.add_measurement(\"M0\", targets=[0], classical_store=1)\n",
    "teleportation.add_measurement(\"M1\", targets=[1], classical_store=0)"
   ]
  },
  {
   "cell_type": "markdown",
   "id": "ccf7fded",
   "metadata": {},
   "source": [
    "Now, we apply the $X$ gate on Bob's qubit based on the classical control $c0$ and $Z$ gate based on classical control $c1$. These operations correspond to the following operations based on the state of Alice's measurement. \n",
    "\n",
    "$|00⟩ \\rightarrow $ no operation \\\n",
    "$|01⟩ \\rightarrow Z$ \\\n",
    "$|10⟩ \\rightarrow X$ \\\n",
    "$|11⟩ \\rightarrow ZX$ \n",
    "\n",
    "The final circuit mathematically must result in the third qubit taking the state $|\\psi⟩$. "
   ]
  },
  {
   "cell_type": "code",
   "execution_count": 5,
   "id": "d4d81a8b",
   "metadata": {
    "execution": {
     "iopub.execute_input": "2025-04-16T02:30:02.952296Z",
     "iopub.status.busy": "2025-04-16T02:30:02.952141Z",
     "iopub.status.idle": "2025-04-16T02:30:02.954709Z",
     "shell.execute_reply": "2025-04-16T02:30:02.954332Z"
    }
   },
   "outputs": [],
   "source": [
    "teleportation.add_gate(\"X\", targets=[2], classical_controls=[0])\n",
    "teleportation.add_gate(\"Z\", targets=[2], classical_controls=[1])"
   ]
  },
  {
   "cell_type": "markdown",
   "id": "574023cc",
   "metadata": {},
   "source": [
    "Finally, our teleportation circuit is ready to run, we can view the circuit structure using the following command. "
   ]
  },
  {
   "cell_type": "code",
   "execution_count": 6,
   "id": "247ecb7b",
   "metadata": {
    "execution": {
     "iopub.execute_input": "2025-04-16T02:30:02.956088Z",
     "iopub.status.busy": "2025-04-16T02:30:02.955932Z",
     "iopub.status.idle": "2025-04-16T02:30:02.960818Z",
     "shell.execute_reply": "2025-04-16T02:30:02.960412Z"
    }
   },
   "outputs": [
    {
     "data": {
      "text/plain": [
       "[Gate(SNOT, targets=[1], controls=None, classical controls=None, control_value=None, classical_control_value=None),\n",
       " Gate(CNOT, targets=[2], controls=[1], classical controls=None, control_value=1, classical_control_value=None),\n",
       " Gate(CNOT, targets=[1], controls=[0], classical controls=None, control_value=1, classical_control_value=None),\n",
       " Gate(SNOT, targets=[0], controls=None, classical controls=None, control_value=None, classical_control_value=None),\n",
       " Measurement(M0, target=[0], classical_store=1),\n",
       " Measurement(M1, target=[1], classical_store=0),\n",
       " Gate(X, targets=[2], controls=None, classical controls=[0], control_value=None, classical_control_value=1),\n",
       " Gate(Z, targets=[2], controls=None, classical controls=[1], control_value=None, classical_control_value=1)]"
      ]
     },
     "execution_count": 6,
     "metadata": {},
     "output_type": "execute_result"
    }
   ],
   "source": [
    "teleportation.gates"
   ]
  },
  {
   "cell_type": "markdown",
   "id": "2d20eb42",
   "metadata": {},
   "source": [
    "The circuit can also be visualized:"
   ]
  },
  {
   "cell_type": "code",
   "execution_count": 7,
   "id": "c5ea3ebf",
   "metadata": {
    "execution": {
     "iopub.execute_input": "2025-04-16T02:30:02.962330Z",
     "iopub.status.busy": "2025-04-16T02:30:02.962022Z",
     "iopub.status.idle": "2025-04-16T02:30:03.111314Z",
     "shell.execute_reply": "2025-04-16T02:30:03.110818Z"
    }
   },
   "outputs": [
    {
     "data": {
      "image/png": "[encoded data removed]",
      "text/plain": [
       "<Figure size 795.6x795.6 with 1 Axes>"
      ]
     },
     "metadata": {},
     "output_type": "display_data"
    },
    {
     "data": {
      "text/plain": []
     },
     "execution_count": 7,
     "metadata": {},
     "output_type": "execute_result"
    }
   ],
   "source": [
    "teleportation"
   ]
  },
  {
   "cell_type": "markdown",
   "id": "98f0fddd",
   "metadata": {},
   "source": [
    "The first qubit is user-specified $|\\psi ⟩$ state and the other two must be $|0⟩$. \n",
    "\n",
    "### Example 1 \n",
    "#### $|\\psi⟩ = |+ ⟩$  "
   ]
  },
  {
   "cell_type": "code",
   "execution_count": 8,
   "id": "e77c7f7b",
   "metadata": {
    "execution": {
     "iopub.execute_input": "2025-04-16T02:30:03.113029Z",
     "iopub.status.busy": "2025-04-16T02:30:03.112687Z",
     "iopub.status.idle": "2025-04-16T02:30:03.115929Z",
     "shell.execute_reply": "2025-04-16T02:30:03.115431Z"
    }
   },
   "outputs": [],
   "source": [
    "a = 1 / sqrt(2) * basis(2, 0) + 1 / sqrt(2) * basis(2, 1)\n",
    "state = tensor(a, basis(2, 0), basis(2, 0))"
   ]
  },
  {
   "cell_type": "markdown",
   "id": "1f15e95d",
   "metadata": {},
   "source": [
    "We can confirm our state is initialized correctly by observing the measurment statistics on the first qubit, followed by which we run the circuit."
   ]
  },
  {
   "cell_type": "code",
   "execution_count": 9,
   "id": "d942a1af",
   "metadata": {
    "execution": {
     "iopub.execute_input": "2025-04-16T02:30:03.117611Z",
     "iopub.status.busy": "2025-04-16T02:30:03.117298Z",
     "iopub.status.idle": "2025-04-16T02:30:03.122223Z",
     "shell.execute_reply": "2025-04-16T02:30:03.121747Z"
    }
   },
   "outputs": [
    {
     "data": {
      "text/plain": [
       "([Quantum object: dims=[[2, 2, 2], [1]], shape=(8, 1), type='ket', dtype=Dense\n",
       "  Qobj data =\n",
       "  [[1.]\n",
       "   [0.]\n",
       "   [0.]\n",
       "   [0.]\n",
       "   [0.]\n",
       "   [0.]\n",
       "   [0.]\n",
       "   [0.]],\n",
       "  Quantum object: dims=[[2, 2, 2], [1]], shape=(8, 1), type='ket', dtype=Dense\n",
       "  Qobj data =\n",
       "  [[0.]\n",
       "   [0.]\n",
       "   [0.]\n",
       "   [0.]\n",
       "   [1.]\n",
       "   [0.]\n",
       "   [0.]\n",
       "   [0.]]],\n",
       " [np.float64(0.4999999999999999), np.float64(0.4999999999999999)])"
      ]
     },
     "execution_count": 9,
     "metadata": {},
     "output_type": "execute_result"
    }
   ],
   "source": [
    "initial_measurement = Measurement(\"start\", targets=[0])\n",
    "initial_measurement.measurement_comp_basis(state)"
   ]
  },
  {
   "cell_type": "markdown",
   "id": "cc4b9ef7",
   "metadata": {},
   "source": [
    "We can run the circuit using the `QubitCircuit.run()` function which provided the initial state-vector (or density matrix) initiates one run on the circuit (including sampling any intermediate measurements) and providing the final results (any classical bits can also be explicitly set using the argument `cbits`). The results are returned as a `Result` object. The result states can be accessed through the `get_states()` function where the argument `index=0` specifies the first(only) result should be returned"
   ]
  },
  {
   "cell_type": "code",
   "execution_count": 10,
   "id": "f3b579c1",
   "metadata": {
    "execution": {
     "iopub.execute_input": "2025-04-16T02:30:03.123741Z",
     "iopub.status.busy": "2025-04-16T02:30:03.123360Z",
     "iopub.status.idle": "2025-04-16T02:30:03.128787Z",
     "shell.execute_reply": "2025-04-16T02:30:03.128297Z"
    }
   },
   "outputs": [
    {
     "name": "stdout",
     "output_type": "stream",
     "text": [
      "Quantum object: dims=[[2, 2, 2], [1]], shape=(8, 1), type='ket', dtype=Dense\n",
      "Qobj data =\n",
      "[[0.        ]\n",
      " [0.        ]\n",
      " [0.        ]\n",
      " [0.        ]\n",
      " [0.        ]\n",
      " [0.        ]\n",
      " [0.70710678]\n",
      " [0.70710678]]\n"
     ]
    }
   ],
   "source": [
    "state_final = teleportation.run(state)\n",
    "print(state_final)"
   ]
  },
  {
   "cell_type": "markdown",
   "id": "fe141a39",
   "metadata": {},
   "source": [
    "After running, we can see the measurement statistics on the last qubit to see that the qubit is teleported correctly. "
   ]
  },
  {
   "cell_type": "code",
   "execution_count": 11,
   "id": "07b04e59",
   "metadata": {
    "execution": {
     "iopub.execute_input": "2025-04-16T02:30:03.130187Z",
     "iopub.status.busy": "2025-04-16T02:30:03.129900Z",
     "iopub.status.idle": "2025-04-16T02:30:03.134543Z",
     "shell.execute_reply": "2025-04-16T02:30:03.134084Z"
    }
   },
   "outputs": [
    {
     "data": {
      "text/plain": [
       "([Quantum object: dims=[[2, 2, 2], [1]], shape=(8, 1), type='ket', dtype=Dense\n",
       "  Qobj data =\n",
       "  [[0.]\n",
       "   [0.]\n",
       "   [0.]\n",
       "   [0.]\n",
       "   [0.]\n",
       "   [0.]\n",
       "   [1.]\n",
       "   [0.]],\n",
       "  Quantum object: dims=[[2, 2, 2], [1]], shape=(8, 1), type='ket', dtype=Dense\n",
       "  Qobj data =\n",
       "  [[0.]\n",
       "   [0.]\n",
       "   [0.]\n",
       "   [0.]\n",
       "   [0.]\n",
       "   [0.]\n",
       "   [0.]\n",
       "   [1.]]],\n",
       " [np.float64(0.4999999999999999), np.float64(0.4999999999999999)])"
      ]
     },
     "execution_count": 11,
     "metadata": {},
     "output_type": "execute_result"
    }
   ],
   "source": [
    "final_measurement = Measurement(\"start\", targets=[2])\n",
    "final_measurement.measurement_comp_basis(state_final)"
   ]
  },
  {
   "cell_type": "markdown",
   "id": "3e3a7332",
   "metadata": {},
   "source": [
    "### Example 2 \n",
    "#### $|\\psi⟩ = |1 ⟩$  "
   ]
  },
  {
   "cell_type": "code",
   "execution_count": 12,
   "id": "9e1c74f1",
   "metadata": {
    "execution": {
     "iopub.execute_input": "2025-04-16T02:30:03.136026Z",
     "iopub.status.busy": "2025-04-16T02:30:03.135694Z",
     "iopub.status.idle": "2025-04-16T02:30:03.140340Z",
     "shell.execute_reply": "2025-04-16T02:30:03.139937Z"
    }
   },
   "outputs": [
    {
     "data": {
      "text/plain": [
       "([None,\n",
       "  Quantum object: dims=[[2, 2, 2], [1]], shape=(8, 1), type='ket', dtype=Dense\n",
       "  Qobj data =\n",
       "  [[0.]\n",
       "   [0.]\n",
       "   [0.]\n",
       "   [0.]\n",
       "   [1.]\n",
       "   [0.]\n",
       "   [0.]\n",
       "   [0.]]],\n",
       " [0.0, np.float64(1.0)])"
      ]
     },
     "execution_count": 12,
     "metadata": {},
     "output_type": "execute_result"
    }
   ],
   "source": [
    "state = tensor(basis(2, 1), basis(2, 0), basis(2, 0))\n",
    "initial_measurement = Measurement(\"start\", targets=[0])\n",
    "initial_measurement.measurement_comp_basis(state)"
   ]
  },
  {
   "cell_type": "code",
   "execution_count": 13,
   "id": "72c15ecc",
   "metadata": {
    "execution": {
     "iopub.execute_input": "2025-04-16T02:30:03.141727Z",
     "iopub.status.busy": "2025-04-16T02:30:03.141443Z",
     "iopub.status.idle": "2025-04-16T02:30:03.146369Z",
     "shell.execute_reply": "2025-04-16T02:30:03.145970Z"
    }
   },
   "outputs": [
    {
     "name": "stdout",
     "output_type": "stream",
     "text": [
      "Quantum object: dims=[[2, 2, 2], [1]], shape=(8, 1), type='ket', dtype=Dense\n",
      "Qobj data =\n",
      "[[0.]\n",
      " [0.]\n",
      " [0.]\n",
      " [1.]\n",
      " [0.]\n",
      " [0.]\n",
      " [0.]\n",
      " [0.]]\n"
     ]
    }
   ],
   "source": [
    "state_final = teleportation.run(state)\n",
    "print(state_final)"
   ]
  },
  {
   "cell_type": "code",
   "execution_count": 14,
   "id": "b6a04481",
   "metadata": {
    "execution": {
     "iopub.execute_input": "2025-04-16T02:30:03.147927Z",
     "iopub.status.busy": "2025-04-16T02:30:03.147608Z",
     "iopub.status.idle": "2025-04-16T02:30:03.151956Z",
     "shell.execute_reply": "2025-04-16T02:30:03.151470Z"
    }
   },
   "outputs": [
    {
     "data": {
      "text/plain": [
       "([None,\n",
       "  Quantum object: dims=[[2, 2, 2], [1]], shape=(8, 1), type='ket', dtype=Dense\n",
       "  Qobj data =\n",
       "  [[0.]\n",
       "   [0.]\n",
       "   [0.]\n",
       "   [1.]\n",
       "   [0.]\n",
       "   [0.]\n",
       "   [0.]\n",
       "   [0.]]],\n",
       " [0.0, np.float64(1.0)])"
      ]
     },
     "execution_count": 14,
     "metadata": {},
     "output_type": "execute_result"
    }
   ],
   "source": [
    "final_measurement = Measurement(\"start\", targets=[2])\n",
    "final_measurement.measurement_comp_basis(state_final)"
   ]
  },
  {
   "cell_type": "markdown",
   "id": "de956637",
   "metadata": {},
   "source": [
    "Another useful feature of the circuit module is the **QubitCircuit.run_statistics()** feature which provides the opportunity to gather all the possible output states of the circuit along with their output probabilities. Again, the results are returned as a `Result` object. The result states and respective probabilites can be accessed through the `get_results()` function. "
   ]
  },
  {
   "cell_type": "code",
   "execution_count": 15,
   "id": "306887e8",
   "metadata": {
    "execution": {
     "iopub.execute_input": "2025-04-16T02:30:03.153282Z",
     "iopub.status.busy": "2025-04-16T02:30:03.153121Z",
     "iopub.status.idle": "2025-04-16T02:30:03.163174Z",
     "shell.execute_reply": "2025-04-16T02:30:03.162742Z"
    }
   },
   "outputs": [
    {
     "data": {
      "text/plain": [
       "[np.float64(0.24999999999999994),\n",
       " np.float64(0.24999999999999994),\n",
       " np.float64(0.24999999999999994),\n",
       " np.float64(0.24999999999999994)]"
      ]
     },
     "execution_count": 15,
     "metadata": {},
     "output_type": "execute_result"
    }
   ],
   "source": [
    "results = teleportation.run_statistics(state)\n",
    "results.probabilities"
   ]
  },
  {
   "cell_type": "code",
   "execution_count": 16,
   "id": "c01a8342",
   "metadata": {
    "execution": {
     "iopub.execute_input": "2025-04-16T02:30:03.164539Z",
     "iopub.status.busy": "2025-04-16T02:30:03.164384Z",
     "iopub.status.idle": "2025-04-16T02:30:03.168623Z",
     "shell.execute_reply": "2025-04-16T02:30:03.168151Z"
    }
   },
   "outputs": [
    {
     "data": {
      "text/plain": [
       "[Quantum object: dims=[[2, 2, 2], [1]], shape=(8, 1), type='ket', dtype=Dense\n",
       " Qobj data =\n",
       " [[0.]\n",
       "  [1.]\n",
       "  [0.]\n",
       "  [0.]\n",
       "  [0.]\n",
       "  [0.]\n",
       "  [0.]\n",
       "  [0.]],\n",
       " Quantum object: dims=[[2, 2, 2], [1]], shape=(8, 1), type='ket', dtype=Dense\n",
       " Qobj data =\n",
       " [[0.]\n",
       "  [0.]\n",
       "  [0.]\n",
       "  [1.]\n",
       "  [0.]\n",
       "  [0.]\n",
       "  [0.]\n",
       "  [0.]],\n",
       " Quantum object: dims=[[2, 2, 2], [1]], shape=(8, 1), type='ket', dtype=Dense\n",
       " Qobj data =\n",
       " [[0.]\n",
       "  [0.]\n",
       "  [0.]\n",
       "  [0.]\n",
       "  [0.]\n",
       "  [1.]\n",
       "  [0.]\n",
       "  [0.]],\n",
       " Quantum object: dims=[[2, 2, 2], [1]], shape=(8, 1), type='ket', dtype=Dense\n",
       " Qobj data =\n",
       " [[0.]\n",
       "  [0.]\n",
       "  [0.]\n",
       "  [0.]\n",
       "  [0.]\n",
       "  [0.]\n",
       "  [0.]\n",
       "  [1.]]]"
      ]
     },
     "execution_count": 16,
     "metadata": {},
     "output_type": "execute_result"
    }
   ],
   "source": [
    "results.final_states"
   ]
  },
  {
   "cell_type": "code",
   "execution_count": 17,
   "id": "6bbeb729",
   "metadata": {
    "execution": {
     "iopub.execute_input": "2025-04-16T02:30:03.170064Z",
     "iopub.status.busy": "2025-04-16T02:30:03.169902Z",
     "iopub.status.idle": "2025-04-16T02:30:03.748122Z",
     "shell.execute_reply": "2025-04-16T02:30:03.747576Z"
    }
   },
   "outputs": [
    {
     "name": "stdout",
     "output_type": "stream",
     "text": [
      "\n",
      "QuTiP: Quantum Toolbox in Python\n",
      "================================\n",
      "Copyright (c) QuTiP team 2011 and later.\n",
      "Current admin team: Alexander Pitchford, Nathan Shammah, Shahnawaz Ahmed, Neill Lambert, Eric Giguère, Boxi Li, Simon Cross, Asier Galicia, Paul Menczel, and Patrick Hopf.\n",
      "Board members: Daniel Burgarth, Robert Johansson, Anton F. Kockum, Franco Nori and Will Zeng.\n",
      "Original developers: R. J. Johansson & P. D. Nation.\n",
      "Previous lead developers: Chris Granade & A. Grimsmo.\n",
      "Currently developed through wide collaboration. See https://github.com/qutip for details.\n",
      "\n",
      "QuTiP Version:      5.2.0.dev0+4033695\n",
      "Numpy Version:      2.2.4\n",
      "Scipy Version:      1.15.2\n",
      "Cython Version:     3.0.12\n",
      "Matplotlib Version: 3.10.1\n",
      "Python Version:     3.12.0\n",
      "Number of CPUs:     4\n",
      "BLAS Info:          Generic\n",
      "INTEL MKL Ext:      None\n",
      "Platform Info:      Linux (x86_64)\n",
      "Installation path:  /home/runner/miniconda3/envs/test-environment-v5/lib/python3.12/site-packages/qutip\n",
      "\n",
      "Installed QuTiP family packages\n",
      "-------------------------------\n",
      "\n"
     ]
    },
    {
     "name": "stdout",
     "output_type": "stream",
     "text": [
      "qutip-jax: 0.1.1.dev5\n",
      "qutip-qtrl: 0.2.0.dev0+acb71a0\n",
      "qutip-qip: 0.5.0.dev0+d58a82d\n",
      "\n",
      "================================================================================\n",
      "Please cite QuTiP in your publication.\n",
      "================================================================================\n",
      "For your convenience a bibtex reference can be easily generated using `qutip.cite()`\n"
     ]
    }
   ],
   "source": [
    "about()"
   ]
  }
 ],
 "metadata": {
  "jupytext": {
   "cell_metadata_filter": "-all",
   "notebook_metadata_filter": "-jupytext.cell_metadata_filter,-jupytext.notebook_metadata_filter"
  },
  "kernelspec": {
   "display_name": "Python 3 (ipykernel)",
   "language": "python",
   "name": "python3"
  },
  "language_info": {
   "codemirror_mode": {
    "name": "ipython",
    "version": 3
   },
   "file_extension": ".py",
   "mimetype": "text/x-python",
   "name": "python",
   "nbconvert_exporter": "python",
   "pygments_lexer": "ipython3",
   "version": "3.12.0"
  }
 },
 "nbformat": 4,
 "nbformat_minor": 5
}
