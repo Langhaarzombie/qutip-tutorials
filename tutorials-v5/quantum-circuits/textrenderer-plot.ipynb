{
 "cells": [
  {
   "cell_type": "markdown",
   "id": "244efd00",
   "metadata": {},
   "source": [
    "# Plotting and Customizing Quantum Circuits using TextRenderer\n",
    "Author: Rushiraj Gadhvi (gadhvirushiraj@gmail.com)\n",
    "\n",
    "This notebook serves as a comprehensive guide to plotting quantum circuits using QuTiP-QIP's TextRenderer. It explores the various customization options available to users for creating and modifying plots.\n",
    "\n",
    "- **Circuit-Level Customization**\n",
    "- **Gate-Level Customization**"
   ]
  },
  {
   "cell_type": "code",
   "execution_count": 1,
   "id": "ceb8685e",
   "metadata": {
    "execution": {
     "iopub.execute_input": "2025-04-16T02:30:04.969067Z",
     "iopub.status.busy": "2025-04-16T02:30:04.968903Z",
     "iopub.status.idle": "2025-04-16T02:30:05.673314Z",
     "shell.execute_reply": "2025-04-16T02:30:05.672821Z"
    }
   },
   "outputs": [],
   "source": [
    "import qutip\n",
    "import numpy as np\n",
    "from qutip import Qobj\n",
    "from qutip_qip.operations import rx\n",
    "from qutip_qip.circuit import QubitCircuit"
   ]
  },
  {
   "cell_type": "code",
   "execution_count": 2,
   "id": "6e02632b",
   "metadata": {
    "execution": {
     "iopub.execute_input": "2025-04-16T02:30:05.675095Z",
     "iopub.status.busy": "2025-04-16T02:30:05.674865Z",
     "iopub.status.idle": "2025-04-16T02:30:05.678199Z",
     "shell.execute_reply": "2025-04-16T02:30:05.677803Z"
    }
   },
   "outputs": [],
   "source": [
    "qc = QubitCircuit(2, num_cbits=1)\n",
    "qc.add_gate(\"CNOT\", controls=0, targets=1)\n",
    "qc.add_gate(\"SNOT\", targets=1)\n",
    "qc.add_gate(\"ISWAP\", targets=[0, 1])\n",
    "qc.add_measurement(\"M0\", targets=1, classical_store=0)"
   ]
  },
  {
   "cell_type": "code",
   "execution_count": 3,
   "id": "2cd7aa6c",
   "metadata": {
    "execution": {
     "iopub.execute_input": "2025-04-16T02:30:05.679491Z",
     "iopub.status.busy": "2025-04-16T02:30:05.679334Z",
     "iopub.status.idle": "2025-04-16T02:30:05.683754Z",
     "shell.execute_reply": "2025-04-16T02:30:05.683378Z"
    }
   },
   "outputs": [
    {
     "name": "stdout",
     "output_type": "stream",
     "text": [
      "        ┌──────┐  ┌──────┐  ┌───────┐  ┌───┐   \n",
      " q1 :───┤ CNOT ├──┤ SNOT ├──┤       ├──┤ M ├───\n",
      "        └───┬──┘  └──────┘  │       │  └─╥─┘   \n",
      "            │               │       │    ║     \n",
      " q0 :───────█───────────────┤ ISWAP ├────║─────\n",
      "                            └───────┘    ║     \n",
      "                                         ║     \n",
      " c0 :════════════════════════════════════╩═════\n",
      "                                               \n"
     ]
    }
   ],
   "source": [
    "qc.draw(\"text\")"
   ]
  },
  {
   "cell_type": "markdown",
   "id": "2fe28d29",
   "metadata": {},
   "source": [
    "---\n",
    "### Circuit Level Customization Options\n",
    "---"
   ]
  },
  {
   "cell_type": "markdown",
   "id": "eb23a888",
   "metadata": {},
   "source": [
    "##### Custom Wire Labels"
   ]
  },
  {
   "cell_type": "code",
   "execution_count": 4,
   "id": "5a9a7a70",
   "metadata": {
    "execution": {
     "iopub.execute_input": "2025-04-16T02:30:05.685082Z",
     "iopub.status.busy": "2025-04-16T02:30:05.684925Z",
     "iopub.status.idle": "2025-04-16T02:30:05.687741Z",
     "shell.execute_reply": "2025-04-16T02:30:05.687281Z"
    }
   },
   "outputs": [
    {
     "name": "stdout",
     "output_type": "stream",
     "text": [
      "                    ┌──────┐  ┌──────┐  ┌───────┐  ┌───┐   \n",
      " long_long_name :───┤ CNOT ├──┤ SNOT ├──┤       ├──┤ M ├───\n",
      "                    └───┬──┘  └──────┘  │       │  └─╥─┘   \n",
      "                        │               │       │    ║     \n",
      " some_long_name :───────█───────────────┤ ISWAP ├────║─────\n",
      "                                        └───────┘    ║     \n",
      "                                                     ║     \n",
      " some_name      :════════════════════════════════════╩═════\n",
      "                                                           \n"
     ]
    }
   ],
   "source": [
    "qc.draw(\"text\", wire_label=[\"some_name\", \"some_long_name\", \"long_long_name\"])"
   ]
  },
  {
   "cell_type": "markdown",
   "id": "c8a60683",
   "metadata": {},
   "source": [
    "##### Control extra wire extension at end of circuit"
   ]
  },
  {
   "cell_type": "code",
   "execution_count": 5,
   "id": "1e35f83d",
   "metadata": {
    "execution": {
     "iopub.execute_input": "2025-04-16T02:30:05.689113Z",
     "iopub.status.busy": "2025-04-16T02:30:05.688954Z",
     "iopub.status.idle": "2025-04-16T02:30:05.691446Z",
     "shell.execute_reply": "2025-04-16T02:30:05.691117Z"
    }
   },
   "outputs": [
    {
     "name": "stdout",
     "output_type": "stream",
     "text": [
      "        ┌──────┐  ┌──────┐  ┌───────┐  ┌───┐ \n",
      " q1 :───┤ CNOT ├──┤ SNOT ├──┤       ├──┤ M ├─\n",
      "        └───┬──┘  └──────┘  │       │  └─╥─┘ \n",
      "            │               │       │    ║   \n",
      " q0 :───────█───────────────┤ ISWAP ├────║───\n",
      "                            └───────┘    ║   \n",
      "                                         ║   \n",
      " c0 :════════════════════════════════════╩═══\n",
      "                                             \n"
     ]
    }
   ],
   "source": [
    "qc.draw(\"text\", end_wire_ext=0)"
   ]
  },
  {
   "cell_type": "code",
   "execution_count": 6,
   "id": "4085847a",
   "metadata": {
    "execution": {
     "iopub.execute_input": "2025-04-16T02:30:05.692759Z",
     "iopub.status.busy": "2025-04-16T02:30:05.692600Z",
     "iopub.status.idle": "2025-04-16T02:30:05.695384Z",
     "shell.execute_reply": "2025-04-16T02:30:05.694928Z"
    }
   },
   "outputs": [
    {
     "name": "stdout",
     "output_type": "stream",
     "text": [
      "        ┌──────┐  ┌──────┐  ┌───────┐  ┌───┐      \n",
      " q1 :───┤ CNOT ├──┤ SNOT ├──┤       ├──┤ M ├──────\n",
      "        └───┬──┘  └──────┘  │       │  └─╥─┘      \n",
      "            │               │       │    ║        \n",
      " q0 :───────█───────────────┤ ISWAP ├────║────────\n",
      "                            └───────┘    ║        \n",
      "                                         ║        \n",
      " c0 :════════════════════════════════════╩════════\n",
      "                                                  \n"
     ]
    }
   ],
   "source": [
    "qc.draw(\"text\", end_wire_ext=5)"
   ]
  },
  {
   "cell_type": "markdown",
   "id": "239e7e6b",
   "metadata": {},
   "source": [
    "##### Adjust Gate Padding"
   ]
  },
  {
   "cell_type": "code",
   "execution_count": 7,
   "id": "13197251",
   "metadata": {
    "execution": {
     "iopub.execute_input": "2025-04-16T02:30:05.696729Z",
     "iopub.status.busy": "2025-04-16T02:30:05.696568Z",
     "iopub.status.idle": "2025-04-16T02:30:05.699139Z",
     "shell.execute_reply": "2025-04-16T02:30:05.698756Z"
    }
   },
   "outputs": [
    {
     "name": "stdout",
     "output_type": "stream",
     "text": [
      "        ┌──────────┐  ┌──────────┐  ┌───────────┐  ┌───────┐   \n",
      " q1 :───┤   CNOT   ├──┤   SNOT   ├──┤           ├──┤   M   ├───\n",
      "        └─────┬────┘  └──────────┘  │           │  └───╥───┘   \n",
      "              │                     │           │      ║       \n",
      " q0 :─────────█─────────────────────┤   ISWAP   ├──────║───────\n",
      "                                    └───────────┘      ║       \n",
      "                                                       ║       \n",
      " c0 :══════════════════════════════════════════════════╩═══════\n",
      "                                                               \n"
     ]
    }
   ],
   "source": [
    "qc.draw(\"text\", gate_pad=3)"
   ]
  },
  {
   "cell_type": "markdown",
   "id": "df76f91a",
   "metadata": {},
   "source": [
    "---\n",
    "### Gate Level Customization Options\n",
    "---"
   ]
  },
  {
   "cell_type": "code",
   "execution_count": 8,
   "id": "724f93d7",
   "metadata": {
    "execution": {
     "iopub.execute_input": "2025-04-16T02:30:05.700464Z",
     "iopub.status.busy": "2025-04-16T02:30:05.700308Z",
     "iopub.status.idle": "2025-04-16T02:30:05.702910Z",
     "shell.execute_reply": "2025-04-16T02:30:05.702500Z"
    }
   },
   "outputs": [],
   "source": [
    "qc = QubitCircuit(2)\n",
    "qc.add_gate(\"H\", targets=[0])\n",
    "qc.add_gate(\"H\", targets=[1], arg_label=\"hadamard gate\")"
   ]
  },
  {
   "cell_type": "code",
   "execution_count": 9,
   "id": "c75bc38e",
   "metadata": {
    "execution": {
     "iopub.execute_input": "2025-04-16T02:30:05.704369Z",
     "iopub.status.busy": "2025-04-16T02:30:05.704002Z",
     "iopub.status.idle": "2025-04-16T02:30:05.706752Z",
     "shell.execute_reply": "2025-04-16T02:30:05.706294Z"
    }
   },
   "outputs": [
    {
     "name": "stdout",
     "output_type": "stream",
     "text": [
      "        ┌───────────────┐   \n",
      " q1 :───┤ hadamard gate ├───\n",
      "        └───────────────┘   \n",
      "        ┌───┐               \n",
      " q0 :───┤ H ├───────────────\n",
      "        └───┘               \n"
     ]
    }
   ],
   "source": [
    "qc.draw(\"text\")"
   ]
  },
  {
   "cell_type": "markdown",
   "id": "9c947b71",
   "metadata": {},
   "source": [
    "#### With User Custom Gates"
   ]
  },
  {
   "cell_type": "code",
   "execution_count": 10,
   "id": "79a63b0c",
   "metadata": {
    "execution": {
     "iopub.execute_input": "2025-04-16T02:30:05.708184Z",
     "iopub.status.busy": "2025-04-16T02:30:05.708029Z",
     "iopub.status.idle": "2025-04-16T02:30:05.711186Z",
     "shell.execute_reply": "2025-04-16T02:30:05.710704Z"
    }
   },
   "outputs": [],
   "source": [
    "def user_gate1(arg_value):\n",
    "    # controlled rotation X\n",
    "    mat = np.zeros((4, 4), dtype=np.complex)\n",
    "    mat[0, 0] = mat[1, 1] = 1.0\n",
    "    mat[2:4, 2:4] = rx(arg_value).full()\n",
    "    return Qobj(mat, dims=[[2, 2], [2, 2]])\n",
    "\n",
    "\n",
    "def user_gate2():\n",
    "    # S gate\n",
    "    mat = np.array([[1.0, 0], [0.0, 1.0j]])\n",
    "    return Qobj(mat, dims=[[2], [2]])"
   ]
  },
  {
   "cell_type": "code",
   "execution_count": 11,
   "id": "7985dd6e",
   "metadata": {
    "execution": {
     "iopub.execute_input": "2025-04-16T02:30:05.712612Z",
     "iopub.status.busy": "2025-04-16T02:30:05.712318Z",
     "iopub.status.idle": "2025-04-16T02:30:05.715078Z",
     "shell.execute_reply": "2025-04-16T02:30:05.714593Z"
    }
   },
   "outputs": [],
   "source": [
    "qc = QubitCircuit(3)\n",
    "qc.user_gates = {\"CTRLRX\": user_gate1, \"S\": user_gate2}\n",
    "\n",
    "# qubit 1 controls qubit 0\n",
    "qc.add_gate(\"CTRLRX\", targets=[1, 0], arg_value=np.pi / 2)\n",
    "# qubit 2 is target of S gate\n",
    "qc.add_gate(\"S\", targets=[2])"
   ]
  },
  {
   "cell_type": "code",
   "execution_count": 12,
   "id": "1a2b686a",
   "metadata": {
    "execution": {
     "iopub.execute_input": "2025-04-16T02:30:05.716352Z",
     "iopub.status.busy": "2025-04-16T02:30:05.716183Z",
     "iopub.status.idle": "2025-04-16T02:30:05.718953Z",
     "shell.execute_reply": "2025-04-16T02:30:05.718473Z"
    }
   },
   "outputs": [
    {
     "name": "stdout",
     "output_type": "stream",
     "text": [
      "        ┌───┐        \n",
      " q2 :───┤ S ├────────\n",
      "        └───┘        \n",
      "        ┌────────┐   \n",
      " q1 :───┤        ├───\n",
      "        │        │   \n",
      "        │        │   \n",
      " q0 :───┤ CTRLRX ├───\n",
      "        └────────┘   \n"
     ]
    }
   ],
   "source": [
    "qc.draw(\"text\")"
   ]
  },
  {
   "cell_type": "markdown",
   "id": "67c4eff5",
   "metadata": {},
   "source": [
    "---"
   ]
  },
  {
   "cell_type": "code",
   "execution_count": 13,
   "id": "2604e38f",
   "metadata": {
    "execution": {
     "iopub.execute_input": "2025-04-16T02:30:05.720295Z",
     "iopub.status.busy": "2025-04-16T02:30:05.720143Z",
     "iopub.status.idle": "2025-04-16T02:30:06.289818Z",
     "shell.execute_reply": "2025-04-16T02:30:06.289309Z"
    }
   },
   "outputs": [
    {
     "name": "stdout",
     "output_type": "stream",
     "text": [
      "\n",
      "QuTiP: Quantum Toolbox in Python\n",
      "================================\n",
      "Copyright (c) QuTiP team 2011 and later.\n",
      "Current admin team: Alexander Pitchford, Nathan Shammah, Shahnawaz Ahmed, Neill Lambert, Eric Giguère, Boxi Li, Simon Cross, Asier Galicia, Paul Menczel, and Patrick Hopf.\n",
      "Board members: Daniel Burgarth, Robert Johansson, Anton F. Kockum, Franco Nori and Will Zeng.\n",
      "Original developers: R. J. Johansson & P. D. Nation.\n",
      "Previous lead developers: Chris Granade & A. Grimsmo.\n",
      "Currently developed through wide collaboration. See https://github.com/qutip for details.\n",
      "\n",
      "QuTiP Version:      5.2.0.dev0+4033695\n",
      "Numpy Version:      2.2.4\n",
      "Scipy Version:      1.15.2\n",
      "Cython Version:     3.0.12\n",
      "Matplotlib Version: 3.10.1\n",
      "Python Version:     3.12.0\n",
      "Number of CPUs:     4\n",
      "BLAS Info:          Generic\n",
      "INTEL MKL Ext:      None\n",
      "Platform Info:      Linux (x86_64)\n",
      "Installation path:  /home/runner/miniconda3/envs/test-environment-v5/lib/python3.12/site-packages/qutip\n",
      "\n",
      "Installed QuTiP family packages\n",
      "-------------------------------\n",
      "\n"
     ]
    },
    {
     "name": "stdout",
     "output_type": "stream",
     "text": [
      "qutip-jax: 0.1.1.dev5\n",
      "qutip-qtrl: 0.2.0.dev0+acb71a0\n",
      "qutip-qip: 0.5.0.dev0+d58a82d\n",
      "\n",
      "================================================================================\n",
      "Please cite QuTiP in your publication.\n",
      "================================================================================\n",
      "For your convenience a bibtex reference can be easily generated using `qutip.cite()`\n"
     ]
    }
   ],
   "source": [
    "qutip.about()"
   ]
  }
 ],
 "metadata": {
  "jupytext": {
   "cell_metadata_filter": "-all",
   "notebook_metadata_filter": "-jupytext.cell_metadata_filter,-jupytext.notebook_metadata_filter"
  },
  "kernelspec": {
   "display_name": "qutip-dev",
   "language": "python",
   "name": "python3"
  },
  "language_info": {
   "codemirror_mode": {
    "name": "ipython",
    "version": 3
   },
   "file_extension": ".py",
   "mimetype": "text/x-python",
   "name": "python",
   "nbconvert_exporter": "python",
   "pygments_lexer": "ipython3",
   "version": "3.12.0"
  }
 },
 "nbformat": 4,
 "nbformat_minor": 5
}
