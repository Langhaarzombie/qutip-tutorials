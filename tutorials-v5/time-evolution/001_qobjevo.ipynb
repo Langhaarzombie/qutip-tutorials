{
 "cells": [
  {
   "cell_type": "markdown",
   "id": "ef3287aa",
   "metadata": {},
   "source": [
    "# <code>QobjEvo</code>: time-dependent quantum objects\n",
    "Made by Eric Giguere, updated by Jake Lishman"
   ]
  },
  {
   "cell_type": "code",
   "execution_count": 1,
   "id": "566606cd",
   "metadata": {
    "execution": {
     "iopub.execute_input": "2025-04-16T02:18:35.872734Z",
     "iopub.status.busy": "2025-04-16T02:18:35.872567Z",
     "iopub.status.idle": "2025-04-16T02:18:36.614306Z",
     "shell.execute_reply": "2025-04-16T02:18:36.613804Z"
    }
   },
   "outputs": [],
   "source": [
    "# Basic setup\n",
    "import numpy as np\n",
    "import qutip\n",
    "\n",
    "size = 4\n",
    "t = 1.0\n",
    "a = qutip.destroy(size)\n",
    "ad = qutip.create(size)\n",
    "n = qutip.num(size)\n",
    "Id = qutip.qeye(size)"
   ]
  },
  {
   "cell_type": "markdown",
   "id": "23a7eacf",
   "metadata": {},
   "source": [
    "## Contents\n",
    "\n",
    "- [Motivation](#Motivation)\n",
    "- [Instantiation](#Instantiation)\n",
    "    * [Functional time dependence](#Function-time-dependence)\n",
    "    * [String time dependence](#String-time-dependence)\n",
    "    * [Array dependence](#Array-dependence)\n",
    "- [Evaluation](#Evaluation)\n",
    "- [Compilation](#Compilation)\n",
    "- [Arguments](#Arguments)\n",
    "    * [Function form](#Function-form)\n",
    "    * [String form](#String-form)\n",
    "    * [Using objects](#Using-objects)\n",
    "    * [Dynamic arguments](#Dynamic-arguments)\n",
    "- [Mathematics](#Mathematics)\n",
    "- [Superoperators](#Superoperators)"
   ]
  },
  {
   "cell_type": "markdown",
   "id": "13d03c2c",
   "metadata": {},
   "source": [
    "## Motivation\n",
    "A `Qobj` is a generic quantum object, but it only represents constant objects.  When we need to represent time-dependent objects, the relevant functions take a list of `(Qobj, <time-dependence>)` tuples, where the time dependence is a function, a string or an array.  Inside the function, this is then converted into a new, time-dependent class `QobjEvo`.  We then use this for several compilation and optimisation steps to ensure that the solvers run quickly.\n",
    "\n",
    "You do not _need_ to use `QobjEvo`, but if you are planning to reuse some large operators for a long-running integration, you can instantiate one yourself and manually call the C compilation methods.  This will have a one-off start-up cost of a couple of seconds, but will make all uses of it faster afterwards.  This trade-off is often worthwhile if the integration will take over around 15 minutes, even if you do not reuse the object."
   ]
  },
  {
   "cell_type": "markdown",
   "id": "82e76f16",
   "metadata": {},
   "source": [
    "## Instantiation\n",
    "\n",
    "`QobjEvo` is instantiated with the same time-dependent list that is passed to, say, `mesolve`.  This doesn't even _have_ to be time dependent, but constant ones will not have significant benefits over varying ones.  The three types of scalar time dependence are:\n",
    "  - function\n",
    "  - string\n",
    "  - array\n",
    "\n",
    "This can represent objects of the form\n",
    "$$\n",
    "A(t) = \\sum_k f_k(t) A_k\n",
    "$$\n",
    "where the $f_k(t)$ are time-dependent scalars, and the $A_k$ are constant `Qobj` objects.  The list then looks like\n",
    "```\n",
    "[A0, [A1, f1], [A2, f2], ...]\n",
    "```\n",
    "where all the `Ak` are constant `Qobj`s, and the `fk` are time dependences in one of the available forms.\n",
    "\n",
    "Alternatively, `QobjEvo` can be created by multiplication of `Qobj` with wrapped time dependences:\n",
    "```\n",
    "A0 + A1 * qutip.coefficient(f1, ...) + ...\n",
    "```"
   ]
  },
  {
   "cell_type": "code",
   "execution_count": 2,
   "id": "07d9bc37",
   "metadata": {
    "execution": {
     "iopub.execute_input": "2025-04-16T02:18:36.616087Z",
     "iopub.status.busy": "2025-04-16T02:18:36.615846Z",
     "iopub.status.idle": "2025-04-16T02:18:36.618473Z",
     "shell.execute_reply": "2025-04-16T02:18:36.618098Z"
    }
   },
   "outputs": [],
   "source": [
    "constant_form = qutip.QobjEvo([n])"
   ]
  },
  {
   "cell_type": "markdown",
   "id": "5745a705",
   "metadata": {},
   "source": [
    "### Function time dependence\n",
    "\n",
    "This should be a valid Python function with the signature\n",
    "```python\n",
    "(t: float, ...) -> complex\n",
    "```\n",
    "where `t` is the time. Additional arguments that can be changed without needing a new `QobjEvo` can be added. The return value is the complex value of $f_k$.  We'll look more at extra arguments later."
   ]
  },
  {
   "cell_type": "code",
   "execution_count": 3,
   "id": "6b3b21ec",
   "metadata": {
    "execution": {
     "iopub.execute_input": "2025-04-16T02:18:36.619875Z",
     "iopub.status.busy": "2025-04-16T02:18:36.619692Z",
     "iopub.status.idle": "2025-04-16T02:18:36.622356Z",
     "shell.execute_reply": "2025-04-16T02:18:36.621988Z"
    }
   },
   "outputs": [],
   "source": [
    "def cos_t(t):\n",
    "    return np.cos(t)\n",
    "\n",
    "\n",
    "function_form = n + (a + ad) * qutip.coefficient(cos_t)"
   ]
  },
  {
   "cell_type": "markdown",
   "id": "5bfcd2cd",
   "metadata": {},
   "source": [
    "If you need something more complex, such as a state with memory or to build a parametrised set of functions where the arguments will not change once set, you can use a class which implements `__call__`."
   ]
  },
  {
   "cell_type": "code",
   "execution_count": 4,
   "id": "32ca2f29",
   "metadata": {
    "execution": {
     "iopub.execute_input": "2025-04-16T02:18:36.623617Z",
     "iopub.status.busy": "2025-04-16T02:18:36.623470Z",
     "iopub.status.idle": "2025-04-16T02:18:36.626285Z",
     "shell.execute_reply": "2025-04-16T02:18:36.625913Z"
    }
   },
   "outputs": [],
   "source": [
    "class callable_time_dependence:\n",
    "    def __init__(self, add):\n",
    "        self.add = add\n",
    "\n",
    "    def __call__(self, t, args):\n",
    "        return self.add + np.cos(t)\n",
    "\n",
    "\n",
    "callable_form = qutip.QobjEvo([n, [a + ad, callable_time_dependence(2)]])"
   ]
  },
  {
   "cell_type": "markdown",
   "id": "0ba97627",
   "metadata": {},
   "source": [
    "### String time dependence\n",
    "\n",
    "This should be a valid single Python expression that evaluates to a `complex`.  Roughly, if you could do `eval(x)` and get a valid `complex`, you will be fine.  In addition to `t` being the time, the following symbols are also defined in scope with their usual definitions:\n",
    "```\n",
    "sin  cos  tan   asin  acos  atan\n",
    "sinh cosh tanh  asinh acosh atanh  \n",
    "exp  log  log10 erf   zerf  sqrt  \n",
    "real imag conj  abs   norm  arg\n",
    "proj pi\n",
    "```\n",
    "In addition, `np` refers to `numpy` and `spe` to `scipy.special`."
   ]
  },
  {
   "cell_type": "code",
   "execution_count": 5,
   "id": "1832f5ef",
   "metadata": {
    "execution": {
     "iopub.execute_input": "2025-04-16T02:18:36.627560Z",
     "iopub.status.busy": "2025-04-16T02:18:36.627416Z",
     "iopub.status.idle": "2025-04-16T02:18:36.630617Z",
     "shell.execute_reply": "2025-04-16T02:18:36.630096Z"
    }
   },
   "outputs": [
    {
     "name": "stderr",
     "output_type": "stream",
     "text": [
      "/home/runner/miniconda3/envs/test-environment-v5/lib/python3.12/site-packages/qutip/core/coefficient.py:420: UserWarning: `cython`, `setuptools` and `filelock` are required for compilation of string coefficents. Falling back on `eval`.\n",
      "  warnings.warn(\n"
     ]
    }
   ],
   "source": [
    "string_form = qutip.QobjEvo([n, [a + ad, \"cos(t)\"]])"
   ]
  },
  {
   "cell_type": "markdown",
   "id": "c0a2e00b",
   "metadata": {},
   "source": [
    "### Array dependence\n",
    "\n",
    "If the time dependence is particularly costly to compute, you may pass an array containing the value of the functions evaluated at different times, and separately pass the corresponding list of times to the `tlist` keyword argument of the `QobjEvo` constructor.  All times inbetween will be interpolated with cubic splines.\n",
    "\n",
    "The times in `tlist` must be sorted, but they don't need to be evenly distributed.  If you use this for more than one entry, all entries must have the same values for `tlist` (you can only pass one)."
   ]
  },
  {
   "cell_type": "code",
   "execution_count": 6,
   "id": "bb55d9ba",
   "metadata": {
    "execution": {
     "iopub.execute_input": "2025-04-16T02:18:36.632295Z",
     "iopub.status.busy": "2025-04-16T02:18:36.631842Z",
     "iopub.status.idle": "2025-04-16T02:18:36.635475Z",
     "shell.execute_reply": "2025-04-16T02:18:36.635113Z"
    }
   },
   "outputs": [],
   "source": [
    "tlist = np.linspace(0, 10, 101)\n",
    "values = np.cos(tlist)\n",
    "\n",
    "array_form = n + (a + ad) * qutip.coefficient(values, tlist=tlist)"
   ]
  },
  {
   "cell_type": "markdown",
   "id": "e917762c",
   "metadata": {},
   "source": [
    "## Evaluation\n",
    "\n",
    "No matter what type of time dependence was used, or even if only a constant was created, you can always call your `QobjEvo` instance like a function to get the value at that time.  This will return a `Qobj`."
   ]
  },
  {
   "cell_type": "code",
   "execution_count": 7,
   "id": "19a0b52d",
   "metadata": {
    "execution": {
     "iopub.execute_input": "2025-04-16T02:18:36.637071Z",
     "iopub.status.busy": "2025-04-16T02:18:36.636663Z",
     "iopub.status.idle": "2025-04-16T02:18:36.641953Z",
     "shell.execute_reply": "2025-04-16T02:18:36.641472Z"
    }
   },
   "outputs": [
    {
     "data": {
      "text/latex": [
       "Quantum object: dims=[[4], [4]], shape=(4, 4), type='oper', dtype=Dia, isherm=True$$\\left(\\begin{array}{cc}0 & 0 & 0 & 0\\\\0 & 1 & 0 & 0\\\\0 & 0 & 2 & 0\\\\0 & 0 & 0 & 3\\end{array}\\right)$$"
      ],
      "text/plain": [
       "Quantum object: dims=[[4], [4]], shape=(4, 4), type='oper', dtype=Dia, isherm=True\n",
       "Qobj data =\n",
       "[[0. 0. 0. 0.]\n",
       " [0. 1. 0. 0.]\n",
       " [0. 0. 2. 0.]\n",
       " [0. 0. 0. 3.]]"
      ]
     },
     "execution_count": 7,
     "metadata": {},
     "output_type": "execute_result"
    }
   ],
   "source": [
    "constant_form(2)"
   ]
  },
  {
   "cell_type": "code",
   "execution_count": 8,
   "id": "e2464b82",
   "metadata": {
    "execution": {
     "iopub.execute_input": "2025-04-16T02:18:36.643454Z",
     "iopub.status.busy": "2025-04-16T02:18:36.643054Z",
     "iopub.status.idle": "2025-04-16T02:18:36.646629Z",
     "shell.execute_reply": "2025-04-16T02:18:36.646174Z"
    }
   },
   "outputs": [
    {
     "data": {
      "text/latex": [
       "Quantum object: dims=[[4], [4]], shape=(4, 4), type='oper', dtype=Dia, isherm=True$$\\left(\\begin{array}{cc}0 & -0.416 & 0 & 0\\\\-0.416 & 1 & -0.589 & 0\\\\0 & -0.589 & 2 & -0.721\\\\0 & 0 & -0.721 & 3\\end{array}\\right)$$"
      ],
      "text/plain": [
       "Quantum object: dims=[[4], [4]], shape=(4, 4), type='oper', dtype=Dia, isherm=True\n",
       "Qobj data =\n",
       "[[ 0.         -0.41614684  0.          0.        ]\n",
       " [-0.41614684  1.         -0.5885205   0.        ]\n",
       " [ 0.         -0.5885205   2.         -0.72078746]\n",
       " [ 0.          0.         -0.72078746  3.        ]]"
      ]
     },
     "execution_count": 8,
     "metadata": {},
     "output_type": "execute_result"
    }
   ],
   "source": [
    "function_form(2)"
   ]
  },
  {
   "cell_type": "code",
   "execution_count": 9,
   "id": "7967e3d9",
   "metadata": {
    "execution": {
     "iopub.execute_input": "2025-04-16T02:18:36.648168Z",
     "iopub.status.busy": "2025-04-16T02:18:36.647865Z",
     "iopub.status.idle": "2025-04-16T02:18:36.651350Z",
     "shell.execute_reply": "2025-04-16T02:18:36.650895Z"
    }
   },
   "outputs": [
    {
     "data": {
      "text/latex": [
       "Quantum object: dims=[[4], [4]], shape=(4, 4), type='oper', dtype=Dia, isherm=True$$\\left(\\begin{array}{cc}0 & 1.584 & 0 & 0\\\\1.584 & 1 & 2.240 & 0\\\\0 & 2.240 & 2 & 2.743\\\\0 & 0 & 2.743 & 3\\end{array}\\right)$$"
      ],
      "text/plain": [
       "Quantum object: dims=[[4], [4]], shape=(4, 4), type='oper', dtype=Dia, isherm=True\n",
       "Qobj data =\n",
       "[[0.         1.58385316 0.         0.        ]\n",
       " [1.58385316 1.         2.23990662 0.        ]\n",
       " [0.         2.23990662 2.         2.74331415]\n",
       " [0.         0.         2.74331415 3.        ]]"
      ]
     },
     "execution_count": 9,
     "metadata": {},
     "output_type": "execute_result"
    }
   ],
   "source": [
    "callable_form(2)"
   ]
  },
  {
   "cell_type": "code",
   "execution_count": 10,
   "id": "37b4fce7",
   "metadata": {
    "execution": {
     "iopub.execute_input": "2025-04-16T02:18:36.652964Z",
     "iopub.status.busy": "2025-04-16T02:18:36.652542Z",
     "iopub.status.idle": "2025-04-16T02:18:36.656037Z",
     "shell.execute_reply": "2025-04-16T02:18:36.655648Z"
    }
   },
   "outputs": [
    {
     "data": {
      "text/latex": [
       "Quantum object: dims=[[4], [4]], shape=(4, 4), type='oper', dtype=Dia, isherm=True$$\\left(\\begin{array}{cc}0 & -0.416 & 0 & 0\\\\-0.416 & 1 & -0.589 & 0\\\\0 & -0.589 & 2 & -0.721\\\\0 & 0 & -0.721 & 3\\end{array}\\right)$$"
      ],
      "text/plain": [
       "Quantum object: dims=[[4], [4]], shape=(4, 4), type='oper', dtype=Dia, isherm=True\n",
       "Qobj data =\n",
       "[[ 0.         -0.41614684  0.          0.        ]\n",
       " [-0.41614684  1.         -0.5885205   0.        ]\n",
       " [ 0.         -0.5885205   2.         -0.72078746]\n",
       " [ 0.          0.         -0.72078746  3.        ]]"
      ]
     },
     "execution_count": 10,
     "metadata": {},
     "output_type": "execute_result"
    }
   ],
   "source": [
    "string_form(2)"
   ]
  },
  {
   "cell_type": "code",
   "execution_count": 11,
   "id": "5295917a",
   "metadata": {
    "execution": {
     "iopub.execute_input": "2025-04-16T02:18:36.657587Z",
     "iopub.status.busy": "2025-04-16T02:18:36.657144Z",
     "iopub.status.idle": "2025-04-16T02:18:36.660869Z",
     "shell.execute_reply": "2025-04-16T02:18:36.660388Z"
    },
    "lines_to_next_cell": 2
   },
   "outputs": [
    {
     "data": {
      "text/latex": [
       "Quantum object: dims=[[4], [4]], shape=(4, 4), type='oper', dtype=Dia, isherm=True$$\\left(\\begin{array}{cc}0 & -0.416 & 0 & 0\\\\-0.416 & 1 & -0.589 & 0\\\\0 & -0.589 & 2 & -0.721\\\\0 & 0 & -0.721 & 3\\end{array}\\right)$$"
      ],
      "text/plain": [
       "Quantum object: dims=[[4], [4]], shape=(4, 4), type='oper', dtype=Dia, isherm=True\n",
       "Qobj data =\n",
       "[[ 0.         -0.41614684  0.          0.        ]\n",
       " [-0.41614684  1.         -0.5885205   0.        ]\n",
       " [ 0.         -0.5885205   2.         -0.72078746]\n",
       " [ 0.          0.         -0.72078746  3.        ]]"
      ]
     },
     "execution_count": 11,
     "metadata": {},
     "output_type": "execute_result"
    }
   ],
   "source": [
    "array_form(2)"
   ]
  },
  {
   "cell_type": "code",
   "execution_count": 12,
   "id": "b6ba37f3",
   "metadata": {
    "execution": {
     "iopub.execute_input": "2025-04-16T02:18:36.662395Z",
     "iopub.status.busy": "2025-04-16T02:18:36.661991Z",
     "iopub.status.idle": "2025-04-16T02:18:36.665623Z",
     "shell.execute_reply": "2025-04-16T02:18:36.665166Z"
    }
   },
   "outputs": [
    {
     "data": {
      "text/latex": [
       "Quantum object: dims=[[4], [4]], shape=(4, 4), type='oper', dtype=Dia, isherm=True$$\\left(\\begin{array}{cc}0 & -0.654 & 0 & 0\\\\-0.654 & 1 & -0.924 & 0\\\\0 & -0.924 & 2 & -1.132\\\\0 & 0 & -1.132 & 3\\end{array}\\right)$$"
      ],
      "text/plain": [
       "Quantum object: dims=[[4], [4]], shape=(4, 4), type='oper', dtype=Dia, isherm=True\n",
       "Qobj data =\n",
       "[[ 0.         -0.65364362  0.          0.        ]\n",
       " [-0.65364362  1.         -0.92439167  0.        ]\n",
       " [ 0.         -0.92439167  2.         -1.13214396]\n",
       " [ 0.          0.         -1.13214396  3.        ]]"
      ]
     },
     "execution_count": 12,
     "metadata": {},
     "output_type": "execute_result"
    }
   ],
   "source": [
    "string_form(4)"
   ]
  },
  {
   "cell_type": "markdown",
   "id": "0804b14b",
   "metadata": {},
   "source": [
    "## Arguments\n",
    "\n",
    "Data can be passed to the coefficient functions or strings using an `args` dictionary.  In the functional form, this is passed as an explicit parameter.  In the string form, `args` acts like additional variable definitions for the scope of the function.  In other words, `'x + 2'` will work and return a value if, for example, `args` is `{'x': 1}`.  \n",
    "The keys of `args` should always be strings representing valid Python identifiers (variable names), and they should not begin with an underscore (\\_).\n",
    "\n",
    "Values _can_ be any type, but if Cython compilation is used with string dependence, there will be a large performance penalty for using anything other than valid C numeric types (including `complex`), `numpy` arrays, or any object that Cython cannot call natively.\n",
    "\n",
    "You can pass `args` directly at instantiation, and these will be used in every call, unless you specifically override them using the `args` keyword argument in the call.  The overriding is temporary, and all subsequent calls will use the values given at initialisation."
   ]
  },
  {
   "cell_type": "markdown",
   "id": "50df26fd",
   "metadata": {},
   "source": [
    "### Function form"
   ]
  },
  {
   "cell_type": "code",
   "execution_count": 13,
   "id": "d05781e3",
   "metadata": {
    "execution": {
     "iopub.execute_input": "2025-04-16T02:18:36.667083Z",
     "iopub.status.busy": "2025-04-16T02:18:36.666762Z",
     "iopub.status.idle": "2025-04-16T02:18:36.670704Z",
     "shell.execute_reply": "2025-04-16T02:18:36.670242Z"
    }
   },
   "outputs": [
    {
     "data": {
      "text/latex": [
       "Quantum object: dims=[[4], [4]], shape=(4, 4), type='oper', dtype=Dia, isherm=True$$\\left(\\begin{array}{cc}3 & 0 & 0 & 0\\\\0 & 3 & 0 & 0\\\\0 & 0 & 3 & 0\\\\0 & 0 & 0 & 3\\end{array}\\right)$$"
      ],
      "text/plain": [
       "Quantum object: dims=[[4], [4]], shape=(4, 4), type='oper', dtype=Dia, isherm=True\n",
       "Qobj data =\n",
       "[[3. 0. 0. 0.]\n",
       " [0. 3. 0. 0.]\n",
       " [0. 0. 3. 0.]\n",
       " [0. 0. 0. 3.]]"
      ]
     },
     "execution_count": 13,
     "metadata": {},
     "output_type": "execute_result"
    }
   ],
   "source": [
    "def coeff_with_args(t, args):\n",
    "    return t + args[\"delta\"]\n",
    "\n",
    "\n",
    "td_args = Id * qutip.coefficient(coeff_with_args, args={\"delta\": 1.0})\n",
    "td_args(2)"
   ]
  },
  {
   "cell_type": "code",
   "execution_count": 14,
   "id": "cb063310",
   "metadata": {
    "execution": {
     "iopub.execute_input": "2025-04-16T02:18:36.672142Z",
     "iopub.status.busy": "2025-04-16T02:18:36.671844Z",
     "iopub.status.idle": "2025-04-16T02:18:36.675293Z",
     "shell.execute_reply": "2025-04-16T02:18:36.674838Z"
    }
   },
   "outputs": [
    {
     "data": {
      "text/latex": [
       "Quantum object: dims=[[4], [4]], shape=(4, 4), type='oper', dtype=Dia, isherm=True$$\\left(\\begin{array}{cc}12 & 0 & 0 & 0\\\\0 & 12 & 0 & 0\\\\0 & 0 & 12 & 0\\\\0 & 0 & 0 & 12\\end{array}\\right)$$"
      ],
      "text/plain": [
       "Quantum object: dims=[[4], [4]], shape=(4, 4), type='oper', dtype=Dia, isherm=True\n",
       "Qobj data =\n",
       "[[12.  0.  0.  0.]\n",
       " [ 0. 12.  0.  0.]\n",
       " [ 0.  0. 12.  0.]\n",
       " [ 0.  0.  0. 12.]]"
      ]
     },
     "execution_count": 14,
     "metadata": {},
     "output_type": "execute_result"
    }
   ],
   "source": [
    "# Temporarily overriding the arguments.\n",
    "td_args(2, delta=10)"
   ]
  },
  {
   "cell_type": "code",
   "execution_count": 15,
   "id": "0328e2c7",
   "metadata": {
    "execution": {
     "iopub.execute_input": "2025-04-16T02:18:36.676857Z",
     "iopub.status.busy": "2025-04-16T02:18:36.676545Z",
     "iopub.status.idle": "2025-04-16T02:18:36.679989Z",
     "shell.execute_reply": "2025-04-16T02:18:36.679512Z"
    }
   },
   "outputs": [
    {
     "data": {
      "text/latex": [
       "Quantum object: dims=[[4], [4]], shape=(4, 4), type='oper', dtype=Dia, isherm=True$$\\left(\\begin{array}{cc}3 & 0 & 0 & 0\\\\0 & 3 & 0 & 0\\\\0 & 0 & 3 & 0\\\\0 & 0 & 0 & 3\\end{array}\\right)$$"
      ],
      "text/plain": [
       "Quantum object: dims=[[4], [4]], shape=(4, 4), type='oper', dtype=Dia, isherm=True\n",
       "Qobj data =\n",
       "[[3. 0. 0. 0.]\n",
       " [0. 3. 0. 0.]\n",
       " [0. 0. 3. 0.]\n",
       " [0. 0. 0. 3.]]"
      ]
     },
     "execution_count": 15,
     "metadata": {},
     "output_type": "execute_result"
    }
   ],
   "source": [
    "# A subsequent regular call will still use the args given at initialisation.\n",
    "td_args(2)"
   ]
  },
  {
   "cell_type": "markdown",
   "id": "0650f823",
   "metadata": {},
   "source": [
    "### String form"
   ]
  },
  {
   "cell_type": "code",
   "execution_count": 16,
   "id": "99107e2b",
   "metadata": {
    "execution": {
     "iopub.execute_input": "2025-04-16T02:18:36.681385Z",
     "iopub.status.busy": "2025-04-16T02:18:36.681092Z",
     "iopub.status.idle": "2025-04-16T02:18:36.684807Z",
     "shell.execute_reply": "2025-04-16T02:18:36.684333Z"
    }
   },
   "outputs": [
    {
     "data": {
      "text/latex": [
       "Quantum object: dims=[[4], [4]], shape=(4, 4), type='oper', dtype=Dia, isherm=True$$\\left(\\begin{array}{cc}3 & 0 & 0 & 0\\\\0 & 3 & 0 & 0\\\\0 & 0 & 3 & 0\\\\0 & 0 & 0 & 3\\end{array}\\right)$$"
      ],
      "text/plain": [
       "Quantum object: dims=[[4], [4]], shape=(4, 4), type='oper', dtype=Dia, isherm=True\n",
       "Qobj data =\n",
       "[[3. 0. 0. 0.]\n",
       " [0. 3. 0. 0.]\n",
       " [0. 0. 3. 0.]\n",
       " [0. 0. 0. 3.]]"
      ]
     },
     "execution_count": 16,
     "metadata": {},
     "output_type": "execute_result"
    }
   ],
   "source": [
    "td_args_str = qutip.QobjEvo([Id, \"t + delta\"], args={\"delta\": 1.0})\n",
    "td_args_str(2)"
   ]
  },
  {
   "cell_type": "code",
   "execution_count": 17,
   "id": "cafaac9a",
   "metadata": {
    "execution": {
     "iopub.execute_input": "2025-04-16T02:18:36.686189Z",
     "iopub.status.busy": "2025-04-16T02:18:36.685941Z",
     "iopub.status.idle": "2025-04-16T02:18:36.689514Z",
     "shell.execute_reply": "2025-04-16T02:18:36.689061Z"
    }
   },
   "outputs": [
    {
     "data": {
      "text/latex": [
       "Quantum object: dims=[[4], [4]], shape=(4, 4), type='oper', dtype=Dia, isherm=True$$\\left(\\begin{array}{cc}12 & 0 & 0 & 0\\\\0 & 12 & 0 & 0\\\\0 & 0 & 12 & 0\\\\0 & 0 & 0 & 12\\end{array}\\right)$$"
      ],
      "text/plain": [
       "Quantum object: dims=[[4], [4]], shape=(4, 4), type='oper', dtype=Dia, isherm=True\n",
       "Qobj data =\n",
       "[[12.  0.  0.  0.]\n",
       " [ 0. 12.  0.  0.]\n",
       " [ 0.  0. 12.  0.]\n",
       " [ 0.  0.  0. 12.]]"
      ]
     },
     "execution_count": 17,
     "metadata": {},
     "output_type": "execute_result"
    }
   ],
   "source": [
    "td_args_str(2, {\"delta\": 10})"
   ]
  },
  {
   "cell_type": "markdown",
   "id": "21739d06",
   "metadata": {},
   "source": [
    "### Multiple arguments\n",
    "\n",
    "Each term in the `QobjEvo` has its own arguments even if they share the variable name:"
   ]
  },
  {
   "cell_type": "code",
   "execution_count": 18,
   "id": "bec246d8",
   "metadata": {
    "execution": {
     "iopub.execute_input": "2025-04-16T02:18:36.691071Z",
     "iopub.status.busy": "2025-04-16T02:18:36.690666Z",
     "iopub.status.idle": "2025-04-16T02:18:36.695225Z",
     "shell.execute_reply": "2025-04-16T02:18:36.694797Z"
    }
   },
   "outputs": [
    {
     "data": {
      "text/latex": [
       "Quantum object: dims=[[4], [4]], shape=(4, 4), type='oper', dtype=Dia, isherm=True$$\\left(\\begin{array}{cc}0 & 1j & 0 & 0\\\\-1j & 1 & 1.414j & 0\\\\0 & -1.414j & 2 & 1.732j\\\\0 & 0 & -1.732j & 3\\end{array}\\right)$$"
      ],
      "text/plain": [
       "Quantum object: dims=[[4], [4]], shape=(4, 4), type='oper', dtype=Dia, isherm=True\n",
       "Qobj data =\n",
       "[[0.+0.j         0.+1.j         0.+0.j         0.+0.j        ]\n",
       " [0.-1.j         1.+0.j         0.+1.41421356j 0.+0.j        ]\n",
       " [0.+0.j         0.-1.41421356j 2.+0.j         0.+1.73205081j]\n",
       " [0.+0.j         0.+0.j         0.-1.73205081j 3.+0.j        ]]"
      ]
     },
     "execution_count": 18,
     "metadata": {},
     "output_type": "execute_result"
    }
   ],
   "source": [
    "def f(t, w):\n",
    "    return np.exp(1j * np.pi * w * t)\n",
    "\n",
    "\n",
    "qevo = (\n",
    "    n\n",
    "    + a * qutip.coefficient(f, args={\"w\": 0.5})\n",
    "    + a.dag() * qutip.coefficient(f, args={\"w\": -0.5})\n",
    ")\n",
    "qevo(1)"
   ]
  },
  {
   "cell_type": "code",
   "execution_count": 19,
   "id": "8c54acd4",
   "metadata": {
    "execution": {
     "iopub.execute_input": "2025-04-16T02:18:36.696667Z",
     "iopub.status.busy": "2025-04-16T02:18:36.696374Z",
     "iopub.status.idle": "2025-04-16T02:18:36.699682Z",
     "shell.execute_reply": "2025-04-16T02:18:36.699308Z"
    }
   },
   "outputs": [
    {
     "data": {
      "text/latex": [
       "Quantum object: dims=[[4], [4]], shape=(4, 4), type='oper', dtype=Dia, isherm=True$$\\left(\\begin{array}{cc}0 & -1 & 0 & 0\\\\-1 & 1 & -1.414 & 0\\\\0 & -1.414 & 2 & -1.732\\\\0 & 0 & -1.732 & 3\\end{array}\\right)$$"
      ],
      "text/plain": [
       "Quantum object: dims=[[4], [4]], shape=(4, 4), type='oper', dtype=Dia, isherm=True\n",
       "Qobj data =\n",
       "[[ 0.         -1.          0.          0.        ]\n",
       " [-1.          1.         -1.41421356  0.        ]\n",
       " [ 0.         -1.41421356  2.         -1.73205081]\n",
       " [ 0.          0.         -1.73205081  3.        ]]"
      ]
     },
     "execution_count": 19,
     "metadata": {},
     "output_type": "execute_result"
    }
   ],
   "source": [
    "# However overwritting the args with change them all:\n",
    "qevo(1, w=1)"
   ]
  },
  {
   "cell_type": "markdown",
   "id": "25854bbf",
   "metadata": {},
   "source": [
    "### Using objects\n",
    "\n",
    "The argument value need not just be a number. Even strings can accept functions which Cython can call natively, such as the core `numpy` functions."
   ]
  },
  {
   "cell_type": "code",
   "execution_count": 20,
   "id": "bfddfe93",
   "metadata": {
    "execution": {
     "iopub.execute_input": "2025-04-16T02:18:36.701160Z",
     "iopub.status.busy": "2025-04-16T02:18:36.700858Z",
     "iopub.status.idle": "2025-04-16T02:18:36.704496Z",
     "shell.execute_reply": "2025-04-16T02:18:36.704124Z"
    }
   },
   "outputs": [
    {
     "data": {
      "text/latex": [
       "Quantum object: dims=[[4], [4]], shape=(4, 4), type='oper', dtype=Dia, isherm=True$$\\left(\\begin{array}{cc}1 & 0 & 0 & 0\\\\0 & 1 & 0 & 0\\\\0 & 0 & 1 & 0\\\\0 & 0 & 0 & 1\\end{array}\\right)$$"
      ],
      "text/plain": [
       "Quantum object: dims=[[4], [4]], shape=(4, 4), type='oper', dtype=Dia, isherm=True\n",
       "Qobj data =\n",
       "[[1. 0. 0. 0.]\n",
       " [0. 1. 0. 0.]\n",
       " [0. 0. 1. 0.]\n",
       " [0. 0. 0. 1.]]"
      ]
     },
     "execution_count": 20,
     "metadata": {},
     "output_type": "execute_result"
    }
   ],
   "source": [
    "td_args_str = qutip.QobjEvo([Id, \"f(t)\"], args={\"f\": np.cos})\n",
    "td_args_str(0.0)"
   ]
  },
  {
   "cell_type": "code",
   "execution_count": 21,
   "id": "807370d4",
   "metadata": {
    "execution": {
     "iopub.execute_input": "2025-04-16T02:18:36.706087Z",
     "iopub.status.busy": "2025-04-16T02:18:36.705701Z",
     "iopub.status.idle": "2025-04-16T02:18:36.709127Z",
     "shell.execute_reply": "2025-04-16T02:18:36.708734Z"
    }
   },
   "outputs": [
    {
     "data": {
      "text/latex": [
       "Quantum object: dims=[[4], [4]], shape=(4, 4), type='oper', dtype=Dia, isherm=True$$\\left(\\begin{array}{cc}-1 & 0 & 0 & 0\\\\0 & -1 & 0 & 0\\\\0 & 0 & -1 & 0\\\\0 & 0 & 0 & -1\\end{array}\\right)$$"
      ],
      "text/plain": [
       "Quantum object: dims=[[4], [4]], shape=(4, 4), type='oper', dtype=Dia, isherm=True\n",
       "Qobj data =\n",
       "[[-1.  0.  0.  0.]\n",
       " [ 0. -1.  0.  0.]\n",
       " [ 0.  0. -1.  0.]\n",
       " [ 0.  0.  0. -1.]]"
      ]
     },
     "execution_count": 21,
     "metadata": {},
     "output_type": "execute_result"
    }
   ],
   "source": [
    "td_args_str(np.pi)"
   ]
  },
  {
   "cell_type": "markdown",
   "id": "7181441f",
   "metadata": {},
   "source": [
    "### Dynamic arguments\n",
    "\n",
    "When `QobjEvo` is used in the solvers, the solver states, derivated values or other internal values can be made available as arguments.\n",
    "\n",
    "These values are set from method to the solver classes:\n",
    "\n",
    "Most solver support:\n",
    "\n",
    "  - `StateFeedback`: state as a `Qobj` or qutip `Data`.\n",
    "  - `ExpectFeedback`: Expectation value computed from the state.\n",
    "\n",
    "Additionnally `mcsolve` has `CollapseFeedback` to get the collaspe list and stochastic solvers have `WienerFeedback` that returns the Wiener function along the trajectory.\n",
    "\n",
    "They all take a `default` input that specifies the value to be used when the `QobjEvo` is accessed outside of a solver. This value must be a valid input for the `QobjEvo` -- it will be used during solver setup."
   ]
  },
  {
   "cell_type": "code",
   "execution_count": 22,
   "id": "fc4a18da",
   "metadata": {
    "execution": {
     "iopub.execute_input": "2025-04-16T02:18:36.710437Z",
     "iopub.status.busy": "2025-04-16T02:18:36.710275Z",
     "iopub.status.idle": "2025-04-16T02:18:36.716793Z",
     "shell.execute_reply": "2025-04-16T02:18:36.716385Z"
    }
   },
   "outputs": [
    {
     "name": "stdout",
     "output_type": "stream",
     "text": [
      "'state':\n",
      "Quantum object: dims=[[4], [4]], shape=(4, 4), type='oper', dtype=Dia, isherm=True\n",
      "Qobj data =\n",
      "[[0. 0. 0. 0.]\n",
      " [0. 0. 0. 0.]\n",
      " [0. 0. 1. 0.]\n",
      " [0. 0. 0. 0.]]\n",
      "'state':\n",
      "Quantum object: dims=[[4], [4]], shape=(4, 4), type='oper', dtype=Dia, isherm=True\n",
      "Qobj data =\n",
      "[[0. 0. 0. 0.]\n",
      " [0. 0. 0. 0.]\n",
      " [0. 0. 1. 0.]\n",
      " [0. 0. 0. 0.]]\n"
     ]
    },
    {
     "data": {
      "text/latex": [
       "Quantum object: dims=[[4], [4]], shape=(4, 4), type='oper', dtype=Dia, isherm=True$$\\left(\\begin{array}{cc}1.500 & 0 & 0 & 0\\\\0 & 1.500 & 0 & 0\\\\0 & 0 & 1.500 & 0\\\\0 & 0 & 0 & 1.500\\end{array}\\right)$$"
      ],
      "text/plain": [
       "Quantum object: dims=[[4], [4]], shape=(4, 4), type='oper', dtype=Dia, isherm=True\n",
       "Qobj data =\n",
       "[[1.5 0.  0.  0. ]\n",
       " [0.  1.5 0.  0. ]\n",
       " [0.  0.  1.5 0. ]\n",
       " [0.  0.  0.  1.5]]"
      ]
     },
     "execution_count": 22,
     "metadata": {},
     "output_type": "execute_result"
    }
   ],
   "source": [
    "args = {\"state\": qutip.MESolver.StateFeedback(default=qutip.fock_dm(4, 2))}\n",
    "\n",
    "\n",
    "def print_args(t, state):\n",
    "    print(f\"'state':\\n{state}\")\n",
    "    return t + state.norm()\n",
    "\n",
    "\n",
    "td_args = qutip.QobjEvo([Id, print_args], args=args)\n",
    "td_args(0.5)"
   ]
  },
  {
   "cell_type": "markdown",
   "id": "3f9fe33d",
   "metadata": {},
   "source": [
    "## Mathematics\n",
    "\n",
    "`QobjEvo` supports the basic mathematical operations which make sense for time-dependent quantum objects:\n",
    "  - addition of `QobjEvo` and `Qobj`\n",
    "  - subtraction of `QobjEvo` and `Qobj`\n",
    "  - product with `QobjEvo`, `Qobj` or scalars\n",
    "  - division by a scalar\n",
    "  - negation: `-x`\n",
    "  - conjugation: `QobjEvo.conj()`\n",
    "  - adjoint (dagger): `QobjEvo.dag()`\n",
    "  - transpose: `QobjEvo.trans`"
   ]
  },
  {
   "cell_type": "code",
   "execution_count": 23,
   "id": "300b7729",
   "metadata": {
    "execution": {
     "iopub.execute_input": "2025-04-16T02:18:36.718136Z",
     "iopub.status.busy": "2025-04-16T02:18:36.717972Z",
     "iopub.status.idle": "2025-04-16T02:18:36.721663Z",
     "shell.execute_reply": "2025-04-16T02:18:36.721176Z"
    }
   },
   "outputs": [
    {
     "data": {
      "text/latex": [
       "Quantum object: dims=[[4], [4]], shape=(4, 4), type='oper', dtype=Dia, isherm=True$$\\left(\\begin{array}{cc}0 & 2 & 0 & 0\\\\2 & 2 & 2.828 & 0\\\\0 & 2.828 & 4 & 3.464\\\\0 & 0 & 3.464 & 6\\end{array}\\right)$$"
      ],
      "text/plain": [
       "Quantum object: dims=[[4], [4]], shape=(4, 4), type='oper', dtype=Dia, isherm=True\n",
       "Qobj data =\n",
       "[[0.         2.         0.         0.        ]\n",
       " [2.         2.         2.82842712 0.        ]\n",
       " [0.         2.82842712 4.         3.46410162]\n",
       " [0.         0.         3.46410162 6.        ]]"
      ]
     },
     "execution_count": 23,
     "metadata": {},
     "output_type": "execute_result"
    }
   ],
   "source": [
    "(array_form * 2)(0)"
   ]
  },
  {
   "cell_type": "code",
   "execution_count": 24,
   "id": "4fcc9b4f",
   "metadata": {
    "execution": {
     "iopub.execute_input": "2025-04-16T02:18:36.723223Z",
     "iopub.status.busy": "2025-04-16T02:18:36.722930Z",
     "iopub.status.idle": "2025-04-16T02:18:36.726510Z",
     "shell.execute_reply": "2025-04-16T02:18:36.726031Z"
    }
   },
   "outputs": [
    {
     "data": {
      "text/latex": [
       "Quantum object: dims=[[4], [4]], shape=(4, 4), type='oper', dtype=Dia, isherm=False$$\\left(\\begin{array}{cc}1 & 2 & 0 & 0\\\\1 & 2 & 2.828 & 0\\\\0 & 1.414 & 3 & 3.464\\\\0 & 0 & 1.732 & 4\\end{array}\\right)$$"
      ],
      "text/plain": [
       "Quantum object: dims=[[4], [4]], shape=(4, 4), type='oper', dtype=Dia, isherm=False\n",
       "Qobj data =\n",
       "[[1.         2.         0.         0.        ]\n",
       " [1.         2.         2.82842712 0.        ]\n",
       " [0.         1.41421356 3.         3.46410162]\n",
       " [0.         0.         1.73205081 4.        ]]"
      ]
     },
     "execution_count": 24,
     "metadata": {},
     "output_type": "execute_result"
    }
   ],
   "source": [
    "(array_form + 1 + a)(0)"
   ]
  },
  {
   "cell_type": "markdown",
   "id": "b43b6c7c",
   "metadata": {},
   "source": [
    "## Superoperators\n",
    "\n",
    "The functions in `qutip.superoperator` can also be used for `QobjEvo`.  Of particular importance is `liouvillian`, as `mesolve` can take the Liouvillian as its first argument (and will be faster this way), in place of separated Hamiltonians and collapse operators."
   ]
  },
  {
   "cell_type": "code",
   "execution_count": 25,
   "id": "854a7626",
   "metadata": {
    "execution": {
     "iopub.execute_input": "2025-04-16T02:18:36.727899Z",
     "iopub.status.busy": "2025-04-16T02:18:36.727716Z",
     "iopub.status.idle": "2025-04-16T02:18:36.734536Z",
     "shell.execute_reply": "2025-04-16T02:18:36.734063Z"
    }
   },
   "outputs": [
    {
     "data": {
      "text/latex": [
       "Quantum object: dims=[[[4], [4]], [[4], [4]]], shape=(16, 16), type='super', dtype=Dia, isherm=False$$\\left(\\begin{array}{cc}0 & -1j & 0 & 0 & 1j & \\cdots & 0 & 0 & 0 & 0 & 0\\\\-1j & (-0.500-1j) & -1.414j & 0 & 0 & \\cdots & 0 & 0 & 0 & 0 & 0\\\\0 & -1.414j & (-2-2j) & -1.732j & 0 & \\cdots & 0 & 0 & 0 & 0 & 0\\\\0 & 0 & -1.732j & (-4.500-3j) & 0 & \\cdots & 0 & 0 & 0 & 0 & 0\\\\1j & 0 & 0 & 0 & (-0.500+1j) & \\cdots & 0 & 0 & 0 & 0 & 0\\\\\\vdots & \\vdots & \\vdots & \\vdots & \\vdots & \\ddots & \\vdots & \\vdots & \\vdots & \\vdots & \\vdots\\\\0 & 0 & 0 & 0 & 0 & \\cdots & (-0.500-1j) & 0 & 0 & 0 & 1.732j\\\\0 & 0 & 0 & 0 & 0 & \\cdots & 0 & (-4.500+3j) & -1j & 0 & 0\\\\0 & 0 & 0 & 0 & 0 & \\cdots & 0 & -1j & (-2+2j) & -1.414j & 0\\\\0 & 0 & 0 & 0 & 0 & \\cdots & 0 & 0 & -1.414j & (-0.500+1j) & -1.732j\\\\0 & 0 & 0 & 0 & 0 & \\cdots & 1.732j & 0 & 0 & -1.732j & 0\\end{array}\\right)$$"
      ],
      "text/plain": [
       "Quantum object: dims=[[[4], [4]], [[4], [4]]], shape=(16, 16), type='super', dtype=Dia, isherm=False\n",
       "Qobj data =\n",
       "[[ 0. +0.j          0. -1.j          0. +0.j          0. +0.j\n",
       "   0. +1.j          0. +0.j          0. +0.j          0. +0.j\n",
       "   0. +0.j          0. +0.j          0. +0.j          0. +0.j\n",
       "   0. +0.j          0. +0.j          0. +0.j          0. +0.j        ]\n",
       " [ 0. -1.j         -0.5-1.j          0. -1.41421356j  0. +0.j\n",
       "   0. +0.j          0. +1.j          0. +0.j          0. +0.j\n",
       "   0. +0.j          0. +0.j          0. +0.j          0. +0.j\n",
       "   0. +0.j          0. +0.j          0. +0.j          0. +0.j        ]\n",
       " [ 0. +0.j          0. -1.41421356j -2. -2.j          0. -1.73205081j\n",
       "   0. +0.j          0. +0.j          0. +1.j          0. +0.j\n",
       "   0. +0.j          0. +0.j          0. +0.j          0. +0.j\n",
       "   0. +0.j          0. +0.j          0. +0.j          0. +0.j        ]\n",
       " [ 0. +0.j          0. +0.j          0. -1.73205081j -4.5-3.j\n",
       "   0. +0.j          0. +0.j          0. +0.j          0. +1.j\n",
       "   0. +0.j          0. +0.j          0. +0.j          0. +0.j\n",
       "   0. +0.j          0. +0.j          0. +0.j          0. +0.j        ]\n",
       " [ 0. +1.j          0. +0.j          0. +0.j          0. +0.j\n",
       "  -0.5+1.j          0. -1.j          0. +0.j          0. +0.j\n",
       "   0. +1.41421356j  0. +0.j          0. +0.j          0. +0.j\n",
       "   0. +0.j          0. +0.j          0. +0.j          0. +0.j        ]\n",
       " [ 0. +0.j          0. +1.j          0. +0.j          0. +0.j\n",
       "   0. -1.j          0. +0.j          0. -1.41421356j  0. +0.j\n",
       "   0. +0.j          0. +1.41421356j  0. +0.j          0. +0.j\n",
       "   0. +0.j          0. +0.j          0. +0.j          0. +0.j        ]\n",
       " [ 0. +0.j          0. +0.j          0. +1.j          0. +0.j\n",
       "   0. +0.j          0. -1.41421356j -0.5-1.j          0. -1.73205081j\n",
       "   0. +0.j          0. +0.j          0. +1.41421356j  0. +0.j\n",
       "   0. +0.j          0. +0.j          0. +0.j          0. +0.j        ]\n",
       " [ 0. +0.j          0. +0.j          0. +0.j          0. +1.j\n",
       "   0. +0.j          0. +0.j          0. -1.73205081j -2. -2.j\n",
       "   0. +0.j          0. +0.j          0. +0.j          0. +1.41421356j\n",
       "   0. +0.j          0. +0.j          0. +0.j          0. +0.j        ]\n",
       " [ 0. +0.j          0. +0.j          0. +0.j          0. +0.j\n",
       "   0. +1.41421356j  0. +0.j          0. +0.j          0. +0.j\n",
       "  -2. +2.j          0. -1.j          0. +0.j          0. +0.j\n",
       "   0. +1.73205081j  0. +0.j          0. +0.j          0. +0.j        ]\n",
       " [ 0. +0.j          0. +0.j          0. +0.j          0. +0.j\n",
       "   0. +0.j          0. +1.41421356j  0. +0.j          0. +0.j\n",
       "   0. -1.j         -0.5+1.j          0. -1.41421356j  0. +0.j\n",
       "   0. +0.j          0. +1.73205081j  0. +0.j          0. +0.j        ]\n",
       " [ 0. +0.j          0. +0.j          0. +0.j          0. +0.j\n",
       "   0. +0.j          0. +0.j          0. +1.41421356j  0. +0.j\n",
       "   0. +0.j          0. -1.41421356j  0. +0.j          0. -1.73205081j\n",
       "   0. +0.j          0. +0.j          0. +1.73205081j  0. +0.j        ]\n",
       " [ 0. +0.j          0. +0.j          0. +0.j          0. +0.j\n",
       "   0. +0.j          0. +0.j          0. +0.j          0. +1.41421356j\n",
       "   0. +0.j          0. +0.j          0. -1.73205081j -0.5-1.j\n",
       "   0. +0.j          0. +0.j          0. +0.j          0. +1.73205081j]\n",
       " [ 0. +0.j          0. +0.j          0. +0.j          0. +0.j\n",
       "   0. +0.j          0. +0.j          0. +0.j          0. +0.j\n",
       "   0. +1.73205081j  0. +0.j          0. +0.j          0. +0.j\n",
       "  -4.5+3.j          0. -1.j          0. +0.j          0. +0.j        ]\n",
       " [ 0. +0.j          0. +0.j          0. +0.j          0. +0.j\n",
       "   0. +0.j          0. +0.j          0. +0.j          0. +0.j\n",
       "   0. +0.j          0. +1.73205081j  0. +0.j          0. +0.j\n",
       "   0. -1.j         -2. +2.j          0. -1.41421356j  0. +0.j        ]\n",
       " [ 0. +0.j          0. +0.j          0. +0.j          0. +0.j\n",
       "   0. +0.j          0. +0.j          0. +0.j          0. +0.j\n",
       "   0. +0.j          0. +0.j          0. +1.73205081j  0. +0.j\n",
       "   0. +0.j          0. -1.41421356j -0.5+1.j          0. -1.73205081j]\n",
       " [ 0. +0.j          0. +0.j          0. +0.j          0. +0.j\n",
       "   0. +0.j          0. +0.j          0. +0.j          0. +0.j\n",
       "   0. +0.j          0. +0.j          0. +0.j          0. +1.73205081j\n",
       "   0. +0.j          0. +0.j          0. -1.73205081j  0. +0.j        ]]"
      ]
     },
     "execution_count": 25,
     "metadata": {},
     "output_type": "execute_result"
    }
   ],
   "source": [
    "liouv = qutip.liouvillian(array_form, c_ops=[constant_form])\n",
    "liouv(0)"
   ]
  },
  {
   "cell_type": "markdown",
   "id": "0584582a",
   "metadata": {},
   "source": [
    "## Epilogue"
   ]
  },
  {
   "cell_type": "code",
   "execution_count": 26,
   "id": "7375a3a2",
   "metadata": {
    "execution": {
     "iopub.execute_input": "2025-04-16T02:18:36.735843Z",
     "iopub.status.busy": "2025-04-16T02:18:36.735668Z",
     "iopub.status.idle": "2025-04-16T02:18:37.321611Z",
     "shell.execute_reply": "2025-04-16T02:18:37.321130Z"
    }
   },
   "outputs": [
    {
     "name": "stdout",
     "output_type": "stream",
     "text": [
      "\n",
      "QuTiP: Quantum Toolbox in Python\n",
      "================================\n",
      "Copyright (c) QuTiP team 2011 and later.\n",
      "Current admin team: Alexander Pitchford, Nathan Shammah, Shahnawaz Ahmed, Neill Lambert, Eric Giguère, Boxi Li, Simon Cross, Asier Galicia, Paul Menczel, and Patrick Hopf.\n",
      "Board members: Daniel Burgarth, Robert Johansson, Anton F. Kockum, Franco Nori and Will Zeng.\n",
      "Original developers: R. J. Johansson & P. D. Nation.\n",
      "Previous lead developers: Chris Granade & A. Grimsmo.\n",
      "Currently developed through wide collaboration. See https://github.com/qutip for details.\n",
      "\n",
      "QuTiP Version:      5.2.0.dev0+4033695\n",
      "Numpy Version:      2.2.4\n",
      "Scipy Version:      1.15.2\n",
      "Cython Version:     3.0.12\n",
      "Matplotlib Version: 3.10.1\n",
      "Python Version:     3.12.0\n",
      "Number of CPUs:     4\n",
      "BLAS Info:          Generic\n",
      "INTEL MKL Ext:      None\n",
      "Platform Info:      Linux (x86_64)\n",
      "Installation path:  /home/runner/miniconda3/envs/test-environment-v5/lib/python3.12/site-packages/qutip\n",
      "\n",
      "Installed QuTiP family packages\n",
      "-------------------------------\n",
      "\n"
     ]
    },
    {
     "name": "stdout",
     "output_type": "stream",
     "text": [
      "qutip-jax: 0.1.1.dev5\n",
      "qutip-qtrl: 0.2.0.dev0+acb71a0\n",
      "qutip-qip: 0.5.0.dev0+d58a82d\n",
      "\n",
      "================================================================================\n",
      "Please cite QuTiP in your publication.\n",
      "================================================================================\n",
      "For your convenience a bibtex reference can be easily generated using `qutip.cite()`\n"
     ]
    }
   ],
   "source": [
    "qutip.about()"
   ]
  },
  {
   "cell_type": "code",
   "execution_count": null,
   "id": "4a0b15a2",
   "metadata": {},
   "outputs": [],
   "source": []
  }
 ],
 "metadata": {
  "jupytext": {
   "cell_metadata_filter": "-all",
   "notebook_metadata_filter": "-jupytext.cell_metadata_filter,-jupytext.notebook_metadata_filter"
  },
  "kernelspec": {
   "display_name": "Python 3 (ipykernel)",
   "language": "python",
   "name": "python3"
  },
  "language_info": {
   "codemirror_mode": {
    "name": "ipython",
    "version": 3
   },
   "file_extension": ".py",
   "mimetype": "text/x-python",
   "name": "python",
   "nbconvert_exporter": "python",
   "pygments_lexer": "ipython3",
   "version": "3.12.0"
  }
 },
 "nbformat": 4,
 "nbformat_minor": 5
}
