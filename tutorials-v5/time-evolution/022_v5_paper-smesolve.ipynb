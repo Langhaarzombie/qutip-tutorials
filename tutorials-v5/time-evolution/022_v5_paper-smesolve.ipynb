{
 "cells": [
  {
   "cell_type": "markdown",
   "id": "05449bfc",
   "metadata": {},
   "source": [
    "# QuTiPv5 Paper Example: Stochastic Solver - Homodyne Detection\n",
    "\n",
    "Authors: Maximilian Meyer-Mölleringhof (m.meyermoelleringhof@gmail.com), Neill Lambert (nwlambert@gmail.com)\n",
    "\n",
    "## Introduction\n",
    "\n",
    "When modelling an open quantum system, stochastic noise can be used to simulate a large range of phenomena.\n",
    "In the `smesolve()` solver, noise is introduced by continuous measurement.\n",
    "This allows us to generate the trajectory evolution of a quantum system conditioned on a noisy measurement record.\n",
    "Historically speaking, such models were used by the quantum optics community to model homodyne and heterodyne detection of light emitted from a cavity.\n",
    "However, this solver is of course quite general and can thus also be applied to other problems.\n",
    "\n",
    "In this example we look at an optical cavity whose output is subject to homodyne detection.\n",
    "Such a cavity obeys the general stochastic master equation\n",
    "\n",
    "$d \\rho(t) = -i [H, \\rho(t)] dt + \\mathcal{D}[a] \\rho (t) dt + \\mathcal{H}[a] \\rho\\, dW(t)$\n",
    "\n",
    "with the Hamiltonian\n",
    "\n",
    "$H = \\Delta a^\\dagger a$\n",
    "\n",
    "and the Lindblad dissipator\n",
    "\n",
    "$\\mathcal{D}[a] = a \\rho a^\\dagger - \\dfrac{1}{2} a^\\dagger a \\rho - \\dfrac{1}{2} \\rho a^\\dagger a$.\n",
    "\n",
    "The stochastic part\n",
    "\n",
    "$\\mathcal{H}[a]\\rho = a \\rho + \\rho a^\\dagger - tr[a \\rho + \\rho a^\\dagger]$\n",
    "\n",
    "captures the conditioning of the trajectory through continuous monitoring of the operator $a$.\n",
    "The term $dW(t)$ is the increment of a Wiener process that obeys $\\mathbb{E}[dW] = 0$ and $\\mathbb{E}[dW^2] = dt$.\n",
    "\n",
    "Note that a similiar example is available in the [QuTiP user guide](https://qutip.readthedocs.io/en/qutip-5.0.x/guide/dynamics/dynamics-stochastic.html#stochastic-master-equation)."
   ]
  },
  {
   "cell_type": "code",
   "execution_count": 1,
   "id": "9b8f6430",
   "metadata": {
    "execution": {
     "iopub.execute_input": "2025-04-16T02:14:13.377150Z",
     "iopub.status.busy": "2025-04-16T02:14:13.376980Z",
     "iopub.status.idle": "2025-04-16T02:14:14.122298Z",
     "shell.execute_reply": "2025-04-16T02:14:14.121727Z"
    }
   },
   "outputs": [],
   "source": [
    "import numpy as np\n",
    "from matplotlib import pyplot as plt\n",
    "from qutip import about, coherent, destroy, mesolve, smesolve\n",
    "\n",
    "%matplotlib inline"
   ]
  },
  {
   "cell_type": "markdown",
   "id": "d8b65230",
   "metadata": {},
   "source": [
    "## Problem Parameters"
   ]
  },
  {
   "cell_type": "code",
   "execution_count": 2,
   "id": "a40e1bfe",
   "metadata": {
    "execution": {
     "iopub.execute_input": "2025-04-16T02:14:14.124090Z",
     "iopub.status.busy": "2025-04-16T02:14:14.123818Z",
     "iopub.status.idle": "2025-04-16T02:14:14.126753Z",
     "shell.execute_reply": "2025-04-16T02:14:14.126269Z"
    }
   },
   "outputs": [],
   "source": [
    "N = 20  # dimensions of Hilbert space\n",
    "delta = 10 * np.pi  # cavity detuning\n",
    "kappa = 1  # decay rate\n",
    "A = 4  # initial coherent state intensity"
   ]
  },
  {
   "cell_type": "code",
   "execution_count": 3,
   "id": "5cbdbea1",
   "metadata": {
    "execution": {
     "iopub.execute_input": "2025-04-16T02:14:14.128073Z",
     "iopub.status.busy": "2025-04-16T02:14:14.127915Z",
     "iopub.status.idle": "2025-04-16T02:14:14.130930Z",
     "shell.execute_reply": "2025-04-16T02:14:14.130539Z"
    }
   },
   "outputs": [],
   "source": [
    "a = destroy(N)\n",
    "x = a + a.dag()  # operator for expectation value\n",
    "H = delta * a.dag() * a  # Hamiltonian\n",
    "mon_op = np.sqrt(kappa) * a  # continiously monitored operators"
   ]
  },
  {
   "cell_type": "markdown",
   "id": "9f0eccd2",
   "metadata": {},
   "source": [
    "## Solving for the Time Evolution\n",
    "\n",
    "We calculate the predicted trajectory conditioned on the continuous monitoring of the operator $a$.\n",
    "This is compared to the regular `mesolve()` solver for the same model but without resolving conditioned trajectories."
   ]
  },
  {
   "cell_type": "code",
   "execution_count": 4,
   "id": "80619106",
   "metadata": {
    "execution": {
     "iopub.execute_input": "2025-04-16T02:14:14.132211Z",
     "iopub.status.busy": "2025-04-16T02:14:14.132064Z",
     "iopub.status.idle": "2025-04-16T02:14:14.136323Z",
     "shell.execute_reply": "2025-04-16T02:14:14.135812Z"
    }
   },
   "outputs": [],
   "source": [
    "rho_0 = coherent(N, np.sqrt(A))  # initial state\n",
    "times = np.arange(0, 1, 0.0025)\n",
    "num_traj = 500  # number of computed trajectories\n",
    "opt = {\"dt\": 0.00125, \"store_measurement\": True, \"map\": \"parallel\"}"
   ]
  },
  {
   "cell_type": "code",
   "execution_count": 5,
   "id": "c6815f69",
   "metadata": {
    "execution": {
     "iopub.execute_input": "2025-04-16T02:14:14.137950Z",
     "iopub.status.busy": "2025-04-16T02:14:14.137752Z",
     "iopub.status.idle": "2025-04-16T02:14:14.221229Z",
     "shell.execute_reply": "2025-04-16T02:14:14.220704Z"
    }
   },
   "outputs": [],
   "source": [
    "me_solution = mesolve(H, rho_0, times, c_ops=[mon_op], e_ops=[x])"
   ]
  },
  {
   "cell_type": "code",
   "execution_count": 6,
   "id": "933326cc",
   "metadata": {
    "execution": {
     "iopub.execute_input": "2025-04-16T02:14:14.223858Z",
     "iopub.status.busy": "2025-04-16T02:14:14.223399Z",
     "iopub.status.idle": "2025-04-16T02:14:23.408309Z",
     "shell.execute_reply": "2025-04-16T02:14:23.407810Z"
    }
   },
   "outputs": [
    {
     "name": "stdout",
     "output_type": "stream",
     "text": [
      "10.0%. Run time:   0.97s. Est. time left: 00:00:00:08\n"
     ]
    },
    {
     "name": "stdout",
     "output_type": "stream",
     "text": [
      "20.0%. Run time:   1.87s. Est. time left: 00:00:00:07\n"
     ]
    },
    {
     "name": "stdout",
     "output_type": "stream",
     "text": [
      "30.0%. Run time:   2.79s. Est. time left: 00:00:00:06\n"
     ]
    },
    {
     "name": "stdout",
     "output_type": "stream",
     "text": [
      "40.0%. Run time:   3.68s. Est. time left: 00:00:00:05\n"
     ]
    },
    {
     "name": "stdout",
     "output_type": "stream",
     "text": [
      "50.0%. Run time:   4.63s. Est. time left: 00:00:00:04\n"
     ]
    },
    {
     "name": "stdout",
     "output_type": "stream",
     "text": [
      "60.0%. Run time:   5.51s. Est. time left: 00:00:00:03\n"
     ]
    },
    {
     "name": "stdout",
     "output_type": "stream",
     "text": [
      "70.0%. Run time:   6.43s. Est. time left: 00:00:00:02\n"
     ]
    },
    {
     "name": "stdout",
     "output_type": "stream",
     "text": [
      "80.0%. Run time:   7.35s. Est. time left: 00:00:00:01\n"
     ]
    },
    {
     "name": "stdout",
     "output_type": "stream",
     "text": [
      "90.0%. Run time:   8.24s. Est. time left: 00:00:00:00\n"
     ]
    },
    {
     "name": "stdout",
     "output_type": "stream",
     "text": [
      "100.0%. Run time:   9.17s. Est. time left: 00:00:00:00\n"
     ]
    },
    {
     "name": "stdout",
     "output_type": "stream",
     "text": [
      "Total run time:   9.17s\n"
     ]
    }
   ],
   "source": [
    "stoc_solution = smesolve(\n",
    "    H, rho_0, times, sc_ops=[mon_op], e_ops=[x], ntraj=num_traj, options=opt\n",
    ")"
   ]
  },
  {
   "cell_type": "markdown",
   "id": "4c90c300",
   "metadata": {},
   "source": [
    "## Comparison of Results\n",
    "\n",
    "We plot the averaged homodyne current $J_x = \\langle x \\rangle + dW / dt$ and the average system behaviour $\\langle x \\rangle$ for 500 trajectories.\n",
    "This is compared with the prediction of the regular `mesolve()` solver that does not include the conditioned trajectories.\n",
    "Since the conditioned expectation values do not depend on the trajectories, we expect that this reproduces the result of the standard `mesolve()`."
   ]
  },
  {
   "cell_type": "code",
   "execution_count": 7,
   "id": "d77942df",
   "metadata": {
    "execution": {
     "iopub.execute_input": "2025-04-16T02:14:23.409956Z",
     "iopub.status.busy": "2025-04-16T02:14:23.409717Z",
     "iopub.status.idle": "2025-04-16T02:14:23.414106Z",
     "shell.execute_reply": "2025-04-16T02:14:23.413609Z"
    }
   },
   "outputs": [],
   "source": [
    "stoc_meas_mean = np.array(stoc_solution.measurement).mean(axis=0)[0, :].real"
   ]
  },
  {
   "cell_type": "code",
   "execution_count": 8,
   "id": "13ce26b1",
   "metadata": {
    "execution": {
     "iopub.execute_input": "2025-04-16T02:14:23.415733Z",
     "iopub.status.busy": "2025-04-16T02:14:23.415363Z",
     "iopub.status.idle": "2025-04-16T02:14:23.585060Z",
     "shell.execute_reply": "2025-04-16T02:14:23.584503Z"
    }
   },
   "outputs": [
    {
     "data": {
      "image/png": "[encoded data removed]",
      "text/plain": [
       "<Figure size 640x480 with 1 Axes>"
      ]
     },
     "metadata": {},
     "output_type": "display_data"
    }
   ],
   "source": [
    "plt.figure()\n",
    "plt.plot(times[1:], stoc_meas_mean, lw=2, label=r\"$J_x$\")\n",
    "plt.plot(times, stoc_solution.expect[0], label=r\"$\\langle x \\rangle$\")\n",
    "plt.plot(\n",
    "    times,\n",
    "    me_solution.expect[0],\n",
    "    \"--\",\n",
    "    color=\"gray\",\n",
    "    label=r\"$\\langle x \\rangle$ mesolve\",\n",
    ")\n",
    "\n",
    "plt.legend()\n",
    "plt.xlabel(r\"$t \\cdot \\kappa$\")\n",
    "plt.show()"
   ]
  },
  {
   "cell_type": "markdown",
   "id": "eb5f11b9",
   "metadata": {},
   "source": [
    "## References\n",
    "\n",
    "[1] [QuTiP 5: The Quantum Toolbox in Python](https://arxiv.org/abs/2412.04705)"
   ]
  },
  {
   "cell_type": "markdown",
   "id": "c27c836a",
   "metadata": {},
   "source": [
    "## About"
   ]
  },
  {
   "cell_type": "code",
   "execution_count": 9,
   "id": "3fb7731a",
   "metadata": {
    "execution": {
     "iopub.execute_input": "2025-04-16T02:14:23.586925Z",
     "iopub.status.busy": "2025-04-16T02:14:23.586533Z",
     "iopub.status.idle": "2025-04-16T02:14:24.194159Z",
     "shell.execute_reply": "2025-04-16T02:14:24.193606Z"
    }
   },
   "outputs": [
    {
     "name": "stdout",
     "output_type": "stream",
     "text": [
      "\n",
      "QuTiP: Quantum Toolbox in Python\n",
      "================================\n",
      "Copyright (c) QuTiP team 2011 and later.\n",
      "Current admin team: Alexander Pitchford, Nathan Shammah, Shahnawaz Ahmed, Neill Lambert, Eric Giguère, Boxi Li, Simon Cross, Asier Galicia, Paul Menczel, and Patrick Hopf.\n",
      "Board members: Daniel Burgarth, Robert Johansson, Anton F. Kockum, Franco Nori and Will Zeng.\n",
      "Original developers: R. J. Johansson & P. D. Nation.\n",
      "Previous lead developers: Chris Granade & A. Grimsmo.\n",
      "Currently developed through wide collaboration. See https://github.com/qutip for details.\n",
      "\n",
      "QuTiP Version:      5.2.0.dev0+4033695\n",
      "Numpy Version:      2.2.4\n",
      "Scipy Version:      1.15.2\n",
      "Cython Version:     3.0.12\n",
      "Matplotlib Version: 3.10.1\n",
      "Python Version:     3.12.0\n",
      "Number of CPUs:     4\n",
      "BLAS Info:          Generic\n",
      "INTEL MKL Ext:      None\n",
      "Platform Info:      Linux (x86_64)\n",
      "Installation path:  /home/runner/miniconda3/envs/test-environment-v5/lib/python3.12/site-packages/qutip\n",
      "\n",
      "Installed QuTiP family packages\n",
      "-------------------------------\n",
      "\n"
     ]
    },
    {
     "name": "stdout",
     "output_type": "stream",
     "text": [
      "qutip-jax: 0.1.1.dev5\n",
      "qutip-qtrl: 0.2.0.dev0+acb71a0\n",
      "qutip-qip: 0.5.0.dev0+d58a82d\n",
      "\n",
      "================================================================================\n",
      "Please cite QuTiP in your publication.\n",
      "================================================================================\n",
      "For your convenience a bibtex reference can be easily generated using `qutip.cite()`\n"
     ]
    }
   ],
   "source": [
    "about()"
   ]
  },
  {
   "cell_type": "markdown",
   "id": "24e42568",
   "metadata": {},
   "source": [
    "## Testing"
   ]
  },
  {
   "cell_type": "code",
   "execution_count": 10,
   "id": "d1ec8379",
   "metadata": {
    "execution": {
     "iopub.execute_input": "2025-04-16T02:14:24.196025Z",
     "iopub.status.busy": "2025-04-16T02:14:24.195499Z",
     "iopub.status.idle": "2025-04-16T02:14:24.198471Z",
     "shell.execute_reply": "2025-04-16T02:14:24.198006Z"
    }
   },
   "outputs": [],
   "source": [
    "assert np.allclose(\n",
    "    stoc_solution.expect[0], me_solution.expect[0], atol=1e-1\n",
    "), \"smesolve and mesolve do not preoduce the same trajectory.\""
   ]
  }
 ],
 "metadata": {
  "jupytext": {
   "cell_metadata_filter": "-all",
   "notebook_metadata_filter": "-jupytext.cell_metadata_filter,-jupytext.notebook_metadata_filter"
  },
  "kernelspec": {
   "display_name": "Python 3 (ipykernel)",
   "language": "python",
   "name": "python3"
  },
  "language_info": {
   "codemirror_mode": {
    "name": "ipython",
    "version": 3
   },
   "file_extension": ".py",
   "mimetype": "text/x-python",
   "name": "python",
   "nbconvert_exporter": "python",
   "pygments_lexer": "ipython3",
   "version": "3.12.0"
  }
 },
 "nbformat": 4,
 "nbformat_minor": 5
}
