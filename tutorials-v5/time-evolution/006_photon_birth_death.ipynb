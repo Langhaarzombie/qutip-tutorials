{
 "cells": [
  {
   "cell_type": "markdown",
   "id": "f3d620a2",
   "metadata": {},
   "source": [
    "# Monte Carlo Solver: Birth and Death of Photons in a Cavity"
   ]
  },
  {
   "cell_type": "markdown",
   "id": "6d9394c6",
   "metadata": {},
   "source": [
    "Authors: J.R. Johansson and P.D. Nation\n",
    "\n",
    "Modifications: C. Staufenbiel (2022)\n",
    "\n",
    "### Introduction\n",
    "\n",
    "In this tutorial we demonstrate the *Monte Carlo Solver* functionality implemented in `qutip.mcsolve()`. For more information on the *MC Solver* refer to the [QuTiP documentation](https://qutip.readthedocs.io/en/latest/guide/dynamics/dynamics-monte.html). \n",
    "\n",
    "We aim to reproduce the experimental results from:\n",
    "\n",
    "\n",
    "\n",
    ">  Gleyzes et al., \"Quantum jumps of light recording the birth and death of a photon in a cavity\", [Nature **446**,297 (2007)](http://dx.doi.org/10.1038/nature05589).\n",
    "\n",
    "\n",
    "In particular, we will simulate the creation and annihilation of photons inside an optical cavity due to the thermal environment when the initial cavity is a single-photon Fock state $ |1\\rangle$, as presented in Fig. 3 from the article.\n",
    "\n",
    "## Imports\n",
    "First we import the relevant functionalities:"
   ]
  },
  {
   "cell_type": "code",
   "execution_count": 1,
   "id": "c1d627c4",
   "metadata": {
    "execution": {
     "iopub.execute_input": "2025-04-16T02:16:40.891251Z",
     "iopub.status.busy": "2025-04-16T02:16:40.890723Z",
     "iopub.status.idle": "2025-04-16T02:16:41.612239Z",
     "shell.execute_reply": "2025-04-16T02:16:41.611728Z"
    }
   },
   "outputs": [],
   "source": [
    "import matplotlib.pyplot as plt\n",
    "import numpy as np\n",
    "from qutip import about, basis, destroy, mcsolve, mesolve\n",
    "\n",
    "%matplotlib inline"
   ]
  },
  {
   "cell_type": "markdown",
   "id": "a89c44d9",
   "metadata": {},
   "source": [
    "## System Setup\n",
    "In this example, we consider a simple oscillator Hamiltonian $H = a^\\dagger a$ and one initial photon in the cavity."
   ]
  },
  {
   "cell_type": "code",
   "execution_count": 2,
   "id": "7059b3d0",
   "metadata": {
    "execution": {
     "iopub.execute_input": "2025-04-16T02:16:41.614028Z",
     "iopub.status.busy": "2025-04-16T02:16:41.613808Z",
     "iopub.status.idle": "2025-04-16T02:16:41.617085Z",
     "shell.execute_reply": "2025-04-16T02:16:41.616599Z"
    }
   },
   "outputs": [],
   "source": [
    "N = 5  # number of modes in the\n",
    "a = destroy(N)  # Destroy operator\n",
    "H = a.dag() * a  # oscillator Hamiltonian\n",
    "psi0 = basis(N, 1)  # Initial Fock state with one photon"
   ]
  },
  {
   "cell_type": "markdown",
   "id": "67f20d18",
   "metadata": {},
   "source": [
    "The coupling to the external heat bath is described by a coupling constant $\\kappa$ and the temperature of the heat bath is defined via the average photon number $\\langle n \\rangle$. In QuTiP the interaction between the system and heat bath is defined via the collapse operators. For this example, there are two collapse operators. One for photon annihilation ($C_1$) and one for photon creation ($C_2$): \n",
    "\n",
    "$C_1 = \\sqrt{\\kappa (1 + \\langle n \\rangle)} \\; a$\n",
    "\n",
    "$C_2 = \\sqrt{\\kappa \\langle n \\rangle} \\; a^\\dagger$\n",
    "\n",
    "We give some numerical values to the coupling constant $\\kappa$ and the average photon number of the heat bath $\\langle n \\rangle$."
   ]
  },
  {
   "cell_type": "code",
   "execution_count": 3,
   "id": "53061a75",
   "metadata": {
    "execution": {
     "iopub.execute_input": "2025-04-16T02:16:41.618524Z",
     "iopub.status.busy": "2025-04-16T02:16:41.618218Z",
     "iopub.status.idle": "2025-04-16T02:16:41.621021Z",
     "shell.execute_reply": "2025-04-16T02:16:41.620613Z"
    }
   },
   "outputs": [],
   "source": [
    "kappa = 1.0 / 0.129  # Coupling rate to heat bath\n",
    "nth = 0.063  # Temperature with <n>=0.063\n",
    "\n",
    "# collapse operators for the thermal bath\n",
    "c_ops = []\n",
    "c_ops.append(np.sqrt(kappa * (1 + nth)) * a)\n",
    "c_ops.append(np.sqrt(kappa * nth) * a.dag())"
   ]
  },
  {
   "cell_type": "markdown",
   "id": "f9434735",
   "metadata": {},
   "source": [
    "## Monte Carlo Simulation\n",
    "The *Monte Carlo Solver* allows simulating an individual realization of the system dynamics. This is in contrast to e.g. the *Master Equation Solver*, which solves for the ensemble average over many identical realizations of the system. `qutip.mcsolve()` also offers to average over many runs of identical system setups by passing the *number of trajectories* `ntraj` to the function. If we choose `ntraj = 1` the system is only simulated once and we see it's dynamics. If we choose a large value for `ntraj`, the predictions will be averaged and therefore converge to the solution from `qutip.mesolve()`. \n",
    "\n",
    "We can also pass a list to `ntraj`. `qutip.mcsolve()` will calculate the results for the specified number of trajectories. Note that the entries need to be in ascending order, as the previous results are reused.\n",
    "\n",
    "Here we are interested in the time evolution of $a^\\dagger a$ for different numbers of `ntraj`. We will compare the results to the predictions by `qutip.mesolve()."
   ]
  },
  {
   "cell_type": "code",
   "execution_count": 4,
   "id": "d8b7fdd5",
   "metadata": {
    "execution": {
     "iopub.execute_input": "2025-04-16T02:16:41.622536Z",
     "iopub.status.busy": "2025-04-16T02:16:41.622237Z",
     "iopub.status.idle": "2025-04-16T02:16:42.472808Z",
     "shell.execute_reply": "2025-04-16T02:16:42.472377Z"
    }
   },
   "outputs": [
    {
     "name": "stdout",
     "output_type": "stream",
     "text": [
      "100.0%. Run time:   0.00s. Est. time left: 00:00:00:00\n"
     ]
    },
    {
     "name": "stdout",
     "output_type": "stream",
     "text": [
      "Total run time:   0.00s\n",
      "20.0%. Run time:   0.00s. Est. time left: 00:00:00:00\n"
     ]
    },
    {
     "name": "stdout",
     "output_type": "stream",
     "text": [
      "40.0%. Run time:   0.00s. Est. time left: 00:00:00:00\n"
     ]
    },
    {
     "name": "stdout",
     "output_type": "stream",
     "text": [
      "60.0%. Run time:   0.00s. Est. time left: 00:00:00:00\n"
     ]
    },
    {
     "name": "stdout",
     "output_type": "stream",
     "text": [
      "80.0%. Run time:   0.00s. Est. time left: 00:00:00:00\n"
     ]
    },
    {
     "name": "stdout",
     "output_type": "stream",
     "text": [
      "100.0%. Run time:   0.01s. Est. time left: 00:00:00:00\n"
     ]
    },
    {
     "name": "stdout",
     "output_type": "stream",
     "text": [
      "Total run time:   0.01s\n",
      "13.3%. Run time:   0.00s. Est. time left: 00:00:00:00\n"
     ]
    },
    {
     "name": "stdout",
     "output_type": "stream",
     "text": [
      "20.0%. Run time:   0.00s. Est. time left: 00:00:00:00\n"
     ]
    },
    {
     "name": "stdout",
     "output_type": "stream",
     "text": [
      "33.3%. Run time:   0.00s. Est. time left: 00:00:00:00\n"
     ]
    },
    {
     "name": "stdout",
     "output_type": "stream",
     "text": [
      "40.0%. Run time:   0.01s. Est. time left: 00:00:00:00\n"
     ]
    },
    {
     "name": "stdout",
     "output_type": "stream",
     "text": [
      "53.3%. Run time:   0.01s. Est. time left: 00:00:00:00\n"
     ]
    },
    {
     "name": "stdout",
     "output_type": "stream",
     "text": [
      "60.0%. Run time:   0.01s. Est. time left: 00:00:00:00\n"
     ]
    },
    {
     "name": "stdout",
     "output_type": "stream",
     "text": [
      "73.3%. Run time:   0.01s. Est. time left: 00:00:00:00\n"
     ]
    },
    {
     "name": "stdout",
     "output_type": "stream",
     "text": [
      "80.0%. Run time:   0.01s. Est. time left: 00:00:00:00\n"
     ]
    },
    {
     "name": "stdout",
     "output_type": "stream",
     "text": [
      "93.3%. Run time:   0.02s. Est. time left: 00:00:00:00\n"
     ]
    },
    {
     "name": "stdout",
     "output_type": "stream",
     "text": [
      "100.0%. Run time:   0.02s. Est. time left: 00:00:00:00\n"
     ]
    },
    {
     "name": "stdout",
     "output_type": "stream",
     "text": [
      "Total run time:   0.02s\n",
      "10.1%. Run time:   0.08s. Est. time left: 00:00:00:00\n"
     ]
    },
    {
     "name": "stdout",
     "output_type": "stream",
     "text": [
      "20.0%. Run time:   0.16s. Est. time left: 00:00:00:00\n"
     ]
    },
    {
     "name": "stderr",
     "output_type": "stream",
     "text": [
      "/home/runner/miniconda3/envs/test-environment-v5/lib/python3.12/site-packages/qutip/solver/solver_base.py:576: FutureWarning: e_ops will be keyword only from qutip 5.3 for all solver\n",
      "  warnings.warn(\n"
     ]
    },
    {
     "name": "stdout",
     "output_type": "stream",
     "text": [
      "30.1%. Run time:   0.24s. Est. time left: 00:00:00:00\n"
     ]
    },
    {
     "name": "stdout",
     "output_type": "stream",
     "text": [
      "40.0%. Run time:   0.32s. Est. time left: 00:00:00:00\n"
     ]
    },
    {
     "name": "stdout",
     "output_type": "stream",
     "text": [
      "50.0%. Run time:   0.40s. Est. time left: 00:00:00:00\n"
     ]
    },
    {
     "name": "stdout",
     "output_type": "stream",
     "text": [
      "60.1%. Run time:   0.48s. Est. time left: 00:00:00:00\n"
     ]
    },
    {
     "name": "stdout",
     "output_type": "stream",
     "text": [
      "70.0%. Run time:   0.56s. Est. time left: 00:00:00:00\n"
     ]
    },
    {
     "name": "stdout",
     "output_type": "stream",
     "text": [
      "80.1%. Run time:   0.64s. Est. time left: 00:00:00:00\n"
     ]
    },
    {
     "name": "stdout",
     "output_type": "stream",
     "text": [
      "90.0%. Run time:   0.72s. Est. time left: 00:00:00:00\n"
     ]
    },
    {
     "name": "stdout",
     "output_type": "stream",
     "text": [
      "100.0%. Run time:   0.80s. Est. time left: 00:00:00:00\n"
     ]
    },
    {
     "name": "stdout",
     "output_type": "stream",
     "text": [
      "Total run time:   0.80s\n"
     ]
    }
   ],
   "source": [
    "ntraj = [1, 5, 15, 904]  # number of MC trajectories\n",
    "mc = []  # MC results\n",
    "tlist = np.linspace(0, 0.8, 100)\n",
    "\n",
    "# Solve using MCSolve for different ntraj\n",
    "for n in ntraj:\n",
    "    result = mcsolve(H, psi0, tlist, c_ops, [a.dag() * a], ntraj=n)\n",
    "    mc.append(result)\n",
    "me = mesolve(H, psi0, tlist, c_ops, [a.dag() * a])"
   ]
  },
  {
   "cell_type": "markdown",
   "id": "b100ed2f",
   "metadata": {},
   "source": [
    "## Reproduce plot from article\n",
    "Using the above results we can reproduce Fig. 3 from the article mentioned above. The individual figures plot the time evolution of $\\langle a^\\dagger a \\rangle$ for the system we set up above. The effect of using different `ntraj` for the simulation using `mcsolve` is shown. When choosing `ntraj = 1` we see the dynamics of one particular quantum system. If `ntraj > 1` the output is averaged over the number of realizations. "
   ]
  },
  {
   "cell_type": "code",
   "execution_count": 5,
   "id": "c45a25fb",
   "metadata": {
    "execution": {
     "iopub.execute_input": "2025-04-16T02:16:42.474348Z",
     "iopub.status.busy": "2025-04-16T02:16:42.474189Z",
     "iopub.status.idle": "2025-04-16T02:16:42.832509Z",
     "shell.execute_reply": "2025-04-16T02:16:42.831958Z"
    }
   },
   "outputs": [
    {
     "data": {
      "image/png": "[encoded data removed]",
      "text/plain": [
       "<Figure size 800x800 with 4 Axes>"
      ]
     },
     "metadata": {},
     "output_type": "display_data"
    }
   ],
   "source": [
    "fig = plt.figure(figsize=(8, 8), frameon=False)\n",
    "plt.subplots_adjust(hspace=0.0)\n",
    "\n",
    "for i in range(len(ntraj)):\n",
    "    ax = plt.subplot(4, 1, i + 1)\n",
    "    ax.plot(\n",
    "        tlist, mc[i].expect[0], \"b\", lw=2,\n",
    "        label=\"#trajectories={}\".format(ntraj[i])\n",
    "    )\n",
    "    ax.plot(tlist, me.expect[0], \"r--\", lw=2)\n",
    "    ax.set_yticks([0, 0.5, 1])\n",
    "    ax.set_ylim([-0.1, 1.1])\n",
    "    ax.set_ylabel(r\"$\\langle P_{1}(t)\\rangle$\")\n",
    "    ax.legend()\n",
    "\n",
    "ax.set_xlabel(r\"Time (s)\");"
   ]
  },
  {
   "cell_type": "markdown",
   "id": "4e43869a",
   "metadata": {},
   "source": [
    "## About"
   ]
  },
  {
   "cell_type": "code",
   "execution_count": 6,
   "id": "6b619483",
   "metadata": {
    "execution": {
     "iopub.execute_input": "2025-04-16T02:16:42.834004Z",
     "iopub.status.busy": "2025-04-16T02:16:42.833833Z",
     "iopub.status.idle": "2025-04-16T02:16:43.429677Z",
     "shell.execute_reply": "2025-04-16T02:16:43.429223Z"
    }
   },
   "outputs": [
    {
     "name": "stdout",
     "output_type": "stream",
     "text": [
      "\n",
      "QuTiP: Quantum Toolbox in Python\n",
      "================================\n",
      "Copyright (c) QuTiP team 2011 and later.\n",
      "Current admin team: Alexander Pitchford, Nathan Shammah, Shahnawaz Ahmed, Neill Lambert, Eric Giguère, Boxi Li, Simon Cross, Asier Galicia, Paul Menczel, and Patrick Hopf.\n",
      "Board members: Daniel Burgarth, Robert Johansson, Anton F. Kockum, Franco Nori and Will Zeng.\n",
      "Original developers: R. J. Johansson & P. D. Nation.\n",
      "Previous lead developers: Chris Granade & A. Grimsmo.\n",
      "Currently developed through wide collaboration. See https://github.com/qutip for details.\n",
      "\n",
      "QuTiP Version:      5.2.0.dev0+4033695\n",
      "Numpy Version:      2.2.4\n",
      "Scipy Version:      1.15.2\n",
      "Cython Version:     3.0.12\n",
      "Matplotlib Version: 3.10.1\n",
      "Python Version:     3.12.0\n",
      "Number of CPUs:     4\n",
      "BLAS Info:          Generic\n",
      "INTEL MKL Ext:      None\n",
      "Platform Info:      Linux (x86_64)\n",
      "Installation path:  /home/runner/miniconda3/envs/test-environment-v5/lib/python3.12/site-packages/qutip\n",
      "\n",
      "Installed QuTiP family packages\n",
      "-------------------------------\n",
      "\n"
     ]
    },
    {
     "name": "stdout",
     "output_type": "stream",
     "text": [
      "qutip-jax: 0.1.1.dev5\n",
      "qutip-qtrl: 0.2.0.dev0+acb71a0\n",
      "qutip-qip: 0.5.0.dev0+d58a82d\n",
      "\n",
      "================================================================================\n",
      "Please cite QuTiP in your publication.\n",
      "================================================================================\n",
      "For your convenience a bibtex reference can be easily generated using `qutip.cite()`\n"
     ]
    }
   ],
   "source": [
    "about()"
   ]
  },
  {
   "cell_type": "markdown",
   "id": "c768a907",
   "metadata": {},
   "source": [
    "## Testing"
   ]
  },
  {
   "cell_type": "code",
   "execution_count": 7,
   "id": "750d9ff4",
   "metadata": {
    "execution": {
     "iopub.execute_input": "2025-04-16T02:16:43.431291Z",
     "iopub.status.busy": "2025-04-16T02:16:43.430950Z",
     "iopub.status.idle": "2025-04-16T02:16:43.434138Z",
     "shell.execute_reply": "2025-04-16T02:16:43.433702Z"
    }
   },
   "outputs": [],
   "source": [
    "np.testing.assert_allclose(me.expect[0], mc[3].expect[0], atol=10**-1)\n",
    "assert np.all(np.diff(me.expect[0]) <= 0)"
   ]
  }
 ],
 "metadata": {
  "jupytext": {
   "cell_metadata_filter": "-all",
   "notebook_metadata_filter": "-jupytext.cell_metadata_filter,-jupytext.notebook_metadata_filter"
  },
  "kernelspec": {
   "display_name": "Python 3 (ipykernel)",
   "language": "python",
   "name": "python3"
  },
  "language_info": {
   "codemirror_mode": {
    "name": "ipython",
    "version": 3
   },
   "file_extension": ".py",
   "mimetype": "text/x-python",
   "name": "python",
   "nbconvert_exporter": "python",
   "pygments_lexer": "ipython3",
   "version": "3.12.0"
  }
 },
 "nbformat": 4,
 "nbformat_minor": 5
}
